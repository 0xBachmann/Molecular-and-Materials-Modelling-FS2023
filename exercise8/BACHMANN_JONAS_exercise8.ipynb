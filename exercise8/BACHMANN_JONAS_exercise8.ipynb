{
 "cells": [
  {
   "cell_type": "markdown",
   "metadata": {},
   "source": [
    "# Exercise 8: hydrocarbons on platinum: functional-sensitive adsorption energies\n",
    "\n",
    "Date: Wednesday, 19. April 2023\n",
    "\n",
    "**Submission deadline**: Sunday, 23. April 2023 (or Sunday, 30. April 2023)\n",
    "\n",
    "## 0. Introduction to the problem\n",
    "\n",
    "In this exercise we will continue our study of density-functional theory (DFT) by considering the adsorption of three hydrocarbons -- benzene, methane, and ethane -- on a platinum slab. In principle, there are three candidates as adsorption sites, namely directly centered on top of a Pt atom, on the bridge connecting two Pt atoms, or on a hollow juncture in the middle of four Pt atoms.\n",
    "\n",
    "![Three different hydrocarbons on the Pt(111) surface.](hydrocarbons_on_pt.png \"Figure 1\")\n",
    "\n",
    "The aim of this exercise is to simulate the chemisorption of these hydrocarbons on platinum: in chemisorption, interactions between the molecule and substrate lead to bonds being formed, such that the bonds within the molecule and the surface are rearranged. We will be making use of [this paper [1]](https://pubs.rsc.org/en/content/articlepdf/2015/cp/c5cp04534g) in the course of this exercise. The first step is to make use of the definition of the adsorption energy $E_{ads}$:\n",
    "\n",
    "\\begin{equation*}\n",
    "E_{ads} =  E_{total} - \\sum_{slab, \\, molecules} E_{separate \\, system}\n",
    "\\end{equation*}\n",
    "\n",
    "Thus, for our system:\n",
    "\\begin{equation}\n",
    "E_{ads} = E_{total} - E_{Pt \\, slab} - E_{molecule}\n",
    "\\end{equation}\n",
    "\n",
    "Practically this means that three geometry optimizations are necessary: the first consisting of the total system of the molecule and the slab; the second with only the molecule; and the third with only the slab. However, not all DFT calculations can reproduce this result. Because of their different properties and approximations for the exchange–correlation (XC) part, *different DFT functionals predict different properties*, especially in regards to van der Waals interactions, which we have indeed already met in the third exercise via the Lennard-Jones potential.\n",
    "\n",
    "Every functional has its advantages and disadvantages and can be more or less suitable for the specific system and/or property that you want to study. Thus, it is necessary to understand the limits of the functional that you want to use, e.g. searching in the literature or performing some preliminary benchmark calculations. \n",
    "\n",
    "To give you a flavour of how properties can change, in this exercise we (you) will investigate two from the same family of approximations to the XC energy, namely the generalized gradient approximation (GGA) functional, and we will use the GGA with vdW corrections: thus, in this exercise, we will examine a total of two different XC functionals, both with vdW corrections. Different from exercise 3, this time, we will include the vdW correction via the BEEF-vdW XC functional instead of via a simple LJ potential. In any case, the vdW correction is an energy term which is added *a posteriori* to the energy functional obtained from the variational principle of DFT.\n",
    "\n",
    "The GGA formalism goes a step further than that of the local density approximation, accounting also for the local change of the electron density, with the inclusion of the electron density gradient in the functional. GGA functionals go through another division based on the origin of their parameters: They can be either empirical, i.e. derived from fitting of data coming from experiments and more sophisticated techniques, or determined from properties of the homogeneous electron gas as well as exact constraints.\n",
    "\n",
    "LDA generally overestimates the bond strength between the molecule and the surface, since it is more suitable to describe strong bonds. This leads to a calculated overbinding, such as short adsorption bond lengths, large chemisorption energies, and high molecule–surface vibrational frequencies. The error in the chemisorption energy can be so large that LDA may predict the wrong chemisorption site. Finally, by considering vdW corrections via the BEEF-vdW functional, we take into account non-local effects which may play a role in the chemisorption process."
   ]
  },
  {
   "cell_type": "markdown",
   "metadata": {},
   "source": [
    "## 1: Benzene $\\text{C}_6\\text{H}_6$ on Pt(111)\n",
    "\n",
    "We begin by logging into our accounts on JupyterHub on Euler in a similar manner as described in the previous exercises, and `pull` the newest exercise files from the GitHub repository, making sure that you are in the directory for the course:\n",
    "```bash\n",
    "    $ cd ~/Molecular-and-Materials-Modelling-FS2023\n",
    "    $ git init\n",
    "  # $ git stash\n",
    "    $ git pull https://github.com/ramador09/Molecular-and-Materials-Modelling-FS2023.git\n",
    "```  \n",
    "\n",
    "First, execute the following two cells to import necessary modules and libraries, and to define the `view_structure()` function, which we will make ample use of in the course of this exercise:"
   ]
  },
  {
   "cell_type": "code",
   "execution_count": 1,
   "metadata": {},
   "outputs": [
    {
     "data": {
      "application/vnd.jupyter.widget-view+json": {
       "model_id": "e14e6ff020574442be7e08f68f87e421",
       "version_major": 2,
       "version_minor": 0
      },
      "text/plain": []
     },
     "metadata": {},
     "output_type": "display_data"
    }
   ],
   "source": [
    "import numpy as np\n",
    "from ase.io import read, write\n",
    "from ase.visualize import view\n",
    "from ase.build import fcc111,add_adsorbate,molecule\n",
    "import matplotlib.pyplot as plt\n",
    "import nglview as nv"
   ]
  },
  {
   "cell_type": "code",
   "execution_count": 2,
   "metadata": {},
   "outputs": [],
   "source": [
    "def view_structure(system):\n",
    "    t = nv.ASEStructure(system) \n",
    "    w = nv.NGLWidget(t, gui=True)\n",
    "   # w.add_spacefill()\n",
    "    return w"
   ]
  },
  {
   "cell_type": "markdown",
   "metadata": {},
   "source": [
    "Next, we create an instance of the `molecule` class by starting with the benzene molecule. ASE is \"smart\" enough to know that we mean the benzene molecule when we simply create an instance of the `molecule` class and feed it the string `C6H6`:"
   ]
  },
  {
   "cell_type": "code",
   "execution_count": 3,
   "metadata": {},
   "outputs": [],
   "source": [
    "benzene=molecule('C6H6')"
   ]
  },
  {
   "cell_type": "code",
   "execution_count": 4,
   "metadata": {},
   "outputs": [
    {
     "data": {
      "application/vnd.jupyter.widget-view+json": {
       "model_id": "c5978ac8f4844858bbb044f6b70b71f7",
       "version_major": 2,
       "version_minor": 0
      },
      "text/plain": [
       "NGLWidget()"
      ]
     },
     "metadata": {},
     "output_type": "display_data"
    },
    {
     "data": {
      "application/vnd.jupyter.widget-view+json": {
       "model_id": "c5c2b88267ed400f8f5da74c7d66a577",
       "version_major": 2,
       "version_minor": 0
      },
      "text/plain": [
       "Tab(children=(Box(children=(Box(children=(Box(children=(Label(value='step'), IntSlider(value=1, min=-100)), la…"
      ]
     },
     "metadata": {},
     "output_type": "display_data"
    }
   ],
   "source": [
    "view_structure(benzene)"
   ]
  },
  {
   "cell_type": "markdown",
   "metadata": {},
   "source": [
    "We will need this object later for the structure relaxation of the benzene molecule. Let's save it now:"
   ]
  },
  {
   "cell_type": "code",
   "execution_count": 5,
   "metadata": {},
   "outputs": [],
   "source": [
    "write(filename='./benzene/benzene_mol.xyz',images=benzene)"
   ]
  },
  {
   "cell_type": "markdown",
   "metadata": {},
   "source": [
    "Now, having initialised the `benzene` object, we can place it on the surface of Pt(111) by executing the following cell. **Note**: the lateral size of the supercell is related with the periodic simulation box parameters in the CP2K input file. These have already been chosen and adjusted to the (6,6,3) case, so please do not change the values in the `size` argument without adjusting the `CELL` parameters in the CP2K input file. If this sentence confuses you, just ignore it and change as little as possible ;-)"
   ]
  },
  {
   "cell_type": "code",
   "execution_count": 6,
   "metadata": {},
   "outputs": [
    {
     "name": "stderr",
     "output_type": "stream",
     "text": [
      "/cluster/apps/nss/gcc-8.2.0/python/3.10.4/x86_64/lib64/python3.10/site-packages/ase/io/extxyz.py:302: UserWarning: Skipping unhashable information adsorbate_info\n",
      "  warnings.warn('Skipping unhashable information '\n"
     ]
    },
    {
     "data": {
      "application/vnd.jupyter.widget-view+json": {
       "model_id": "a852ff2d591543f6b5bb7f45675f8d33",
       "version_major": 2,
       "version_minor": 0
      },
      "text/plain": [
       "NGLWidget()"
      ]
     },
     "metadata": {},
     "output_type": "display_data"
    },
    {
     "data": {
      "application/vnd.jupyter.widget-view+json": {
       "model_id": "d9f4f1f31f144dafa613c5701a0fea13",
       "version_major": 2,
       "version_minor": 0
      },
      "text/plain": [
       "Tab(children=(Box(children=(Box(children=(Box(children=(Label(value='step'), IntSlider(value=1, min=-100)), la…"
      ]
     },
     "metadata": {},
     "output_type": "display_data"
    }
   ],
   "source": [
    "benz_pt_slab=fcc111('Pt',size=(6,6,5))\n",
    "write(filename='./pt_slab/pt_slab.xyz',images=benz_pt_slab) # Writes the slab to a file\n",
    "add_adsorbate(benz_pt_slab,benzene,height=2.25,position=(10,7)) # Adsorbs benzene on the slab\n",
    "benz_pt_slab.center(vacuum=10, axis=2)\n",
    "view_structure(benz_pt_slab)"
   ]
  },
  {
   "cell_type": "markdown",
   "metadata": {},
   "source": [
    "Use the `get_cell()` method on this `Atoms` object to view the unit cell of the system. This will serve as a good sanity check during the calculations, and moreover, we will need to use these values in the `CELL` subsection of the CP2K input file:"
   ]
  },
  {
   "cell_type": "code",
   "execution_count": 7,
   "metadata": {},
   "outputs": [
    {
     "data": {
      "text/plain": [
       "Cell([[16.6311514935076, 0.0, 0.0], [8.3155757467538, 14.402999687565085, 0.0], [0.0, 0.0, 31.302852220893335]])"
      ]
     },
     "execution_count": 7,
     "metadata": {},
     "output_type": "execute_result"
    }
   ],
   "source": [
    "benz_pt_slab.get_cell()"
   ]
  },
  {
   "cell_type": "markdown",
   "metadata": {},
   "source": [
    "Save the slab-and-molecule composite system by executing the `write` function from the `ase.io` library:"
   ]
  },
  {
   "cell_type": "code",
   "execution_count": 8,
   "metadata": {},
   "outputs": [],
   "source": [
    "write(filename='./benzene/benzene_on_pt.xyz',images=benz_pt_slab)"
   ]
  },
  {
   "cell_type": "markdown",
   "metadata": {},
   "source": [
    "## 1.1. Connecting to the Eiger supercomputer\n",
    "\n",
    "Due to the bugs and glitches on Euler, we will try to submit and run calculations on the Piz Eiger supercomputer in Lugano. We will do this by connecting via ssh to Eiger from Euler. In the current repository, you will see a directory called `eiger_connect`. Open the `README.txt` file and execute each of the lines, line by line, in your command line:\n",
    "\n",
    "```bash\n",
    "$ cd eiger_connect\n",
    "$ cp config $HOME/.ssh\n",
    "$ cp id_rsa $HOME/.ssh\n",
    "$ chmod 644 $HOME/.ssh/id_rsa\n",
    "$ chmod 644 $HOME/.ssh/config\n",
    "$ chmod 700 $HOME/.ssh/id_rsa\n",
    "$ ssh eiger\n",
    "```\n",
    "\n",
    "Once you `ssh` to Eiger, you will be in Daniele's `$SCRATCH` directory on Eiger. It is here where we will submit the calculations.\n",
    "\n",
    "The `run` file is the submission script, and, for the purposes of this exercise, should **not** be modified. In the current `$SCRATCH` directory, make a new directory with your username on Euler:\n",
    "\n",
    "```bash\n",
    "$ mkdir <username>\n",
    "$ cd <username>\n",
    "```\n",
    "\n",
    "It is within this `<username>` subdirectory that each student will submit calculations. Copy the `run` file from the parent `$SCRATCH` directory into the current `<username>` directory:\n",
    "\n",
    "```bash\n",
    "$ cp ../run .\n",
    "```\n",
    "\n",
    "## 1.2. `rsync`'ing your files to Eiger\n",
    "\n",
    "Either on your local machine or on Euler (whichever you are `ssh`'ing to Eiger from, and whichever you have been executing the above code in), open a terminal. We need to sync the files we just generated to Eiger in order to run them. Issue the following command (again: on whatever machine you generated the above files, either on Jupyter@Euler or on your local machine):\n",
    "```bash\n",
    "$ rsync -av benzene pt_slab eiger:<username>\n",
    "```\n",
    "    \n",
    "where you replace `<username>` with the `username` folder you made above on Eiger (the angle brackets are merely placeholders and shouldn't appear in the final execution!). If everything worked, you should see the generated files now on Eiger. Switch now to the Eiger terminal now and let's look at the input files.\n",
    "\n",
    "## 1.3. Modifying the input file and navigating around\n",
    "\n",
    "Your cloned `exercise8` directory already has the input file template `input.inp` and the BEEF-vdW directive `beefvdw.inc` in the subdirectories named after the molecules. You will need to make appropriate modifications to the input files, in order for the calculations to run. **Important**: it is always good practice to follow the motto: \"one directory, one calculation\". Let's move into the `benzene` directory, make separate subdirectories for the full molecule-slab system and the molecule itself. Then we copy the input file template to, say, the full molecule-slab system, move the full geometry file to the full directory, and lastly open the input file with `vim`:\n",
    "\n",
    "```bash\n",
    "$ mkdir benzene; cd benzene\n",
    "$ mkdir full; mkdir mol; cd full\n",
    "$ cp ../../input.inp ./benzene_on_pt.inp\n",
    "$ mv ../../benzene_on_pt.xyz .\n",
    "$ vi benzene_on_pt.inp\n",
    "```\n",
    "\n",
    "**Important**: You will need to modify all instances of the string `MOLECULE` (this is just a template after all), as well as (possibly) the values of the `&CELL` section, depending on the values of the `get_cell()` function above. \n",
    "\n",
    "In order to submit a job, make sure you're in the appropriate subdirectory containing your input and geometry files (and make sure the `run` script is there also of course), and issue\n",
    "\n",
    "```bash\n",
    "$ sbatch -J <username>  --export=ALL,root=<input_file> run\n",
    "```\n",
    "\n",
    "where `<username>` is your Euler (!) username, and `<input_file>` is the name of the input file in the respective directory. To check the status of the job submission, issue\n",
    "\n",
    "```bash\n",
    "$ squeue -u dpassero\n",
    "```\n",
    "\n",
    "(since we're using Daniele's scratch).\n",
    "\n",
    "## 1.4. `rsync`'ing the output files back \n",
    "\n",
    "Once the calculation is finished, we need to `rsync` the output files back. Go to a \"local\" terminal (ie, either Euler or your truly local machine -- wherever you will be doing the postprocessing) and issue\n",
    "\n",
    "```bash\n",
    "$ rsync -av eiger:<username>/benzene/full .\n",
    "```\n",
    "\n",
    "## 1.5. A sidenote about convergence\n",
    "\n",
    "In the interest of time, only do one job submission."
   ]
  },
  {
   "cell_type": "markdown",
   "metadata": {},
   "source": [
    "#### Assignment 1: Optimization of the Pt slab\n",
    "Repeat the above steps to optimize the Pt slab. The geometry was already generated in the beginning of this notebook, and is contained in the `slab` directory. Copy the input file template and run script to the slab directory, make the necessary changes (don't forget to change as appropriate the values of the `CELL` subsection in the CP2K input file)! Then submit the calculation. The remaining parts of the input file should remain the same, because we want the simulations to be as similar as possible in order to compute the adsorption energy\n",
    "\n",
    "**Important**: make sure to keep the same atoms fixed during the optimization of the slab!"
   ]
  },
  {
   "cell_type": "code",
   "execution_count": 9,
   "metadata": {},
   "outputs": [
    {
     "data": {
      "text/plain": [
       "Cell([[16.6311514935076, 0.0, 0.0], [8.3155757467538, 14.402999687565085, 0.0], [0.0, 0.0, 31.302852220893335]])"
      ]
     },
     "execution_count": 9,
     "metadata": {},
     "output_type": "execute_result"
    }
   ],
   "source": [
    "## -- your code here\n",
    "benz_pt_slab.get_cell()"
   ]
  },
  {
   "cell_type": "markdown",
   "metadata": {},
   "source": [
    "```bash\n",
    "$ cd pt_slab\n",
    "$ mkdir slab; cd slab\n",
    "$ cp ../input.inp ./pt_slab.inp\n",
    "$ cp ../beefvdw.inc .\n",
    "$ mv ../pt_slab.xyz .\n",
    "$ vim pt_slab.inp\n",
    "\n",
    "```\n",
    "change all occurences of MOLECULE(_on_pt)\n",
    "```bash\n",
    "$ cp ../../run .\n",
    "$ sbatch -J jbachmann  --export=ALL,root=pt_slab run\n",
    "```\n"
   ]
  },
  {
   "cell_type": "markdown",
   "metadata": {},
   "source": [
    "#### End Assignment 1"
   ]
  },
  {
   "cell_type": "markdown",
   "metadata": {},
   "source": [
    "#### Assignment 2: Optimization of the benzene molecule\n",
    "Repeat the procedure outlined in Assignment 1 for the beneze molecule, changing\n",
    "all names of files as necessary. Remember, the geometry was already generated."
   ]
  },
  {
   "cell_type": "code",
   "execution_count": 10,
   "metadata": {},
   "outputs": [
    {
     "data": {
      "text/plain": [
       "Cell([0.0, 0.0, 0.0])"
      ]
     },
     "execution_count": 10,
     "metadata": {},
     "output_type": "execute_result"
    }
   ],
   "source": [
    "## -- Your code here\n",
    "benzene.get_cell()"
   ]
  },
  {
   "cell_type": "markdown",
   "metadata": {},
   "source": [
    "```bash\n",
    "$ cd benzene/mol\n",
    "$ cp ../../input.inp ./benzene.inp\n",
    "$ cp ../../beefvdw.inc .\n",
    "$ mv ../../benzne_mol.xyz .\n",
    "$ vim benzene.inp\n",
    "\n",
    "```\n",
    "change all occurences of MOLECULE(_on_pt)\n",
    "and remove the `&CONSTRAINT` section, because no atom should be restraine\n",
    "```bash\n",
    "$ cp ../../../run .\n",
    "$ sbatch -J jbachmann  --export=ALL,root=benzene run\n",
    "```"
   ]
  },
  {
   "cell_type": "markdown",
   "metadata": {},
   "source": [
    "#### End Assignment 2"
   ]
  },
  {
   "cell_type": "markdown",
   "metadata": {},
   "source": [
    "#### Assignment 3: Computation of the adsorption energy\n",
    "\n",
    "Use your calculations from above and code from previous exercises to visualize the relaxation trajectory. We now have all the ingredients to compute the adsorption energy $E_{\\text{ads}}$ of benzene on Pt(111) according to Eq. 1:\n",
    "\n",
    "$$\n",
    "E_{\\text{ads}} = E_{\\text{slab \\& mol}} - E_{\\text{slab}} - E_{\\text{mol}}\n",
    "$$\n",
    "\n",
    "[Write a function to] compute the adsorption energy of benzene on the Pt(111) surface. The simplest and probably most straightforward way is to use the `grep` command to extract all instances of the total energy, then pipe this to the `tail` command (using the appropriate flags of course) to extract only the line containing last instance of the total energy (ie, the line converged value!), and finally to pipe this to the `awk '{print $3}'` command (the single ticks are crucial, do not forget them!), which will print the third column of this line, ie the total energy:\n",
    "\n",
    "```bash\n",
    "$ grep <expression for total energy> | tail <flags to extract only the last line> | awk '{print $3}'\n",
    "```"
   ]
  },
  {
   "cell_type": "code",
   "execution_count": 11,
   "metadata": {},
   "outputs": [],
   "source": [
    "### Your code here"
   ]
  },
  {
   "cell_type": "markdown",
   "metadata": {},
   "source": [
    "```bash\n",
    "$ grep \"Total energy\" benzene/full/benzene_on_pt.out | tail -n1 | awk '{print $3}'\n",
    "$ grep \"Total energy\" benzene/mol/benzene.out | tail -n1 | awk '{print $3}'\n",
    "$ grep \"Total energy\" pt_slab/slab/pt_slab.out | tail -n1 | awk '{print $3}'\n",
    "\n",
    "```"
   ]
  },
  {
   "cell_type": "markdown",
   "metadata": {},
   "source": [
    "giving us:\n",
    "$$\n",
    "E_{\\text{slab \\& mol}} = -21748.96428204582480 \\text{ a.u.}\\\\\n",
    "E_{\\text{slab}} = -21710.72434551244078 \\text{ a.u.}\\\\\n",
    "E_{\\text{mol}} = -38.17724836070100 \\text{ a.u.}\\\\\n",
    "$$\n",
    "and hence:\n",
    "$$\n",
    "E_{\\text{ads}} = -0.06268817268302485 \\text{ a.u.} = -1.7058282135951106 \\text{ eV }\n",
    "$$"
   ]
  },
  {
   "cell_type": "code",
   "execution_count": 12,
   "metadata": {},
   "outputs": [
    {
     "data": {
      "text/plain": [
       "-1.7058282135951106"
      ]
     },
     "execution_count": 12,
     "metadata": {},
     "output_type": "execute_result"
    }
   ],
   "source": [
    "atomic_to_ev = 27.211324570273\n",
    "E_slab = -21710.72434551244078 \n",
    "E_benz = -38.17724836070100\n",
    "E_benz_pt = -21748.96428204582480\n",
    "E_ads_benz_pt = E_benz_pt - E_slab - E_benz\n",
    "E_ads_benz_pt * atomic_to_ev"
   ]
  },
  {
   "cell_type": "markdown",
   "metadata": {},
   "source": [
    "#### End Assignment 3"
   ]
  },
  {
   "cell_type": "markdown",
   "metadata": {},
   "source": [
    "## 2. Methane $\\text{CH}_4$ on Pt(111)\n",
    "\n",
    "We now repeat the above procedure for methane on Pt(111):"
   ]
  },
  {
   "cell_type": "code",
   "execution_count": 13,
   "metadata": {},
   "outputs": [
    {
     "data": {
      "application/vnd.jupyter.widget-view+json": {
       "model_id": "e5305d6705114b49bbe041e05939bb99",
       "version_major": 2,
       "version_minor": 0
      },
      "text/plain": [
       "NGLWidget()"
      ]
     },
     "metadata": {},
     "output_type": "display_data"
    },
    {
     "data": {
      "application/vnd.jupyter.widget-view+json": {
       "model_id": "b8b9ae1412ed4ff0ab3ca7392a1306dc",
       "version_major": 2,
       "version_minor": 0
      },
      "text/plain": [
       "Tab(children=(Box(children=(Box(children=(Box(children=(Label(value='step'), IntSlider(value=1, min=-100)), la…"
      ]
     },
     "metadata": {},
     "output_type": "display_data"
    }
   ],
   "source": [
    "methane=molecule('CH4')\n",
    "view_structure(methane)"
   ]
  },
  {
   "cell_type": "code",
   "execution_count": 14,
   "metadata": {},
   "outputs": [],
   "source": [
    "write(filename='./methane/methane_mol.xyz',images=methane)"
   ]
  },
  {
   "cell_type": "code",
   "execution_count": 15,
   "metadata": {},
   "outputs": [
    {
     "data": {
      "application/vnd.jupyter.widget-view+json": {
       "model_id": "7b0415cf157e4e55b9e9b37aa206a4da",
       "version_major": 2,
       "version_minor": 0
      },
      "text/plain": [
       "NGLWidget()"
      ]
     },
     "metadata": {},
     "output_type": "display_data"
    },
    {
     "data": {
      "application/vnd.jupyter.widget-view+json": {
       "model_id": "9601d9925bdb41daa8ae43e2c7bd8a4d",
       "version_major": 2,
       "version_minor": 0
      },
      "text/plain": [
       "Tab(children=(Box(children=(Box(children=(Box(children=(Label(value='step'), IntSlider(value=1, min=-100)), la…"
      ]
     },
     "metadata": {},
     "output_type": "display_data"
    }
   ],
   "source": [
    "meth_pt_slab = fcc111('Pt', size=(6, 6, 5))\n",
    "\n",
    "# We don't have to write the slab file again, since we already did it above!\n",
    "\n",
    "add_adsorbate(meth_pt_slab, methane, height=2.25, position=(10, 7))\n",
    "meth_pt_slab.center(vacuum=10, axis=2)\n",
    "view_structure(meth_pt_slab)"
   ]
  },
  {
   "cell_type": "markdown",
   "metadata": {},
   "source": [
    "Let's look at the cell information again (**important for when/if we need to change the values in the input file!**)"
   ]
  },
  {
   "cell_type": "code",
   "execution_count": 16,
   "metadata": {},
   "outputs": [
    {
     "data": {
      "text/plain": [
       "Cell([[16.6311514935076, 0.0, 0.0], [8.3155757467538, 14.402999687565085, 0.0], [0.0, 0.0, 31.931970220893334]])"
      ]
     },
     "execution_count": 16,
     "metadata": {},
     "output_type": "execute_result"
    }
   ],
   "source": [
    "meth_pt_slab.get_cell()"
   ]
  },
  {
   "cell_type": "code",
   "execution_count": 17,
   "metadata": {},
   "outputs": [],
   "source": [
    "write(filename='./methane/methane_on_pt.xyz',images=meth_pt_slab)"
   ]
  },
  {
   "cell_type": "markdown",
   "metadata": {},
   "source": [
    "#### Assignment 4: The adsorption energy of methane on Pt(111)\n",
    "\n",
    "Repeat Assignments 1-3 in order to arrive at the adsorption energy Eq.\n",
    "1 for methane on Pt(111), whose full geometry we have just generated. Hint: with all these different input and output files, it might\n",
    "not be a bad idea to create separate directories to make everything a bit more\n",
    "organised..."
   ]
  },
  {
   "cell_type": "code",
   "execution_count": 18,
   "metadata": {},
   "outputs": [],
   "source": [
    "## Your code here"
   ]
  },
  {
   "cell_type": "markdown",
   "metadata": {},
   "source": [
    "```bash\n",
    "$ rsync -av methane eiger:jbachmann\n",
    "```"
   ]
  },
  {
   "cell_type": "markdown",
   "metadata": {},
   "source": [
    "```bash\n",
    "$ cd methane\n",
    "$ mkdir full mol\n",
    "```"
   ]
  },
  {
   "cell_type": "markdown",
   "metadata": {},
   "source": [
    "for methane on pt:\n",
    "```bash\n",
    "$ cd methane/full\n",
    "$ cp ../input.inp ./methane_on_pt.inp\n",
    "$ cp ../beefvdw.inc .\n",
    "$ mv ../methane_on_pt.xyz .\n",
    "$ vim methane_on_pt.inp\n",
    "\n",
    "```\n",
    "change all occurences of MOLECULE\n",
    "```bash\n",
    "$ cp ../../run .\n",
    "$ sbatch -J jbachmann --export=ALL,root=methane_on_pt run\n",
    "```"
   ]
  },
  {
   "cell_type": "markdown",
   "metadata": {},
   "source": [
    "for methane alone:\n",
    "```bash\n",
    "$ cd methane/mol\n",
    "$ cp ../input.inp ./methane.inp\n",
    "$ cp ../beefvdw.inc .\n",
    "$ mv ../methane_mol.xyz .\n",
    "$ vim methane.inp\n",
    "\n",
    "```\n",
    "change all occurences of MOLECULE(_on_pt) and remove the `&CONSTRAINT` block as we don't want to restrict the molecule\n",
    "```bash\n",
    "$ cp ../../run .\n",
    "$ sbatch -J jbachmann  --export=ALL,root=methane run\n",
    "```"
   ]
  },
  {
   "cell_type": "markdown",
   "metadata": {},
   "source": [
    "The slab alone does not have to be recalculated"
   ]
  },
  {
   "cell_type": "markdown",
   "metadata": {},
   "source": [
    "```bash\n",
    "$ grep \"Total energy\" methane/full/methane_on_pt.out | tail -n1 | awk '{print $3}'\n",
    "$ grep \"Total energy\" methane/mol/methane.out | tail -n1 | awk '{print $3}'\n",
    "$ grep \"Total energy\" pt_slab/slab/pt_slab.out | tail -n1 | awk '{print $3}'\n",
    "```"
   ]
  },
  {
   "cell_type": "markdown",
   "metadata": {},
   "source": [
    "giving us:\n",
    "$$\n",
    "E_{\\text{slab \\& mol}} = -21718.94868539608433 \\text{ a.u.}\\\\\n",
    "E_{\\text{slab}} = -21710.72434551244078 \\text{ a.u.}\\\\\n",
    "E_{\\text{mol}} = -8.21831576022371 \\text{ a.u.}\\\\\n",
    "$$\n",
    "and hence:\n",
    "$$\n",
    "E_{\\text{ads}} = -0.006024123419841487 \\text{ a.u.} = -0.16392437762868967 \\text{ eV }\n",
    "$$"
   ]
  },
  {
   "cell_type": "code",
   "execution_count": 19,
   "metadata": {},
   "outputs": [
    {
     "data": {
      "text/plain": [
       "-0.16392437762868967"
      ]
     },
     "execution_count": 19,
     "metadata": {},
     "output_type": "execute_result"
    }
   ],
   "source": [
    "E_meth = -8.21831576022371\n",
    "E_meth_pt = -21718.94868539608433\n",
    "E_ads_meth_pt = E_meth_pt - E_slab - E_meth\n",
    "E_ads_meth_pt * atomic_to_ev"
   ]
  },
  {
   "cell_type": "markdown",
   "metadata": {},
   "source": [
    "#### End Assignment 4"
   ]
  },
  {
   "cell_type": "markdown",
   "metadata": {},
   "source": [
    "#### Assignment 5: Adsorption of ethane\n",
    "Repeat Assignments 1-3 in order to arrive at the adsorption energy Eq.\n",
    "1 for ethane."
   ]
  },
  {
   "cell_type": "code",
   "execution_count": 20,
   "metadata": {},
   "outputs": [
    {
     "data": {
      "application/vnd.jupyter.widget-view+json": {
       "model_id": "1e9560f8399e480788716c0dd8709eee",
       "version_major": 2,
       "version_minor": 0
      },
      "text/plain": [
       "NGLWidget()"
      ]
     },
     "metadata": {},
     "output_type": "display_data"
    },
    {
     "data": {
      "application/vnd.jupyter.widget-view+json": {
       "model_id": "c2da8161b279429f8e6ad143d68facf3",
       "version_major": 2,
       "version_minor": 0
      },
      "text/plain": [
       "Tab(children=(Box(children=(Box(children=(Box(children=(Label(value='step'), IntSlider(value=1, min=-100)), la…"
      ]
     },
     "metadata": {},
     "output_type": "display_data"
    }
   ],
   "source": [
    "ethane=molecule('C2H6')\n",
    "write(filename='./ethane/ethane_mol.xyz',images=ethane)\n",
    "eth_pt_slab = fcc111('Pt', size=(6, 6, 5))\n",
    "add_adsorbate(eth_pt_slab, ethane, height=1.75, position=(10, 7))\n",
    "eth_pt_slab.center(vacuum=10, axis=2)\n",
    "view_structure(eth_pt_slab)"
   ]
  },
  {
   "cell_type": "markdown",
   "metadata": {},
   "source": [
    "Notice how the ethane molecule is \"vertical\" (the axis of the molecule is perpendicular to the surface). In the paper, the ethane molecule is horizontal. We have to rotate the molecule 90° about the $y$-axis:"
   ]
  },
  {
   "cell_type": "code",
   "execution_count": 21,
   "metadata": {},
   "outputs": [
    {
     "data": {
      "application/vnd.jupyter.widget-view+json": {
       "model_id": "27100d6dea3d44ff90aebf6af6f522f2",
       "version_major": 2,
       "version_minor": 0
      },
      "text/plain": [
       "NGLWidget()"
      ]
     },
     "metadata": {},
     "output_type": "display_data"
    },
    {
     "data": {
      "application/vnd.jupyter.widget-view+json": {
       "model_id": "b333c60711944f92b9366adb48338758",
       "version_major": 2,
       "version_minor": 0
      },
      "text/plain": [
       "Tab(children=(Box(children=(Box(children=(Box(children=(Label(value='step'), IntSlider(value=1, min=-100)), la…"
      ]
     },
     "metadata": {},
     "output_type": "display_data"
    }
   ],
   "source": [
    "ethane.rotate('y', 90)\n",
    "view_structure(ethane)"
   ]
  },
  {
   "cell_type": "code",
   "execution_count": 22,
   "metadata": {},
   "outputs": [
    {
     "data": {
      "application/vnd.jupyter.widget-view+json": {
       "model_id": "f5c4ea9f8d5e4d7bb054473f82caaa03",
       "version_major": 2,
       "version_minor": 0
      },
      "text/plain": [
       "NGLWidget()"
      ]
     },
     "metadata": {},
     "output_type": "display_data"
    },
    {
     "data": {
      "application/vnd.jupyter.widget-view+json": {
       "model_id": "ae0dcbdacb9447acbd84552317912b28",
       "version_major": 2,
       "version_minor": 0
      },
      "text/plain": [
       "Tab(children=(Box(children=(Box(children=(Box(children=(Label(value='step'), IntSlider(value=1, min=-100)), la…"
      ]
     },
     "metadata": {},
     "output_type": "display_data"
    }
   ],
   "source": [
    "eth_pt_slab = fcc111('Pt', size=(6, 6, 5))\n",
    "add_adsorbate(eth_pt_slab, ethane, height=2.25, position=(10, 7))\n",
    "eth_pt_slab.center(vacuum=10, axis=2)\n",
    "view_structure(eth_pt_slab)"
   ]
  },
  {
   "cell_type": "markdown",
   "metadata": {},
   "source": [
    "This looks more like the structure in the paper. Now we can save it:"
   ]
  },
  {
   "cell_type": "code",
   "execution_count": 23,
   "metadata": {},
   "outputs": [],
   "source": [
    "write(filename='./ethane/ethane_on_pt.xyz',images=eth_pt_slab)"
   ]
  },
  {
   "cell_type": "code",
   "execution_count": 24,
   "metadata": {},
   "outputs": [
    {
     "data": {
      "text/plain": [
       "Cell([[16.6311514935076, 0.0, 0.0], [8.3155757467538, 14.402999687565085, 0.0], [0.0, 0.0, 32.18529522089334]])"
      ]
     },
     "execution_count": 24,
     "metadata": {},
     "output_type": "execute_result"
    }
   ],
   "source": [
    "## -- Your code here\n",
    "eth_pt_slab.get_cell()"
   ]
  },
  {
   "cell_type": "markdown",
   "metadata": {},
   "source": [
    "```bash\n",
    "$ rsync -av ethane eiger:jbachmann\n",
    "```"
   ]
  },
  {
   "cell_type": "markdown",
   "metadata": {},
   "source": [
    "```bash\n",
    "$ cd ethane\n",
    "$ mkdir full mol\n",
    "```"
   ]
  },
  {
   "cell_type": "markdown",
   "metadata": {},
   "source": [
    "for ethane on pt:\n",
    "```bash\n",
    "$ cd ethane/full\n",
    "$ cp ../input.inp ./ethane_on_pt.inp\n",
    "$ cp ../beefvdw.inc .\n",
    "$ mv ../ethane_on_pt.xyz .\n",
    "$ vim ethane_on_pt.inp\n",
    "\n",
    "```\n",
    "change all occurences of MOLECULE\n",
    "```bash\n",
    "$ cp ../../run .\n",
    "$ sbatch -J jbachmann --export=ALL,root=ethane_on_pt run\n",
    "```"
   ]
  },
  {
   "cell_type": "markdown",
   "metadata": {},
   "source": [
    "for ethane alone:\n",
    "```bash\n",
    "$ cd ethane/mol\n",
    "$ cp ../input.inp ./ethane.inp\n",
    "$ cp ../beefvdw.inc .\n",
    "$ mv ../ethane_mol.xyz .\n",
    "$ vim ethane.inp\n",
    "\n",
    "```\n",
    "change all occurences of MOLECULE(_on_pt) and remove the `&CONSTRAINT` block as we don't want to restrict the molecule\n",
    "```bash\n",
    "$ cp ../../run .\n",
    "$ sbatch -J jbachmann  --export=ALL,root=ethane run\n",
    "```"
   ]
  },
  {
   "cell_type": "markdown",
   "metadata": {},
   "source": [
    "again, the slab alone does not have to be recalculated"
   ]
  },
  {
   "cell_type": "markdown",
   "metadata": {},
   "source": [
    "```bash\n",
    "$ grep \"Total energy\" ethane/full/ethane_on_pt.out | tail -n1 | awk '{print $3}'\n",
    "$ grep \"Total energy\" ethane/mol/ethane.out | tail -n1 | awk '{print $3}'\n",
    "$ grep \"Total energy\" pt_slab/slab/pt_slab.out | tail -n1 | awk '{print $3}'\n",
    "```"
   ]
  },
  {
   "cell_type": "markdown",
   "metadata": {},
   "source": [
    "giving us:\n",
    "$$\n",
    "E_{\\text{slab \\& mol}} = -21725.93332031547470 \\text{ a.u.}\\\\\n",
    "E_{\\text{slab}} = -21710.72434551244078 \\text{ a.u.}\\\\\n",
    "E_{\\text{mol}} = -15.19781487503354 \\text{ a.u.}\\\\\n",
    "$$\n",
    "and hence:\n",
    "$$\n",
    "E_{\\text{ads}} = -0.011159928000385122 \\text{ a.u.} = -0.3036764229993573 \\text{ eV }\n",
    "$$"
   ]
  },
  {
   "cell_type": "code",
   "execution_count": 25,
   "metadata": {},
   "outputs": [
    {
     "data": {
      "text/plain": [
       "-0.3036764229993573"
      ]
     },
     "execution_count": 25,
     "metadata": {},
     "output_type": "execute_result"
    }
   ],
   "source": [
    "E_eth = -15.19781487503354\n",
    "E_eth_pt = -21725.93332031547470\n",
    "E_ads_eth_pt = E_eth_pt - E_slab - E_eth\n",
    "E_ads_eth_pt * atomic_to_ev"
   ]
  },
  {
   "cell_type": "markdown",
   "metadata": {},
   "source": [
    "#### End Assignment 5"
   ]
  },
  {
   "cell_type": "markdown",
   "metadata": {},
   "source": [
    "#### Assignment 6: Comparative plots of the adsorption energy\n",
    "\n",
    "Reproduce the bar graphs (both top and bottom plots -- the experimental adsorption energy is given in the paper's supplementary information) in Fig. 3 of [the paper](https://pubs.rsc.org/en/content/articlepdf/2015/cp/c5cp04534g) for your molecules benzene, methane, and ethane. "
   ]
  },
  {
   "cell_type": "code",
   "execution_count": 26,
   "metadata": {},
   "outputs": [],
   "source": [
    "import numpy as np\n",
    "import matplotlib.pyplot as plt"
   ]
  },
  {
   "cell_type": "code",
   "execution_count": 27,
   "metadata": {},
   "outputs": [
    {
     "data": {
      "image/png": "[encoded data removed]",
      "text/plain": [
       "<Figure size 640x480 with 2 Axes>"
      ]
     },
     "metadata": {},
     "output_type": "display_data"
    }
   ],
   "source": [
    "## -- Your code here\n",
    "molecules = [\"Benzene\", \"Methane\", \"Ethane\"]\n",
    "\n",
    "au_to_ev = 27.211324570273\n",
    "\n",
    "E_ads_all = -np.array([E_ads_benz_pt, E_ads_meth_pt, E_ads_eth_pt]) * au_to_ev # acually E_ads is negativ of Eq. 1\n",
    "E_ads_exp = np.array([1.72, 0.181, 0.331]) # from supplementary informations of [1]\n",
    "\n",
    "\n",
    "\n",
    "x = np.arange(0, len(molecules))\n",
    "\n",
    "fig, (ax1, ax2) = plt.subplots(1, 2)\n",
    "ax1.bar(x, E_ads_all)\n",
    "ax1.set_xticks(x)\n",
    "ax1.set_xticklabels(molecules)\n",
    "ax1.set_ylabel(\"Eads [eV]\")\n",
    "\n",
    "ax2.bar(x, E_ads_exp - E_ads_all)\n",
    "ax2.set_xticks(x)\n",
    "ax2.set_xticklabels(molecules)\n",
    "ax2.set_ylabel(\"Eads(exp) - Eads(theo) [eV]\")\n",
    "\n",
    "fig.tight_layout()\n",
    "\n",
    "plt.show()\n"
   ]
  },
  {
   "cell_type": "markdown",
   "metadata": {},
   "source": [
    "We can see, that the difference to the results are very small"
   ]
  },
  {
   "cell_type": "markdown",
   "metadata": {},
   "source": [
    "#### End Assignment 6"
   ]
  },
  {
   "cell_type": "markdown",
   "metadata": {},
   "source": [
    "### ----- Assignments 7-9 are optional, but worth quite a few points, for those of us who might have missed a few submissions ;-) -----\n",
    "\n",
    "#### OPTIONAL Assignment 7: The Grimme D3 dispersion method\n",
    "\n",
    "Repeat the above calculations, so that you obtain the adsorption energy Eq. 2 using now the Grimme D3 method. You\n",
    "singly need to change the value of the `@include` directive in the input files from `\"beefvdw.inc\"` to `\"grimme_d3.inc\"`:\n",
    "\n",
    "```\n",
    "...\n",
    "@include \"grimme_d3.inc\"\n",
    "...\n",
    "```\n",
    "\n",
    "The `grimme_d3.inc` file is already in the parent `exercise8` directory and doesn't need to be modified. You might, however, depending on the relative location of the `grimme_d3.inc` file, need to modify the relative path of the `@include` statement above.\n",
    "\n",
    "Reproduce the bar graphs for benzene, methane, and ethane in Figs. 3 (a) and (b) of\n",
    "the paper linked in the PDF. Since we already did calculations for the BEEF-vdW functional,\n",
    "of course these are the only ones you’ll plot. The experimental data for comparison\n",
    "are given in Table S1 of the supplementary information of the paper (also linked in the PDF)."
   ]
  },
  {
   "cell_type": "code",
   "execution_count": 28,
   "metadata": {},
   "outputs": [],
   "source": [
    "## -- Your code here"
   ]
  },
  {
   "cell_type": "markdown",
   "metadata": {},
   "source": [
    "After submitting the same calculations but with the Grimme D3 method, we get the following results: "
   ]
  },
  {
   "cell_type": "code",
   "execution_count": 29,
   "metadata": {},
   "outputs": [
    {
     "data": {
      "text/plain": [
       "-2.8386439892431143"
      ]
     },
     "execution_count": 29,
     "metadata": {},
     "output_type": "execute_result"
    }
   ],
   "source": [
    "E_slab_grimme = -21636.67641873391040 \n",
    "E_benz_grimme = -37.69247402043432\n",
    "E_benz_pt_grimme = -21674.47321123328948\n",
    "E_ads_benz_pt_grimme = E_benz_pt_grimme - E_slab_grimme - E_benz_grimme\n",
    "E_ads_benz_pt_grimme * atomic_to_ev"
   ]
  },
  {
   "cell_type": "code",
   "execution_count": 30,
   "metadata": {},
   "outputs": [
    {
     "data": {
      "text/plain": [
       "-0.2954797297286778"
      ]
     },
     "execution_count": 30,
     "metadata": {},
     "output_type": "execute_result"
    }
   ],
   "source": [
    "E_meth_grimme = -8.07616969208735\n",
    "E_meth_pt_grimme = -21644.76344713039362\n",
    "E_ads_meth_pt_grimme = E_meth_pt_grimme - E_slab_grimme - E_meth_grimme\n",
    "E_ads_meth_pt_grimme * atomic_to_ev"
   ]
  },
  {
   "cell_type": "code",
   "execution_count": 31,
   "metadata": {},
   "outputs": [
    {
     "data": {
      "text/plain": [
       "-0.4882797592989028"
      ]
     },
     "execution_count": 31,
     "metadata": {},
     "output_type": "execute_result"
    }
   ],
   "source": [
    "E_eth_grimme = -14.95702161523868\n",
    "E_eth_pt_grimme = -21651.65138434000619\n",
    "E_ads_eth_pt_grimme = E_eth_pt_grimme - E_slab_grimme - E_eth_grimme\n",
    "E_ads_eth_pt_grimme * atomic_to_ev"
   ]
  },
  {
   "cell_type": "code",
   "execution_count": 32,
   "metadata": {},
   "outputs": [
    {
     "data": {
      "image/png": "[encoded data removed]",
      "text/plain": [
       "<Figure size 640x480 with 2 Axes>"
      ]
     },
     "metadata": {},
     "output_type": "display_data"
    }
   ],
   "source": [
    "molecules = [\"Benzene\", \"Methane\", \"Ethane\"]\n",
    "methods = [\"BEEF-vdW\", \"Grimme D3\"]\n",
    "\n",
    "au_to_ev = 27.211324570273\n",
    "\n",
    "E_ads_all = -np.array([E_ads_benz_pt, E_ads_meth_pt, E_ads_eth_pt]) * au_to_ev # acually E_ads is negativ of Eq. 1\n",
    "E_ads_all_grimme = -np.array([E_ads_benz_pt_grimme, E_ads_meth_pt_grimme, E_ads_eth_pt_grimme]) * au_to_ev # acually E_ads is negativ of Eq. 1\n",
    "E_ads_exp = np.array([1.72, 0.181, 0.331]) # from supplementary informations of [1]\n",
    "\n",
    "x = np.arange(0, len(molecules))\n",
    "shift = 0.15\n",
    "width = 2 * shift\n",
    "\n",
    "fig, (ax1, ax2) = plt.subplots(1, 2)\n",
    "ax1.bar(x - shift, E_ads_all, width=width, label=methods[0])\n",
    "ax1.bar(x + shift, E_ads_all_grimme, width=width, label=methods[1])\n",
    "ax1.set_xticks(x)\n",
    "ax1.set_xticklabels(molecules)\n",
    "ax1.set_ylabel(\"Eads [eV]\")\n",
    "\n",
    "ax2.bar(x - shift, E_ads_exp - E_ads_all, width=width, label=methods[0])\n",
    "ax2.bar(x + shift, E_ads_exp - E_ads_all_grimme, width=width, label=methods[1])\n",
    "ax2.set_xticks(x)\n",
    "ax2.set_xticklabels(molecules)\n",
    "ax2.set_ylabel(\"Eads(exp) - Eads(theo) [eV]\")\n",
    "\n",
    "fig.tight_layout()\n",
    "plt.legend()\n",
    "\n",
    "plt.show()"
   ]
  },
  {
   "cell_type": "markdown",
   "metadata": {},
   "source": [
    "We can see, that the BEEF-vdW method performs better, than the Grimme D3 one. This is not surprising, when knowing long both simulations took. While the longest of BEEF-vdW took around 2.5h, the longest using Grimme-D3 only took around 1h. Of course this is not directly a measure of accuracy but maybe a hint at it. Furthermore Grimme D3 seems to overestimate adsorbtion energy."
   ]
  },
  {
   "cell_type": "markdown",
   "metadata": {},
   "source": [
    "#### End Assignment 7"
   ]
  },
  {
   "cell_type": "markdown",
   "metadata": {},
   "source": [
    "#### OPTIONAL Assignment 8: identification of bonding pairs\n",
    "\n",
    "In identifying chemi- resp. physisorption, one of the most important quantities are the distances (in the relaxed geometry!) between atoms of the adsorbate and those of the substrate. Pick any of the above molecules (benzene, methane, ethane) and use the `get_distances()` function to compare the distances of the closest 2-3 molecule-substrate atom pairs between the starting geometry and the final relaxed geometry. Comment on your results."
   ]
  },
  {
   "cell_type": "code",
   "execution_count": 33,
   "metadata": {},
   "outputs": [],
   "source": [
    "## -- Your code here\n",
    "relaxed_benzene_on_pt = read(\"./benzene/full/benzene_on_pt-pos-1.xyz\")"
   ]
  },
  {
   "cell_type": "code",
   "execution_count": 34,
   "metadata": {},
   "outputs": [],
   "source": [
    "from ase.atoms import get_distances"
   ]
  },
  {
   "cell_type": "code",
   "execution_count": 35,
   "metadata": {},
   "outputs": [],
   "source": [
    "C_atoms = np.where(relaxed_benzene_on_pt.get_atomic_numbers() == 6)[0]\n",
    "H_atoms = np.where(relaxed_benzene_on_pt.get_atomic_numbers() == 1)[0]\n",
    "Pt_slab = np.where(relaxed_benzene_on_pt.get_atomic_numbers() == 78)[0]"
   ]
  },
  {
   "cell_type": "code",
   "execution_count": 36,
   "metadata": {},
   "outputs": [],
   "source": [
    "def get_k_nearest(molecule, substrate, positions, k):\n",
    "    distances = get_distances(positions[molecule], positions[substrate])[1]\n",
    "    nearest = np.argpartition(distances, 1)[:, :1]\n",
    "    nearest_dist = distances[np.arange(molecule.shape[0])[:, np.newaxis], nearest].ravel()\n",
    "    nearest_per_atom = np.argpartition(nearest_dist, k)\n",
    "    return nearest_dist[nearest_per_atom][:k], np.stack([nearest_per_atom[:k], nearest[nearest_per_atom[:k]].ravel()], axis=1)"
   ]
  },
  {
   "cell_type": "code",
   "execution_count": 37,
   "metadata": {},
   "outputs": [
    {
     "data": {
      "text/plain": [
       "(array([2.16888464, 2.18773737, 2.20446632]),\n",
       " array([[  1, 165],\n",
       "        [  4, 158],\n",
       "        [  0, 164]]))"
      ]
     },
     "execution_count": 37,
     "metadata": {},
     "output_type": "execute_result"
    }
   ],
   "source": [
    "get_k_nearest(np.concatenate([C_atoms, H_atoms]), Pt_slab, relaxed_benzene_on_pt.get_positions(), 3)"
   ]
  },
  {
   "cell_type": "code",
   "execution_count": 38,
   "metadata": {},
   "outputs": [
    {
     "data": {
      "text/plain": [
       "(array([2.25574301, 2.27864026, 2.30078906]),\n",
       " array([[  2, 159],\n",
       "        [  0, 164],\n",
       "        [  7, 165]]))"
      ]
     },
     "execution_count": 38,
     "metadata": {},
     "output_type": "execute_result"
    }
   ],
   "source": [
    "get_k_nearest(np.concatenate([C_atoms, H_atoms]), Pt_slab, benz_pt_slab.get_positions(), 3)"
   ]
  },
  {
   "cell_type": "markdown",
   "metadata": {},
   "source": [
    "We can see, that in the relaxed structure, the atom comes closer to the Platinum slab. And among the nearest ones from the initial configuration, only the 0-th C atom stays among the closest ones in the end (Note that indices 0-5 in the second return value correspond to the 6 C atoms, 6-11 would be the H atoms, in case of benzene). As we can see below, the H atoms are pointing away from the Platinum slab as we would axpect, as the H atoms can't really make a bond, as they have no free electron, unless they would break the bond with the C atom, which is highly unlikely."
   ]
  },
  {
   "cell_type": "code",
   "execution_count": 42,
   "metadata": {},
   "outputs": [
    {
     "data": {
      "application/vnd.jupyter.widget-view+json": {
       "model_id": "17b98eeadb37414fbe864ce8375e2bcb",
       "version_major": 2,
       "version_minor": 0
      },
      "text/plain": [
       "NGLWidget()"
      ]
     },
     "metadata": {},
     "output_type": "display_data"
    },
    {
     "data": {
      "application/vnd.jupyter.widget-view+json": {
       "model_id": "ecc2a4985d8f4d95b26d6610b8be12ee",
       "version_major": 2,
       "version_minor": 0
      },
      "text/plain": [
       "Tab(children=(Box(children=(Box(children=(Box(children=(Label(value='step'), IntSlider(value=1, min=-100)), la…"
      ]
     },
     "metadata": {},
     "output_type": "display_data"
    }
   ],
   "source": [
    "view_structure(relaxed_benzene_on_pt)"
   ]
  },
  {
   "cell_type": "markdown",
   "metadata": {},
   "source": [
    "#### End Assignment 8"
   ]
  },
  {
   "cell_type": "markdown",
   "metadata": {},
   "source": [
    "#### OPTIONAL Assignment 9: computation of the deformation energy\n",
    "\n",
    "In the above geometry optimizations, you've probably noticed that the molecule \"buckles\" a little bit: this is due to the molecule's interaction with the substrate, which in turn performs work on the molecule to reach a total energy minimum. The objective of this optional assignment will be to calculate mechanical (or really... electrostatic) work that the substrate performs on the molecule. This simply amounts to the energy difference between the relaxed molecule in the gasphase $E_{\\text{gasphase}}^{\\text{relaxed}}$ and the energy of *just the molecule* in the relaxed adsorption configuration on the surface. Since we already have $E_{\\text{gasphase}}^{\\text{relaxed}}$ from our calculations from previous steps, we just need to extract the energy of the molecule on the surface.\n",
    "\n",
    "1. Choose the molecule for which you see the \"most\" deformation in the course of the geometry optimization on the platinum slab (e.g., benzene on platinum, methane on platinum, or ethane on platinum. In any case, make sure it's the *total* system geometry that you choose, and not just the slab nor just the molecule in this first step).\n",
    "2. Take the relaxed geometry configuration (i.e., the last block of lines in the `-pos-1.xyz` file, including the number of atoms line and the comment line directly underneath) and store them to a new file: `tail -<however many lines> something-pos-1.xyz > final_config.xyz`.\n",
    "3. Delete the atoms of the slab (so that only the atoms of the molecule remain), and adjust the total number of atoms (first line) accordingly.\n",
    "3. Perform an `ENERGY` run on this `final_config.xyz` configuration: remember what an `ENERGY` run is --- all it does is simply compute the energy of a given configuration; it does *not* optimize the geometry. Perform an energy run by modifying the `RUN_TYPE` parameter in the input file from `GEO_OPT` to `ENERGY` and changing the name of the `COORD_FILE_NAME` parameter to `final_config.xyz`; it might also be sensible to change the name of the `PROJECT` in the `&GLOBAL` section. Once all these changes have been made, submit the calculation. Once it's finished, you have $E_{\\text{mol on slab}}^{\\text{relaxed}}$ \n",
    "4. Extract the difference in energy --- the **deformation energy** $E_{\\text{defo}}$:\n",
    "$$\n",
    "E_{\\text{defo}} = E_{\\text{gasphase}}^{\\text{relaxed}} - E_{\\text{mol on slab}}^{\\text{relaxed}}\n",
    "$$"
   ]
  },
  {
   "cell_type": "code",
   "execution_count": 43,
   "metadata": {},
   "outputs": [],
   "source": [
    "## -- Your code here\n",
    "relaxed_benzene_on_pt = read(\"./benzene/full/benzene_on_pt-pos-1.xyz\", index=\":\")\n",
    "relaxed_methane_on_pt = read(\"./methane/full/methane_on_pt-pos-1.xyz\", index=\":\")\n",
    "relaxed_ethane_on_pt = read(\"./ethane/full/ethane_on_pt-pos-1.xyz\", index=\":\")"
   ]
  },
  {
   "cell_type": "code",
   "execution_count": 44,
   "metadata": {},
   "outputs": [],
   "source": [
    "def view_trajectory(trajectory):\n",
    "    t2 = nv.ASETrajectory(trajectory)\n",
    "    w2 = nv.NGLWidget(t2, gui=True)\n",
    "    #w2.add_spacefill()\n",
    "    return w2"
   ]
  },
  {
   "cell_type": "code",
   "execution_count": 45,
   "metadata": {},
   "outputs": [
    {
     "data": {
      "application/vnd.jupyter.widget-view+json": {
       "model_id": "03dcd0d64f8d45759d429eba97d76fae",
       "version_major": 2,
       "version_minor": 0
      },
      "text/plain": [
       "NGLWidget(max_frame=63)"
      ]
     },
     "metadata": {},
     "output_type": "display_data"
    },
    {
     "data": {
      "application/vnd.jupyter.widget-view+json": {
       "model_id": "a307f98475c04f82ac6bd3446408a6d1",
       "version_major": 2,
       "version_minor": 0
      },
      "text/plain": [
       "Tab(children=(Box(children=(Box(children=(Box(children=(Label(value='step'), IntSlider(value=1, min=-100)), la…"
      ]
     },
     "metadata": {},
     "output_type": "display_data"
    }
   ],
   "source": [
    "view_trajectory(relaxed_ethane_on_pt)"
   ]
  },
  {
   "cell_type": "markdown",
   "metadata": {},
   "source": [
    "After viewing the different trajectories, ethane was chosen.\n",
    "```bash \n",
    "$ grep \"Total energy\" ethane/energy/final_config.out | tail -n1 | awk '{print $3}'\n",
    "```\n",
    "gives us $E^\\text{relaxed}_\\text{mol on slab} = -15.19764372551636 \\text{ a.u. } = -413.5480161183986 \\text{ eV}$"
   ]
  },
  {
   "cell_type": "code",
   "execution_count": 49,
   "metadata": {},
   "outputs": [
    {
     "data": {
      "text/plain": [
       "-0.004657205062051713"
      ]
     },
     "execution_count": 49,
     "metadata": {},
     "output_type": "execute_result"
    }
   ],
   "source": [
    "E_eth_mol_pt_relaxed = -15.19764372551636\n",
    "E_defo_eth = E_eth - E_eth_mol_pt_relaxed\n",
    "E_defo_eth * atomic_to_ev"
   ]
  },
  {
   "cell_type": "markdown",
   "metadata": {},
   "source": [
    "giving us a deformation energy of $E_\\text{def} = -0.004657205062051713 \\text{ eV}$"
   ]
  },
  {
   "cell_type": "markdown",
   "metadata": {},
   "source": [
    "#### End Assignment 9"
   ]
  }
 ],
 "metadata": {
  "kernelspec": {
   "display_name": "mmm-venv",
   "language": "python",
   "name": "mmm-venv"
  },
  "language_info": {
   "codemirror_mode": {
    "name": "ipython",
    "version": 3
   },
   "file_extension": ".py",
   "mimetype": "text/x-python",
   "name": "python",
   "nbconvert_exporter": "python",
   "pygments_lexer": "ipython3",
   "version": "3.10.4"
  }
 },
 "nbformat": 4,
 "nbformat_minor": 4
}
