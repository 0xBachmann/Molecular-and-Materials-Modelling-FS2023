{
 "cells": [
  {
   "attachments": {},
   "cell_type": "markdown",
   "metadata": {},
   "source": [
    "# Exercise 8: hydrocarbons on platinum: functional-sensitive adsorption energies\n",
    "\n",
    "Date: Wednesday, 19. April 2023\n",
    "\n",
    "**Submission deadline**: Sunday, 23. April 2023 (or Sunday, 30. April 2023)\n",
    "\n",
    "## 0. Introduction to the problem\n",
    "\n",
    "In this exercise we will continue our study of density-functional theory (DFT) by considering the adsorption of three hydrocarbons -- benzene, methane, and ethane -- on a platinum slab. In principle, there are three candidates as adsorption sites, namely directly centered on top of a Pt atom, on the bridge connecting two Pt atoms, or on a hollow juncture in the middle of four Pt atoms.\n",
    "\n",
    "![Three different hydrocarbons on the Pt(111) surface.](hydrocarbons_on_pt.png \"Figure 1\")\n",
    "\n",
    "The aim of this exercise is to simulate the chemisorption of these hydrocarbons on platinum: in chemisorption, interactions between the molecule and substrate lead to bonds being formed, such that the bonds within the molecule and the surface are rearranged. We will be making use of [this paper [1]](https://pubs.rsc.org/en/content/articlepdf/2015/cp/c5cp04534g) in the course of this exercise. The first step is to make use of the definition of the adsorption energy $E_{ads}$:\n",
    "\n",
    "\\begin{equation*}\n",
    "E_{ads} =  E_{total} - \\sum_{slab, \\, molecules} E_{separate \\, system}\n",
    "\\end{equation*}\n",
    "\n",
    "Thus, for our system:\n",
    "\\begin{equation}\n",
    "E_{ads} = E_{total} - E_{Pt \\, slab} - E_{molecule}\n",
    "\\end{equation}\n",
    "\n",
    "Practically this means that three geometry optimizations are necessary: the first consisting of the total system of the molecule and the slab; the second with only the molecule; and the third with only the slab. However, not all DFT calculations can reproduce this result. Because of their different properties and approximations for the exchange–correlation (XC) part, *different DFT functionals predict different properties*, especially in regards to van der Waals interactions, which we have indeed already met in the third exercise via the Lennard-Jones potential.\n",
    "\n",
    "Every functional has its advantages and disadvantages and can be more or less suitable for the specific system and/or property that you want to study. Thus, it is necessary to understand the limits of the functional that you want to use, e.g. searching in the literature or performing some preliminary benchmark calculations. \n",
    "\n",
    "To give you a flavour of how properties can change, in this exercise we (you) will investigate two from the same family of approximations to the XC energy, namely the generalized gradient approximation (GGA) functional, and we will use the GGA with vdW corrections: thus, in this exercise, we will examine a total of two different XC functionals, both with vdW corrections. Different from exercise 3, this time, we will include the vdW correction via the BEEF-vdW XC functional instead of via a simple LJ potential. In any case, the vdW correction is an energy term which is added *a posteriori* to the energy functional obtained from the variational principle of DFT.\n",
    "\n",
    "The GGA formalism goes a step further than that of the local density approximation, accounting also for the local change of the electron density, with the inclusion of the electron density gradient in the functional. GGA functionals go through another division based on the origin of their parameters: They can be either empirical, i.e. derived from fitting of data coming from experiments and more sophisticated techniques, or determined from properties of the homogeneous electron gas as well as exact constraints.\n",
    "\n",
    "LDA generally overestimates the bond strength between the molecule and the surface, since it is more suitable to describe strong bonds. This leads to a calculated overbinding, such as short adsorption bond lengths, large chemisorption energies, and high molecule–surface vibrational frequencies. The error in the chemisorption energy can be so large that LDA may predict the wrong chemisorption site. Finally, by considering vdW corrections via the BEEF-vdW functional, we take into account non-local effects which may play a role in the chemisorption process."
   ]
  },
  {
   "attachments": {},
   "cell_type": "markdown",
   "metadata": {},
   "source": [
    "## 1: Benzene $\\text{C}_6\\text{H}_6$ on Pt(111)\n",
    "\n",
    "We begin by logging into our accounts on JupyterHub on Euler in a similar manner as described in the previous exercises, and `pull` the newest exercise files from the GitHub repository, making sure that you are in the directory for the course:\n",
    "```bash\n",
    "    $ cd ~/Molecular-and-Materials-Modelling-FS2023\n",
    "    $ git init\n",
    "  # $ git stash\n",
    "    $ git pull https://github.com/ramador09/Molecular-and-Materials-Modelling-FS2023.git\n",
    "```  \n",
    "\n",
    "First, execute the following two cells to import necessary modules and libraries, and to define the `view_structure()` function, which we will make ample use of in the course of this exercise:"
   ]
  },
  {
   "cell_type": "code",
   "execution_count": 137,
   "metadata": {},
   "outputs": [],
   "source": [
    "import numpy as np\n",
    "from ase.io import read, write\n",
    "from ase.visualize import view\n",
    "from ase.build import fcc111,add_adsorbate,molecule\n",
    "import matplotlib.pyplot as plt\n",
    "import nglview as nv"
   ]
  },
  {
   "cell_type": "code",
   "execution_count": 76,
   "metadata": {},
   "outputs": [],
   "source": [
    "def view_structure(system):\n",
    "    t = nv.ASEStructure(system) \n",
    "    w = nv.NGLWidget(t, gui=True)\n",
    "   # w.add_spacefill()\n",
    "    return w"
   ]
  },
  {
   "attachments": {},
   "cell_type": "markdown",
   "metadata": {},
   "source": [
    "Next, we create an instance of the `molecule` class by starting with the benzene molecule. ASE is \"smart\" enough to know that we mean the benzene molecule when we simply create an instance of the `molecule` class and feed it the string `C6H6`:"
   ]
  },
  {
   "cell_type": "code",
   "execution_count": 138,
   "metadata": {},
   "outputs": [],
   "source": [
    "benzene=molecule('C6H6')"
   ]
  },
  {
   "cell_type": "code",
   "execution_count": 139,
   "metadata": {},
   "outputs": [
    {
     "data": {
      "application/vnd.jupyter.widget-view+json": {
       "model_id": "673fac3727424112a01e7978045c165d",
       "version_major": 2,
       "version_minor": 0
      },
      "text/plain": [
       "NGLWidget()"
      ]
     },
     "metadata": {},
     "output_type": "display_data"
    },
    {
     "data": {
      "application/vnd.jupyter.widget-view+json": {
       "model_id": "a98ffb66ec164f7bafd80e3ec813360f",
       "version_major": 2,
       "version_minor": 0
      },
      "text/plain": [
       "Tab(children=(Box(children=(Box(children=(Box(children=(Label(value='step'), IntSlider(value=1, min=-100)), la…"
      ]
     },
     "metadata": {},
     "output_type": "display_data"
    }
   ],
   "source": [
    "view_structure(benzene)"
   ]
  },
  {
   "attachments": {},
   "cell_type": "markdown",
   "metadata": {},
   "source": [
    "We will need this object later for the structure relaxation of the benzene molecule. Let's save it now:"
   ]
  },
  {
   "cell_type": "code",
   "execution_count": 119,
   "metadata": {},
   "outputs": [],
   "source": [
    "write(filename='./benzene/benzene_mol.xyz',images=benzene)"
   ]
  },
  {
   "attachments": {},
   "cell_type": "markdown",
   "metadata": {},
   "source": [
    "Now, having initialised the `benzene` object, we can place it on the surface of Pt(111) by executing the following cell. **Note**: the lateral size of the supercell is related with the periodic simulation box parameters in the CP2K input file. These have already been chosen and adjusted to the (6,6,3) case, so please do not change the values in the `size` argument without adjusting the `CELL` parameters in the CP2K input file. If this sentence confuses you, just ignore it and change as little as possible ;-)"
   ]
  },
  {
   "cell_type": "code",
   "execution_count": 120,
   "metadata": {},
   "outputs": [
    {
     "name": "stderr",
     "output_type": "stream",
     "text": [
      "/Users/ray/opt/miniconda3/envs/aiida/lib/python3.8/site-packages/ase/io/extxyz.py:302: UserWarning: Skipping unhashable information adsorbate_info\n",
      "  warnings.warn('Skipping unhashable information '\n"
     ]
    },
    {
     "data": {
      "application/vnd.jupyter.widget-view+json": {
       "model_id": "c5f3fac13e8844c3b8f719fa428f5693",
       "version_major": 2,
       "version_minor": 0
      },
      "text/plain": [
       "NGLWidget()"
      ]
     },
     "metadata": {},
     "output_type": "display_data"
    },
    {
     "data": {
      "application/vnd.jupyter.widget-view+json": {
       "model_id": "b3a9614778df404f987543299724e38f",
       "version_major": 2,
       "version_minor": 0
      },
      "text/plain": [
       "Tab(children=(Box(children=(Box(children=(Box(children=(Label(value='step'), IntSlider(value=1, min=-100)), la…"
      ]
     },
     "metadata": {},
     "output_type": "display_data"
    }
   ],
   "source": [
    "benz_pt_slab=fcc111('Pt',size=(6,6,5))\n",
    "write(filename='./pt_slab/pt_slab.xyz',images=benz_pt_slab) # Writes the slab to a file\n",
    "add_adsorbate(benz_pt_slab,benzene,height=2.25,position=(10,7)) # Adsorbs benzene on the slab\n",
    "benz_pt_slab.center(vacuum=10, axis=2)\n",
    "view_structure(benz_pt_slab)"
   ]
  },
  {
   "attachments": {},
   "cell_type": "markdown",
   "metadata": {},
   "source": [
    "Use the `get_cell()` method on this `Atoms` object to view the unit cell of the system. This will serve as a good sanity check during the calculations, and moreover, we will need to use these values in the `CELL` subsection of the CP2K input file:"
   ]
  },
  {
   "cell_type": "code",
   "execution_count": 121,
   "metadata": {},
   "outputs": [
    {
     "data": {
      "text/plain": [
       "Cell([[16.6311514935076, 0.0, 0.0], [8.3155757467538, 14.402999687565085, 0.0], [0.0, 0.0, 31.302852220893335]])"
      ]
     },
     "execution_count": 121,
     "metadata": {},
     "output_type": "execute_result"
    }
   ],
   "source": [
    "benz_pt_slab.get_cell()"
   ]
  },
  {
   "attachments": {},
   "cell_type": "markdown",
   "metadata": {},
   "source": [
    "Save the slab-and-molecule composite system by executing the `write` function from the `ase.io` library:"
   ]
  },
  {
   "cell_type": "code",
   "execution_count": 122,
   "metadata": {},
   "outputs": [
    {
     "name": "stderr",
     "output_type": "stream",
     "text": [
      "/Users/ray/opt/miniconda3/envs/aiida/lib/python3.8/site-packages/ase/io/extxyz.py:302: UserWarning: Skipping unhashable information adsorbate_info\n",
      "  warnings.warn('Skipping unhashable information '\n"
     ]
    }
   ],
   "source": [
    "write(filename='./benzene/benzene_on_pt.xyz',images=benz_pt_slab)"
   ]
  },
  {
   "attachments": {},
   "cell_type": "markdown",
   "metadata": {},
   "source": [
    "## 1.1. Connecting to the Eiger supercomputer\n",
    "\n",
    "Due to the bugs and glitches on Euler, we will try to submit and run calculations on the Piz Eiger supercomputer in Lugano. We will do this by connecting via ssh to Eiger from Euler. In the current repository, you will see a directory called `eiger_connect`. Open the `README.txt` file and execute each of the lines, line by line, in your command line:\n",
    "\n",
    "```bash\n",
    "$ cd eiger_connect\n",
    "$ cp config $HOME/.ssh\n",
    "$ cp id_rsa $HOME/.ssh\n",
    "$ chmod 644 $HOME/.ssh/id_rsa\n",
    "$ chmod 644 $HOME/.ssh/config\n",
    "$ chmod 700 $HOME/.ssh/id_rsa\n",
    "$ ssh eiger\n",
    "```\n",
    "\n",
    "Once you `ssh` to Eiger, you will be in Daniele's `$SCRATCH` directory on Eiger. It is here where we will submit the calculations.\n",
    "\n",
    "The `run` file is the submission script, and, for the purposes of this exercise, should **not** be modified. In the current `$SCRATCH` directory, make a new directory with your username on Euler:\n",
    "\n",
    "```bash\n",
    "$ mkdir <username>\n",
    "$ cd <username>\n",
    "```\n",
    "\n",
    "It is within this `<username>` subdirectory that each student will submit calculations. Copy the `run` file from the parent `$SCRATCH` directory into the current `<username>` directory:\n",
    "\n",
    "```bash\n",
    "$ cp ../run .\n",
    "```\n",
    "\n",
    "## 1.2. `rsync`'ing your files to Eiger\n",
    "\n",
    "Either on your local machine or on Euler (whichever you are `ssh`'ing to Eiger from, and whichever you have been executing the above code in), open a terminal. We need to sync the files we just generated to Eiger in order to run them. Issue the following command (again: on whatever machine you generated the above files, either on Jupyter@Euler or on your local machine):\n",
    "\n",
    "```bash\n",
    "$ rsync -av pt_slab benzene eiger:<username> \n",
    "```\n",
    "\n",
    "where you replace `<username>` with the `username` folder you made above on Eiger (the angle brackets are merely placeholders and shouldn't appear in the final execution!). If everything worked, you should see the generated files now on Eiger. Switch now to the Eiger terminal now and let's look at the input files.\n",
    "\n",
    "## 1.3. Modifying the input file and navigating around\n",
    "\n",
    "Your cloned `exercise8` directory already has the input file template `input.inp` and the BEEF-vdW directive `beefvdw.inc` in the subdirectories named after the molecules. You will need to make appropriate modifications to the input files, in order for the calculations to run. **Important**: it is always good practice to follow the motto: \"one directory, one calculation\". Let's move into the `benzene` directory, make separate subdirectories for the full molecule-slab system and the molecule itself. Then we copy the input file template to, say, the full molecule-slab system, move the full geometry file to the full directory, and lastly open the input file with `vim`:\n",
    "\n",
    "```bash\n",
    "$ mkdir benzene; cd benzene\n",
    "$ mkdir full; mkdir mol; cd full\n",
    "$ cp ../../input.inp ./benzene_on_pt.inp\n",
    "$ mv ../../benzene_on_pt.xyz .\n",
    "$ vi benzene_on_pt.inp\n",
    "```\n",
    "\n",
    "**Important**: You will need to modify all instances of the string `MOLECULE` (this is just a template after all), as well as (possibly) the values of the `&CELL` section, depending on the values of the `get_cell()` function above. \n",
    "\n",
    "In order to submit a job, make sure you're in the appropriate subdirectory containing your input and geometry files (and make sure the `run` script is there also of course), and issue\n",
    "\n",
    "```bash\n",
    "$ sbatch -J <username>  --export=ALL,root=<input_file> run\n",
    "```\n",
    "\n",
    "where `<username>` is your Euler (!) username, and `<input_file>` is the name of the input file in the respective directory. To check the status of the job submission, issue\n",
    "\n",
    "```bash\n",
    "$ squeue -u dpassero\n",
    "```\n",
    "\n",
    "(since we're using Daniele's scratch).\n",
    "\n",
    "## 1.4. `rsync`'ing the output files back \n",
    "\n",
    "Once the calculation is finished, we need to `rsync` the output files back. Go to a \"local\" terminal (ie, either Euler or your truly local machine -- wherever you will be doing the postprocessing) and issue\n",
    "\n",
    "```bash\n",
    "$ rsync -av eiger:<username>/benzene/full .\n",
    "```\n",
    "\n",
    "## 1.5. A sidenote about convergence\n",
    "\n",
    "In the interest of time, only do one job submission."
   ]
  },
  {
   "attachments": {},
   "cell_type": "markdown",
   "metadata": {},
   "source": [
    "#### Assignment 1: Optimization of the Pt slab\n",
    "Repeat the above steps to optimize the Pt slab. The geometry was already generated in the beginning of this notebook, and is contained in the `slab` directory. Copy the input file template and run script to the slab directory, make the necessary changes (don't forget to change as appropriate the values of the `CELL` subsection in the CP2K input file)! Then submit the calculation. The remaining parts of the input file should remain the same, because we want the simulations to be as similar as possible in order to compute the adsorption energy\n",
    "\n",
    "**Important**: make sure to keep the same atoms fixed during the optimization of the slab!"
   ]
  },
  {
   "cell_type": "code",
   "execution_count": null,
   "metadata": {},
   "outputs": [],
   "source": [
    "## -- your code here"
   ]
  },
  {
   "attachments": {},
   "cell_type": "markdown",
   "metadata": {},
   "source": [
    "#### End Assignment 1"
   ]
  },
  {
   "attachments": {},
   "cell_type": "markdown",
   "metadata": {},
   "source": [
    "#### Assignment 2: Optimization of the benzene molecule\n",
    "Repeat the procedure outlined in Assignment 1 for the beneze molecule, changing\n",
    "all names of files as necessary. Remember, the geometry was already generated."
   ]
  },
  {
   "cell_type": "code",
   "execution_count": null,
   "metadata": {},
   "outputs": [],
   "source": [
    "## -- Your code here"
   ]
  },
  {
   "cell_type": "markdown",
   "metadata": {},
   "source": [
    "#### End Assignment 2"
   ]
  },
  {
   "attachments": {},
   "cell_type": "markdown",
   "metadata": {},
   "source": [
    "#### Assignment 3: Computation of the adsorption energy\n",
    "\n",
    "Use your calculations from above and code from previous exercises to visualize the relaxation trajectory. We now have all the ingredients to compute the adsorption energy $E_{\\text{ads}}$ of benzene on Pt(111) according to Eq. 1:\n",
    "\n",
    "$$\n",
    "E_{\\text{ads}} = E_{\\text{slab \\& mol}} - E_{\\text{slab}} - E_{\\text{mol}}\n",
    "$$\n",
    "\n",
    "[Write a function to] compute the adsorption energy of benzene on the Pt(111) surface. The simplest and probably most straightforward way is to use the `grep` command to extract all instances of the total energy, then pipe this to the `tail` command (using the appropriate flags of course) to extract only the line containing last instance of the total energy (ie, the line converged value!), and finally to pipe this to the `awk '{print $3}'` command (the single ticks are crucial, do not forget them!), which will print the third column of this line, ie the total energy:\n",
    "\n",
    "```bash\n",
    "$ grep <expression for total energy> | tail <flags to extract only the last line> | awk '{print $3}'\n",
    "```"
   ]
  },
  {
   "cell_type": "code",
   "execution_count": null,
   "metadata": {},
   "outputs": [],
   "source": [
    "### Your code here"
   ]
  },
  {
   "attachments": {},
   "cell_type": "markdown",
   "metadata": {},
   "source": [
    "#### End Assignment 3"
   ]
  },
  {
   "attachments": {},
   "cell_type": "markdown",
   "metadata": {},
   "source": [
    "## 2. Methane $\\text{CH}_4$ on Pt(111)\n",
    "\n",
    "We now repeat the above procedure for methane on Pt(111):"
   ]
  },
  {
   "cell_type": "code",
   "execution_count": 123,
   "metadata": {},
   "outputs": [
    {
     "data": {
      "application/vnd.jupyter.widget-view+json": {
       "model_id": "0171b299e660428fb31278da2178f1ba",
       "version_major": 2,
       "version_minor": 0
      },
      "text/plain": [
       "NGLWidget()"
      ]
     },
     "metadata": {},
     "output_type": "display_data"
    },
    {
     "data": {
      "application/vnd.jupyter.widget-view+json": {
       "model_id": "a5bfa95c34ec42558b0c06e6ea3dcde7",
       "version_major": 2,
       "version_minor": 0
      },
      "text/plain": [
       "Tab(children=(Box(children=(Box(children=(Box(children=(Label(value='step'), IntSlider(value=1, min=-100)), la…"
      ]
     },
     "metadata": {},
     "output_type": "display_data"
    }
   ],
   "source": [
    "methane=molecule('CH4')\n",
    "view_structure(methane)"
   ]
  },
  {
   "cell_type": "code",
   "execution_count": 127,
   "metadata": {},
   "outputs": [],
   "source": [
    "write(filename='./methane/methane_mol.xyz',images=methane)"
   ]
  },
  {
   "cell_type": "code",
   "execution_count": 124,
   "metadata": {},
   "outputs": [
    {
     "data": {
      "application/vnd.jupyter.widget-view+json": {
       "model_id": "3b2225e6e87445068977d041e32ef95a",
       "version_major": 2,
       "version_minor": 0
      },
      "text/plain": [
       "NGLWidget()"
      ]
     },
     "metadata": {},
     "output_type": "display_data"
    },
    {
     "data": {
      "application/vnd.jupyter.widget-view+json": {
       "model_id": "7ec255b1ad7e48d886f5f2a90372add6",
       "version_major": 2,
       "version_minor": 0
      },
      "text/plain": [
       "Tab(children=(Box(children=(Box(children=(Box(children=(Label(value='step'), IntSlider(value=1, min=-100)), la…"
      ]
     },
     "metadata": {},
     "output_type": "display_data"
    }
   ],
   "source": [
    "meth_pt_slab = fcc111('Pt', size=(6, 6, 5))\n",
    "\n",
    "# We don't have to write the slab file again, since we already did it above!\n",
    "\n",
    "add_adsorbate(meth_pt_slab, methane, height=2.25, position=(10, 7))\n",
    "meth_pt_slab.center(vacuum=10, axis=2)\n",
    "view_structure(meth_pt_slab)"
   ]
  },
  {
   "attachments": {},
   "cell_type": "markdown",
   "metadata": {},
   "source": [
    "Let's look at the cell information again (**important for when/if we need to change the values in the input file!**)"
   ]
  },
  {
   "cell_type": "code",
   "execution_count": 128,
   "metadata": {},
   "outputs": [
    {
     "data": {
      "text/plain": [
       "Cell([[16.6311514935076, 0.0, 0.0], [8.3155757467538, 14.402999687565085, 0.0], [0.0, 0.0, 31.931970220893334]])"
      ]
     },
     "execution_count": 128,
     "metadata": {},
     "output_type": "execute_result"
    }
   ],
   "source": [
    "meth_pt_slab.get_cell()"
   ]
  },
  {
   "cell_type": "code",
   "execution_count": 126,
   "metadata": {},
   "outputs": [
    {
     "name": "stderr",
     "output_type": "stream",
     "text": [
      "/Users/ray/opt/miniconda3/envs/aiida/lib/python3.8/site-packages/ase/io/extxyz.py:302: UserWarning: Skipping unhashable information adsorbate_info\n",
      "  warnings.warn('Skipping unhashable information '\n"
     ]
    }
   ],
   "source": [
    "write(filename='./methane/methane_on_pt.xyz',images=meth_pt_slab)"
   ]
  },
  {
   "attachments": {},
   "cell_type": "markdown",
   "metadata": {},
   "source": [
    "#### Assignment 4: The adsorption energy of methane on Pt(111)\n",
    "\n",
    "Repeat Assignments 1-3 in order to arrive at the adsorption energy Eq.\n",
    "1 for methane on Pt(111), whose full geometry we have just generated. Hint: with all these different input and output files, it might\n",
    "not be a bad idea to create separate directories to make everything a bit more\n",
    "organised..."
   ]
  },
  {
   "cell_type": "code",
   "execution_count": null,
   "metadata": {},
   "outputs": [],
   "source": [
    "## Your code here"
   ]
  },
  {
   "attachments": {},
   "cell_type": "markdown",
   "metadata": {},
   "source": [
    "#### End Assignment 4"
   ]
  },
  {
   "attachments": {},
   "cell_type": "markdown",
   "metadata": {},
   "source": [
    "#### Assignment 5: Adsorption of ethane\n",
    "Repeat Assignments 1-3 in order to arrive at the adsorption energy Eq.\n",
    "1 for ethane."
   ]
  },
  {
   "cell_type": "code",
   "execution_count": 130,
   "metadata": {},
   "outputs": [
    {
     "data": {
      "application/vnd.jupyter.widget-view+json": {
       "model_id": "d9b1decb00b54dd4bf04beb026640296",
       "version_major": 2,
       "version_minor": 0
      },
      "text/plain": [
       "NGLWidget()"
      ]
     },
     "metadata": {},
     "output_type": "display_data"
    },
    {
     "data": {
      "application/vnd.jupyter.widget-view+json": {
       "model_id": "1ba275c7c98b4fefac4251b6b8b9938e",
       "version_major": 2,
       "version_minor": 0
      },
      "text/plain": [
       "Tab(children=(Box(children=(Box(children=(Box(children=(Label(value='step'), IntSlider(value=1, min=-100)), la…"
      ]
     },
     "metadata": {},
     "output_type": "display_data"
    }
   ],
   "source": [
    "ethane=molecule('C2H6')\n",
    "write(filename='./ethane/ethane_mol.xyz',images=ethane)\n",
    "eth_pt_slab = fcc111('Pt', size=(6, 6, 5))\n",
    "add_adsorbate(eth_pt_slab, ethane, height=1.75, position=(10, 7))\n",
    "eth_pt_slab.center(vacuum=10, axis=2)\n",
    "view_structure(eth_pt_slab)"
   ]
  },
  {
   "attachments": {},
   "cell_type": "markdown",
   "metadata": {},
   "source": [
    "Notice how the ethane molecule is \"vertical\" (the axis of the molecule is perpendicular to the surface). In the paper, the ethane molecule is horizontal. We have to rotate the molecule 90° about the $y$-axis:"
   ]
  },
  {
   "cell_type": "code",
   "execution_count": 131,
   "metadata": {},
   "outputs": [
    {
     "data": {
      "application/vnd.jupyter.widget-view+json": {
       "model_id": "eeb965cd123441f88d82487cb584e802",
       "version_major": 2,
       "version_minor": 0
      },
      "text/plain": [
       "NGLWidget()"
      ]
     },
     "metadata": {},
     "output_type": "display_data"
    },
    {
     "data": {
      "application/vnd.jupyter.widget-view+json": {
       "model_id": "1830633c356046be9e3b14d72ddec69e",
       "version_major": 2,
       "version_minor": 0
      },
      "text/plain": [
       "Tab(children=(Box(children=(Box(children=(Box(children=(Label(value='step'), IntSlider(value=1, min=-100)), la…"
      ]
     },
     "metadata": {},
     "output_type": "display_data"
    }
   ],
   "source": [
    "ethane.rotate('y', 90)\n",
    "view_structure(ethane)"
   ]
  },
  {
   "cell_type": "code",
   "execution_count": 132,
   "metadata": {},
   "outputs": [
    {
     "data": {
      "application/vnd.jupyter.widget-view+json": {
       "model_id": "cba6a7171c2d4b0a90c8dc35be84cf5b",
       "version_major": 2,
       "version_minor": 0
      },
      "text/plain": [
       "NGLWidget()"
      ]
     },
     "metadata": {},
     "output_type": "display_data"
    },
    {
     "data": {
      "application/vnd.jupyter.widget-view+json": {
       "model_id": "04e26a7500c245bd853d2fe073d50af0",
       "version_major": 2,
       "version_minor": 0
      },
      "text/plain": [
       "Tab(children=(Box(children=(Box(children=(Box(children=(Label(value='step'), IntSlider(value=1, min=-100)), la…"
      ]
     },
     "metadata": {},
     "output_type": "display_data"
    }
   ],
   "source": [
    "eth_pt_slab = fcc111('Pt', size=(6, 6, 5))\n",
    "add_adsorbate(eth_pt_slab, ethane, height=2.25, position=(10, 7))\n",
    "eth_pt_slab.center(vacuum=10, axis=2)\n",
    "view_structure(eth_pt_slab)"
   ]
  },
  {
   "attachments": {},
   "cell_type": "markdown",
   "metadata": {},
   "source": [
    "This looks more like the structure in the paper. Now we can save it:"
   ]
  },
  {
   "cell_type": "code",
   "execution_count": 134,
   "metadata": {},
   "outputs": [],
   "source": [
    "write(filename='./ethane/ethane_on_pt.xyz',images=eth_pt_slab)"
   ]
  },
  {
   "cell_type": "code",
   "execution_count": 135,
   "metadata": {},
   "outputs": [],
   "source": [
    "## -- Your code here"
   ]
  },
  {
   "attachments": {},
   "cell_type": "markdown",
   "metadata": {},
   "source": [
    "#### End Assignment 5"
   ]
  },
  {
   "attachments": {},
   "cell_type": "markdown",
   "metadata": {},
   "source": [
    "#### Assignment 6: Comparative plots of the adsorption energy\n",
    "\n",
    "Reproduce the bar graphs (both top and bottom plots -- the experimental adsorption energy is given in the paper's supplementary information) in Fig. 3 of [the paper](https://pubs.rsc.org/en/content/articlepdf/2015/cp/c5cp04534g) for your molecules benzene, methane, and ethane. "
   ]
  },
  {
   "cell_type": "code",
   "execution_count": 136,
   "metadata": {},
   "outputs": [],
   "source": [
    "## -- Your code here"
   ]
  },
  {
   "attachments": {},
   "cell_type": "markdown",
   "metadata": {},
   "source": [
    "#### End Assignment 6"
   ]
  },
  {
   "attachments": {},
   "cell_type": "markdown",
   "metadata": {},
   "source": [
    "### ----- Assignments 7-9 are optional, but worth quite a few points, for those of us who might have missed a few submissions ;-) -----\n",
    "\n",
    "#### OPTIONAL Assignment 7: The Grimme D3 dispersion method\n",
    "\n",
    "Repeat the above calculations, so that you obtain the adsorption energy Eq. 2 using now the Grimme D3 method. You\n",
    "singly need to change the value of the `@include` directive in the input files from `\"beefvdw.inc\"` to `\"grimme_d3.inc\"`:\n",
    "\n",
    "```\n",
    "...\n",
    "@include \"grimme_d3.inc\"\n",
    "...\n",
    "```\n",
    "\n",
    "The `grimme_d3.inc` file is already in the parent `exercise8` directory and doesn't need to be modified. You might, however, depending on the relative location of the `grimme_d3.inc` file, need to modify the relative path of the `@include` statement above.\n",
    "\n",
    "Reproduce the bar graphs for benzene, methane, and ethane in Figs. 3 (a) and (b) of\n",
    "the paper linked in the PDF. Since we already did calculations for the BEEF-vdW functional,\n",
    "of course these are the only ones you’ll plot. The experimental data for comparison\n",
    "are given in Table S1 of the supplementary information of the paper (also linked in the PDF)."
   ]
  },
  {
   "cell_type": "code",
   "execution_count": null,
   "metadata": {},
   "outputs": [],
   "source": [
    "## -- Your code here"
   ]
  },
  {
   "attachments": {},
   "cell_type": "markdown",
   "metadata": {},
   "source": [
    "#### End Assignment 7"
   ]
  },
  {
   "attachments": {},
   "cell_type": "markdown",
   "metadata": {},
   "source": [
    "#### OPTIONAL Assignment 8: identification of bonding pairs\n",
    "\n",
    "In identifying chemi- resp. physisorption, one of the most important quantities are the distances (in the relaxed geometry!) between atoms of the adsorbate and those of the substrate. Pick any of the above molecules (benzene, methane, ethane) and use the `get_distances()` function to compare the distances of the closest 2-3 molecule-substrate atom pairs between the starting geometry and the final relaxed geometry. Comment on your results."
   ]
  },
  {
   "cell_type": "code",
   "execution_count": null,
   "metadata": {},
   "outputs": [],
   "source": [
    "## -- Your code here"
   ]
  },
  {
   "attachments": {},
   "cell_type": "markdown",
   "metadata": {},
   "source": [
    "#### End Assignment 8"
   ]
  },
  {
   "attachments": {},
   "cell_type": "markdown",
   "metadata": {},
   "source": [
    "#### OPTIONAL Assignment 9: computation of the deformation energy\n",
    "\n",
    "In the above geometry optimizations, you've probably noticed that the molecule \"buckles\" a little bit: this is due to the molecule's interaction with the substrate, which in turn performs work on the molecule to reach a total energy minimum. The objective of this optional assignment will be to calculate mechanical (or really... electrostatic) work that the substrate performs on the molecule. This simply amounts to the energy difference between the relaxed molecule in the gasphase $E_{\\text{gasphase}}^{\\text{relaxed}}$ and the energy of *just the molecule* in the relaxed adsorption configuration on the surface. Since we already have $E_{\\text{gasphase}}^{\\text{relaxed}}$ from our calculations from previous steps, we just need to extract the energy of the molecule on the surface.\n",
    "\n",
    "1. Choose the molecule for which you see the \"most\" deformation in the course of the geometry optimization on the platinum slab (e.g., benzene on platinum, methane on platinum, or ethane on platinum. In any case, make sure it's the *total* system geometry that you choose, and not just the slab nor just the molecule in this first step).\n",
    "2. Take the relaxed geometry configuration (i.e., the last block of lines in the `-pos-1.xyz` file, including the number of atoms line and the comment line directly underneath) and store them to a new file: `tail -<however many lines> something-pos-1.xyz > final_config.xyz`.\n",
    "3. Delete the atoms of the slab (so that only the atoms of the molecule remain), and adjust the total number of atoms (first line) accordingly.\n",
    "3. Perform an `ENERGY` run on this `final_config.xyz` configuration: remember what an `ENERGY` run is --- all it does is simply compute the energy of a given configuration; it does *not* optimize the geometry. Perform an energy run by modifying the `RUN_TYPE` parameter in the input file from `GEO_OPT` to `ENERGY` and changing the name of the `COORD_FILE_NAME` parameter to `final_config.xyz`; it might also be sensible to change the name of the `PROJECT` in the `&GLOBAL` section. Once all these changes have been made, submit the calculation. Once it's finished, you have $E_{\\text{mol on slab}}^{\\text{relaxed}}$ \n",
    "4. Extract the difference in energy --- the **deformation energy** $E_{\\text{defo}}$:\n",
    "$$\n",
    "E_{\\text{defo}} = E_{\\text{gasphase}}^{\\text{relaxed}} - E_{\\text{mol on slab}}^{\\text{relaxed}}\n",
    "$$"
   ]
  },
  {
   "cell_type": "code",
   "execution_count": null,
   "metadata": {},
   "outputs": [],
   "source": [
    "## -- Your code here"
   ]
  },
  {
   "attachments": {},
   "cell_type": "markdown",
   "metadata": {},
   "source": [
    "#### End Assignment 9"
   ]
  }
 ],
 "metadata": {
  "kernelspec": {
   "display_name": "Python 3",
   "language": "python",
   "name": "python3"
  },
  "language_info": {
   "codemirror_mode": {
    "name": "ipython",
    "version": 3
   },
   "file_extension": ".py",
   "mimetype": "text/x-python",
   "name": "python",
   "nbconvert_exporter": "python",
   "pygments_lexer": "ipython3",
   "version": "3.8.8"
  }
 },
 "nbformat": 4,
 "nbformat_minor": 4
}
