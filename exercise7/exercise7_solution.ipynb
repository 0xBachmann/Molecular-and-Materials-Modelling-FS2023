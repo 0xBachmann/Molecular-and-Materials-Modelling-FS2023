{
 "cells": [
  {
   "attachments": {},
   "cell_type": "markdown",
   "metadata": {},
   "source": [
    "# Exercise 7: the dehydration of ethanol\n",
    "**SOLUTION**: adopted from: M. Dossena\n",
    "Date: Wednesday 5 April 2023\n",
    "\n",
    "**Submission deadline**: Sunday 16 April 2023\n",
    "\n",
    "In this exercise we will investigate a very important chemical reaction, namely the production of ethene (ethylene) from ethanol. Ethanol is heated with an excess of concentrated sulphuric acid at a temperature of 170°C. The gases produced are passed through sodium hydroxide solution to remove the carbon dioxide and sulphur dioxide produced from side reactions. Another way to favor this reaction is in presence of a catalyst surface, which makes the reaction exothermic even at room temperature, and the free energy barrier for the reaction is highly reduced, so to obtain reasonable reaction rates. The use of hematite (an iron-based nanocrystal) as a catalyst is described computationally in [this paper (clickable link)](https://pubs.rsc.org/en/content/articlelanding/2016/RA/C6RA08509A#!divAbstract) by Lopes *et. al.*. We are interested in the gas phase reaction, in particular in the reactants and the products energy, to estimate the “energy of reaction”.\n",
    "\n",
    "The reaction is the following:\n",
    "\n",
    "\\begin{equation}\n",
    "    \\text{CH}_3\\text{CH}_2\\text{OH} \\longrightarrow \\text{C}_2\\text{H}_4 + \\text{H}_2\\text{O}\n",
    "\\end{equation}\n",
    "\n",
    "and, in the gas phase, the equation looks like\n",
    "\n",
    "![The dehydration of **(a)** ethanol after overcoming a **(b) transition state (TS)** into its **(c)** products: ethene and water.](ethanol.png \"Figure 1\")\n",
    "\n",
    "In the supplementary material of the paper, which can be found [here](http://www.rsc.org/suppdata/c6/ra/c6ra08509a/c6ra08509a1.pdf), several calculations with different methods ranging from DFT to hybrid methods to even higher-level methods are described, together with the basis set dependence of the results. We will compare our results with those published by performing calculations within the DFT framework for two different functionals: the PBE parametrization of the generalized gradient approximation (GGA), introduced in Exercise 7, and the hybrid functional B3LYP (named after those who developed it: Becke, 3-parameter, Lee–Yang–Parr); within each functional we will optimize the geometry at two-three basis sets per functional, thereby obtaining a final (hopefully converged!) value for the total inner energy $U$. From here we will use thermodynamics to relate $U$ to the Gibbs free energy $G$; see the Figure below:\n",
    "\n",
    "<img src=\"rxn-coord.png\" alt=\"isolated\" width=\"700\"/>\n",
    "\n",
    "# 0. Calculations with PBE\n",
    "\n",
    "We begin by logging into our accounts on JupyterHub on Euler in a similar manner as described in the previous exercises, and `pull` the newest exercise files from the GitHub repository, making sure that you are in the directory for the course:\n",
    "```bash\n",
    "    $ cd ~/Molecular-and-Materials-Modelling-FS2023\n",
    "    $ git init\n",
    "  # $ git stash\n",
    "    $ git pull https://github.com/ramador09/Molecular-and-Materials-Modelling-FS2023.git\n",
    "```  \n",
    "\n",
    "As mentioned earlier, we will be running calculations using two different functionals PBE and B3LYP, and each functional shall be run using different basis sets. We want to organize our calculations in a meaningful way. Within the `exercise-7-files` directory, make a directory for PBE:\n",
    "\n",
    "```bash\n",
    "$ mkdir PBE\n",
    "```\n",
    "\n",
    "In the current `exercise-7-files` directory you will find the following eight files:\n",
    "\n",
    "* `H2O\\_template.inp}` for the optimization of water and the corresponding `H2O.xyz` file providing the geometry;\n",
    "* `ethanol\\_template.inp` for the optimization of ethanol and the corresponding `ethanol.xyz` file providing the geometry;\n",
    "* `ethylene\\_template.inp` for the geometry optimization of ethylene and the corresponding `ethylene.xyz` file providing the geometry;\n",
    "* `ts\\_template.inp` for the transition state and the corresponding `ts.xyz` file providing the geometry`\n",
    "\n",
    "Move into the `PBE` directory and make a new subdirectory `SZV`, the name of the first (and simplest) basis sets we will examine today, and move into the `SZV` directory:\n",
    "\n",
    "```bash\n",
    "$ cd PBE\n",
    "$ mkdir SZV\n",
    "$ cd SZV\n",
    "```\n",
    "\n",
    "Copy the `H2O_template.inp` file from the parent directory into the current one and rename it:\n",
    "\n",
    "```bash\n",
    "$ cp ../../H2O_template.inp .\n",
    "$ mv H2O_template.inp H2O.inp\n",
    "```\n",
    "\n",
    "Submit the calculation on H2O in the current directory, either using a submit script from a previous week\n",
    "\n",
    "```\n",
    "#!/bin/bash\n",
    "\n",
    "#SBATCH -N 2\n",
    "#SBATCH -n 16\n",
    "#SBATCH --time=4:00:00\n",
    "#SBATCH --job-name=\"nice name\"\n",
    "#SBATCH --mem-per-cpu=1024\n",
    "#SBATCH --output=stdout.txt\n",
    "#SBATCH --error=stderr.txt\n",
    "\n",
    "# module load openmpi/4.0.2\n",
    "# module load gcc/6.3.0 openmpi/4.0.2 cp2k/8.2\n",
    "/cluster/scratch/danielep/cp2k.ssmp -i input.inp > output.out\n",
    "```\n",
    "\n",
    "or by simply using the command line\n",
    "\n",
    "```bash\n",
    "/cluster/scratch/danielep/cp2k.ssmp -i input.inp > output.out\n",
    "```\n",
    "\n",
    "For the `H2O`, `ethanol`, and `ethene` projects, notice how the `RUN_TYPE` keyword in the `&GLOBAL` section of the input file is associated with `GEO_OPT`. This means (unsurprisingly) that we will be optimizing the geometry, as we've done in previous exercises. While the calculation is running, open a new Terminal in your launcher and visualize the the `H2O.inp` file with vim.\n",
    "\n",
    "The structure and layout of the input files for `ethanol` and `ethene` are similar. Now, however, we open the input file for the **transition state** `ts.inp` and notice the change in the `&GLOBAL` section:\n",
    "\n",
    "```\n",
    "&GLOBAL\n",
    "  PROJECT ts\n",
    "  RUN_TYPE ENERGY\n",
    "  PRINT_LEVEL LOW\n",
    "&END GLOBAL\n",
    "```\n",
    "\n",
    "The `ENERGY` value associated to the `RUN_TYPE` keyword indicates that we are merely calculating the energy of the configuration and **explicitly not** optimizing the geometry --- indeed this is the case, since the geometry of the transition state is simply being provided (transition state theory is a whole Pandora's box...).\n",
    "\n",
    "Execute the following cells and proceed to the first assignment."
   ]
  },
  {
   "cell_type": "code",
   "execution_count": 20,
   "metadata": {},
   "outputs": [],
   "source": [
    "import numpy as np\n",
    "from ase.io import read\n",
    "from ase.visualize import view\n",
    "from ase.build import fcc111,add_adsorbate,molecule\n",
    "import matplotlib.pyplot as plt\n",
    "import nglview as nv"
   ]
  },
  {
   "cell_type": "code",
   "execution_count": 21,
   "metadata": {},
   "outputs": [],
   "source": [
    "def view_structure(system):\n",
    "    t = nv.ASEStructure(system) \n",
    "    w = nv.NGLWidget(t, gui=True)\n",
    "    w.add_spacefill()\n",
    "    return w"
   ]
  },
  {
   "cell_type": "code",
   "execution_count": 22,
   "metadata": {},
   "outputs": [],
   "source": [
    "def view_trajectory(trajectory):\n",
    "    t2 = nv.ASETrajectory(trajectory)\n",
    "    w2 = nv.NGLWidget(t2, gui=True)\n",
    "    w2.add_spacefill()\n",
    "    return w2;"
   ]
  },
  {
   "attachments": {},
   "cell_type": "markdown",
   "metadata": {
    "jp-MarkdownHeadingCollapsed": true,
    "tags": []
   },
   "source": [
    "#### OPTIONAL Assignment 0: Functional derivatives\n",
    "\n",
    "Given a functional $F[f]$ of the function $f(\\textbf{r})$ of the coordinate $\\textbf{r}$, the functional derivative $\\delta F[f]/\\delta f(\\textbf{r})$ is defined by the relationship\n",
    "\n",
    "$$\n",
    "\\lim_{\\epsilon \\rightarrow 0} \\left[ \\frac{F[f+\\epsilon \\delta f] - F[f]}{\\epsilon} \\right] = \\int \\frac{\\delta F[f]}{\\delta f(\\textbf{r})}\\delta f(\\textbf{r})\\text{d}\\textbf{r},\n",
    "$$\n",
    "\n",
    "where $\\delta f(\\textbf{r})$ is an arbitrarily \"small\" and well-behaved function of $r$. Using this definition, calculate the functional derivative of the following function\\textbf{als}:\n",
    "$$\n",
    "F_1[f] = \\int f(\\textbf{r}) g(\\textbf{r}) \\text{d}(\\textbf{r}), \\newline\n",
    "F_2[f] = \\int f^{5/3}(\\textbf{r}) \\text{d}(\\textbf{r}), \\newline\n",
    "F_3[f] = \\iint \\frac{f{(\\textbf{r})} f{(\\textbf{r}')} g{(\\textbf{r})} g{(\\textbf{r}')}}{|\\textbf{r}-\\textbf{r}'|} d\\textbf{r} d\\textbf{r}' , \\\\\n",
    "F_4[f] = \\int \\frac{\\nabla f(\\textbf{r}) \\cdot \\nabla f(\\textbf{r}) }{f(\\textbf{r})} d\\textbf{r}, \\\\\n",
    "F_5[\\delta] = \\delta (\\textbf{r} - \\textbf{r}_0)\n",
    "$$\n"
   ]
  },
  {
   "attachments": {},
   "cell_type": "markdown",
   "metadata": {},
   "source": [
    "## 1. Calculations with PBE"
   ]
  },
  {
   "attachments": {},
   "cell_type": "markdown",
   "metadata": {},
   "source": [
    "#### Assignment 1:The remaining simulations for the SVZ basis set\n",
    "Repeat and submit the remaining calculations for `ethanol.inp`, `ethene.inp`, and `ts.inp` for the PBE."
   ]
  },
  {
   "attachments": {},
   "cell_type": "markdown",
   "metadata": {},
   "source": [
    "#### End Assignment 1"
   ]
  },
  {
   "attachments": {},
   "cell_type": "markdown",
   "metadata": {},
   "source": [
    "#### Assignment 2: Visualization of the structures trajectories, and orbitals\n",
    "Visualize the structures and trajectories of the reactant ethanol as well as of the products ethene and water. Remember that the trajectory will have been generated as an output file in the following nominal format: `project_name-pos-1.xyz`.\n",
    "\n",
    "The three geometry optimizations produce one `.cube` file every step, and they are named according to `project_name-WFN_orbital_number_1-1-_step_number.cube`; use code from exercise 6 to visualize the HOMO and LUMO orbitals of the optimized geometries of all three molecules."
   ]
  },
  {
   "cell_type": "code",
   "execution_count": 24,
   "metadata": {
    "scrolled": true
   },
   "outputs": [
    {
     "data": {
      "application/vnd.jupyter.widget-view+json": {
       "model_id": "e4ce1081bd0e45e6876de63326f8ef21",
       "version_major": 2,
       "version_minor": 0
      },
      "text/plain": [
       "NGLWidget(max_frame=10)"
      ]
     },
     "metadata": {},
     "output_type": "display_data"
    },
    {
     "data": {
      "application/vnd.jupyter.widget-view+json": {
       "model_id": "143b33c84495468fa3371743370ee464",
       "version_major": 2,
       "version_minor": 0
      },
      "text/plain": [
       "Tab(children=(Box(children=(Box(children=(Box(children=(Label(value='step'), IntSlider(value=1, min=-100)), la…"
      ]
     },
     "metadata": {},
     "output_type": "display_data"
    }
   ],
   "source": [
    "TRAJ_H2O = './H2O/PBE/SZV/H2O-pos-1.xyz'\n",
    "traj_H2O = read(TRAJ_H2O, index=\":\")\n",
    "view_trajectory(traj_H2O)"
   ]
  },
  {
   "attachments": {},
   "cell_type": "markdown",
   "metadata": {},
   "source": [
    "___The shape assumed by the H2O molecule is the usual one (with 104.5 degree angle)___"
   ]
  },
  {
   "cell_type": "code",
   "execution_count": 25,
   "metadata": {
    "scrolled": true
   },
   "outputs": [
    {
     "data": {
      "application/vnd.jupyter.widget-view+json": {
       "model_id": "7e2889f27f5a47858731e4acb21e2d6c",
       "version_major": 2,
       "version_minor": 0
      },
      "text/plain": [
       "NGLWidget(max_frame=4)"
      ]
     },
     "metadata": {},
     "output_type": "display_data"
    },
    {
     "data": {
      "application/vnd.jupyter.widget-view+json": {
       "model_id": "246b1258a09a400e8d13a7ff4c81ae10",
       "version_major": 2,
       "version_minor": 0
      },
      "text/plain": [
       "Tab(children=(Box(children=(Box(children=(Box(children=(Label(value='step'), IntSlider(value=1, min=-100)), la…"
      ]
     },
     "metadata": {},
     "output_type": "display_data"
    }
   ],
   "source": [
    "TRAJ_ETHENE = './ETHENE/PBE/SZV/ethene-pos-1.xyz'\n",
    "traj_ETHENE = read(TRAJ_ETHENE, index=\":\")\n",
    "view_trajectory(traj_ETHENE)"
   ]
  },
  {
   "cell_type": "code",
   "execution_count": 26,
   "metadata": {
    "scrolled": true
   },
   "outputs": [
    {
     "data": {
      "application/vnd.jupyter.widget-view+json": {
       "model_id": "a0c46645049d4e2ca609a4cd64901368",
       "version_major": 2,
       "version_minor": 0
      },
      "text/plain": [
       "NGLWidget(max_frame=5)"
      ]
     },
     "metadata": {},
     "output_type": "display_data"
    },
    {
     "data": {
      "application/vnd.jupyter.widget-view+json": {
       "model_id": "073adb4a730745a08087534f248eaed2",
       "version_major": 2,
       "version_minor": 0
      },
      "text/plain": [
       "Tab(children=(Box(children=(Box(children=(Box(children=(Label(value='step'), IntSlider(value=1, min=-100)), la…"
      ]
     },
     "metadata": {},
     "output_type": "display_data"
    }
   ],
   "source": [
    "TRAJ_ETHANOL = './ETHANOL/PBE/SZV/ethanol-pos-1.xyz'\n",
    "traj_ETHANOL = read(TRAJ_ETHANOL, index=\":\")\n",
    "view_trajectory(traj_ETHANOL)"
   ]
  },
  {
   "attachments": {},
   "cell_type": "markdown",
   "metadata": {},
   "source": [
    "___The ethene and ethanol relax in the ground states___"
   ]
  },
  {
   "cell_type": "code",
   "execution_count": 27,
   "metadata": {},
   "outputs": [
    {
     "data": {
      "application/vnd.jupyter.widget-view+json": {
       "model_id": "382c994e17ba477a81afeb1ad860a537",
       "version_major": 2,
       "version_minor": 0
      },
      "text/plain": [
       "NGLWidget()"
      ]
     },
     "metadata": {},
     "output_type": "display_data"
    }
   ],
   "source": [
    "file = './H2O/PBE/SZV/H2O-WFN_00004_1-1_l.cube'\n",
    "atoms = read(file)\n",
    "\n",
    "view = nv.NGLWidget()\n",
    "view.add_component(nv.ASEStructure(atoms))\n",
    "\n",
    "c_2 = view.add_component(file)\n",
    "c_2.clear()\n",
    "c_2.add_surface(color='blue', isolevelType=\"value\", isolevel=-0.01, opacity=0.05)\n",
    "\n",
    "c_3=view.add_component(file)\n",
    "c_3.clear()\n",
    "c_3.add_surface(color='green', isolevelType=\"value\", isolevel=0.01, opacity=0.15)\n",
    "\n",
    "view"
   ]
  },
  {
   "attachments": {},
   "cell_type": "markdown",
   "metadata": {},
   "source": [
    "___The H2O HOMO is a bonding orbital (the wavefunction is not 0 in the bond direction)___"
   ]
  },
  {
   "cell_type": "code",
   "execution_count": 28,
   "metadata": {},
   "outputs": [
    {
     "data": {
      "application/vnd.jupyter.widget-view+json": {
       "model_id": "4b9a6f48524a40cdb49917210953500b",
       "version_major": 2,
       "version_minor": 0
      },
      "text/plain": [
       "NGLWidget()"
      ]
     },
     "metadata": {},
     "output_type": "display_data"
    }
   ],
   "source": [
    "file = './H2O/PBE/SZV/H2O-WFN_00005_1-1_l.cube'\n",
    "atoms = read(file)\n",
    "\n",
    "view = nv.NGLWidget()\n",
    "view.add_component(nv.ASEStructure(atoms))\n",
    "\n",
    "c_2 = view.add_component(file)\n",
    "c_2.clear()\n",
    "c_2.add_surface(color='blue', isolevelType=\"value\", isolevel=-0.01, opacity=0.05)\n",
    "\n",
    "c_3=view.add_component(file)\n",
    "c_3.clear()\n",
    "c_3.add_surface(color='green', isolevelType=\"value\", isolevel=0.01, opacity=0.15)\n",
    "\n",
    "view"
   ]
  },
  {
   "attachments": {},
   "cell_type": "markdown",
   "metadata": {},
   "source": [
    "___The H2O LUMO is an anti-bonding orbital (the wavefunction is 0 in the bond direction)___"
   ]
  },
  {
   "cell_type": "code",
   "execution_count": 29,
   "metadata": {},
   "outputs": [
    {
     "data": {
      "application/vnd.jupyter.widget-view+json": {
       "model_id": "0aa94f86292c469d836a51af90f11067",
       "version_major": 2,
       "version_minor": 0
      },
      "text/plain": [
       "NGLWidget()"
      ]
     },
     "metadata": {},
     "output_type": "display_data"
    }
   ],
   "source": [
    "file = './ETHENE/PBE/SZV/ethene-WFN_00006_1-1_l.cube'\n",
    "atoms = read(file)\n",
    "\n",
    "view = nv.NGLWidget()\n",
    "view.add_component(nv.ASEStructure(atoms))\n",
    "\n",
    "c_2 = view.add_component(file)\n",
    "c_2.clear()\n",
    "c_2.add_surface(color='blue', isolevelType=\"value\", isolevel=-0.01, opacity=0.05)\n",
    "\n",
    "c_3=view.add_component(file)\n",
    "c_3.clear()\n",
    "c_3.add_surface(color='green', isolevelType=\"value\", isolevel=0.01, opacity=0.15)\n",
    "\n",
    "view"
   ]
  },
  {
   "attachments": {},
   "cell_type": "markdown",
   "metadata": {},
   "source": [
    "___The ethene HOMO is a bonding orbital for both C-C and C-H bonds___"
   ]
  },
  {
   "cell_type": "code",
   "execution_count": 30,
   "metadata": {},
   "outputs": [
    {
     "data": {
      "application/vnd.jupyter.widget-view+json": {
       "model_id": "e4bd26ab4655410989ac801c43c59249",
       "version_major": 2,
       "version_minor": 0
      },
      "text/plain": [
       "NGLWidget()"
      ]
     },
     "metadata": {},
     "output_type": "display_data"
    }
   ],
   "source": [
    "file = './ETHENE/PBE/SZV/ethene-WFN_00007_1-1_l.cube'\n",
    "atoms = read(file)\n",
    "\n",
    "view = nv.NGLWidget()\n",
    "view.add_component(nv.ASEStructure(atoms))\n",
    "\n",
    "c_2 = view.add_component(file)\n",
    "c_2.clear()\n",
    "c_2.add_surface(color='blue', isolevelType=\"value\", isolevel=-0.01, opacity=0.05)\n",
    "\n",
    "c_3=view.add_component(file)\n",
    "c_3.clear()\n",
    "c_3.add_surface(color='green', isolevelType=\"value\", isolevel=0.01, opacity=0.15)\n",
    "\n",
    "view"
   ]
  },
  {
   "attachments": {},
   "cell_type": "markdown",
   "metadata": {},
   "source": [
    "___The LUMO orbital for ethene is bonding for C-H but anti-bonding for the C-C bond___"
   ]
  },
  {
   "cell_type": "code",
   "execution_count": 31,
   "metadata": {},
   "outputs": [
    {
     "data": {
      "application/vnd.jupyter.widget-view+json": {
       "model_id": "7edd47b840534e41a13ccd87ff44b713",
       "version_major": 2,
       "version_minor": 0
      },
      "text/plain": [
       "NGLWidget()"
      ]
     },
     "metadata": {},
     "output_type": "display_data"
    }
   ],
   "source": [
    "file = './ETHANOL/PBE/SZV/ethanol-WFN_00010_1-1_l.cube'\n",
    "atoms = read(file)\n",
    "\n",
    "view = nv.NGLWidget()\n",
    "view.add_component(nv.ASEStructure(atoms))\n",
    "\n",
    "c_2 = view.add_component(file)\n",
    "c_2.clear()\n",
    "c_2.add_surface(color='blue', isolevelType=\"value\", isolevel=-0.01, opacity=0.05)\n",
    "\n",
    "c_3=view.add_component(file)\n",
    "c_3.clear()\n",
    "c_3.add_surface(color='green', isolevelType=\"value\", isolevel=0.01, opacity=0.15)\n",
    "\n",
    "view"
   ]
  },
  {
   "attachments": {},
   "cell_type": "markdown",
   "metadata": {},
   "source": [
    "___For ethanol, the HOMO is mainily localized around the OH bond___"
   ]
  },
  {
   "cell_type": "code",
   "execution_count": 32,
   "metadata": {},
   "outputs": [
    {
     "data": {
      "application/vnd.jupyter.widget-view+json": {
       "model_id": "dffe8c096cee4bc4accff384c0c02598",
       "version_major": 2,
       "version_minor": 0
      },
      "text/plain": [
       "NGLWidget()"
      ]
     },
     "metadata": {},
     "output_type": "display_data"
    }
   ],
   "source": [
    "file = './ETHANOL/PBE/SZV/ethanol-WFN_00011_1-1_l.cube'\n",
    "atoms = read(file)\n",
    "\n",
    "view = nv.NGLWidget()\n",
    "view.add_component(nv.ASEStructure(atoms))\n",
    "\n",
    "c_2 = view.add_component(file)\n",
    "c_2.clear()\n",
    "c_2.add_surface(color='blue', isolevelType=\"value\", isolevel=-0.01, opacity=0.05)\n",
    "\n",
    "c_3=view.add_component(file)\n",
    "c_3.clear()\n",
    "c_3.add_surface(color='green', isolevelType=\"value\", isolevel=0.01, opacity=0.15)\n",
    "\n",
    "view"
   ]
  },
  {
   "attachments": {},
   "cell_type": "markdown",
   "metadata": {},
   "source": [
    "___The LUMO for ethanol is delocalized over the entire molecule___"
   ]
  },
  {
   "cell_type": "code",
   "execution_count": 33,
   "metadata": {},
   "outputs": [
    {
     "data": {
      "application/vnd.jupyter.widget-view+json": {
       "model_id": "ed2a07aca67046b5b1e33f51a8715a0e",
       "version_major": 2,
       "version_minor": 0
      },
      "text/plain": [
       "NGLWidget()"
      ]
     },
     "metadata": {},
     "output_type": "display_data"
    }
   ],
   "source": [
    "file = './TS/PBE/SZV/ts-WFN_00010_1-1_0.cube'\n",
    "atoms = read(file)\n",
    "\n",
    "view = nv.NGLWidget()\n",
    "view.add_component(nv.ASEStructure(atoms))\n",
    "\n",
    "c_2 = view.add_component(file)\n",
    "c_2.clear()\n",
    "c_2.add_surface(color='blue', isolevelType=\"value\", isolevel=-0.01, opacity=0.05)\n",
    "\n",
    "c_3=view.add_component(file)\n",
    "c_3.clear()\n",
    "c_3.add_surface(color='green', isolevelType=\"value\", isolevel=0.01, opacity=0.15)\n",
    "\n",
    "view"
   ]
  },
  {
   "cell_type": "code",
   "execution_count": 34,
   "metadata": {},
   "outputs": [
    {
     "data": {
      "application/vnd.jupyter.widget-view+json": {
       "model_id": "7f525bc5cffb4af2947be7018aa97e6e",
       "version_major": 2,
       "version_minor": 0
      },
      "text/plain": [
       "NGLWidget()"
      ]
     },
     "metadata": {},
     "output_type": "display_data"
    }
   ],
   "source": [
    "file = './TS/PBE/SZV/ts-WFN_00011_1-1_0.cube'\n",
    "atoms = read(file)\n",
    "\n",
    "view = nv.NGLWidget()\n",
    "view.add_component(nv.ASEStructure(atoms))\n",
    "\n",
    "c_2 = view.add_component(file)\n",
    "c_2.clear()\n",
    "c_2.add_surface(color='blue', isolevelType=\"value\", isolevel=-0.01, opacity=0.05)\n",
    "\n",
    "c_3=view.add_component(file)\n",
    "c_3.clear()\n",
    "c_3.add_surface(color='green', isolevelType=\"value\", isolevel=0.01, opacity=0.15)\n",
    "\n",
    "view"
   ]
  },
  {
   "attachments": {},
   "cell_type": "markdown",
   "metadata": {},
   "source": [
    "___Both the LUMO and the HOMO for the transition state are localized over the entire molecule___"
   ]
  },
  {
   "cell_type": "code",
   "execution_count": null,
   "metadata": {},
   "outputs": [],
   "source": [
    "# Points: 10/10"
   ]
  },
  {
   "attachments": {},
   "cell_type": "markdown",
   "metadata": {},
   "source": [
    "#### End Assignment 2"
   ]
  },
  {
   "attachments": {},
   "cell_type": "markdown",
   "metadata": {},
   "source": [
    "## 2. Calculations with B3LYP"
   ]
  },
  {
   "attachments": {},
   "cell_type": "markdown",
   "metadata": {},
   "source": [
    "Once the above calculations have concluded, we want to perform the identical calculations, except using B3LYP as a functional. B3LYP is what is known as a **hybrid (exchange-correlation) functional** because the separate exchange $X$ and correlation $C$ effects are each defined as a mixture ('hybrid') between the exact exchange from Hartree-Fock and that from a GGA functional. The formula for the B3LYP xc-functional is\n",
    "\n",
    "\\begin{equation}\n",
    "    E_{XC}^{B3LYP} = E_{X}^{LDA} + a_0(E_{X}^{HF}-E_{X}^{LDA}) + a_X(E_{X}^{GGA}-E_{X}^{LDA}) + E_{C}^{LDA} + a_C(E_{C}^{GGA} - E_{C}^{LDA}),\n",
    "\\end{equation}\n",
    "\n",
    "where $E_{C}^{GGA}$ is a correlation energy obtained within the GGA framework, and $E_{X}^{GGA}$ is the exchange energy also within GGA. The three parameters (hence the 3 in B3LYP) are set to $a_0=0.2, a_X=0.72$, and $a_C=0.81$.\n",
    "\n",
    "We obviously need to modify the input file accordingly. Move back into the parent `exercise-7-files` directory and make a new folder there named `B3LYP`. Within the new `B3LYP` folder, make a new subfolder `SZV`, in which we will perform B3LYP calculations using the SZV basis set:\n",
    "\n",
    "```bash\n",
    "$ cd ../..\n",
    "$ mkdir B3LYP\n",
    "$ cd B3LYP\n",
    "$ mkdir SZV\n",
    "$ cd SZV\n",
    "```\n",
    "\n",
    "Just as for the PBE case, copy the `H2O_template.inp` file from the parent `exercise-7-files` directory into the current one and rename it:\n",
    "\n",
    "```bash\n",
    "$ cp ../../H2O_template.inp .\n",
    "$ mv H2O_template.inp H2O.inp\n",
    "```\n",
    "\n",
    "Open the `H2O.inp` file using vim and replace the entire `&XC` section with:\n",
    "\n",
    "```\n",
    " &XC\n",
    "   &XC_FUNCTIONAL\n",
    "     &LYP\n",
    "       SCALE_C 0.81 ! mixing parameters explained above\n",
    "     &END\n",
    "     &BECKE88\n",
    "       SCALE_X 0.72\n",
    "     &END\n",
    "     &XALPHA\n",
    "       SCALE_X 0.08\n",
    "     &END\n",
    "   &END XC_FUNCTIONAL\n",
    "   &HF\n",
    "     &SCREENING\n",
    "       EPS_SCHWARZ 1.0E-10\n",
    "     &END\n",
    "     &MEMORY\n",
    "       MAX_MEMORY 5\n",
    "     &END\n",
    "     FRACTION 0.20\n",
    "   &END\n",
    " &END XC\n",
    "```"
   ]
  },
  {
   "attachments": {},
   "cell_type": "markdown",
   "metadata": {},
   "source": [
    "#### Assignment 3: The simulations for the SZV basis set: B3LYP\n",
    "\n",
    "Save and close the `H2O.inp` file, and finally submit the calculation.\n",
    "\n",
    "Then repeat the above procedures and and submit the calculations for `ethanol.inp`, `ethene.inp`, and `ts.inp` for the B3LYP hybrid functional. My simulation for the SZV basis set took about 20mins."
   ]
  },
  {
   "attachments": {},
   "cell_type": "markdown",
   "metadata": {},
   "source": [
    "#### End Assignment 3"
   ]
  },
  {
   "attachments": {},
   "cell_type": "markdown",
   "metadata": {},
   "source": [
    "# 3. An excourse on basis sets in CP2K and an analysis of our results\n",
    "\n",
    "A terse introduction to the framework of basis sets in CP2K can be found [here](https://www.cp2k.org/basis_sets). The basis sets that we have / we will examine in this exercise are, in increasing order of complexity:\n",
    "\n",
    "* SZV-MOLOPT-GTH\n",
    "* DZVP-MOLOPT-GTH\n",
    "* TZVP-MOLOPT-GTH\n",
    "* TZV2P-MOLOPT-GTH\n",
    "* TZV2PX-MOLOPT-GTH\n",
    "\n",
    "where SZ, DZ, and TZ stand for single-, double-, and triple-zeta, respectively, and refer to how many functions are used to describe each atomic orbital: in this sense, it gives an idea as to the flexibility of each basis set. For instance, in TZ, each primitive vector is treated as a full-fledged basis function, which is better in regards to accuracy, yet is (of course) more expensive computationally. `V` stands for valence: here, it means that only valence orbitals are split, whereas core orbitals are not. `P` stands for polarized, and means that extra functions are included in order to include the polarization of the electron density. The label `MOLOPT` indicates that these sets are optimized to perform accurate molecular calculations. In this library the larger basis sets are selected as extensions of smaller ones.\n",
    "\n",
    "Following the spirit of [Lopes *et. al.* (clickable link)](https://pubs.rsc.org/en/content/articlelanding/2016/RA/C6RA08509A#!divAbstract), we want to perform the above calculations using both functionals PBE and B3LYP using a total of two or three of the above basis sets, and finally compare the results with those of the paper."
   ]
  },
  {
   "attachments": {},
   "cell_type": "markdown",
   "metadata": {},
   "source": [
    "#### Assignment 4: Simulations for both PBE and B3LYP functionals using other basis sets\n",
    "Repeat the simulations for the geomtry optimization `GEO_OPT` of `ethanol`, `ethene`, and `H2O`, as well as the `ENERGY` run for the transition state `ts`, using the `DZVP-MOLOPT-GTH` and `TZVP-MOLOPT-GTH` basis sets. The **only** thing you'll need to change in the respective input files is the value of the `BASIS_SET` keyword under the `&KIND` subsection:\n",
    "\n",
    "```\n",
    "&KIND H\n",
    "   BASIS_SET DZVP-MOLOPT-GTH\n",
    "   POTENTIAL GTH-PBE-q1\n",
    " &END KIND\n",
    "```\n",
    " \n",
    "Change this for all atom species in the input file. Notice that we leave the value of the `POTENTIAL` keyword the same! This is because our treatment using pseudopotentials does not chnage from functional to functional or basis set to basis set. As an \"upper bound\": my simulation for `ethanol` using the `TZVP-MOLOPT-GTH` basis set with the B3LYP hybrid functional took about 70mins."
   ]
  },
  {
   "attachments": {},
   "cell_type": "markdown",
   "metadata": {},
   "source": [
    "#### End Assignment 4"
   ]
  },
  {
   "attachments": {},
   "cell_type": "markdown",
   "metadata": {},
   "source": [
    "#### Assignment 5: Reproduction of the energy profiles for functionals and basis sets\n",
    "Reproduce the energy profiles of Fig. 4 in [the paper](https://pubs.rsc.org/en/content/articlepdf/2016/ra/c6ra08509a) by plotting the absolute energies\n",
    "vs. the reaction species for each of your simulations. The converged energy is just the final value at the bottom of the respective output file. You’ll have six different\n",
    "curves (2 functionals PBE, B3LYP × 3 basis sets SZV, DZVP, TZVP), so you\n",
    "can, depending on how you scale the axes, just superimpose them onto one graph.\n",
    "**Important!: don’t forget that CP2K output files are in atomic units, so\n",
    "a unit conversion from e.g., Ha energies to eV might be sensible.**"
   ]
  },
  {
   "cell_type": "code",
   "execution_count": 18,
   "metadata": {},
   "outputs": [
    {
     "data": {
      "text/plain": [
       "([<matplotlib.axis.XTick at 0x299a649d0>,\n",
       "  <matplotlib.axis.XTick at 0x126e5b810>,\n",
       "  <matplotlib.axis.XTick at 0x1274ce350>],\n",
       " [Text(0, 0, 'Ethanol'), Text(1, 0, 'TS'), Text(2, 0, 'Ethene+H2O')])"
      ]
     },
     "execution_count": 18,
     "metadata": {},
     "output_type": "execute_result"
    },
    {
     "data": {
      "image/png": "[encoded data removed]",
      "text/plain": [
       "<Figure size 640x480 with 1 Axes>"
      ]
     },
     "metadata": {},
     "output_type": "display_data"
    }
   ],
   "source": [
    "ETHANOL = np.array([-30.841620838230462, -30.970112569272558, -30.971374761317904, -30.591813945023368,  -30.723892836228742, -30.725284805420205])\n",
    "ETHENE = np.array([-13.657781801039581, -13.724397329563459, -13.724818867583394, -13.505003046930963, -13.579843580303779, -13.580483230169628])\n",
    "H2O = np.array([-17.155081639820665, -17.220578294627767, -17.221460003888804, -17.061794524305014, -17.125709717952205, -17.126659511999272])\n",
    "TS = np.array([-30.721887932351436, -30.873072579667699, -30.875170278421564, -30.456325375565129, -30.617741717568794, -30.619977848390068])\n",
    "\n",
    "conv_kcalmol = 627.503\n",
    "\n",
    "ETHANOL = ETHANOL * conv_kcalmol\n",
    "ETHENE = ETHENE * conv_kcalmol\n",
    "H2O = H2O * conv_kcalmol\n",
    "TS = TS * conv_kcalmol\n",
    "\n",
    "P1 = ETHANOL - ETHANOL\n",
    "P2 = TS - ETHANOL\n",
    "P3 = ETHENE + H2O - ETHANOL\n",
    "\n",
    "plt.plot([P1,P2,P3])\n",
    "plt.legend(['PBE-SZV','PBE-DZVP','PBE-TZVP','B3LYP-SZV','B3LYP-DZVP','B3LYP-TZVP'])\n",
    "plt.xlabel('Reaction coordinate')\n",
    "plt.ylabel('$\\Delta$E [kcal/mol$^{-1}$]')\n",
    "plt.xticks(np.arange(3), ['Ethanol', 'TS', 'Ethene+H2O'])\n",
    "\n"
   ]
  },
  {
   "attachments": {},
   "cell_type": "markdown",
   "metadata": {},
   "source": [
    "___From the plot, we clearly see that the energy difference of the TS is overestimated by PBE with respect to B3LYP. In case of the final state, PBE instead underestimates it. Regarding the basis set, it is evident that the SZV case is not converged, both for PBE and B3LYP, while DZVP and TZVP gave almost the same result. The result closer to the literature is of course the B3LYP-TZVP(DZVP) one___"
   ]
  },
  {
   "cell_type": "code",
   "execution_count": null,
   "metadata": {},
   "outputs": [],
   "source": [
    "# Points: 20/20"
   ]
  },
  {
   "attachments": {},
   "cell_type": "markdown",
   "metadata": {},
   "source": [
    "#### End Assignment 5"
   ]
  },
  {
   "attachments": {},
   "cell_type": "markdown",
   "metadata": {},
   "source": [
    "#### Assignment 6: Reproduction of the rate constant for the reaction $k(T)$\n",
    "Thermodynamics defines the temperature-dependent **rate constant** $k(T)$ as\n",
    "\n",
    "$$k(T)=\\frac{k_BT}{2\\pi\\hbar C}\\exp(-\\Delta G / RT),$$\n",
    "\n",
    "where $k_B$ is the Boltzmann constant, $T$ the absolute temperature, $\\hbar$ the reduced Planck constant, $C$ the standard concentration of 1 mol $L^{-1}$, $G$ the **Gibbs free energy**, and $R$ the universal gas constant. The **Gibbs free energy** is in turn defined in terms of the **enthalpy** $H=U+pV$ as\n",
    "\n",
    "$$ G=H-TS, $$\n",
    "\n",
    "where $U$ is the **internal energy** (which we obtain from our converged calculations), $p$ the pressure, $V$ the volume, and $S$ the entropy. By considering only *differences* in the various energies, we posit\n",
    "$$\\Delta G = \\Delta H = \\Delta U. $$\n",
    "\n",
    "The equation for $k(T)$ then becomes\n",
    "$$ k(T)=\\frac{k_BT}{2\\pi\\hbar C}\\exp(-\\Delta U / RT), $$\n",
    "\n",
    "where $\\Delta U := U_{\\text{final}} - U_{\\text{init}}$ is obtained from our calculations. Consistent with the literature (and with the notation in Fig. 2), anything having to do with the **transition state** takes a superscript double-dagger: thus, $U^\\ddagger$, $G^\\ddagger$, etc. Reproduce the gasphase plot (black squares) of Fig. 6 [the paper](https://pubs.rsc.org/en/content/articlepdf/2016/ra/c6ra08509a) by plotting $\\log[k^\\ddagger(T)]$ vs. $T$, with\n",
    "\n",
    "$$k^\\ddagger(T)=\\frac{k_BT}{2\\pi\\hbar C}\\exp(-\\Delta U^\\ddagger / RT),$$\n",
    "\n",
    "and using the identification that $U^\\ddagger=U_{\\text{TS}} - U_{\\text{ethanol}}$ for about 20 evenly-spaced values of $T$ between 300K and 1300K. Just like in Exercise 5, you'll have six different curves (2 functionals PBE, B3LYP x 3 basis sets SZV, DZVP, TZVP), so you can, depending on how you scale the axes, just superimpose them onto one graph."
   ]
  },
  {
   "cell_type": "code",
   "execution_count": 19,
   "metadata": {},
   "outputs": [
    {
     "data": {
      "text/plain": [
       "Text(0, 0.5, 'ln(k)')"
      ]
     },
     "execution_count": 19,
     "metadata": {},
     "output_type": "execute_result"
    },
    {
     "data": {
      "image/png": "[encoded data removed]",
      "text/plain": [
       "<Figure size 640x480 with 1 Axes>"
      ]
     },
     "metadata": {},
     "output_type": "display_data"
    }
   ],
   "source": [
    "T = np.arange(300,1300,20)\n",
    "\n",
    "deltaU = TS - ETHANOL\n",
    "\n",
    "kB = 1.380649e-23\n",
    "hbar = 1.054571817e-34\n",
    "C = 6.02214076e23\n",
    "C = 1\n",
    "R = 1.98720425864083e-3\n",
    "\n",
    "for i in range(6):\n",
    "    plt.plot(T,np.log(kB*T/(2*np.pi*hbar*C)*np.exp(-deltaU[i]/(R*T))))\n",
    "    \n",
    "plt.legend(['PBE-SZV','PBE-DZVP','PBE-TZVP','B3LYP-SZV','B3LYP-DZVP','B3LYP-TZVP'])\n",
    "plt.xlabel('T [K]')\n",
    "plt.ylabel('ln(k)')"
   ]
  },
  {
   "attachments": {},
   "cell_type": "markdown",
   "metadata": {},
   "source": [
    "___Similar to the previous case, the result closer to the paper is the B3LYP-TZVP(DZVP) one. Also in this case the SZV result is not converged___"
   ]
  },
  {
   "cell_type": "code",
   "execution_count": null,
   "metadata": {},
   "outputs": [],
   "source": [
    "# Points: 20/20"
   ]
  },
  {
   "attachments": {},
   "cell_type": "markdown",
   "metadata": {},
   "source": [
    "#### End Assignment 6"
   ]
  },
  {
   "cell_type": "code",
   "execution_count": null,
   "metadata": {},
   "outputs": [],
   "source": [
    "\"\"\"\n",
    "Subtotal: 65/65\n",
    "Bonus: 10 for the optional exercise 0\n",
    "Total: 75/65\n",
    "\"\"\""
   ]
  }
 ],
 "metadata": {
  "kernelspec": {
   "display_name": "Python 3 (ipykernel)",
   "language": "python",
   "name": "python3"
  },
  "language_info": {
   "codemirror_mode": {
    "name": "ipython",
    "version": 3
   },
   "file_extension": ".py",
   "mimetype": "text/x-python",
   "name": "python",
   "nbconvert_exporter": "python",
   "pygments_lexer": "ipython3",
   "version": "3.11.2"
  }
 },
 "nbformat": 4,
 "nbformat_minor": 4
}
