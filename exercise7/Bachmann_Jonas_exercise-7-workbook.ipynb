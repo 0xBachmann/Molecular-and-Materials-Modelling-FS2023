{
 "cells": [
  {
   "cell_type": "markdown",
   "metadata": {},
   "source": [
    "# Exercise 7: the dehydration of ethanol\n",
    "Date: Wednesday 5 April 2023\n",
    "\n",
    "**Submission deadline**: Sunday 16 April 2023\n",
    "\n",
    "In this exercise we will investigate a very important chemical reaction, namely the production of ethene (ethylene) from ethanol. Ethanol is heated with an excess of concentrated sulphuric acid at a temperature of 170°C. The gases produced are passed through sodium hydroxide solution to remove the carbon dioxide and sulphur dioxide produced from side reactions. Another way to favor this reaction is in presence of a catalyst surface, which makes the reaction exothermic even at room temperature, and the free energy barrier for the reaction is highly reduced, so to obtain reasonable reaction rates. The use of hematite (an iron-based nanocrystal) as a catalyst is described computationally in [this paper (clickable link)](https://pubs.rsc.org/en/content/articlelanding/2016/RA/C6RA08509A#!divAbstract) by Lopes *et. al.*. We are interested in the gas phase reaction, in particular in the reactants and the products energy, to estimate the “energy of reaction”.\n",
    "\n",
    "The reaction is the following:\n",
    "\n",
    "\\begin{equation}\n",
    "    \\text{CH}_3\\text{CH}_2\\text{OH} \\longrightarrow \\text{C}_2\\text{H}_4 + \\text{H}_2\\text{O}\n",
    "\\end{equation}\n",
    "\n",
    "and, in the gas phase, the equation looks like\n",
    "\n",
    "![The dehydration of **(a)** ethanol after overcoming a **(b) transition state (TS)** into its **(c)** products: ethene and water.](ethanol.png \"Figure 1\")\n",
    "\n",
    "In the supplementary material of the paper, which can be found [here](http://www.rsc.org/suppdata/c6/ra/c6ra08509a/c6ra08509a1.pdf), several calculations with different methods ranging from DFT to hybrid methods to even higher-level methods are described, together with the basis set dependence of the results. We will compare our results with those published by performing calculations within the DFT framework for two different functionals: the PBE parametrization of the generalized gradient approximation (GGA), introduced in Exercise 7, and the hybrid functional B3LYP (named after those who developed it: Becke, 3-parameter, Lee–Yang–Parr); within each functional we will optimize the geometry at two-three basis sets per functional, thereby obtaining a final (hopefully converged!) value for the total inner energy $U$. From here we will use thermodynamics to relate $U$ to the Gibbs free energy $G$; see the Figure below:\n",
    "\n",
    "<img src=\"rxn-coord.png\" alt=\"isolated\" width=\"700\"/>\n",
    "\n",
    "# 0. Calculations with PBE\n",
    "\n",
    "We begin by logging into our accounts on JupyterHub on Euler in a similar manner as described in the previous exercises, and `pull` the newest exercise files from the GitHub repository, making sure that you are in the directory for the course:\n",
    "```bash\n",
    "    $ cd ~/Molecular-and-Materials-Modelling-FS2023\n",
    "    $ git init\n",
    "  # $ git stash\n",
    "    $ git pull https://github.com/ramador09/Molecular-and-Materials-Modelling-FS2023.git\n",
    "```  \n",
    "\n",
    "As mentioned earlier, we will be running calculations using two different functionals PBE and B3LYP, and each functional shall be run using different basis sets. We want to organize our calculations in a meaningful way. Within the `exercise-7-files` directory, make a directory for PBE:\n",
    "\n",
    "```bash\n",
    "$ mkdir PBE\n",
    "```\n",
    "\n",
    "In the current `exercise-7-files` directory you will find the following eight files:\n",
    "\n",
    "* `H2O\\_template.inp}` for the optimization of water and the corresponding `H2O.xyz` file providing the geometry;\n",
    "* `ethanol\\_template.inp` for the optimization of ethanol and the corresponding `ethanol.xyz` file providing the geometry;\n",
    "* `ethylene\\_template.inp` for the geometry optimization of ethylene and the corresponding `ethylene.xyz` file providing the geometry;\n",
    "* `ts\\_template.inp` for the transition state and the corresponding `ts.xyz` file providing the geometry`\n",
    "\n",
    "Move into the `PBE` directory and make a new subdirectory `SZV`, the name of the first (and simplest) basis sets we will examine today, and move into the `SZV` directory:\n",
    "\n",
    "```bash\n",
    "$ cd PBE\n",
    "$ mkdir SZV\n",
    "$ cd SZV\n",
    "```\n",
    "\n",
    "Copy the `H2O_template.inp` file from the parent directory into the current one and rename it:\n",
    "\n",
    "```bash\n",
    "$ cp ../../H2O_template.inp .\n",
    "$ mv H2O_template.inp H2O.inp\n",
    "```\n",
    "\n",
    "Submit the calculation on H2O in the current directory, either using a submit script from a previous week\n",
    "\n",
    "```\n",
    "#!/bin/bash\n",
    "\n",
    "#SBATCH -N 2\n",
    "#SBATCH -n 16\n",
    "#SBATCH --time=4:00:00\n",
    "#SBATCH --job-name=\"nice name\"\n",
    "#SBATCH --mem-per-cpu=1024\n",
    "#SBATCH --output=stdout.txt\n",
    "#SBATCH --error=stderr.txt\n",
    "\n",
    "# module load openmpi/4.0.2\n",
    "# module load gcc/6.3.0 openmpi/4.0.2 cp2k/8.2\n",
    "/cluster/scratch/danielep/cp2k.ssmp -i input.inp > output.out\n",
    "```\n",
    "\n",
    "or by simply using the command line\n",
    "\n",
    "```bash\n",
    "/cluster/scratch/danielep/cp2k.ssmp -i input.inp > output.out\n",
    "```\n",
    "\n",
    "For the `H2O`, `ethanol`, and `ethene` projects, notice how the `RUN_TYPE` keyword in the `&GLOBAL` section of the input file is associated with `GEO_OPT`. This means (unsurprisingly) that we will be optimizing the geometry, as we've done in previous exercises. While the calculation is running, open a new Terminal in your launcher and visualize the the `H2O.inp` file with vim.\n",
    "\n",
    "The structure and layout of the input files for `ethanol` and `ethene` are similar. Now, however, we open the input file for the **transition state** `ts.inp` and notice the change in the `&GLOBAL` section:\n",
    "\n",
    "```\n",
    "&GLOBAL\n",
    "  PROJECT ts\n",
    "  RUN_TYPE ENERGY\n",
    "  PRINT_LEVEL LOW\n",
    "&END GLOBAL\n",
    "```\n",
    "\n",
    "The `ENERGY` value associated to the `RUN_TYPE` keyword indicates that we are merely calculating the energy of the configuration and **explicitly not** optimizing the geometry --- indeed this is the case, since the geometry of the transition state is simply being provided (transition state theory is a whole Pandora's box...).\n",
    "\n",
    "Execute the following cells and proceed to the first assignment."
   ]
  },
  {
   "cell_type": "code",
   "execution_count": 1,
   "metadata": {},
   "outputs": [
    {
     "data": {
      "application/vnd.jupyter.widget-view+json": {
       "model_id": "1e0acf1367f24cdcbd44e4d2d52875f2",
       "version_major": 2,
       "version_minor": 0
      },
      "text/plain": []
     },
     "metadata": {},
     "output_type": "display_data"
    }
   ],
   "source": [
    "import numpy as np\n",
    "from ase.io import read\n",
    "from ase.io.trajectory import Trajectory\n",
    "from ase.visualize import view\n",
    "from ase.build import fcc111,add_adsorbate,molecule\n",
    "import matplotlib.pyplot as plt\n",
    "import nglview as nv"
   ]
  },
  {
   "cell_type": "code",
   "execution_count": 2,
   "metadata": {},
   "outputs": [],
   "source": [
    "def view_structure(system):\n",
    "    t = nv.ASEStructure(system) \n",
    "    w = nv.NGLWidget(t, gui=True)\n",
    "    w.add_spacefill()\n",
    "    return w"
   ]
  },
  {
   "cell_type": "code",
   "execution_count": 3,
   "metadata": {},
   "outputs": [],
   "source": [
    "def view_trajectory(trajectory):\n",
    "    t2 = nv.ASETrajectory(trajectory)\n",
    "    w2 = nv.NGLWidget(t2, gui=True)\n",
    "    w2.add_spacefill()\n",
    "    return w2;"
   ]
  },
  {
   "cell_type": "markdown",
   "metadata": {},
   "source": [
    "## 1. Calculations with PBE"
   ]
  },
  {
   "cell_type": "markdown",
   "metadata": {},
   "source": [
    "#### Assignment 1:The remaining simulations for the SVZ basis set\n",
    "Repeat and submit the remaining calculations for `ethanol.inp`, `ethene.inp`, and `ts.inp` for the PBE."
   ]
  },
  {
   "cell_type": "code",
   "execution_count": 1,
   "metadata": {},
   "outputs": [],
   "source": [
    "## -- Your code here\n",
    "!cp H2O_template.inp B3LYP/SZV/H2O.inp\n",
    "!cp ethanol_template.inp B3LYP/SZV/ethanol.inp\n",
    "!cp ethene_template.inp B3LYP/SZV/ethene.inp\n",
    "!cp ts_template.inp B3LYP/SZV/ts.inp\n",
    "\n",
    "!cp H2O.xyz B3LYP/SZV\n",
    "!cp ethanol.xyz B3LYP/SZV\n",
    "!cp ethene.xyz B3LYP/SZV\n",
    "!cp ts.xyz B3LYP/SZV"
   ]
  },
  {
   "cell_type": "code",
   "execution_count": null,
   "metadata": {},
   "outputs": [],
   "source": [
    "!cd PBE/SZV\n",
    "!/cluster/scratch/danielep/cp2k.ssmp -i ethanol.inp > ethanol.out\n",
    "!/cluster/scratch/danielep/cp2k.ssmp -i ethene.inp > ethene.out\n",
    "!/cluster/scratch/danielep/cp2k.ssmp -i ts.inp > ts.out"
   ]
  },
  {
   "cell_type": "markdown",
   "metadata": {},
   "source": [
    "#### End Assignment 1"
   ]
  },
  {
   "cell_type": "markdown",
   "metadata": {},
   "source": [
    "#### Assignment 2: Visualization of the structures trajectories, and orbitals\n",
    "Visualize the structures and trajectories of the reactant ethanol as well as of the products ethene and water. Remember that the trajectory will have been generated as an output file in the following nominal format: `project_name-pos-1.xyz`.\n",
    "\n",
    "The three geometry optimizations produce one `.cube` file every step, and they are named according to `project_name-WFN_orbital_number_1-1-_step_number.cube`; use code from exercise 6 to visualize the HOMO and LUMO orbitals of the optimized geometries of all three molecules."
   ]
  },
  {
   "cell_type": "code",
   "execution_count": 4,
   "metadata": {},
   "outputs": [],
   "source": [
    "molecules = [\"H2O\", \"ethanol\", \"ethene\", \"ts\"]"
   ]
  },
  {
   "cell_type": "code",
   "execution_count": 5,
   "metadata": {},
   "outputs": [],
   "source": [
    "structures = [f\"PBE/SZV/{n}-pos-1.xyz\" for n in molecules[:-1]]\n",
    "\n",
    "H2O = read(structures[0])\n",
    "ethanol = read(structures[1])\n",
    "ethene = read(structures[2])\n",
    "\n",
    "H2O_traj = read(structures[0], index=\":\")\n",
    "ethanol_traj = read(structures[1], index=\":\")\n",
    "ethene_traj = read(structures[2], index=\":\")"
   ]
  },
  {
   "cell_type": "code",
   "execution_count": 6,
   "metadata": {},
   "outputs": [
    {
     "data": {
      "application/vnd.jupyter.widget-view+json": {
       "model_id": "7fcec40c99fe43468a119a86baedac7c",
       "version_major": 2,
       "version_minor": 0
      },
      "text/plain": [
       "NGLWidget()"
      ]
     },
     "metadata": {},
     "output_type": "display_data"
    },
    {
     "data": {
      "application/vnd.jupyter.widget-view+json": {
       "model_id": "ef7591fb744d4d93b37342becd896f4c",
       "version_major": 2,
       "version_minor": 0
      },
      "text/plain": [
       "Tab(children=(Box(children=(Box(children=(Box(children=(Label(value='step'), IntSlider(value=1, min=-100)), la…"
      ]
     },
     "metadata": {},
     "output_type": "display_data"
    }
   ],
   "source": [
    "view_structure(H2O)"
   ]
  },
  {
   "cell_type": "code",
   "execution_count": 7,
   "metadata": {},
   "outputs": [
    {
     "data": {
      "application/vnd.jupyter.widget-view+json": {
       "model_id": "efa1f1cdfb63400995f0fa1d78a4735e",
       "version_major": 2,
       "version_minor": 0
      },
      "text/plain": [
       "NGLWidget()"
      ]
     },
     "metadata": {},
     "output_type": "display_data"
    },
    {
     "data": {
      "application/vnd.jupyter.widget-view+json": {
       "model_id": "915dacfba9cc46bdace639ad4688a530",
       "version_major": 2,
       "version_minor": 0
      },
      "text/plain": [
       "Tab(children=(Box(children=(Box(children=(Box(children=(Label(value='step'), IntSlider(value=1, min=-100)), la…"
      ]
     },
     "metadata": {},
     "output_type": "display_data"
    }
   ],
   "source": [
    "view_structure(ethanol)"
   ]
  },
  {
   "cell_type": "code",
   "execution_count": 8,
   "metadata": {},
   "outputs": [
    {
     "data": {
      "application/vnd.jupyter.widget-view+json": {
       "model_id": "b5a45029d50249428d4ddb5fed502277",
       "version_major": 2,
       "version_minor": 0
      },
      "text/plain": [
       "NGLWidget()"
      ]
     },
     "metadata": {},
     "output_type": "display_data"
    },
    {
     "data": {
      "application/vnd.jupyter.widget-view+json": {
       "model_id": "6ab2a27213f347119361eaac77b7026d",
       "version_major": 2,
       "version_minor": 0
      },
      "text/plain": [
       "Tab(children=(Box(children=(Box(children=(Box(children=(Label(value='step'), IntSlider(value=1, min=-100)), la…"
      ]
     },
     "metadata": {},
     "output_type": "display_data"
    }
   ],
   "source": [
    "view_structure(ethene)"
   ]
  },
  {
   "cell_type": "code",
   "execution_count": 9,
   "metadata": {},
   "outputs": [
    {
     "data": {
      "application/vnd.jupyter.widget-view+json": {
       "model_id": "cb69beec693943579ea35a4a46f0799c",
       "version_major": 2,
       "version_minor": 0
      },
      "text/plain": [
       "NGLWidget(max_frame=10)"
      ]
     },
     "metadata": {},
     "output_type": "display_data"
    },
    {
     "data": {
      "application/vnd.jupyter.widget-view+json": {
       "model_id": "fbf04c0cdd7246a29b6ae8a94ba8e413",
       "version_major": 2,
       "version_minor": 0
      },
      "text/plain": [
       "Tab(children=(Box(children=(Box(children=(Box(children=(Label(value='step'), IntSlider(value=1, min=-100)), la…"
      ]
     },
     "metadata": {},
     "output_type": "display_data"
    }
   ],
   "source": [
    "view_trajectory(H2O_traj)"
   ]
  },
  {
   "cell_type": "code",
   "execution_count": 10,
   "metadata": {},
   "outputs": [
    {
     "data": {
      "application/vnd.jupyter.widget-view+json": {
       "model_id": "251b6eb28cfa4c1599b94af2a918a8d8",
       "version_major": 2,
       "version_minor": 0
      },
      "text/plain": [
       "NGLWidget(max_frame=5)"
      ]
     },
     "metadata": {},
     "output_type": "display_data"
    },
    {
     "data": {
      "application/vnd.jupyter.widget-view+json": {
       "model_id": "d0023a329d7b4ac791b4440fafcf1eb5",
       "version_major": 2,
       "version_minor": 0
      },
      "text/plain": [
       "Tab(children=(Box(children=(Box(children=(Box(children=(Label(value='step'), IntSlider(value=1, min=-100)), la…"
      ]
     },
     "metadata": {},
     "output_type": "display_data"
    }
   ],
   "source": [
    "view_trajectory(ethanol_traj)"
   ]
  },
  {
   "cell_type": "code",
   "execution_count": 11,
   "metadata": {},
   "outputs": [
    {
     "data": {
      "application/vnd.jupyter.widget-view+json": {
       "model_id": "04c0bb999ff645d496dfc744831adaa3",
       "version_major": 2,
       "version_minor": 0
      },
      "text/plain": [
       "NGLWidget(max_frame=4)"
      ]
     },
     "metadata": {},
     "output_type": "display_data"
    },
    {
     "data": {
      "application/vnd.jupyter.widget-view+json": {
       "model_id": "8ee66ee32c2342b28b8f7b09f423d6e7",
       "version_major": 2,
       "version_minor": 0
      },
      "text/plain": [
       "Tab(children=(Box(children=(Box(children=(Box(children=(Label(value='step'), IntSlider(value=1, min=-100)), la…"
      ]
     },
     "metadata": {},
     "output_type": "display_data"
    }
   ],
   "source": [
    "view_trajectory(ethene_traj)"
   ]
  },
  {
   "cell_type": "code",
   "execution_count": 12,
   "metadata": {},
   "outputs": [],
   "source": [
    "import pandas as pd"
   ]
  },
  {
   "cell_type": "code",
   "execution_count": 22,
   "metadata": {},
   "outputs": [],
   "source": [
    "## -- Your code here\n",
    "def plot_wave_func(df, kind, orbital):\n",
    "    df = df.sort_values(\"orbital\")\n",
    "    occupied = df.loc[df[\"orbital\"].str.contains(\"HOMO\")]\n",
    "    unoccupied = df.loc[df[\"orbital\"].str.contains(\"LUMO\")]\n",
    "\n",
    "    if kind == \"HOMO\":\n",
    "        #rows = occupied.loc[occupied[\"orbital\"].str.contains(f\"{orbital}\")]\n",
    "        #row = occupied.iloc[orbital, :]\n",
    "        rows = occupied.loc[occupied[\"file\"].str.contains(f\"_{orbital}.cube\")]\n",
    "        isolevel = 1e-3\n",
    "    elif kind == \"LUMO\":\n",
    "        #uq = unoccupied[\"orbital\"].unique()\n",
    "        #rows = unoccupied.loc[unoccupied[\"orbital\"].str.contains(uq[orbital])]\n",
    "        #row = occupied.iloc[orbital, :]\n",
    "        rows = unoccupied.loc[unoccupied[\"file\"].str.contains(f\"_{orbital}.cube\")]\n",
    "        isolevel = 1e-3\n",
    "    else:\n",
    "        raise ValueError\n",
    "    \n",
    "    print(rows)\n",
    "    colors = [[\"darkblue\", \"green\"], [\"blue\", \"lightgreen\"]]\n",
    "    spins = [\"up\", \"down\"]\n",
    "    view3 = nv.NGLWidget()\n",
    "    \n",
    "    for index, row in rows.iterrows():\n",
    "        spin = row[\"spin\"] - 1\n",
    "        print(f\"spin {spins[spin]}:\", colors[spin])\n",
    "        file = f\"/tmp/{row['file']}\"\n",
    "        atom = read(file)\n",
    "        view3.add_component(nv.ASEStructure(atom))\n",
    "        c_4 = view3.add_component(file)\n",
    "        c_4.clear()\n",
    "        c_4.add_surface(color=colors[spin][0], isolevelType=\"value\", isolevel=-isolevel, opacity=0.05)    \n",
    "        c_5 = view3.add_component(file)\n",
    "        c_5.clear()\n",
    "        c_5.add_surface(color=colors[spin][1], isolevelType=\"value\", isolevel=isolevel, opacity=0.05)    \n",
    "    return view3\n",
    "# The function had to be adapted because there are only HOMO-0 and LUMO-0 orbital so just plot file..._orbital.cube on plot_fave_func(df, kind, orbital)\n"
   ]
  },
  {
   "cell_type": "code",
   "execution_count": 14,
   "metadata": {},
   "outputs": [],
   "source": [
    "!cp PBE/SZV/*.cube /tmp"
   ]
  },
  {
   "cell_type": "code",
   "execution_count": 17,
   "metadata": {},
   "outputs": [],
   "source": [
    "names = [f\"PBE/SZV/{mol}.txt\" for mol in molecules]\n",
    "\n",
    "df_H2O = pd.read_csv(names[0], sep=\" \")\n",
    "df_ethanol = pd.read_csv(names[1], sep=\" \")\n",
    "df_ethene = pd.read_csv(names[2], sep=\" \")\n",
    "df_ts = pd.read_csv(names[3], sep=\" \")"
   ]
  },
  {
   "cell_type": "code",
   "execution_count": 18,
   "metadata": {},
   "outputs": [
    {
     "name": "stdout",
     "output_type": "stream",
     "text": [
      "                        file  wavefunction  spin orbital\n",
      "10  H2O-WFN_00004_1-1_9.cube             4     1   HOMO0\n",
      "spin up: ['darkblue', 'green']\n"
     ]
    },
    {
     "data": {
      "application/vnd.jupyter.widget-view+json": {
       "model_id": "68b6171421404ac88298de11fc97784a",
       "version_major": 2,
       "version_minor": 0
      },
      "text/plain": [
       "NGLWidget()"
      ]
     },
     "metadata": {},
     "output_type": "display_data"
    }
   ],
   "source": [
    "plot_wave_func(df_H2O, \"HOMO\", 9)"
   ]
  },
  {
   "cell_type": "code",
   "execution_count": 19,
   "metadata": {},
   "outputs": [
    {
     "name": "stdout",
     "output_type": "stream",
     "text": [
      "                          file  wavefunction  spin orbital\n",
      "3  ethene-WFN_00006_1-1_3.cube             6     1   HOMO0\n",
      "spin up: ['darkblue', 'green']\n"
     ]
    },
    {
     "data": {
      "application/vnd.jupyter.widget-view+json": {
       "model_id": "07a53e2e3e77409a980d37d2e13dc324",
       "version_major": 2,
       "version_minor": 0
      },
      "text/plain": [
       "NGLWidget()"
      ]
     },
     "metadata": {},
     "output_type": "display_data"
    }
   ],
   "source": [
    "plot_wave_func(df_ethene, \"HOMO\", 3)"
   ]
  },
  {
   "cell_type": "code",
   "execution_count": 20,
   "metadata": {},
   "outputs": [
    {
     "name": "stdout",
     "output_type": "stream",
     "text": [
      "                           file  wavefunction  spin orbital\n",
      "0  ethanol-WFN_00010_1-1_0.cube            10     1   HOMO0\n",
      "spin up: ['darkblue', 'green']\n"
     ]
    },
    {
     "data": {
      "application/vnd.jupyter.widget-view+json": {
       "model_id": "4c70779f22e74a0fae3d949a2f6c83de",
       "version_major": 2,
       "version_minor": 0
      },
      "text/plain": [
       "NGLWidget()"
      ]
     },
     "metadata": {},
     "output_type": "display_data"
    }
   ],
   "source": [
    "plot_wave_func(df_ethanol, \"HOMO\", 0)"
   ]
  },
  {
   "cell_type": "code",
   "execution_count": 21,
   "metadata": {},
   "outputs": [
    {
     "name": "stdout",
     "output_type": "stream",
     "text": [
      "                      file  wavefunction  spin orbital\n",
      "0  ts-WFN_00010_1-1_0.cube            10     1   HOMO0\n",
      "spin up: ['darkblue', 'green']\n"
     ]
    },
    {
     "data": {
      "application/vnd.jupyter.widget-view+json": {
       "model_id": "cc5c15cfea71461eb1322a9360d78229",
       "version_major": 2,
       "version_minor": 0
      },
      "text/plain": [
       "NGLWidget()"
      ]
     },
     "metadata": {},
     "output_type": "display_data"
    }
   ],
   "source": [
    "plot_wave_func(df_ts, \"HOMO\", 0)"
   ]
  },
  {
   "cell_type": "markdown",
   "metadata": {},
   "source": [
    "#### End Assignment 2"
   ]
  },
  {
   "cell_type": "markdown",
   "metadata": {},
   "source": [
    "## 2. Calculations with B3LYP"
   ]
  },
  {
   "cell_type": "markdown",
   "metadata": {},
   "source": [
    "Once the above calculations have concluded, we want to perform the identical calculations, except using B3LYP as a functional. B3LYP is what is known as a **hybrid (exchange-correlation) functional** because the separate exchange $X$ and correlation $C$ effects are each defined as a mixture ('hybrid') between the exact exchange from Hartree-Fock and that from a GGA functional. The formula for the B3LYP xc-functional is\n",
    "\n",
    "\\begin{equation}\n",
    "    E_{XC}^{B3LYP} = E_{X}^{LDA} + a_0(E_{X}^{HF}-E_{X}^{LDA}) + a_X(E_{X}^{GGA}-E_{X}^{LDA}) + E_{C}^{LDA} + a_C(E_{C}^{GGA} - E_{C}^{LDA}),\n",
    "\\end{equation}\n",
    "\n",
    "where $E_{C}^{GGA}$ is a correlation energy obtained within the GGA framework, and $E_{X}^{GGA}$ is the exchange energy also within GGA. The three parameters (hence the 3 in B3LYP) are set to $a_0=0.2, a_X=0.72$, and $a_C=0.81$.\n",
    "\n",
    "We obviously need to modify the input file accordingly. Move back into the parent `exercise-7-files` directory and make a new folder there named `B3LYP`. Within the new `B3LYP` folder, make a new subfolder `SZV`, in which we will perform B3LYP calculations using the SZV basis set:\n",
    "\n",
    "```bash\n",
    "$ cd ../..\n",
    "$ mkdir B3LYP\n",
    "$ cd B3LYP\n",
    "$ mkdir SZV\n",
    "$ cd SZV\n",
    "```\n",
    "\n",
    "Just as for the PBE case, copy the `H2O_template.inp` file from the parent `exercise-7-files` directory into the current one and rename it:\n",
    "\n",
    "```bash\n",
    "$ cp ../../H2O_template.inp .\n",
    "$ mv H2O_template.inp H2O.inp\n",
    "```\n",
    "\n",
    "Open the `H2O.inp` file using vim and replace the entire `&XC` section with:\n",
    "\n",
    "```\n",
    " &XC\n",
    "   &XC_FUNCTIONAL\n",
    "     &LYP\n",
    "       SCALE_C 0.81 ! mixing parameters explained above\n",
    "     &END\n",
    "     &BECKE88\n",
    "       SCALE_X 0.72\n",
    "     &END\n",
    "     &XALPHA\n",
    "       SCALE_X 0.08\n",
    "     &END\n",
    "   &END XC_FUNCTIONAL\n",
    "   &HF\n",
    "     &SCREENING\n",
    "       EPS_SCHWARZ 1.0E-10\n",
    "     &END\n",
    "     &MEMORY\n",
    "       MAX_MEMORY 5\n",
    "     &END\n",
    "     FRACTION 0.20\n",
    "   &END\n",
    " &END XC\n",
    "```"
   ]
  },
  {
   "cell_type": "markdown",
   "metadata": {},
   "source": [
    "#### Assignment 3: The simulations for the SZV basis set: B3LYP\n",
    "\n",
    "Save and close the `H2O.inp` file, and finally submit the calculation.\n",
    "\n",
    "Then repeat the above procedures and and submit the calculations for `ethanol.inp`, `ethene.inp`, and `ts.inp` for the B3LYP hybrid functional. My simulation for the SZV basis set took about 20mins."
   ]
  },
  {
   "cell_type": "code",
   "execution_count": 22,
   "metadata": {},
   "outputs": [],
   "source": [
    "## -- Your code here\n",
    "!cp H2O_template.inp B3LYP/SZV/H2O.inp\n",
    "!cp ethanol_template.inp B3LYP/SZV/ethanol.inp\n",
    "!cp ethene_template.inp B3LYP/SZV/ethene.inp\n",
    "!cp ts_template.inp B3LYP/SZV/ts.inp\n",
    "\n",
    "!cp H2O.xyz B3LYP/SZV\n",
    "!cp ethanol.xyz B3LYP/SZV\n",
    "!cp ethene.xyz B3LYP/SZV\n",
    "!cp ts.xyz B3LYP/SZV"
   ]
  },
  {
   "cell_type": "markdown",
   "metadata": {},
   "source": [
    "change the `&XC` section in the .inp files"
   ]
  },
  {
   "cell_type": "code",
   "execution_count": null,
   "metadata": {},
   "outputs": [],
   "source": [
    "!cd B3LYP/SZV\n",
    "!/cluster/scratch/danielep/cp2k.ssmp -i ethanol.inp > ethanol.out\n",
    "!/cluster/scratch/danielep/cp2k.ssmp -i ethene.inp > ethene.out\n",
    "!/cluster/scratch/danielep/cp2k.ssmp -i ts.inp > ts.out"
   ]
  },
  {
   "cell_type": "markdown",
   "metadata": {},
   "source": [
    "#### End Assignment 3"
   ]
  },
  {
   "cell_type": "markdown",
   "metadata": {},
   "source": [
    "# 3. An excourse on basis sets in CP2K and an analysis of our results\n",
    "\n",
    "A terse introduction to the framework of basis sets in CP2K can be found [here](https://www.cp2k.org/basis_sets). The basis sets that we have / we will examine in this exercise are, in increasing order of complexity:\n",
    "\n",
    "* SZV-MOLOPT-GTH\n",
    "* DZVP-MOLOPT-GTH\n",
    "* TZVP-MOLOPT-GTH\n",
    "* TZV2P-MOLOPT-GTH\n",
    "* TZV2PX-MOLOPT-GTH\n",
    "\n",
    "where SZ, DZ, and TZ stand for single-, double-, and triple-zeta, respectively, and refer to how many functions are used to describe each atomic orbital: in this sense, it gives an idea as to the flexibility of each basis set. For instance, in TZ, each primitive vector is treated as a full-fledged basis function, which is better in regards to accuracy, yet is (of course) more expensive computationally. `V` stands for valence: here, it means that only valence orbitals are split, whereas core orbitals are not. `P` stands for polarized, and means that extra functions are included in order to include the polarization of the electron density. The label `MOLOPT` indicates that these sets are optimized to perform accurate molecular calculations. In this library the larger basis sets are selected as extensions of smaller ones.\n",
    "\n",
    "Following the spirit of [Lopes *et. al.* (clickable link)](https://pubs.rsc.org/en/content/articlelanding/2016/RA/C6RA08509A#!divAbstract), we want to perform the above calculations using both functionals PBE and B3LYP using a total of two or three of the above basis sets, and finally compare the results with those of the paper."
   ]
  },
  {
   "cell_type": "markdown",
   "metadata": {},
   "source": [
    "#### Assignment 4: Simulations for both PBE and B3LYP functionals using other basis sets\n",
    "Repeat the simulations for the geomtry optimization `GEO_OPT` of `ethanol`, `ethene`, and `H2O`, as well as the `ENERGY` run for the transition state `ts`, using the `DZVP-MOLOPT-GTH` and `TZVP-MOLOPT-GTH` basis sets. The **only** thing you'll need to change in the respective input files is the value of the `BASIS_SET` keyword under the `&KIND` subsection:\n",
    "\n",
    "```\n",
    "&KIND H\n",
    "   BASIS_SET DZVP-MOLOPT-GTH\n",
    "   POTENTIAL GTH-PBE-q1\n",
    " &END KIND\n",
    "```\n",
    " \n",
    "Change this for all atom species in the input file. Notice that we leave the value of the `POTENTIAL` keyword the same! This is because our treatment using pseudopotentials does not chnage from functional to functional or basis set to basis set. As an \"upper bound\": my simulation for `ethanol` using the `TZVP-MOLOPT-GTH` basis set with the B3LYP hybrid functional took about 70mins."
   ]
  },
  {
   "cell_type": "code",
   "execution_count": 26,
   "metadata": {
    "tags": []
   },
   "outputs": [
    {
     "name": "stdout",
     "output_type": "stream",
     "text": [
      "mkdir: cannot create directory 'PBE/DZVP': File exists\n",
      "mkdir: cannot create directory 'PBE/TZVP': File exists\n",
      "mkdir: cannot create directory 'B3LYP/DZVP': File exists\n",
      "mkdir: cannot create directory 'B3LYP/TZVP': File exists\n"
     ]
    }
   ],
   "source": [
    "## -- Your code here\n",
    "!mkdir PBE/DZVP PBE/TZVP\n",
    "!mkdir B3LYP/DZVP B3LYP/TZVP\n",
    "\n",
    "!cp H2O_template.inp PBE/DZVP/H2O.inp\n",
    "!cp ethanol_template.inp PBE/DZVP/ethanol.inp\n",
    "!cp ethene_template.inp PBE/DZVP/ethene.inp\n",
    "!cp ts_template.inp PBE/DZVP/ts.inp\n",
    "\n",
    "!cp H2O_template.inp PBE/TZVP/H2O.inp\n",
    "!cp ethanol_template.inp PBE/TZVP/ethanol.inp\n",
    "!cp ethene_template.inp PBE/TZVP/ethene.inp\n",
    "!cp ts_template.inp PBE/TZVP/ts.inp\n",
    "\n",
    "!cp H2O_template.inp B3LYP/DZVP/H2O.inp\n",
    "!cp ethanol_template.inp B3LYP/DZVP/ethanol.inp\n",
    "!cp ethene_template.inp B3LYP/DZVP/ethene.inp\n",
    "!cp ts_template.inp B3LYP/DZVP/ts.inp\n",
    "\n",
    "!cp H2O_template.inp B3LYP/TZVP/H2O.inp\n",
    "!cp ethanol_template.inp B3LYP/TZVP/ethanol.inp\n",
    "!cp ethene_template.inp B3LYP/TZVP/ethene.inp\n",
    "!cp ts_template.inp B3LYP/TZVP/ts.inp"
   ]
  },
  {
   "cell_type": "markdown",
   "metadata": {},
   "source": [
    "change `BASIS_SET` to the corresponding values and change `&XC` for the B3LYP runs\n",
    "\n",
    "then run `submit.sh` in `exercise7` to submit all simulations"
   ]
  },
  {
   "cell_type": "markdown",
   "metadata": {},
   "source": [
    "#### End Assignment 4"
   ]
  },
  {
   "cell_type": "markdown",
   "metadata": {},
   "source": [
    "#### Assignment 5: Reproduction of the energy profiles for functionals and basis sets\n",
    "Reproduce the energy profiles of Fig. 4 in [the paper](https://pubs.rsc.org/en/content/articlepdf/2016/ra/c6ra08509a) by plotting the absolute energies\n",
    "vs. the reaction species for each of your simulations. The converged energy is just the final value at the bottom of the respective output file. You’ll have six different\n",
    "curves (2 functionals PBE, B3LYP × 3 basis sets SZV, DZVP, TZVP), so you\n",
    "can, depending on how you scale the axes, just superimpose them onto one graph.\n",
    "**Important!: don’t forget that CP2K output files are in atomic units, so\n",
    "a unit conversion from e.g., Ha energies to eV might be sensible.**"
   ]
  },
  {
   "cell_type": "code",
   "execution_count": 23,
   "metadata": {},
   "outputs": [],
   "source": [
    "## -- Your code here\n",
    "import re\n",
    "\n",
    "methods = [\"PBE\", \"B3LYP\"]\n",
    "basis = [\"SZV\", \"DZVP\", \"TZVP\"]\n",
    "\n",
    "def get_energies(filename):\n",
    "    regex = \"-?\\d+\\.\\d+\"\n",
    "    energies = []\n",
    "    with open(filename, \"r\") as f:\n",
    "        lines = f.readlines()\n",
    "\n",
    "        for line in lines:\n",
    "            if \"ENERGY|\" in line:\n",
    "                energies.append(float(re.findall(regex, line)[0]))\n",
    "    return energies"
   ]
  },
  {
   "cell_type": "code",
   "execution_count": 24,
   "metadata": {},
   "outputs": [],
   "source": [
    "molecules = [\"ethanol\", \"ts\", \"ethene\", \"H2O\"]\n",
    "energies = [get_energies(f\"{met}/{bas}/{mol}.out\") for mol in molecules \n",
    "                                                                for met in methods \n",
    "                                                                for bas in basis]"
   ]
  },
  {
   "cell_type": "code",
   "execution_count": 25,
   "metadata": {},
   "outputs": [],
   "source": [
    "Ha_to_J = 4.3597482e-21 * 1e3\n",
    "Ha_to_kcalmol = 627.503\n",
    "Ha_to_eV = 27.2107"
   ]
  },
  {
   "cell_type": "code",
   "execution_count": 26,
   "metadata": {},
   "outputs": [
    {
     "data": {
      "image/png": "[encoded data removed]",
      "text/plain": [
       "<Figure size 640x480 with 1 Axes>"
      ]
     },
     "metadata": {},
     "output_type": "display_data"
    }
   ],
   "source": [
    "# add ethene and h2o together\n",
    "energies_final = np.array([es[-1] for es in energies]).reshape((len(molecules), len(methods), len(basis)))\n",
    "energies_final[2, ...] += energies_final[3, ...]\n",
    "\n",
    "# convert to eV\n",
    "energies_final *= Ha_to_kcalmol\n",
    "\n",
    "x = np.arange(1, 4)\n",
    "energies\n",
    "for i, met in enumerate(methods):\n",
    "    for j, bas in enumerate(basis):\n",
    "        plt.plot(x, energies_final[:3, i, j] - energies_final[0, i, j], label=f\"{met}-{bas}\")\n",
    "plt.xticks(x, [\"Ethanol\", \"TS structure\", \"Ethene + H2O\"])\n",
    "plt.ylabel(\"ΔEnergy [kcal / mol]\")\n",
    "plt.legend()\n",
    "plt.show()"
   ]
  },
  {
   "cell_type": "markdown",
   "metadata": {},
   "source": [
    "We can see, that using only a single coefficient, is not really accurate. For both methods, (PBE and B3LYP) the basis set with three coefficients converges to the same value as with 2 coefficients, so probably it won't change much with more either. But worth noting is that the two methods converge to different values.\n",
    "\n",
    "The result looks very much like Fig. 4 in the above paper but the Energy difference between ethanol and the TS structure is lower, 60 kcal$\\cdot$mol$^{-1}$ instead of 70 for the gas phase. Note that the figure plots the energy **difference** with respect to ethanol. So we can see, that the reaction from ethanol to ethene + H$_2$O is endothermic."
   ]
  },
  {
   "cell_type": "markdown",
   "metadata": {},
   "source": [
    "#### End Assignment 5"
   ]
  },
  {
   "cell_type": "markdown",
   "metadata": {},
   "source": [
    "#### Assignment 6: Reproduction of the rate constant for the reaction $k(T)$\n",
    "Thermodynamics defines the temperature-dependent **rate constant** $k(T)$ as\n",
    "\n",
    "$$k(T)=\\frac{k_BT}{2\\pi\\hbar C}\\exp(-\\Delta G / RT),$$\n",
    "\n",
    "where $k_B$ is the Boltzmann constant, $T$ the absolute temperature, $\\hbar$ the reduced Planck constant, $C$ the standard concentration of 1 mol $L^{-1}$, $G$ the **Gibbs free energy**, and $R$ the universal gas constant. The **Gibbs free energy** is in turn defined in terms of the **enthalpy** $H=U+pV$ as\n",
    "\n",
    "$$ G=H-TS, $$\n",
    "\n",
    "where $U$ is the **internal energy** (which we obtain from our converged calculations), $p$ the pressure, $V$ the volume, and $S$ the entropy. By considering only *differences* in the various energies, we posit\n",
    "$$\\Delta G = \\Delta H = \\Delta U. $$\n",
    "\n",
    "The equation for $k(T)$ then becomes\n",
    "$$ k(T)=\\frac{k_BT}{2\\pi\\hbar C}\\exp(-\\Delta U / RT), $$\n",
    "\n",
    "where $\\Delta U := U_{\\text{final}} - U_{\\text{init}}$ is obtained from our calculations. Consistent with the literature (and with the notation in Fig. 2), anything having to do with the **transition state** takes a superscript double-dagger: thus, $U^\\ddagger$, $G^\\ddagger$, etc. Reproduce the gasphase plot (black squares) of Fig. 6 [the paper](https://pubs.rsc.org/en/content/articlepdf/2016/ra/c6ra08509a) by plotting $\\log[k^\\ddagger(T)]$ vs. $T$, with\n",
    "\n",
    "$$k^\\ddagger(T)=\\frac{k_BT}{2\\pi\\hbar C}\\exp(-\\Delta U^\\ddagger / RT),$$\n",
    "\n",
    "and using the identification that $\\Delta U^\\ddagger=U_{\\text{TS}} - U_{\\text{ethanol}}$ for about 20 evenly-spaced values of $T$ between 300K and 1300K. Just like in Exercise 5, you'll have six different curves (2 functionals PBE, B3LYP x 3 basis sets SZV, DZVP, TZVP), so you can, depending on how you scale the axes, just superimpose them onto one graph."
   ]
  },
  {
   "cell_type": "code",
   "execution_count": 27,
   "metadata": {},
   "outputs": [],
   "source": [
    "from scipy.constants import physical_constants"
   ]
  },
  {
   "cell_type": "code",
   "execution_count": 28,
   "metadata": {},
   "outputs": [],
   "source": [
    "kb = physical_constants[\"Boltzmann constant\"][0] # same as R\n",
    "h = physical_constants[\"Planck constant\"][0] # = 2 * pi * hbar"
   ]
  },
  {
   "cell_type": "code",
   "execution_count": 29,
   "metadata": {},
   "outputs": [
    {
     "data": {
      "image/png": "[encoded data removed]",
      "text/plain": [
       "<Figure size 640x480 with 1 Axes>"
      ]
     },
     "metadata": {},
     "output_type": "display_data"
    }
   ],
   "source": [
    "# get differences\n",
    "energies_final = np.array([es[-1] for es in energies]).reshape((len(molecules), len(methods), len(basis)))\n",
    "dU = energies_final[1, ...] - energies_final[0, ...]\n",
    "\n",
    "# convert to J\n",
    "dU *= Ha_to_J\n",
    "\n",
    "temp = np.linspace(300, 1300, 20)\n",
    "kT = kb / h * np.exp(-dU[..., np.newaxis] / (kb * temp))\n",
    "\n",
    "energies\n",
    "for i, met in enumerate(methods):\n",
    "    for j, bas in enumerate(basis):\n",
    "        plt.plot(temp, np.log(kT[i, j, ...]), label=f\"{met}-{bas}\")\n",
    "plt.xlabel(\"Temperature / K\")\n",
    "plt.ylabel(\"ln(k / (J * L / mol)) \")\n",
    "plt.legend()\n",
    "plt.title(\"Rate constant in Gas Phase\")\n",
    "plt.show()"
   ]
  },
  {
   "cell_type": "markdown",
   "metadata": {},
   "source": [
    "Again, the single coefficient bases are not near the other version and within PBE and B3LYP the two and three coefficient bases have almost the same values."
   ]
  },
  {
   "cell_type": "markdown",
   "metadata": {},
   "source": [
    "#### End Assignment 6"
   ]
  }
 ],
 "metadata": {
  "kernelspec": {
   "display_name": "mmm-venv",
   "language": "python",
   "name": "mmm-venv"
  },
  "language_info": {
   "codemirror_mode": {
    "name": "ipython",
    "version": 3
   },
   "file_extension": ".py",
   "mimetype": "text/x-python",
   "name": "python",
   "nbconvert_exporter": "python",
   "pygments_lexer": "ipython3",
   "version": "3.10.4"
  }
 },
 "nbformat": 4,
 "nbformat_minor": 4
}
