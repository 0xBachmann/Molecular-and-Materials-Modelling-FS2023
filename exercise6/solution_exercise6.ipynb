{
 "cells": [
  {
   "cell_type": "markdown",
   "id": "999f1565-9c2e-446f-ac47-23842440bc3c",
   "metadata": {},
   "source": [
    "# Exercise 5: the formation of molecular oxygen using molecular orbital theory\n",
    "\n",
    "This exercise examines the formation of **triplet oxygen**, the most stable and most common allotropic form of O$_2$. Triplet oxygen has two electrons in its two **degenerate** (i.e., having the same energy, or, more formally, two distinct microstates corresponding to the same macrostate) $\\pi^*$ orbitals. There are four independent spin states arising from these two spin-1/2 electrons, and so there are a total of $\\binom{4}{2}=6$ possible ways (microstates) to arrange the two electrons into the two degenerate $\\pi^*$ orbitals. Here, we will only consider the triply-degenerate ground state: according to **Hund's rules**, the configuration with two unpaired electrons in two $\\pi^*$ orbitals is energetically favoured.\n",
    "\n",
    "In the following, you will generate a [molecular orbital schema](https://en.wikipedia.org/wiki/Triplet_oxygen#/media/File:Valence_orbitals_of_oxygen_atom_and_dioxygen_molecule_(diagram).svg) for triplet oxygen, that is, the configuration for which the total spin equals 1."
   ]
  },
  {
   "cell_type": "markdown",
   "id": "dfdbbd4e-83d1-4d01-8b95-f781352dfb15",
   "metadata": {},
   "source": [
    "## 1. Introduction\n",
    "\n",
    "Log into your account on `JupyterHub` in a similar manner as described in previous exercises, and `pull` the newest exercise files from the GitHub repository:\n",
    "```bash\n",
    "    $ git init\n",
    "  # $ git stash\n",
    "    $ git pull https://github.com/ramador09/Molecular-and-Materials-Modelling-FS2023.git\n",
    "    $ cd exercise-6_files\n",
    "```\n",
    "## 2. The triplet molecule\n",
    "### 2.1 The input file: a closer look\n",
    "\n",
    "Move into the directory for the triplet molecule and open the input file. There is some new syntax in the input file, including use of the `@`, `$`, and `{}`characters. We will go through them briefly here as well as live in the exercise:\n",
    "\n",
    "* `@`: in the combination `@SET`, this command at the beginning of an input file allows us to define variables which we will reference later in the input file\n",
    "* `$`: syntax inherited from Unix: used to indicate that a variable will be referred to; requires curly braces `{}` afterwards\n",
    "* `{}`: encloses the name of a variable to be referred to\n",
    "\n",
    "This syntax is best illustrated by perusing the input file. Furthermore, the lines \n",
    "\n",
    "```\n",
    "&E_DENSITY_CUBE\n",
    "&END E_DENSITY_CUBE\n",
    "NLUMO 1\n",
    "NHOMO 1\n",
    "```\n",
    "in the `&PRINT` subsection in `&DFT` will generate the files that we will use for this exercise.\n",
    "\n",
    "The submit script (almost identical to that of exercise 3) is:\n",
    "\n",
    "```\n",
    "#!/bin/bash\n",
    "\n",
    "#SBATCH -N 1\n",
    "#SBATCH -n 1\n",
    "#SBATCH --time=4:00:00\n",
    "#SBATCH --job-name=\"nice name\"\n",
    "#SBATCH --mem-per-cpu=1024\n",
    "#SBATCH --output=stdout.txt\n",
    "#SBATCH --error=stderr.txt\n",
    "\n",
    "# module load openmpi/4.0.2\n",
    "# module load gcc/6.3.0 openmpi/4.0.2 cp2k/8.2\n",
    "INP=triplet.inp\n",
    "OUT=triplet.out\n",
    "/cluster/scratch/danielep/cp2k.ssmp -i triplet.inp > triplet.out\n",
    "```\n",
    "\n",
    "Make sure the input file and submit script are in the same directory and submit the geometry optimization; it shouldn't take so long to run. Import some necessary packages and libraries by executing the following cell:"
   ]
  },
  {
   "cell_type": "code",
   "execution_count": 34,
   "id": "7fcab808-08de-4da0-886c-5893dfc72ac0",
   "metadata": {},
   "outputs": [],
   "source": [
    "from ase.visualize import view\n",
    "from ase.io import read\n",
    "import nglview as nv"
   ]
  },
  {
   "cell_type": "markdown",
   "id": "fdc21211-e622-4a92-a2f1-e709fbe88545",
   "metadata": {},
   "source": [
    "### 2.2: visualization of the electronic density\n",
    "\n",
    "Once the job has concluded, open one of the `.cube` output files. These types of files are used by CP2K and many other electronic structure programs to store spin, orbital, or electronic density values on a three-dimensional grid. Some good documentation can be found [here](https://h5cube-spec.readthedocs.io/en/latest/cubeformat.html) and [here](https://manual.q-chem.com/5.3/sec_cubefiles.html).\n",
    "\n",
    "**Due to a bug, it is imperative that you copy your `.cube` files to your `/tmp/` directory and access them from there, as in the example, and NOT use them directly in the output directory:**"
   ]
  },
  {
   "cell_type": "code",
   "execution_count": 35,
   "id": "286a47e1-7516-4028-a5c1-72677772e1e2",
   "metadata": {},
   "outputs": [],
   "source": [
    "!cp /cluster/home/lenag/Molecular-and-Materials-Modelling-FS2023/exercise6/triplet_mol/o2-ELECTRON_DENSITY-1_0.cube /tmp"
   ]
  },
  {
   "cell_type": "code",
   "execution_count": 36,
   "id": "d4e50c95-bb83-4fd4-9991-b01b342d0fc8",
   "metadata": {},
   "outputs": [
    {
     "data": {
      "application/vnd.jupyter.widget-view+json": {
       "model_id": "63d0b022f1ef418e9f397a8825c122fe",
       "version_major": 2,
       "version_minor": 0
      },
      "text/plain": [
       "NGLWidget()"
      ]
     },
     "metadata": {},
     "output_type": "display_data"
    }
   ],
   "source": [
    "file = '/tmp/o2-ELECTRON_DENSITY-1_0.cube'\n",
    "atoms = read(file)\n",
    "\n",
    "view = nv.NGLWidget()\n",
    "view.add_component(nv.ASEStructure(atoms))\n",
    "\n",
    "c_2 = view.add_component(file)\n",
    "c_2.clear()\n",
    "c_2.add_surface(color='blue', isolevelType=\"value\", isolevel=-0.005, opacity=0.05)\n",
    "\n",
    "c_3=view.add_component(file)\n",
    "c_3.clear()\n",
    "c_3.add_surface(color='green', isolevelType=\"value\", isolevel=0.015, opacity=0.15)\n",
    "\n",
    "view"
   ]
  },
  {
   "cell_type": "markdown",
   "id": "8ce45ed0-0ea6-40e4-a5cd-8f0e2d7d39b1",
   "metadata": {},
   "source": [
    "**!! Note: in this case as in the rest of the exercise, you might need to play around a bit with the values of the `isolevel` parameter. In general, both values should be quite small (ie absolute values close to zero), with one being negative and one being positive. !!**"
   ]
  },
  {
   "cell_type": "markdown",
   "id": "9cdeb0b7-2045-4f12-8647-658b088de1b0",
   "metadata": {},
   "source": [
    "### 2.3: Computing density differences\n",
    "\n",
    "This however is just the electronic density of the oxygen molecule: what is probably more interesting, are density *differences*. In order to compute these differences, we use a tool called [cubecruncher](https://github.com/cp2k/cp2k/tree/master/tools/cubecruncher), which allows us to perform various operations on cube files -- notably subtraction.\n",
    "\n",
    "Our goal is to obtain the density difference, and as such, we must subtract off the electron densities of each of the individual (!) oxygen atoms. To do this, we run two more simulations (ie, one for each of the individual atoms), whereby each simulation will generate the electron density (in turn, contained in its respective cube file) of that respective oxygen atom.\n",
    "\n",
    "1. We proceed by making a new directory within the current one: `$ mkdir diffs`\n",
    "2. Move into the `diffs` directory and copy the full electron density from the foregoing calculation into the `diffs` directory; give it a more suitable name if it helps:\n",
    "```bash\n",
    "$ cd diffs\n",
    "$ cp ../o2_trip-ELECTRON_DENSITY-1_0.cube ./full.cube\n",
    "```\n",
    "3. We now need to run the same simulation as for the molecule, except now for each of the individual two oxygen atoms. Let's make two new directories to contain these new simulations, and we copy the input file and run script from the parent calculation into these new directories:\n",
    "\n",
    "```bash\n",
    "$ mkdir o1\n",
    "$ mkdir o2\n",
    "$ cp ../{triplet.inp,submit.sh} o1\n",
    "$ cp ../{triplet.inp,submit.sh} o2\n",
    "```\n",
    "\n",
    "4. Move into the `o1` directory and remove the atom labeled `O2`:\n",
    "\n",
    "```\n",
    "    &COORD [angstrom]\n",
    "  O1         6.2069331992        6.2068856913        5.6293948156\n",
    "  O2         6.2068666902        6.2069143409        6.7844056115 #REMOVE\n",
    "    &END COORD\n",
    "```\n",
    "\n",
    "and its associated `&KIND` a few lines later:\n",
    "\n",
    "```\n",
    "    &KIND O2 #REMOVE ALL THIS\n",
    "       MAGNETIZATION 0\n",
    "       ELEMENT O\n",
    "       BASIS_SET aug-cc-pVTZ\n",
    "       POTENTIAL ALL\n",
    "   &END KIND\n",
    "```\n",
    "\n",
    "5. For bookkeeping's sake, change the name of the project:\n",
    "```\n",
    "PROJECT o1\n",
    "```\n",
    "and save and quit the file.\n",
    "\n",
    "6. For bookkeeping's sake, it might not be a bad idea to change the name of the input file itself. Don't forget to adjust anything in the submit script accordingly. Once everything is good, submit the job.\n",
    "\n",
    "7. Repeat steps 4-6 for o2.\n",
    "\n",
    "8. Copy (or move) the electron density files from each of the individual atoms into the `diff` directory (your relative paths might be a bit different depending on which directory exactly you're currently in):\n",
    "```bash\n",
    "$ cp o1/o1-ELECTRON_DENSITY-1_0.cube ./o1.cube\n",
    "$ cp o2/o2-ELECTRON_DENSITY-1_0.cube ./o2.cube\n",
    "```\n",
    "\n",
    "9. Now we have the three files --- `full.cube, o1.cube, o2.cube` --- which we'll need to plot the density differences. Let's first take `full.cube` minus `o1.cube` and save this temporary difference to a file `temp.diff`:\n",
    "```bash\n",
    "$ /cluster/scratch/danielep/cubecruncher.x -i full.cube -o temp.cube -subtract o1.cube\n",
    "```\n",
    "\n",
    "10. Now we subtract `o2.cube` from `temp.cube` and store the desired difference file to `diff.cube`:\n",
    "```bash\n",
    "$ /cluster/scratch/danielep/cubecruncher.x -i temp.cube -o diff.cube -subtract o2.cube\n",
    "```"
   ]
  },
  {
   "cell_type": "markdown",
   "id": "6021c068-2fb3-4bab-b3be-00e0e6b53c4b",
   "metadata": {},
   "source": [
    "### Assignment 1: Visualizing the electronic density difference\n",
    "\n",
    "Use the code of a few cells above (modify as necessary) to visualize the `diff.cube` file. Comment on how it differences from the first plot."
   ]
  },
  {
   "cell_type": "code",
   "execution_count": 37,
   "id": "eb7c700f-b514-4de9-9029-60663e6b751b",
   "metadata": {},
   "outputs": [
    {
     "name": "stdout",
     "output_type": "stream",
     "text": [
      "cp: cannot stat './triplet_mol/diffs/diff.cube': No such file or directory\n"
     ]
    }
   ],
   "source": [
    "# !cp /cluster/home/lenag/daint_oxygen/triplet_mol/diff/diff.cube /tmp\n",
    "!cp ./triplet_mol/diffs/diff.cube /tmp"
   ]
  },
  {
   "cell_type": "code",
   "execution_count": 38,
   "id": "5671c054",
   "metadata": {},
   "outputs": [
    {
     "data": {
      "application/vnd.jupyter.widget-view+json": {
       "model_id": "f90f7f608fa14bf78d23e8af77818e98",
       "version_major": 2,
       "version_minor": 0
      },
      "text/plain": [
       "NGLWidget()"
      ]
     },
     "metadata": {},
     "output_type": "display_data"
    }
   ],
   "source": [
    "file2 = '/tmp/diff.cube'\n",
    "atoms2 = read(file2)\n",
    "\n",
    "view2 = nv.NGLWidget()\n",
    "view2.add_component(nv.ASEStructure(atoms2))\n",
    "\n",
    "c_4 = view.add_component(file2)\n",
    "c_4.clear()\n",
    "c_4.add_surface(color='blue', isolevelType=\"value\", isolevel=-0.005, opacity=0.05)\n",
    "\n",
    "c_5=view.add_component(file2)\n",
    "c_5.clear()\n",
    "c_5.add_surface(color='green', isolevelType=\"value\", isolevel=0.015, opacity=0.15)\n",
    "\n",
    "view2\n",
    "#as of now structure view did not work, only the red molecule is visible"
   ]
  },
  {
   "cell_type": "markdown",
   "id": "09be46b6-e59d-453b-86bd-f6bc8f78a974",
   "metadata": {},
   "source": [
    "**!! NOTE: Your result might not be \"displaying as expected\" (like it was with me). To remedy this, restart your kernel (Kernel -> Shut Down All Kernels) and restart your server. !!**"
   ]
  },
  {
   "cell_type": "markdown",
   "id": "8360ee6f-f5eb-4793-a8c4-ab1bda28edef",
   "metadata": {},
   "source": [
    "### End Assignment 1"
   ]
  },
  {
   "cell_type": "markdown",
   "id": "89e20e69-815b-4bff-8a9a-91d860271058",
   "metadata": {},
   "source": [
    "### Assignment 2: Visualizing the molecular orbitals\n",
    "\n",
    "You will have certainly noticed the plethora of `WFN_000xyz_a-b_c.cube` files generated as a result of the calculation. These are the HOMO-$\\eta$ and LUMO+$\\xi$ orbitals, where the values of $\\eta$ and $\\xi$ were specified in the `.inp` file, respectively. \n",
    "\n",
    "1. The first subtask of this assignment will simply involve decoding the names of these files, and assigning them to the respective molecular orbital (HOMO-3, LUMO+2, etc.) to which they belong. Open one of these `WFN_000xyz_a-b_c.cube` files and observe how the first two lines (which are indeed always **comment** lines in `.cube` files) look like (for the `o2-WFN_00001_1-1_0.cube` file):\n",
    "\n",
    "```\n",
    "-Quickstep-\n",
    "  WAVEFUNCTION            1  spin            1  i.e. HOMO -           -8\n",
    "```\n",
    "\n",
    "Write a script, either in Python or in Bash, that takes the \"informational part\" of the file name,  extracts the data of the second comment line, and writes this information to a `.txt` file. The script should loop through all the `WFN` files in the current directory. This `.txt` file will be your reference for the remainder of this exercise. If you do it in Python, you might need the `sys` and/or `os` libraries; if you do it in Bash, you'll surely need `grep`. In any case, completion of this subtask will involve some string manipulation. The `.txt` file might look like something similar to this:\n",
    "\n",
    "```\n",
    "file wavefunction spin orbital\n",
    "00001_1-1_0 1 1 HOMO-8\n",
    "...\n",
    "```\n",
    "\n",
    "Of course, it doesn't *have* to look like *exactly* like this, but a format similar to the above might be helpful.\n",
    "\n",
    "2. Now that we've got a correspondence between these \"cryptic\" `WFN.cube` files and the orbitals they contain, we can plot them. Using the `.txt` file you generated in subtask 1 as a reference (so that you know exactly what files to plot), plot all of the occupied orbitals and the first 3 or 4 unoccupied orbitals. "
   ]
  },
  {
   "cell_type": "code",
   "execution_count": 39,
   "id": "e8a0c50d-3cf1-4b5c-b5d1-8772fb9e200d",
   "metadata": {},
   "outputs": [],
   "source": [
    "## 1\n",
    "# script for decoding the wavefunction files and store important information in txt file\n",
    "# plan: loop through all WFN files, extract second comment line, write information in txt file\n",
    "# with adjusted spacing / naming etc. \n",
    "\n",
    "#import libraries and set environment\n",
    "import os\n",
    "import sys\n",
    "#directory = 'triplet_mol'\n",
    "search_str = \"o2-WFN\"\n",
    "#change directory, so files can be read\n",
    "os.chdir('/cluster/home/lenag/Molecular-and-Materials-Modelling-FS2023/exercise6/triplet_mol')\n",
    "\n",
    "#prepare txt file\n",
    "o = open(\"overview.txt\", \"w\")\n",
    "o.write(\"file wavefunction spin orbital\\n\")\n",
    "\n",
    "files_wfn = []\n",
    "for file in os.listdir():\n",
    "    if file.startswith(search_str):\n",
    "        #print(file)\n",
    "        files_wfn.append(file)\n",
    "\n",
    "#print(files_wfn)\n",
    "#loop over all files stored in the list from before\n",
    "for filename in files_wfn:\n",
    "    #print(filename)\n",
    "    with open(filename.strip()) as f2:\n",
    "        lines = f2.readlines()\n",
    "        \n",
    "        second_line = lines[1] # Extract the whole second line\n",
    "        \n",
    "        #remove /n (I don't know why this appears if this step is not taken)\n",
    "        second_line = second_line[0:-1]\n",
    "\n",
    "        contents = second_line.split(\" \") #split the line into parts\n",
    "        \n",
    "        information = [] #storage for \"important\" information\n",
    "        for i in range (0,len(contents)):\n",
    "            if contents[i] == \"\" or contents[i] == \"WAVEFUNCTION\" or contents[i] == \"i.e.\" or contents[i] == \"-\" or contents[i] == \"spin\":\n",
    "                pass\n",
    "            else:\n",
    "                information.append(contents[i]) #store everything expect the empty characters\n",
    "                #information is stored like this: wfct value, spin value, HOMO/LUMO, value \n",
    "                \n",
    "        filename_short = filename[7:16]\n",
    "        wfct = str(information[0])\n",
    "        spin = str(information[1])\n",
    "        orbital = information[2:] #still a list\n",
    "        orbital = str(''.join(orbital))\n",
    "        \n",
    "        #write into new txt file (overview)\n",
    "        o.write(filename_short + \" \" + wfct + \" \" + spin + \" \" + orbital + \"\\n\")      \n"
   ]
  },
  {
   "cell_type": "code",
   "execution_count": 41,
   "id": "320ea675-219b-4b4f-a885-9e2006db2e89",
   "metadata": {},
   "outputs": [
    {
     "name": "stdout",
     "output_type": "stream",
     "text": [
      "o2-WFN_00001_1-1_0.cube\n",
      "o2-WFN_00002_1-1_0.cube\n",
      "o2-WFN_00003_1-1_0.cube\n",
      "o2-WFN_00004_1-1_0.cube\n",
      "o2-WFN_00005_1-1_0.cube\n",
      "o2-WFN_00006_1-1_0.cube\n",
      "o2-WFN_00007_1-1_0.cube\n",
      "o2-WFN_00008_1-1_0.cube\n",
      "o2-WFN_00009_1-1_0.cube\n",
      "o2-WFN_00001_2-1_0.cube\n",
      "o2-WFN_00002_2-1_0.cube\n",
      "o2-WFN_00003_2-1_0.cube\n",
      "o2-WFN_00004_2-1_0.cube\n",
      "o2-WFN_00005_2-1_0.cube\n",
      "o2-WFN_00006_2-1_0.cube\n",
      "o2-WFN_00007_2-1_0.cube\n",
      "o2-WFN_00010_1-1_0.cube\n",
      "o2-WFN_00011_1-1_0.cube\n",
      "o2-WFN_00012_1-1_0.cube\n",
      "o2-WFN_00008_2-1_0.cube\n",
      "o2-WFN_00009_2-1_0.cube\n",
      "o2-WFN_00010_2-1_0.cube\n"
     ]
    }
   ],
   "source": [
    "## 2\n",
    "#\n",
    "#import libraries and set environment\n",
    "import os\n",
    "import sys\n",
    "import shutil\n",
    "search_str = \"o2-WFN\"\n",
    "#change directory, so files can be read\n",
    "os.chdir('/cluster/home/lenag/Molecular-and-Materials-Modelling-FS2023/exercise6/triplet_mol')\n",
    "\n",
    "files_wfn = []\n",
    "source_folder = '/cluster/home/lenag/Molecular-and-Materials-Modelling-FS2023/exercise6/triplet_mol/'\n",
    "destination_folder = '/tmp/'\n",
    "for file in os.listdir():\n",
    "    if file.startswith(search_str):\n",
    "        files_wfn.append(file)\n",
    "\n",
    "        # construct full file path\n",
    "        source = source_folder + file\n",
    "        destination = destination_folder + file\n",
    "        \n",
    "        #copy files into destination folder\n",
    "        shutil.copy(source, destination)\n",
    "        #print('copied', file)\n",
    "\n",
    "#loop over all files stored in the list from before\n",
    "os.chdir('/tmp/') #for visualization work in the tmp directory\n",
    "\n",
    "for filename in files_wfn:\n",
    "    print(filename)\n",
    "    atoms = read(filename)\n",
    "\n",
    "    view = nv.NGLWidget()\n",
    "    view.add_component(nv.ASEStructure(atoms))\n",
    "\n",
    "    c_4 = view.add_component(filename)\n",
    "    c_4.clear()\n",
    "    c_4.add_surface(color='blue', isolevelType=\"value\", isolevel=-0.005, opacity=0.05)\n",
    "\n",
    "    c_5=view.add_component(filename)\n",
    "    c_5.clear()\n",
    "    c_5.add_surface(color='green', isolevelType=\"value\", isolevel=0.015, opacity=0.15)\n",
    "    \n",
    "    view\n",
    "    \n",
    "#Comment: I think the code works so far, that all the wanted files are read, \n",
    "#but the visualization does not appear..."
   ]
  },
  {
   "cell_type": "code",
   "execution_count": 7,
   "id": "7f11d5c1-e64a-4e2b-8786-0aca0227bfe0",
   "metadata": {},
   "outputs": [
    {
     "ename": "ModuleNotFoundError",
     "evalue": "No module named 'pyvista'",
     "output_type": "error",
     "traceback": [
      "\u001b[0;31m---------------------------------------------------------------------------\u001b[0m",
      "\u001b[0;31mModuleNotFoundError\u001b[0m                       Traceback (most recent call last)",
      "Cell \u001b[0;32mIn[7], line 8\u001b[0m\n\u001b[1;32m      6\u001b[0m \u001b[38;5;28;01mimport\u001b[39;00m \u001b[38;5;21;01mmatplotlib\u001b[39;00m\u001b[38;5;21;01m.\u001b[39;00m\u001b[38;5;21;01mpyplot\u001b[39;00m \u001b[38;5;28;01mas\u001b[39;00m \u001b[38;5;21;01mplt\u001b[39;00m\n\u001b[1;32m      7\u001b[0m \u001b[38;5;28;01mfrom\u001b[39;00m \u001b[38;5;21;01mmpl_toolkits\u001b[39;00m\u001b[38;5;21;01m.\u001b[39;00m\u001b[38;5;21;01mmplot3d\u001b[39;00m \u001b[38;5;28;01mimport\u001b[39;00m Axes3D\n\u001b[0;32m----> 8\u001b[0m \u001b[38;5;28;01mimport\u001b[39;00m \u001b[38;5;21;01mpyvista\u001b[39;00m \u001b[38;5;28;01mas\u001b[39;00m \u001b[38;5;21;01mpv\u001b[39;00m\n\u001b[1;32m     10\u001b[0m search_str \u001b[38;5;241m=\u001b[39m \u001b[38;5;124m\"\u001b[39m\u001b[38;5;124mo2-WFN\u001b[39m\u001b[38;5;124m\"\u001b[39m\n\u001b[1;32m     11\u001b[0m \u001b[38;5;66;03m#change directory, so files can be read\u001b[39;00m\n",
      "\u001b[0;31mModuleNotFoundError\u001b[0m: No module named 'pyvista'"
     ]
    }
   ],
   "source": [
    "## 2 (Try 2)\n",
    "# for loop, plotting all, same code as above\n",
    "\n",
    "import os\n",
    "import numpy as np\n",
    "import matplotlib.pyplot as plt\n",
    "from mpl_toolkits.mplot3d import Axes3D\n",
    "import pyvista as pv\n",
    "\n",
    "search_str = \"o2-WFN\"\n",
    "#change directory, so files can be read\n",
    "os.chdir('/cluster/home/lenag/Molecular-and-Materials-Modelling-FS2023/exercise6/triplet_mol')\n",
    "\n",
    "# Define the molecule\n",
    "mol = gto.M(\n",
    "    atom='''\n",
    "    O 0.000000  0.000000  0.000000\n",
    "    O 0.000000  0.000000  1.218296\n",
    "    ''',\n",
    "    basis='sto3g'\n",
    ")\n",
    "\n",
    "# Run the SCF calculation\n",
    "mf = scf.RHF(mol).run()\n",
    "\n",
    "files_wfn = []\n",
    "for file in os.listdir():\n",
    "    if file.startswith(search_str):\n",
    "        #print(file)\n",
    "        files_wfn.append(file)\n",
    "\n",
    "#print(files_wfn)\n",
    "#loop over all files stored in the list from before\n",
    "for filename in files_wfn:\n",
    "    print(filename)\n",
    "    data = np.loadtxt(filename, skiprows=2)\n",
    "    \n",
    "    # Get the grid dimensions and spacing\n",
    "    nx, ny, nz = data[0:3].astype(int)\n",
    "    origin = data[3:6]\n",
    "    spacing = data[6:9]\n",
    "\n",
    "    # Reshape the data into a 3D array\n",
    "    rho = data[9:].reshape((nx, ny, nz))\n",
    "\n",
    "    # Define the grid\n",
    "    x = np.linspace(origin[0], origin[0] + (nx-1)*spacing[0], nx)\n",
    "    y = np.linspace(origin[1], origin[1] + (ny-1)*spacing[1], ny)\n",
    "    z = np.linspace(origin[2], origin[2] + (nz-1)*spacing[2], nz)\n",
    "    grid = pv.UniformGrid()\n",
    "    grid.dimensions = rho.shape\n",
    "    grid.origin = origin\n",
    "    grid.spacing = spacing\n",
    "    grid.point_arrays[\"Density\"] = rho.flatten(order=\"F\")  # Fortran order\n",
    "\n",
    "    # Create the plotter\n",
    "    p = pv.Plotter()\n",
    "\n",
    "    # Add the grid to the plotter\n",
    "    p.add_mesh(grid, cmap=\"coolwarm\")\n",
    "\n",
    "    # Set the camera position\n",
    "    p.camera_position = [\n",
    "    (x.max() - x.min()) * 2,\n",
    "    (y.max() - y.min()) * 2,\n",
    "    (z.max() - z.min()) * 2,\n",
    "    np.mean([x.max(), x.min()]),\n",
    "    np.mean([y.max(), y.min()]),\n",
    "    np.mean([z.max(), z.min()]),\n",
    "    0,\n",
    "    1,\n",
    "    0\n",
    "        ]\n",
    "\n",
    "    # Show the plot\n",
    "    p.show()"
   ]
  },
  {
   "cell_type": "code",
   "execution_count": 22,
   "id": "1d5d7b42",
   "metadata": {},
   "outputs": [
    {
     "ename": "ImportError",
     "evalue": "libhdf5.so.101: cannot open shared object file: No such file or directory",
     "output_type": "error",
     "traceback": [
      "\u001b[0;31m---------------------------------------------------------------------------\u001b[0m",
      "\u001b[0;31mImportError\u001b[0m                               Traceback (most recent call last)",
      "Cell \u001b[0;32mIn[22], line 8\u001b[0m\n\u001b[1;32m      6\u001b[0m \u001b[38;5;28;01mimport\u001b[39;00m \u001b[38;5;21;01mmatplotlib\u001b[39;00m\u001b[38;5;21;01m.\u001b[39;00m\u001b[38;5;21;01mpyplot\u001b[39;00m \u001b[38;5;28;01mas\u001b[39;00m \u001b[38;5;21;01mplt\u001b[39;00m\n\u001b[1;32m      7\u001b[0m \u001b[38;5;28;01mfrom\u001b[39;00m \u001b[38;5;21;01mmpl_toolkits\u001b[39;00m\u001b[38;5;21;01m.\u001b[39;00m\u001b[38;5;21;01mmplot3d\u001b[39;00m \u001b[38;5;28;01mimport\u001b[39;00m Axes3D\n\u001b[0;32m----> 8\u001b[0m \u001b[38;5;28;01mfrom\u001b[39;00m \u001b[38;5;21;01mpyscf\u001b[39;00m \u001b[38;5;28;01mimport\u001b[39;00m gto, scf, cube\n\u001b[1;32m     10\u001b[0m search_str \u001b[38;5;241m=\u001b[39m \u001b[38;5;124m\"\u001b[39m\u001b[38;5;124mo2-WFN\u001b[39m\u001b[38;5;124m\"\u001b[39m\n\u001b[1;32m     11\u001b[0m \u001b[38;5;66;03m#change directory, so files can be read\u001b[39;00m\n",
      "File \u001b[0;32m~/.local/lib/python3.10/site-packages/pyscf/__init__.py:113\u001b[0m\n\u001b[1;32m    110\u001b[0m     _internal\u001b[38;5;241m.\u001b[39m_get_void_ptr \u001b[38;5;241m=\u001b[39m _get_void_ptr\n\u001b[1;32m    112\u001b[0m \u001b[38;5;28;01mfrom\u001b[39;00m \u001b[38;5;21;01mpyscf\u001b[39;00m \u001b[38;5;28;01mimport\u001b[39;00m __config__\n\u001b[0;32m--> 113\u001b[0m \u001b[38;5;28;01mfrom\u001b[39;00m \u001b[38;5;21;01mpyscf\u001b[39;00m \u001b[38;5;28;01mimport\u001b[39;00m lib\n\u001b[1;32m    114\u001b[0m \u001b[38;5;28;01mfrom\u001b[39;00m \u001b[38;5;21;01mpyscf\u001b[39;00m \u001b[38;5;28;01mimport\u001b[39;00m gto\n\u001b[1;32m    115\u001b[0m \u001b[38;5;28;01mfrom\u001b[39;00m \u001b[38;5;21;01mpyscf\u001b[39;00m \u001b[38;5;28;01mimport\u001b[39;00m scf\n",
      "File \u001b[0;32m~/.local/lib/python3.10/site-packages/pyscf/lib/__init__.py:24\u001b[0m\n\u001b[1;32m     22\u001b[0m \u001b[38;5;28;01mfrom\u001b[39;00m \u001b[38;5;21;01mpyscf\u001b[39;00m\u001b[38;5;21;01m.\u001b[39;00m\u001b[38;5;21;01mlib\u001b[39;00m \u001b[38;5;28;01mimport\u001b[39;00m parameters\n\u001b[1;32m     23\u001b[0m param \u001b[38;5;241m=\u001b[39m parameters\n\u001b[0;32m---> 24\u001b[0m \u001b[38;5;28;01mfrom\u001b[39;00m \u001b[38;5;21;01mpyscf\u001b[39;00m\u001b[38;5;21;01m.\u001b[39;00m\u001b[38;5;21;01mlib\u001b[39;00m \u001b[38;5;28;01mimport\u001b[39;00m numpy_helper\n\u001b[1;32m     25\u001b[0m \u001b[38;5;28;01mfrom\u001b[39;00m \u001b[38;5;21;01mpyscf\u001b[39;00m\u001b[38;5;21;01m.\u001b[39;00m\u001b[38;5;21;01mlib\u001b[39;00m \u001b[38;5;28;01mimport\u001b[39;00m linalg_helper\n\u001b[1;32m     26\u001b[0m \u001b[38;5;28;01mfrom\u001b[39;00m \u001b[38;5;21;01mpyscf\u001b[39;00m\u001b[38;5;21;01m.\u001b[39;00m\u001b[38;5;21;01mlib\u001b[39;00m \u001b[38;5;28;01mimport\u001b[39;00m scipy_helper\n",
      "File \u001b[0;32m~/.local/lib/python3.10/site-packages/pyscf/lib/numpy_helper.py:27\u001b[0m\n\u001b[1;32m     25\u001b[0m \u001b[38;5;28;01mimport\u001b[39;00m \u001b[38;5;21;01mmath\u001b[39;00m\n\u001b[1;32m     26\u001b[0m \u001b[38;5;28;01mimport\u001b[39;00m \u001b[38;5;21;01mnumpy\u001b[39;00m\n\u001b[0;32m---> 27\u001b[0m \u001b[38;5;28;01mfrom\u001b[39;00m \u001b[38;5;21;01mpyscf\u001b[39;00m\u001b[38;5;21;01m.\u001b[39;00m\u001b[38;5;21;01mlib\u001b[39;00m \u001b[38;5;28;01mimport\u001b[39;00m misc\n\u001b[1;32m     28\u001b[0m \u001b[38;5;28;01mfrom\u001b[39;00m \u001b[38;5;21;01mnumpy\u001b[39;00m \u001b[38;5;28;01mimport\u001b[39;00m asarray  \u001b[38;5;66;03m# For backward compatibility\u001b[39;00m\n\u001b[1;32m     30\u001b[0m EINSUM_MAX_SIZE \u001b[38;5;241m=\u001b[39m \u001b[38;5;28mgetattr\u001b[39m(misc\u001b[38;5;241m.\u001b[39m__config__, \u001b[38;5;124m'\u001b[39m\u001b[38;5;124mlib_einsum_max_size\u001b[39m\u001b[38;5;124m'\u001b[39m, \u001b[38;5;241m2000\u001b[39m)\n",
      "File \u001b[0;32m~/.local/lib/python3.10/site-packages/pyscf/lib/misc.py:32\u001b[0m\n\u001b[1;32m     30\u001b[0m \u001b[38;5;28;01mimport\u001b[39;00m \u001b[38;5;21;01mctypes\u001b[39;00m\n\u001b[1;32m     31\u001b[0m \u001b[38;5;28;01mimport\u001b[39;00m \u001b[38;5;21;01mnumpy\u001b[39;00m\n\u001b[0;32m---> 32\u001b[0m \u001b[38;5;28;01mimport\u001b[39;00m \u001b[38;5;21;01mh5py\u001b[39;00m\n\u001b[1;32m     33\u001b[0m \u001b[38;5;28;01mfrom\u001b[39;00m \u001b[38;5;21;01mthreading\u001b[39;00m \u001b[38;5;28;01mimport\u001b[39;00m Thread\n\u001b[1;32m     34\u001b[0m \u001b[38;5;28;01mfrom\u001b[39;00m \u001b[38;5;21;01mmultiprocessing\u001b[39;00m \u001b[38;5;28;01mimport\u001b[39;00m Queue, Process\n",
      "File \u001b[0;32m/cluster/apps/nss/gcc-8.2.0/python/3.10.4/x86_64/lib64/python3.10/site-packages/h5py/__init__.py:25\u001b[0m\n\u001b[1;32m     19\u001b[0m \u001b[38;5;66;03m# --- Library setup -----------------------------------------------------------\u001b[39;00m\n\u001b[1;32m     20\u001b[0m \n\u001b[1;32m     21\u001b[0m \u001b[38;5;66;03m# When importing from the root of the unpacked tarball or git checkout,\u001b[39;00m\n\u001b[1;32m     22\u001b[0m \u001b[38;5;66;03m# Python sees the \"h5py\" source directory and tries to load it, which fails.\u001b[39;00m\n\u001b[1;32m     23\u001b[0m \u001b[38;5;66;03m# We tried working around this by using \"package_dir\" but that breaks Cython.\u001b[39;00m\n\u001b[1;32m     24\u001b[0m \u001b[38;5;28;01mtry\u001b[39;00m:\n\u001b[0;32m---> 25\u001b[0m     \u001b[38;5;28;01mfrom\u001b[39;00m \u001b[38;5;21;01m.\u001b[39;00m \u001b[38;5;28;01mimport\u001b[39;00m _errors\n\u001b[1;32m     26\u001b[0m \u001b[38;5;28;01mexcept\u001b[39;00m \u001b[38;5;167;01mImportError\u001b[39;00m:\n\u001b[1;32m     27\u001b[0m     \u001b[38;5;28;01mimport\u001b[39;00m \u001b[38;5;21;01mos\u001b[39;00m\u001b[38;5;21;01m.\u001b[39;00m\u001b[38;5;21;01mpath\u001b[39;00m \u001b[38;5;28;01mas\u001b[39;00m \u001b[38;5;21;01m_op\u001b[39;00m\n",
      "\u001b[0;31mImportError\u001b[0m: libhdf5.so.101: cannot open shared object file: No such file or directory"
     ]
    }
   ],
   "source": [
    "## 2 (Try 3)\n",
    "# for loop, plotting all, same code as above\n",
    "\n",
    "import os\n",
    "import numpy as np\n",
    "import matplotlib.pyplot as plt\n",
    "from mpl_toolkits.mplot3d import Axes3D\n",
    "from pyscf import gto, scf, cube\n",
    "\n",
    "search_str = \"o2-WFN\"\n",
    "#change directory, so files can be read\n",
    "os.chdir('/cluster/home/lenag/Molecular-and-Materials-Modelling-FS2023/exercise6/triplet_mol')\n",
    "\n",
    "# Define the molecule\n",
    "mol = gto.M(\n",
    "    atom='''\n",
    "    O 0.000000  0.000000  0.000000\n",
    "    O 0.000000  0.000000  1.218296\n",
    "    ''',\n",
    "    basis='sto3g'\n",
    ")\n",
    "\n",
    "# Run the SCF calculation\n",
    "mf = scf.RHF(mol).run()\n",
    "\n",
    "files_wfn = []\n",
    "for file in os.listdir():\n",
    "    if file.startswith(search_str):\n",
    "        #print(file)\n",
    "        files_wfn.append(file)\n",
    "\n",
    "#print(files_wfn)\n",
    "#loop over all files stored in the list from before\n",
    "for filename in files_wfn:\n",
    "    print(filename)\n",
    "    rho = cube.load_cube(\"density.cube\", mol)\n",
    "    \n",
    "    x, y, z = rho.coords\n",
    "\n",
    "    fig = plt.figure()\n",
    "    ax = fig.add_subplot(111, projection='3d')\n",
    "    ax.scatter(x, y, z, c=rho, s=0.1)\n",
    "    plt.show()"
   ]
  },
  {
   "cell_type": "raw",
   "id": "238b7efa-3f74-432b-9c45-4fc16449d8fa",
   "metadata": {},
   "source": [
    "### Assignment 3: the triplet atom\n",
    "\n",
    "1. Move into the directory `triplet_atom` and run the same calculation (singular!) now for the single oxygen atom. (DONE) Visualize the eletron density `ELECTRON_DENSITY-1_0.cube`. Comment on the important differences between the plot of the electron density.\n",
    "\n",
    "2. Plot all of the orbitals and comment on the difference. Note that the text \"HOMO\", \"LUMO\" in the context of the single oxygen atom is, strictly taken, not so correct, since these are purely atomic orbitals. What do you notice about the differences between the atomic orbitals and the molecular orbitals at the same level?"
   ]
  },
  {
   "cell_type": "code",
   "execution_count": 42,
   "id": "a63c5991-027d-4065-ba19-3b97d11b837f",
   "metadata": {},
   "outputs": [
    {
     "name": "stdout",
     "output_type": "stream",
     "text": [
      "Current Directory:  /cluster/home/lenag/Molecular-and-Materials-Modelling-FS2023/exercise6\n"
     ]
    }
   ],
   "source": [
    "# move electron density file into tmp folder\n",
    "import os\n",
    "os.chdir('/cluster/home/lenag/Molecular-and-Materials-Modelling-FS2023/exercise6')\n",
    "print(\"Current Directory: \", os.getcwd())\n",
    "\n",
    "!cp ./triplet_atom/o-ELECTRON_DENSITY-1_0.cube /tmp"
   ]
  },
  {
   "cell_type": "code",
   "execution_count": 43,
   "id": "609f33d3-42f3-42a8-ac73-8d980e0c65ad",
   "metadata": {},
   "outputs": [
    {
     "data": {
      "application/vnd.jupyter.widget-view+json": {
       "model_id": "9c0979f89fbe43aa91b6a5cb32159061",
       "version_major": 2,
       "version_minor": 0
      },
      "text/plain": [
       "NGLWidget()"
      ]
     },
     "metadata": {},
     "output_type": "display_data"
    }
   ],
   "source": [
    "# code to visualize electron density (same as above), worked\n",
    "file2 = '/tmp/o-ELECTRON_DENSITY-1_0.cube'\n",
    "atoms2 = read(file2)\n",
    "\n",
    "view2 = nv.NGLWidget()\n",
    "view2.add_component(nv.ASEStructure(atoms2))\n",
    "\n",
    "c_4 = view2.add_component(file2)\n",
    "c_4.clear()\n",
    "c_4.add_surface(color='blue', isolevelType=\"value\", isolevel=-0.005, opacity=0.05)\n",
    "\n",
    "c_5=view2.add_component(file2)\n",
    "c_5.clear()\n",
    "c_5.add_surface(color='green', isolevelType=\"value\", isolevel=0.005, opacity=0.15)\n",
    "\n",
    "\n",
    "view2"
   ]
  },
  {
   "cell_type": "markdown",
   "id": "66e9fb6b-002e-490c-81f3-eb2e5b7999b6",
   "metadata": {},
   "source": [
    "### End Assignment 3"
   ]
  },
  {
   "cell_type": "markdown",
   "id": "40a90b17",
   "metadata": {},
   "source": [
    "## 3. ~~Reading~~ Interpreting the output files.\n",
    "\n",
    "Before concluding today's exercise, there are two pieces of information that we should be made aware of, which can be found towards the end of the respective `.out` files. Open the `triplet.out` file for the molecule and scroll towards the bottom until you find\n",
    "\n",
    "```\n",
    "  Eigenvalues of the occupied subspace spin            1\n",
    " ---------------------------------------------\n",
    "     -18.91106343     -18.91098286      -1.20199960      -0.75825075\n",
    "      -0.49784172      -0.49451467      -0.49451467      -0.25446183\n",
    "      -0.25446183\n",
    " Fermi Energy [eV] :   -6.924259\n",
    "  \n",
    "  Eigenvalues of the occupied subspace spin            2\n",
    " ---------------------------------------------\n",
    "     -18.88507991     -18.88499208      -1.15811454      -0.69227713\n",
    "      -0.46456304      -0.42601125      -0.42601125\n",
    " Fermi Energy [eV] :  -11.592356\n",
    "```\n",
    "\n",
    "Even though we didn't plot and visualize the spin densities explicitly, we should note that we have indeed calculated them (see the output files). The table of `Eigenvalues of the occupied subspace spin` shows exactly the spin-splitting phenomenon that we expect from the molecular orbital schema of oxygen; the `1` resp. `2` indicates the spin up and spin down. (DONE) "
   ]
  },
  {
   "cell_type": "markdown",
   "id": "aa151f6f-d30e-4cf7-83bc-b71adde6a846",
   "metadata": {},
   "source": [
    "### Assignment 4: extraction of the energies and construction of the MO schema\n",
    "\n",
    "Use the values of the energy from the output files of the calculations from both the triplet molecule and the triplet atom to generate an ordering of the energies. Similar to [this figure](https://chem.libretexts.org/Bookshelves/Physical_and_Theoretical_Chemistry_Textbook_Maps/Physical_Chemistry_(LibreTexts)/09%3A_Chemical_Bonding_in_Diatomic_Molecules/9.10%3A_Molecular_Orbital_Theory_Predicts_that_Molecular_Oxygen_is_Paramagnetic), energy should be on the vertical axis. Your plot can be as sophisticated or as simple as you like, but should contain all of the following information:\n",
    "* show the degeneracy in energy between distinct states (ie, that the two 2s states have the same energy and the two 2p states have the same energy, although the latter corresponds to a different (microstate!) spin configuration);\n",
    "* use the lecture slides (particularly the slide 'molecular orbitals for simple diatomic molecules') to show and label the molecular orbital splitting between the $s$ resp. $p$ orbitals;\n",
    "* show the respective spin configuration of each shell (up resp. down);\n",
    "* contain all necessary labels (see the snippet above)\n",
    "* use what was learned in class to explain why molecular oxygen is paramagnetic\n",
    "\n"
   ]
  },
  {
   "cell_type": "code",
   "execution_count": 103,
   "id": "790267ca-57f1-44c1-9705-e413fc467bf5",
   "metadata": {},
   "outputs": [
    {
     "data": {
      "text/plain": [
       "Text(0.5, 1.0, 'Energy levels for the O2 molecule')"
      ]
     },
     "execution_count": 103,
     "metadata": {},
     "output_type": "execute_result"
    },
    {
     "data": {
      "image/png": "[encoded data removed]",
      "text/plain": [
       "<Figure size 640x480 with 1 Axes>"
      ]
     },
     "metadata": {},
     "output_type": "display_data"
    },
    {
     "data": {
      "image/png": "[encoded data removed]",
      "text/plain": [
       "<Figure size 640x480 with 1 Axes>"
      ]
     },
     "metadata": {},
     "output_type": "display_data"
    }
   ],
   "source": [
    "os.chdir('/cluster/home/lenag/Molecular-and-Materials-Modelling-FS2023/exercise6')\n",
    "import matplotlib.pyplot as plt\n",
    "\n",
    "#in the file \"energies_assignment4.txt\" the values are stored in the following way\n",
    "#spin (1 or 2), energy, Molecule/Atom (mol or atom)\n",
    "file = './energies_assignment4.txt'\n",
    "\n",
    "#now 2 plots are made, one for the molecule and one for the atom\n",
    "with open(file, \"r\") as f:\n",
    "    lines = f.readlines()\n",
    "    #print(lines)\n",
    "    mol = []\n",
    "    atom = []\n",
    "    for i in range(1, len(lines)):\n",
    "        line = lines[i]\n",
    "        line = line[0:-1]\n",
    "        if line.find(\"mol\") > -1:\n",
    "            mol.append(line)\n",
    "        else:\n",
    "            atom.append(line)\n",
    "                                              \n",
    "#print(\"MOLECULE\", mol)\n",
    "#print(\"ATOM\", atom)\n",
    "\n",
    "#for the molecule\n",
    "\n",
    "# Create an empty matrix to store the data\n",
    "MOLECULE = []\n",
    "\n",
    "# Loop through each string in the list\n",
    "for str in mol:\n",
    "    # Split the string into columns based on the space character\n",
    "    columns = str.split()\n",
    "    # Append the columns to the matrix\n",
    "    MOLECULE.append(columns)\n",
    "    \n",
    "#plot 1\n",
    "energies = [float((row[1])) for row in MOLECULE]\n",
    "spins = [float((row[0])) for row in MOLECULE]\n",
    "plt.plot(spins[0:9], energies [0:9], '^')\n",
    "plt.plot(spins[9:], energies [9:], 'v')\n",
    "\n",
    "plt.xlabel('Spin up (1), Spin down (2)')\n",
    "plt.ylabel('Energy [eV]')\n",
    "plt.title('Energy levels for the O2 molecule')\n",
    "\n",
    "#for the atom\n",
    "# Create an empty matrix to store the data\n",
    "ATOM = []\n",
    "\n",
    "# Loop through each string in the list\n",
    "for str in atom:\n",
    "    # Split the string into columns based on the space character\n",
    "    columns = str.split()\n",
    "    # Append the columns to the matrix\n",
    "    ATOM.append(columns)\n",
    "\n",
    "#plot 2\n",
    "plt.figure()\n",
    "energies = [float((row[1])) for row in ATOM]\n",
    "spins = [float((row[0])) for row in ATOM]\n",
    "plt.plot(spins[0:5], energies [0:5], '^')\n",
    "plt.plot(spins[5:], energies [5:], 'v')\n",
    "\n",
    "plt.xlabel('Spin up (1), Spin down (2)')\n",
    "plt.ylabel('Energy [eV]')\n",
    "plt.title('Energy levels for the O2 molecule')\n"
   ]
  },
  {
   "cell_type": "markdown",
   "id": "9163a070-dc3d-4191-bcd4-961a516c1ff9",
   "metadata": {},
   "source": [
    "### End Assignment 4"
   ]
  },
  {
   "cell_type": "code",
   "execution_count": null,
   "id": "04623fda-a5d8-49c2-8790-006c06a0174c",
   "metadata": {},
   "outputs": [],
   "source": []
  }
 ],
 "metadata": {
  "kernelspec": {
   "display_name": "Python 3 (ipykernel)",
   "language": "python",
   "name": "python3"
  },
  "language_info": {
   "codemirror_mode": {
    "name": "ipython",
    "version": 3
   },
   "file_extension": ".py",
   "mimetype": "text/x-python",
   "name": "python",
   "nbconvert_exporter": "python",
   "pygments_lexer": "ipython3",
   "version": "3.10.4"
  }
 },
 "nbformat": 4,
 "nbformat_minor": 5
}
