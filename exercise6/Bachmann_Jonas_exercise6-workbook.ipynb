{
 "cells": [
  {
   "cell_type": "markdown",
   "id": "999f1565-9c2e-446f-ac47-23842440bc3c",
   "metadata": {},
   "source": [
    "# Exercise 5: the formation of molecular oxygen using molecular orbital theory\n",
    "\n",
    "This exercise examines the formation of **triplet oxygen**, the most stable and most common allotropic form of O$_2$. Triplet oxygen has two electrons in its two **degenerate** (i.e., having the same energy, or, more formally, two distinct microstates corresponding to the same macrostate) $\\pi^*$ orbitals. There are four independent spin states arising from these two spin-1/2 electrons, and so there are a total of $\\binom{4}{2}=6$ possible ways (microstates) to arrange the two electrons into the two degenerate $\\pi^*$ orbitals. Here, we will only consider the triply-degenerate ground state: according to **Hund's rules**, the configuration with two unpaired electrons in two $\\pi^*$ orbitals is energetically favoured.\n",
    "\n",
    "In the following, you will generate a [molecular orbital schema](https://en.wikipedia.org/wiki/Triplet_oxygen#/media/File:Valence_orbitals_of_oxygen_atom_and_dioxygen_molecule_(diagram).svg) for triplet oxygen, that is, the configuration for which the total spin equals 1."
   ]
  },
  {
   "cell_type": "markdown",
   "id": "dfdbbd4e-83d1-4d01-8b95-f781352dfb15",
   "metadata": {},
   "source": [
    "## 1. Introduction\n",
    "\n",
    "Log into your account on `JupyterHub` in a similar manner as described in previous exercises, and `pull` the newest exercise files from the GitHub repository:\n",
    "```bash\n",
    "    $ git init\n",
    "  # $ git stash\n",
    "    $ git pull https://github.com/ramador09/Molecular-and-Materials-Modelling-FS2023.git\n",
    "    $ cd exercise-6_files\n",
    "```\n",
    "## 2. The triplet molecule\n",
    "### 2.1 The input file: a closer look\n",
    "\n",
    "Move into the directory for the triplet molecule and open the input file. There is some new syntax in the input file, including use of the `@`, `$`, and `{}`characters. We will go through them briefly here as well as live in the exercise:\n",
    "\n",
    "* `@`: in the combination `@SET`, this command at the beginning of an input file allows us to define variables which we will reference later in the input file\n",
    "* `$`: syntax inherited from Unix: used to indicate that a variable will be referred to; requires curly braces `{}` afterwards\n",
    "* `{}`: encloses the name of a variable to be referred to\n",
    "\n",
    "This syntax is best illustrated by perusing the input file. Furthermore, the lines \n",
    "\n",
    "```\n",
    "&E_DENSITY_CUBE\n",
    "&END E_DENSITY_CUBE\n",
    "NLUMO 1\n",
    "NHOMO 1\n",
    "```\n",
    "in the `&PRINT` subsection in `&DFT` will generate the files that we will use for this exercise.\n",
    "\n",
    "The submit script (almost identical to that of exercise 3) is:\n",
    "\n",
    "```\n",
    "#!/bin/bash\n",
    "\n",
    "#SBATCH -N 1\n",
    "#SBATCH -n 1\n",
    "#SBATCH --time=4:00:00\n",
    "#SBATCH --job-name=\"nice name\"\n",
    "#SBATCH --mem-per-cpu=1024\n",
    "#SBATCH --output=stdout.txt\n",
    "#SBATCH --error=stderr.txt\n",
    "\n",
    "# module load openmpi/4.0.2\n",
    "# module load gcc/6.3.0 openmpi/4.0.2 cp2k/8.2\n",
    "INP=triplet.inp\n",
    "OUT=triplet.out\n",
    "/cluster/scratch/danielep/cp2k.ssmp -i triplet.inp > triplet.out\n",
    "```\n",
    "\n",
    "Make sure the input file and submit script are in the same directory and submit the geometry optimization; it shouldn't take so long to run. Import some necessary packages and libraries by executing the following cell:"
   ]
  },
  {
   "cell_type": "code",
   "execution_count": 1,
   "id": "7fcab808-08de-4da0-886c-5893dfc72ac0",
   "metadata": {},
   "outputs": [
    {
     "data": {
      "application/vnd.jupyter.widget-view+json": {
       "model_id": "cc5e59101a38409c878e83bbc94a67e7",
       "version_major": 2,
       "version_minor": 0
      },
      "text/plain": []
     },
     "metadata": {},
     "output_type": "display_data"
    }
   ],
   "source": [
    "from ase.visualize import view\n",
    "from ase.io import read\n",
    "import nglview as nv"
   ]
  },
  {
   "cell_type": "markdown",
   "id": "fdc21211-e622-4a92-a2f1-e709fbe88545",
   "metadata": {},
   "source": [
    "### 2.2: visualization of the electronic density\n",
    "\n",
    "Once the job has concluded, open one of the `.cube` output files. These types of files are used by CP2K and many other electronic structure programs to store spin, orbital, or electronic density values on a three-dimensional grid. Some good documentation can be found [here](https://h5cube-spec.readthedocs.io/en/latest/cubeformat.html) and [here](https://manual.q-chem.com/5.3/sec_cubefiles.html).\n",
    "\n",
    "**Due to a bug, it is imperative that you copy your `.cube` files to your `/tmp/` directory and access them from there, as in the example, and NOT use them directly in the output directory:**"
   ]
  },
  {
   "cell_type": "code",
   "execution_count": 2,
   "id": "286a47e1-7516-4028-a5c1-72677772e1e2",
   "metadata": {},
   "outputs": [],
   "source": [
    "!cp triplet_mol/o2*.cube /tmp"
   ]
  },
  {
   "cell_type": "code",
   "execution_count": 30,
   "id": "d4e50c95-bb83-4fd4-9991-b01b342d0fc8",
   "metadata": {},
   "outputs": [
    {
     "data": {
      "application/vnd.jupyter.widget-view+json": {
       "model_id": "1654501fa53a4a1c901f77db0b47a2b1",
       "version_major": 2,
       "version_minor": 0
      },
      "text/plain": [
       "NGLWidget()"
      ]
     },
     "metadata": {},
     "output_type": "display_data"
    }
   ],
   "source": [
    "file = '/tmp/o2-ELECTRON_DENSITY-1_0.cube'\n",
    "atoms = read(file)\n",
    "\n",
    "view = nv.NGLWidget()\n",
    "view.add_component(nv.ASEStructure(atoms))\n",
    "\n",
    "c_2 = view.add_component(file)\n",
    "c_2.clear()\n",
    "c_2.add_surface(color='blue', isolevelType=\"value\", isolevel=-0.005, opacity=0.05)\n",
    "\n",
    "c_3=view.add_component(file)\n",
    "c_3.clear()\n",
    "c_3.add_surface(color='green', isolevelType=\"value\", isolevel=0.015, opacity=0.15)\n",
    "\n",
    "view\n",
    "print(\"hey\")"
   ]
  },
  {
   "cell_type": "markdown",
   "id": "8ce45ed0-0ea6-40e4-a5cd-8f0e2d7d39b1",
   "metadata": {},
   "source": [
    "**!! Note: in this case as in the rest of the exercise, you might need to play around a bit with the values of the `isolevel` parameter. In general, both values should be quite small (ie absolute values close to zero), with one being negative and one being positive. !!**"
   ]
  },
  {
   "cell_type": "markdown",
   "id": "9cdeb0b7-2045-4f12-8647-658b088de1b0",
   "metadata": {},
   "source": [
    "### 2.3: Computing density differences\n",
    "\n",
    "This however is just the electronic density of the oxygen molecule: what is probably more interesting, are density *differences*. In order to compute these differences, we use a tool called [cubecruncher](https://github.com/cp2k/cp2k/tree/master/tools/cubecruncher), which allows us to perform various operations on cube files -- notably subtraction.\n",
    "\n",
    "Our goal is to obtain the density difference, and as such, we must subtract off the electron densities of each of the individual (!) oxygen atoms. To do this, we run two more simulations (ie, one for each of the individual atoms), whereby each simulation will generate the electron density (in turn, contained in its respective cube file) of that respective oxygen atom.\n",
    "\n",
    "1. We proceed by making a new directory within the current one: `$ mkdir diffs`\n",
    "2. Move into the `diffs` directory and copy the full electron density from the foregoing calculation into the `diffs` directory; give it a more suitable name if it helps:\n",
    "```bash\n",
    "$ cd diffs\n",
    "$ cp ../o2_trip-ELECTRON_DENSITY-1_0.cube ./full.cube\n",
    "```\n",
    "3. We now need to run the same simulation as for the molecule, except now for each of the individual two oxygen atoms. Let's make two new directories to contain these new simulations, and we copy the input file and run script from the parent calculation into these new directories:\n",
    "\n",
    "```bash\n",
    "$ mkdir o1\n",
    "$ mkdir o2\n",
    "$ cp ../{triplet.inp,submit.sh} o1\n",
    "$ cp ../{triplet.inp,submit.sh} o2\n",
    "```\n",
    "\n",
    "4. Move into the `o1` directory and remove the atom labeled `O2`:\n",
    "\n",
    "```\n",
    "    &COORD [angstrom]\n",
    "  O1         6.2069331992        6.2068856913        5.6293948156\n",
    "  O2         6.2068666902        6.2069143409        6.7844056115 #REMOVE\n",
    "    &END COORD\n",
    "```\n",
    "\n",
    "and its associated `&KIND` a few lines later:\n",
    "\n",
    "```\n",
    "    &KIND O2 #REMOVE ALL THIS\n",
    "       MAGNETIZATION 0\n",
    "       ELEMENT O\n",
    "       BASIS_SET aug-cc-pVTZ\n",
    "       POTENTIAL ALL\n",
    "   &END KIND\n",
    "```\n",
    "\n",
    "5. For bookkeeping's sake, change the name of the project:\n",
    "```\n",
    "PROJECT o1\n",
    "```\n",
    "and save and quit the file.\n",
    "\n",
    "6. For bookkeeping's sake, it might not be a bad idea to change the name of the input file itself. Don't forget to adjust anything in the submit script accordingly. Once everything is good, submit the job.\n",
    "\n",
    "7. Repeat steps 4-6 for o2.\n",
    "\n",
    "8. Copy (or move) the electron density files from each of the individual atoms into the `diff` directory (your relative paths might be a bit different depending on which directory exactly you're currently in):\n",
    "```bash\n",
    "$ cp o1/o1-ELECTRON_DENSITY-1_0.cube ./o1.cube\n",
    "$ cp o2/o2-ELECTRON_DENSITY-1_0.cube ./o2.cube\n",
    "```\n",
    "\n",
    "9. Now we have the three files --- `full.cube, o1.cube, o2.cube` --- which we'll need to plot the density differences. Let's first take `full.cube` minus `o1.cube` and save this temporary difference to a file `temp.diff`:\n",
    "```bash\n",
    "$ /cluster/scratch/danielep/cubecruncher.x -i full.cube -o temp.cube -subtract o1.cube\n",
    "```\n",
    "\n",
    "10. Now we subtract `o2.cube` from `temp.cube` and store the desired difference file to `diff.cube`:\n",
    "```bash\n",
    "$ /cluster/scratch/danielep/cubecruncher.x -i temp.cube -o diff.cube -subtract o2.cube\n",
    "```"
   ]
  },
  {
   "cell_type": "markdown",
   "id": "6021c068-2fb3-4bab-b3be-00e0e6b53c4b",
   "metadata": {},
   "source": [
    "### Assignment 1: Visualizing the electronic density difference\n",
    "\n",
    "Use the code of a few cells above (modify as necessary) to visualize the `diff.cube` file. Comment on how it differences from the first plot."
   ]
  },
  {
   "cell_type": "code",
   "execution_count": 3,
   "id": "eb7c700f-b514-4de9-9029-60663e6b751b",
   "metadata": {},
   "outputs": [],
   "source": [
    "!cp triplet_mol/diffs/diff.cube $SCRATCH/tmp"
   ]
  },
  {
   "cell_type": "code",
   "execution_count": 8,
   "id": "5671c054",
   "metadata": {},
   "outputs": [
    {
     "data": {
      "application/vnd.jupyter.widget-view+json": {
       "model_id": "2c3a1a362b5948d3a70ef72e2696639b",
       "version_major": 2,
       "version_minor": 0
      },
      "text/plain": [
       "NGLWidget()"
      ]
     },
     "metadata": {},
     "output_type": "display_data"
    }
   ],
   "source": [
    "file2 = '/cluster/scratch/jbachmann/tmp/diff.cube'\n",
    "atoms2 = read(file2)\n",
    "\n",
    "view2 = nv.NGLWidget()\n",
    "view2.add_component(nv.ASEStructure(atoms2))\n",
    "\n",
    "c_4 = view2.add_component(file2)\n",
    "c_4.clear()\n",
    "c_4.add_surface(color='blue', isolevelType=\"value\", isolevel=-0.005, opacity=0.05)\n",
    "\n",
    "c_5=view2.add_component(file2)\n",
    "c_5.clear()\n",
    "c_5.add_surface(color='green', isolevelType=\"value\", isolevel=0.005, opacity=0.05)\n",
    "\n",
    "view2"
   ]
  },
  {
   "cell_type": "markdown",
   "id": "09be46b6-e59d-453b-86bd-f6bc8f78a974",
   "metadata": {},
   "source": [
    "**!! NOTE: Your result might not be \"displaying as expected\" (like it was with me). To remedy this, restart your kernel (Kernel -> Shut Down All Kernels) and restart your server. !!**"
   ]
  },
  {
   "cell_type": "markdown",
   "id": "8360ee6f-f5eb-4793-a8c4-ab1bda28edef",
   "metadata": {},
   "source": [
    "### End Assignment 1"
   ]
  },
  {
   "cell_type": "markdown",
   "id": "89e20e69-815b-4bff-8a9a-91d860271058",
   "metadata": {},
   "source": [
    "### Assignment 2: Visualizing the molecular orbitals\n",
    "\n",
    "You will have certainly noticed the plethora of `WFN_000xyz_a-b_c.cube` files generated as a result of the calculation. These are the HOMO-$\\eta$ and LUMO+$\\xi$ orbitals, where the values of $\\eta$ and $\\xi$ were specified in the `.inp` file, respectively. \n",
    "\n",
    "1. The first subtask of this assignment will simply involve decoding the names of these files, and assigning them to the respective molecular orbital (HOMO-3, LUMO+2, etc.) to which they belong. Open one of these `WFN_000xyz_a-b_c.cube` files and observe how the first two lines (which are indeed always **comment** lines in `.cube` files) look like (for the `o2-WFN_00001_1-1_0.cube` file):\n",
    "\n",
    "```\n",
    "-Quickstep-\n",
    "  WAVEFUNCTION            1  spin            1  i.e. HOMO -           -8\n",
    "```\n",
    "\n",
    "Write a script, either in Python or in Bash, that takes the \"informational part\" of the file name,  extracts the data of the second comment line, and writes this information to a `.txt` file. The script should loop through all the `WFN` files in the current directory. This `.txt` file will be your reference for the remainder of this exercise. If you do it in Python, you might need the `sys` and/or `os` libraries; if you do it in Bash, you'll surely need `grep`. In any case, completion of this subtask will involve some string manipulation. The `.txt` file might look like something similar to this:\n",
    "\n",
    "```\n",
    "file wavefunction spin orbital\n",
    "00001_1-1_0 1 1 HOMO-8\n",
    "...\n",
    "```\n",
    "\n",
    "Of course, it doesn't *have* to look like *exactly* like this, but a format similar to the above might be helpful.\n",
    "\n",
    "2. Now that we've got a correspondence between these \"cryptic\" `WFN.cube` files and the orbitals they contain, we can plot them. Using the `.txt` file you generated in subtask 1 as a reference (so that you know exactly what files to plot), plot all of the occupied orbitals and the first 3 or 4 unoccupied orbitals. "
   ]
  },
  {
   "cell_type": "code",
   "execution_count": 4,
   "id": "1d5d7b42",
   "metadata": {},
   "outputs": [],
   "source": [
    "# your code here\n",
    "\n",
    "import pandas as pd"
   ]
  },
  {
   "cell_type": "code",
   "execution_count": 5,
   "id": "03285d55-7644-4c3f-a8e3-9041f943fd13",
   "metadata": {
    "tags": []
   },
   "outputs": [],
   "source": [
    "\n",
    "def plot_wave_func(df, kind, orbital):\n",
    "    df = df.sort_values(\"orbital\")\n",
    "    occupied = df.loc[df[\"orbital\"].str.contains(\"HOMO\")]\n",
    "    unoccupied = df.loc[df[\"orbital\"].str.contains(\"LUMO\")]\n",
    "\n",
    "    if kind == \"HOMO\":\n",
    "        rows = occupied.loc[occupied[\"orbital\"].str.contains(f\"{orbital}\")]\n",
    "        isolevel = 1e-5\n",
    "    elif kind == \"LUMO\":\n",
    "        uq = unoccupied[\"orbital\"].unique()\n",
    "        rows = unoccupied.loc[unoccupied[\"orbital\"].str.contains(uq[orbital])]\n",
    "        isolevel = 1e-3\n",
    "    else:\n",
    "        raise ValueError\n",
    "    \n",
    "    print(rows)\n",
    "    colors = [[\"darkblue\", \"green\"], [\"blue\", \"lightgreen\"]]\n",
    "    spins = [\"up\", \"down\"]\n",
    "    \n",
    "    view3 = nv.NGLWidget()\n",
    "    \n",
    "    for index, row in rows.iterrows():\n",
    "        spin = row[\"spin\"] - 1\n",
    "        print(f\"spin {spins[spin]}:\", colors[spin])\n",
    "        file = f\"/tmp/{row['file']}\"\n",
    "        atom = read(file)\n",
    "        view3.add_component(nv.ASEStructure(atom))\n",
    "        c_4 = view3.add_component(file)\n",
    "        c_4.clear()\n",
    "        c_4.add_surface(color=colors[row[\"spin\"]-1][0], isolevelType=\"value\", isolevel=-isolevel, opacity=0.05)    \n",
    "        c_5 = view3.add_component(file)\n",
    "        c_5.clear()\n",
    "        c_5.add_surface(color=colors[row[\"spin\"]-1][1], isolevelType=\"value\", isolevel=isolevel, opacity=0.05)    \n",
    "    return view3\n"
   ]
  },
  {
   "cell_type": "markdown",
   "id": "2f9120f3-12c4-46b8-aa22-fe8666279261",
   "metadata": {},
   "source": [
    "The above code plotts the wave function orbitals for all present electrons for a given HOMO$-\\eta$ ar LUMO$+\\xi$ orbitals.\n",
    "\n",
    "I.e. calling `plot_wave_func(df, \"HOMO\", 2)` will plot the spin up and spin down (if present) electron for the HOMO$-2$ orbital, where df is the file giving the correspondence between files and orbitals from the task above."
   ]
  },
  {
   "cell_type": "code",
   "execution_count": 6,
   "id": "def0b1d4-5716-4461-a813-56174b791077",
   "metadata": {},
   "outputs": [
    {
     "name": "stdout",
     "output_type": "stream",
     "text": [
      "                       file  wavefunction  spin orbital\n",
      "9   o2-WFN_00005_2-1_0.cube             5     2  HOMO-2\n",
      "12  o2-WFN_00007_1-1_0.cube             7     1  HOMO-2\n",
      "spin down: ['blue', 'lightgreen']\n",
      "spin up: ['darkblue', 'green']\n"
     ]
    },
    {
     "data": {
      "application/vnd.jupyter.widget-view+json": {
       "model_id": "02864c24ccf74c6fbe7da6d037f48407",
       "version_major": 2,
       "version_minor": 0
      },
      "text/plain": [
       "NGLWidget()"
      ]
     },
     "metadata": {},
     "output_type": "display_data"
    }
   ],
   "source": [
    "names = \"triplet_mol/names.txt\"\n",
    "df = pd.read_csv(names, sep=\" \")\n",
    "\n",
    "plot_wave_func(df, \"HOMO\", 2)"
   ]
  },
  {
   "cell_type": "markdown",
   "id": "12c56450-7c04-4425-a383-5c327b0adf73",
   "metadata": {},
   "source": [
    "### Assignment 3: the triplet atom\n",
    "\n",
    "1. Move into the directory `triplet_atom` and run the same calculation (singular!) now for the single oxygen atom. Visualize the eletron density `ELECTRON_DENSITY-1_0.cube`. Comment on the important differences between the plot of the electron density.\n",
    "\n",
    "2. Plot all of the orbitals and comment on the difference. Note that the text \"HOMO\", \"LUMO\" in the context of the single oxygen atom is, strictly taken, not so correct, since these are purely atomic orbitals. What do you notice about the differences between the atomic orbitals and the molecular orbitals at the same level?"
   ]
  },
  {
   "cell_type": "code",
   "execution_count": 7,
   "id": "a63c5991-027d-4065-ba19-3b97d11b837f",
   "metadata": {},
   "outputs": [],
   "source": [
    "### your code here\n",
    "!cp triplet_atom/o-WFN*.cube /tmp"
   ]
  },
  {
   "cell_type": "code",
   "execution_count": 122,
   "id": "609f33d3-42f3-42a8-ac73-8d980e0c65ad",
   "metadata": {},
   "outputs": [
    {
     "name": "stdout",
     "output_type": "stream",
     "text": [
      "                      file  wavefunction  spin orbital\n",
      "7   o-WFN_00004_2-1_0.cube             4     2   LUMO0\n",
      "10  o-WFN_00006_1-1_0.cube             6     1   LUMO0\n",
      "spin down: ['blue', 'lightgreen']\n",
      "spin up: ['darkblue', 'green']\n"
     ]
    },
    {
     "data": {
      "application/vnd.jupyter.widget-view+json": {
       "model_id": "6390a1a87633426bb1a3f7adbe564650",
       "version_major": 2,
       "version_minor": 0
      },
      "text/plain": [
       "NGLWidget()"
      ]
     },
     "metadata": {},
     "output_type": "display_data"
    }
   ],
   "source": [
    "names = \"triplet_atom/names.txt\"\n",
    "df = pd.read_csv(names, sep=\" \")\n",
    "\n",
    "plot_wave_func(df, \"LUMO\", 0)"
   ]
  },
  {
   "cell_type": "markdown",
   "id": "66e9fb6b-002e-490c-81f3-eb2e5b7999b6",
   "metadata": {},
   "source": [
    "### End Assignment 3"
   ]
  },
  {
   "cell_type": "markdown",
   "id": "40a90b17",
   "metadata": {},
   "source": [
    "## 3. ~~Reading~~ Interpreting the output files.\n",
    "\n",
    "Before concluding today's exercise, there are two pieces of information that we should be made aware of, which can be found towards the end of the respective `.out` files. Open the `triplet.out` file for the molecule and scroll towards the bottom until you find\n",
    "\n",
    "```\n",
    "  Eigenvalues of the occupied subspace spin            1\n",
    " ---------------------------------------------\n",
    "     -18.91106343     -18.91098286      -1.20199960      -0.75825075\n",
    "      -0.49784172      -0.49451467      -0.49451467      -0.25446183\n",
    "      -0.25446183\n",
    " Fermi Energy [eV] :   -6.924259\n",
    "  \n",
    "  Eigenvalues of the occupied subspace spin            2\n",
    " ---------------------------------------------\n",
    "     -18.88507991     -18.88499208      -1.15811454      -0.69227713\n",
    "      -0.46456304      -0.42601125      -0.42601125\n",
    " Fermi Energy [eV] :  -11.592356\n",
    "```\n",
    "\n",
    "Even though we didn't plot and visualize the spin densities explicitly, we should note that we have indeed calculated them (see the output files). The table of `Eigenvalues of the occupied subspace spin` shows exactly the spin-splitting phenomenon that we expect from the molecular orbital schema of oxygen; the `1` resp. `2` indicates the spin up and spin down. "
   ]
  },
  {
   "cell_type": "markdown",
   "id": "aa151f6f-d30e-4cf7-83bc-b71adde6a846",
   "metadata": {},
   "source": [
    "### Assignment 4: extraction of the energies and construction of the MO schema\n",
    "\n",
    "Use the values of the energy from the output files of the calculations from both the triplet molecule and the triplet atom to generate an ordering of the energies. Similar to [this figure](https://chem.libretexts.org/Bookshelves/Physical_and_Theoretical_Chemistry_Textbook_Maps/Physical_Chemistry_(LibreTexts)/09%3A_Chemical_Bonding_in_Diatomic_Molecules/9.10%3A_Molecular_Orbital_Theory_Predicts_that_Molecular_Oxygen_is_Paramagnetic), energy should be on the vertical axis. Your plot can be as sophisticated or as simple as you like, but should contain all of the following information:\n",
    "* show the degeneracy in energy between distinct states (ie, that the two 2s states have the same energy and the two 2p states have the same energy, although the latter corresponds to a different (microstate!) spin configuration);\n",
    "* show the molecular orbital splitting between the $s$ resp. $p$ orbitals;\n",
    "* show the respective spin configuration of each shell (up resp. down);\n",
    "* contain all necessary labels\n",
    "* use what was learned in class to explain why molecular oxygen is paramagnetic\n",
    "\n"
   ]
  },
  {
   "cell_type": "code",
   "execution_count": 8,
   "id": "790267ca-57f1-44c1-9705-e413fc467bf5",
   "metadata": {},
   "outputs": [],
   "source": [
    "### your code here\n",
    "mol_spin_up = np.array([-20.76157671, -20.76095076, -1.70890511, -1.21356831, -0.84116479, -0.84116479, -0.76348818, -0.56457473, -0.56457473])\n",
    "mol_spin_down = np.array([-20.70654391, -20.70540302, -1.57563480, -1.00019707, -0.70279623, -0.57250023, -0.57250023])\n",
    "atom_spin_up = np.array([-20.71085736, -1.41958723, -0.71103451, -0.71103029, -0.61185840])\n",
    "atom_spin_down = np.array([-20.63236456, -1.07732143, -0.52185147])\n",
    "\n",
    "mol_spin_up_reference = np.array([-18.91106343, -18.91098286, -1.20199960, -0.75825075, -0.49784172, -0.49451467, -0.49451467, -0.25446183, -0.25446183])\n",
    "mol_spin_down_reference = np.array([-18.88507991, -18.88499208, -1.15811454, -0.69227713, -0.46456304, -0.42601125, -0.42601125])"
   ]
  },
  {
   "cell_type": "code",
   "execution_count": 58,
   "id": "c604069e-9b6c-48e5-9833-367c691f86f4",
   "metadata": {},
   "outputs": [],
   "source": [
    "import matplotlib.pyplot as plt\n",
    "import numpy as np"
   ]
  },
  {
   "cell_type": "code",
   "execution_count": 121,
   "id": "beed922c-daf9-4dee-9125-534757e962cf",
   "metadata": {},
   "outputs": [
    {
     "data": {
      "image/png": "[encoded data removed]",
      "text/plain": [
       "<Figure size 640x480 with 1 Axes>"
      ]
     },
     "metadata": {},
     "output_type": "display_data"
    }
   ],
   "source": [
    "style = {\"head_width\": 0.003, \"head_length\":0.03, \"shape\": \"right\"}\n",
    "dy = 0.1\n",
    "offset = style[\"head_length\"]\n",
    "\n",
    "def to_plot(eigen_values):\n",
    "    return np.array([i for i in eigen_values if i > -5])\n",
    "\n",
    "offset_degen = 0.006\n",
    "orbitals_x = np.array([0, 0, 0, -offset_degen, offset_degen, -offset_degen, offset_degen, 0])\n",
    "orbitals_x_at = np.array([0, -offset_degen, 0, offset_degen])\n",
    "\n",
    "def plot_mo(eig, spin, orb_x, dx):\n",
    "    eig = to_plot(eig)\n",
    "    length = eig.shape[0]\n",
    "    if spin == 1:\n",
    "        for i in range(length):\n",
    "            plt.arrow(dx + orb_x[i], eig[i], 0, dy, **style)\n",
    "    if spin == 2:\n",
    "        for i in range(length):\n",
    "            plt.arrow(dx + orb_x[i], offset + eig[i], 0, -dy, **style)\n",
    "\n",
    "\n",
    "dx = 0.001\n",
    "molx = 0\n",
    "atx = 0.03\n",
    "refx = -0.03\n",
    "        \n",
    "plot_mo(mol_spin_up, 1, orbitals_x, molx)\n",
    "plot_mo(mol_spin_down, 2, orbitals_x, molx + dx)\n",
    "\n",
    "plot_mo(atom_spin_up, 1, orbitals_x_at, atx)\n",
    "plot_mo(atom_spin_down, 2, orbitals_x_at, atx + dx)\n",
    "\n",
    "plot_mo(mol_spin_up_reference, 1, orbitals_x, refx - dx)\n",
    "plot_mo(mol_spin_down_reference, 2, orbitals_x, refx)\n",
    "\n",
    "orbitals_mol = [\"σ2s\", \"σ2s*\", \"σ2pz\", \"π2px\", \"π2py\", \"π2px*\", \"π2py*\", \"σ2pz*\"]\n",
    "orbitals_at = [\"2s\", \"2px\", \"2py\", \"2pz\"]\n",
    "\n",
    "def label_levels(eig, x, orb, orbx):\n",
    "    for i, e in enumerate(to_plot(eig)):\n",
    "        plt.hlines(y=e + 0.02, xmin=x -2*dx + orbx[i], xmax=x + 2*dx + orbx[i], color=\"black\")\n",
    "        plt.text(x - 2*dx + orbx[i], e - 0.1, orb[i])\n",
    "    \n",
    "label_levels(mol_spin_up_reference, refx, orbitals_mol, orbitals_x)\n",
    "label_levels(mol_spin_up, molx, orbitals_mol, orbitals_x)\n",
    "label_levels(atom_spin_up, atx, orbitals_at, orbitals_x_at)\n",
    "\n",
    "# Plot the splitting\n",
    "# s-orbital\n",
    "plt.plot([molx, atx], [mol_spin_up[2], atom_spin_up[1]], linestyle=\"dashed\", color=\"lightblue\")\n",
    "plt.plot([molx, atx], [mol_spin_up[3], atom_spin_up[1]], linestyle=\"dashed\", color=\"lightblue\")\n",
    "# p-orbitals\n",
    "plt.plot([molx + offset_degen, atx - offset_degen], [mol_spin_up[4], atom_spin_up[2]], linestyle=\"dashed\", color=\"lightblue\")\n",
    "plt.plot([molx + offset_degen, atx - offset_degen], [mol_spin_up[7], atom_spin_up[2]], linestyle=\"dashed\", color=\"lightblue\")\n",
    "\n",
    "\n",
    "plt.xticks([refx, molx, atx], [\"reference\", \"molecule\", \"atom\"])\n",
    "\n",
    "\n",
    "plt.xlim([-0.04, 0.04])\n",
    "plt.ylim([-1.9, -0.1])\n",
    "plt.show()"
   ]
  },
  {
   "cell_type": "markdown",
   "id": "763ddb5d-c32d-4d77-bc41-fcc5c6c069b0",
   "metadata": {},
   "source": [
    "The \"reference\" plot is with the values given in the exercise, the \"molecule\" and \"atom\" are from my calculations.\n",
    "\n",
    "The referece values have been taken, because the values obtained from my simulations are not accurate enough (probably because of the hartee-fock approximation).\n",
    "\n",
    "The 1s orbitals are not plotted, because they are far away and the interesting information about the 2s and 2p orbitals would be lost.\n",
    "\n",
    "In the \"atom\" plot, where the orbitals af a single atom are, one can nicely see the degeneracy of the p-orbitals (up to some errors). \n",
    "When comparing to the \"molecule\", we can see a nice splitting of the 2s orbitals into binding and antibinding $\\sigma 2s^{(*)}$ orbitals (indicated by the dashed lines). \n",
    "And also the 2p orbitals are splitted into binding and antibinding $\\pi p_{x, y}^{(*)}$ and $\\sigma p_z^{(*)}$ orbitals. \n",
    "Note that the antibinding $\\sigma p_z^{*}$ orbital is not present, because it's not yet occupied.\n",
    "\n",
    "The reason why I have also plotted the reference values, can bee seen in the plots. The down spin atoms tend to have a higher eigen energy value as they should,\n",
    "and hence we do not clearly see, whether the two antibinding $\\pi_x^*$ prbitals are twice occupied or only once in the \"molecule\" plot. \n",
    "Additionally, all the eigen energies seem to be slighly higher than my computed ones.\n",
    "\n",
    "From the reference values, its clear, that the $\\pi p_x^{*}$ and $\\pi p_{y}^{*}$ orbitals are only single occupied and hence there are two unpaired electrons. And hence by definition, $O_2$ is paramagnetic."
   ]
  },
  {
   "cell_type": "markdown",
   "id": "9163a070-dc3d-4191-bcd4-961a516c1ff9",
   "metadata": {},
   "source": [
    "### End Assignment 4"
   ]
  }
 ],
 "metadata": {
  "kernelspec": {
   "display_name": "mmm-venv",
   "language": "python",
   "name": "mmm-venv"
  },
  "language_info": {
   "codemirror_mode": {
    "name": "ipython",
    "version": 3
   },
   "file_extension": ".py",
   "mimetype": "text/x-python",
   "name": "python",
   "nbconvert_exporter": "python",
   "pygments_lexer": "ipython3",
   "version": "3.10.4"
  }
 },
 "nbformat": 4,
 "nbformat_minor": 5
}
