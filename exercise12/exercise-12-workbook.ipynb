{
 "cells": [
  {
   "attachments": {},
   "cell_type": "markdown",
   "metadata": {},
   "source": [
    "# Exercise 12: replica exchange for Lennard-Jones clusters\n",
    "Molecular and Materials Modelling: ETH Zürich, FS 2023\n",
    "\n",
    "Date: Wednesday 17. May 2023\n",
    "\n",
    "Due Date: ?\n",
    "\n",
    "Raymond Amador, Daniele Passerone, Carlo Pignedoli\n",
    "\n",
    "ramador@ethz.ch\n",
    "\n",
    "## 0. Theoretical underpinnings\n",
    "\n",
    "It is frequently necessary to obtain an ergodic sampling of complex energy landscapes. However, as we have encountered in previous exercises, these landscapes may possess several local minima separated by high energy barriers which are difficult to overcome at ambient temperatures over accessible simulation time scales. This means that the results can be dependent on the initial conditions of the simulation, since the initial conditions determine the region of space explored during the run.\n",
    "\n",
    "**Replica exchange** simulations seek to enhance the sampling in such scenarios by running several independent simulations of different copies of the system performed at different temperatures, and periodically exchanging the coordinates of replicas between the ensembles according to the **Metropolis criterion**, thereby generating a sort of generalised ensemble of the simulated system. The goal behind replica exchange simulations is to make configurations at high temperatures available to the simulations at low temperatures and vice versa. This results in a very robust ensemble which is ultimately able to sample the free energy landscape by overcoming high-energy potential energy barriers.\n",
    "\n",
    "![The replica exchange molecular dynamics method. From Qi et.al: https://www.ncbi.nlm.nih.gov/pmc/articles/PMC6484850](replica-exchange.png \"Figure 1\")\n",
    "\n",
    "## 1. Preparation for the exercise.\n",
    "\n",
    "In this exercise we will perform the aforementioned replica exchange simulations. \n",
    "\n",
    "We begin by logging into our accounts on JupyterHub on Euler in a similar manner as described in the previous exercises, and `pull` the newest exercise files from the GitHub repository, making sure that you are in the directory for the course:\n",
    "```bash\n",
    "    $ cd ~/Molecular-and-Materials-Modelling-FS2023\n",
    "    $ git init\n",
    "  # $ git stash\n",
    "    $ git pull https://github.com/ramador09/Molecular-and-Materials-Modelling-FS2023.git\n",
    "```  \n",
    "## 2. Simulations with LAAMPS\n",
    "\n",
    "For this exercise, we are going to perform a parallel tempering simulation with LAMMPS with 12 replicas of the system, modelling each of them in a different processor. Thus, 12 processors are required, one for each replica. Each simulation starts with a different temperature, so we'll have to set up 12 different temperatures:\n",
    "\n",
    "```\n",
    "2.00   2.60   3.64   5   6.63   9.12   12.07   16   21.97   26.83   32.76   40.00\n",
    "```\n",
    "\n",
    "This is done with the LAMMPS, a software package similar to CP2K, yet LAAMPS differs from CP2K in that LAAMPS focuses on classical molecular dynamics and materials modeling. It is mostly used for simulations of solid-state materials (metals, semiconductors), soft matter (biomolecules, polymers) and coarse-grained or mesoscopic systems. Have a look at the input file with the `vim` editor:\n",
    "\n",
    "```bash\n",
    "$ vi input\n",
    "```\n",
    "\n",
    "There is an initialization section, showing the kind of units, the dimensionality, the boundary conditions:\n",
    "\n",
    "```\n",
    "# Initialization\n",
    "units            metal\n",
    "dimension        3\n",
    "boundary         p p p\n",
    "atom_style       atomic\n",
    "```\n",
    "\n",
    "In the second part of the input file a spherical region is defined (to confine the cluster). Then the atoms are read from the `input.dat` file. We also assign a mass to the kind number 1 (there is just one atomic type for Argon):\n",
    "\n",
    "```\n",
    "region rs sphere 0 0 0 12.66\n",
    "read_data        input.dat\n",
    "mass 1 39.948\n",
    "```\n",
    "\n",
    "Then, we define the parameters for the Lennard-Jones potential. The units are eV for epsilon, and angstrom for sigma. The last number is the cutoff, in Angstrom:\n",
    "\n",
    "```\n",
    "pair_style lj/cut 8.5\n",
    "pair_coeff 1 1 0.01042 3.405  8.5\n",
    "```\n",
    "\n",
    "Next, we initialize the fix and the velocity as well as the temperature of each replica. We distribute the temperature exponentially between 2 K and 40 K. In LAMMPS, a `fix` is any operation that is applied to the system during timestepping or minimization. Here we have a `fix` for controlling temperature with NVT (a different temperature for each replica), and a `fix` for applying a harmonic restraint to the spherical region confining the cluster. In this way, the atoms going beyond this region will be elastically pushed back into the sphere. \n",
    "\n",
    "```\n",
    "variable i equal part\n",
    "variable t world  2.00   2.60   3.64   5   6.63   9.12   12.07   16  ...\n",
    "velocity        all        create        $t        293288\n",
    "velocity all zero linear\n",
    "velocity all zero angular\n",
    "fix      1      all      nvt    temp    $t      $t      0.1\n",
    "fix  2 all wall/region rs harmonic 2.0 0.0 0.4\n",
    "```\n",
    "\n",
    "The next section is about writing out each 1000 steps the relevant information about temperature and energy. We also dump a restart file at the end, and every 10000 steps a structure in `.xyz` format:\n",
    "\n",
    "```\n",
    "thermo         1000\n",
    "thermo_style        custom        step  temp     pe ke etotal\n",
    "thermo_modify       line        one\n",
    "restart 5000000 restart.*\n",
    "dump         2 all xyz 10000 structure_$i.xyz\n",
    "dump_modify  2 element \"Ar\" sort id\n",
    "```\n",
    "\n",
    "Finally, we have the command to run the tempering, with an exchange move attempted every 1000th step of molecular dynamics and an initial temperature \\texttt{\\$t} which is different from replica to replica. The last numbers are random seeds that are used for choosing which replica to exchange and for the Metropolis criterion:\n",
    "\n",
    "```\n",
    "temper 5000000 1000 $t 1 3678 3490\n",
    "```\n",
    "\n",
    "### \"Submitting\" the calculation ;-)\n",
    "\n",
    "Execute the following in your terminal to load the necessary modules:\n",
    "\n",
    "```bash\n",
    "$ module load LAMMPS\n",
    "$ export OMP_NUM_THREADS=${SLURM_CPUS_PER_TASK:-1}\n",
    "$ export CRAY_CUDA_MPS=1\n",
    "$ ulimit -s unlimited\n",
    "```\n",
    "\n",
    "and then finally execute \n",
    "\n",
    "```bash\n",
    "$ srun -n 12 lmp_mpi -sf gpu -partition 1 1 1 1 1 1 1 1 1 1 1 1 -in input &\n",
    "```\n",
    "\n",
    "to start the simulation. The main differences to the submission script from the previous exercises are:\n",
    "* we execute LAMMPS with the `lmp_mpi` command;\n",
    "* `-sf gpu` specifies that we run the job with the constraint `gpu`;\n",
    "* `-partition 1 1 ...` sets up the partitions. In particular, there are twelve 1s, since we want to perform twelve parallel calculations, where each calculation runs on one processor."
   ]
  },
  {
   "attachments": {},
   "cell_type": "markdown",
   "metadata": {},
   "source": [
    "## 3. Postprocessing of the simulation\n",
    "### 3.1 Saving processor information\n",
    "\n",
    "The calculation should (hopefully) take about 20 minutes. In the meantime, we can go over the input file together. Once the calculations are concluded you will see different output files for all the processors. In particular for every processor (= replica of the system) you will have a trajectory `structure_i.xyz` and two files that describe the evolution of the system in terms of energies and temperature. The postprocesing will be done within this Jupyter notebook. Begin by importing the necessary modules and libraries by executing the first two cell blocks of code:"
   ]
  },
  {
   "cell_type": "code",
   "execution_count": 1,
   "metadata": {},
   "outputs": [],
   "source": [
    "import numpy as np\n",
    "import scipy\n",
    "from scipy.special import sph_harm\n",
    "from glob import glob\n",
    "from ase.io import read\n",
    "from ase import neighborlist\n",
    "import matplotlib.pyplot as plt"
   ]
  },
  {
   "attachments": {},
   "cell_type": "markdown",
   "metadata": {},
   "source": [
    "We must now make some postprocessing on the output files with the final goal of performing averages at different temperatures. We begin with the `log` file of LAMMPS. This file contains a table with columns corresponding to different processors (i.e. replicas) and rows corresponding to simulation time. The numbers correspond to the reference temperature (1 = 1st reference temperature = 2K;  2 = 2nd reference temperature = 2.60 K ...). thus, these numbers change according to how the replicas are exchanged. For example, consider the lines:\n",
    "\n",
    "```\n",
    "[step  repl.0  repl.1  repl.2  repl.3  repl.4   repl.5     \\\\\n",
    "0        0       1       2       3       4        5          \\\\\n",
    "0        1       0       2       3       4        5          \\\\\n",
    "//       repl.6  repl.7  repl.8  repl.9  repl.10  repl.11] \\\\\n",
    "//       6       7       8       9       10       11         \\\\\n",
    "//       6       7       8       9       10       11    \n",
    "```\n",
    "\n",
    "At the 0th step (first column) processor 0 starts with temperature $T_0$=2 K, processor 1 with temperature $T_1$=2.60 K and so on, according to the input set up. After 1000 steps, an exchange step is attempted and can be accepted according to Boltzmann factor. If the exchange occurs, the temperature of the two processors are inverted, i.e. the temperature of processor 0 becomes 2.60 K and that of processor 1 becomes 2 K. Thus, the configurations of $T_0$=2 K and the one of $T_1$=2.60 K are changing, thus improving the sampling at both temperatures.\n",
    "\n",
    "Import the dataa nd format it accordingly to the next line of code:"
   ]
  },
  {
   "cell_type": "code",
   "execution_count": 2,
   "metadata": {},
   "outputs": [],
   "source": [
    "#read data\n",
    "exchanges = np.loadtxt('./exercise-12-outputfiles/log.lammps', skiprows=3)\n",
    "\n",
    "#save one column every 10\n",
    "exchanges = exchanges[0:len(exchanges):10 ,  :]"
   ]
  },
  {
   "attachments": {},
   "cell_type": "markdown",
   "metadata": {},
   "source": [
    "Secondly, it is necessary to read the `log` files of every system. These files contain tables with columns corresponding to temperature and energies of the replicas simulated in each processor and rows corresponding to simulation time. We store them in a single file named `processor`. Each column processor `i` gives the information for the `i`th processor. The structure of processor `i` files is then:\n",
    "\n",
    "```\n",
    "0: step  1: temperature  2: potential energy  3: kinetic energy \\\\\n",
    "4: total energy\n",
    "```\n",
    "\n",
    "Execute the next cell code block in order to generate these `processor` files:"
   ]
  },
  {
   "cell_type": "code",
   "execution_count": 3,
   "metadata": {},
   "outputs": [],
   "source": [
    "processor = np.empty((12,501,5))\n",
    "for i in range(12):\n",
    "    temporary = np.loadtxt('./exercise-12-outputfiles/log.lammps.'+str(i), skiprows=53, max_rows=5001)\n",
    "    processor[i] = temporary[0:len(temporary):10 ,  :]"
   ]
  },
  {
   "attachments": {},
   "cell_type": "markdown",
   "metadata": {},
   "source": [
    "As an instructive example, run the next mini code block to print what the first line of the 10th processor contains:"
   ]
  },
  {
   "cell_type": "code",
   "execution_count": 4,
   "metadata": {},
   "outputs": [
    {
     "data": {
      "text/plain": [
       "array([ 1.0000000e+04,  3.0449718e+01, -1.5642300e+00,  1.4562959e-01,\n",
       "       -1.4186004e+00])"
      ]
     },
     "execution_count": 4,
     "metadata": {},
     "output_type": "execute_result"
    }
   ],
   "source": [
    "#example: 10th processor, first line\n",
    "processor[10][1]"
   ]
  },
  {
   "attachments": {},
   "cell_type": "markdown",
   "metadata": {},
   "source": [
    "### 3.2. Bond order parameters\n",
    "\n",
    "We now need to create a function for the calculation of bond order parameters (or Steinhardt order parameters), which we have already met in Exercise 3. As a short recap, they are defined as:\n",
    "\n",
    "$$\n",
    "Q_l^2 = \\frac{4 \\pi}{2l+1} \\sum_{m=-l}^l |q_{lm}|^2\n",
    "\\qquad\n",
    " \\text{with}:\n",
    " \\quad\n",
    " q_{lm} = \\frac{1}{N_{bonds}} \\sum_{N_n} Y_{lm} (\\theta_{ij}, \\phi_{ij}).\n",
    "$$\n",
    "\n",
    "These parameters hold the information of the local structure and are sensitive to different symmetries. Just as in Exercise 3, the center of mass of the full 38-atom cluster is calculated, and thereafter the single nearest neighbour atom to the center of mass is selected. This nearest neighbour plus its own 12 nearest neighbours themselves define the \"core\" of the total 38-atom cluster. This process is repeated over all vectors pointing from the center of mass of the 38-atom cluster to all $N_b$ bonds over the formed over the  We first define a general `Python` function for $Q_l$ calculation, and then compute $Q_4$ for all the computed trajectories by simply calling the function. Execute the code block which defines a function `QL`, which is of course identical to that in Exercise 3:"
   ]
  },
  {
   "cell_type": "code",
   "execution_count": 5,
   "metadata": {},
   "outputs": [],
   "source": [
    "def QL(l, trajectory):\n",
    "    \"\"\"\n",
    "    Calculate the QL order parameter for a given trajectory.\n",
    "\n",
    "    Args:\n",
    "        l (int): the order of the QL parameter; corresponds to the l in the spherical harmonics\n",
    "        trajectory (ase.Atoms): the trajectory to be analyzed\n",
    "    \n",
    "    Returns:\n",
    "        Ql (np.array): the Ql order parameter for each frame of the trajectory\n",
    "    \"\"\"\n",
    "    \n",
    "    rcut = 3.405*1.391/2 #in Angstrom\n",
    "    \n",
    "    #update the cutoff for each frame\n",
    "    for frame in trajectory: \n",
    "        array_rcut         = np.ones(len(frame))*rcut\n",
    "        new_neighbour_list = neighborlist.NeighborList(array_rcut,skin=0, self_interaction=False, bothways=False)\n",
    "        new_neighbour_list.update(frame)\n",
    "    \n",
    "    \n",
    "    #compute Ql for each frame\n",
    "    Ql = np.empty(len(trajectory))\n",
    "    i  = 0\n",
    "    \n",
    "    for frame in trajectory:\n",
    "        nbonds = 0\n",
    "        qlm    = np.zeros(2*l+1) \n",
    "        \n",
    "        for atom in frame:\n",
    "            nlist = new_neighbour_list.get_neighbors(atom.index)[0]\n",
    "                \n",
    "            for theneig in nlist:   #cycle over the neighbours\n",
    "                #get angles and distances\n",
    "                nbonds   = nbonds+1\n",
    "                rij      = frame[theneig].position - atom.position\n",
    "                dist     = np.linalg.norm(rij)\n",
    "                phi_ij   = np.arccos(rij[2]/dist)\n",
    "                theta_ij = np.arctan2(rij[1],rij[0])\n",
    "                if theta_ij < 0:\n",
    "                    theta_ij += 2*np.pi\n",
    "                \n",
    "                #move in spherical coordinates space\n",
    "                    # In a like-oriented coordinate system at j,\n",
    "                    #the spherical coordinates of atom i are:\n",
    "                if theta_ij  <= np.pi:\n",
    "                    theta_ji  = theta_ij + np.pi\n",
    "                elif theta_ij > np.pi:\n",
    "                    theta_ji  = theta_ij - np.pi\n",
    "                if np.absolute(theta_ji-2*np.pi)<0.0001:\n",
    "                    theta_ji=0.0\n",
    "                phi_ji = np.pi-phi_ij\n",
    "                \n",
    "                #compute spherical harmonics and perform qml summation \n",
    "                qlm = qlm + np.array([ sph_harm(m,l,theta_ij,phi_ij) for m in range(-l,l+1) ])\n",
    "                \n",
    "        qlm   =  np.real(qlm*np.conj(qlm)/(nbonds*nbonds))\n",
    "        \n",
    "        #prefactor and second summation\n",
    "        Ql[i] =  np.sqrt(np.pi *4 /(2*l+1)*np.sum(qlm))\n",
    "        i    += 1\n",
    "    return Ql"
   ]
  },
  {
   "attachments": {},
   "cell_type": "markdown",
   "metadata": {},
   "source": [
    "Now execute the code block defining `Q4`:"
   ]
  },
  {
   "cell_type": "code",
   "execution_count": 6,
   "metadata": {},
   "outputs": [],
   "source": [
    "Q4 = np.empty((12,501))\n",
    "for i in range(12):\n",
    "    trajectory = read('./exercise-12-outputfiles/structure_'+str(i)+'.xyz', index=':')\n",
    "    Q4[i] = QL(4, trajectory)"
   ]
  },
  {
   "attachments": {},
   "cell_type": "markdown",
   "metadata": {},
   "source": [
    "We store the value of $Q_4$ as an extra column of processor `i` files and we name the new outcome as `T_E_Q4`. Each `T_E_Q4` gives the information for the `i`th processor. Execute the code block defining the `T_E_Q4` files:"
   ]
  },
  {
   "cell_type": "code",
   "execution_count": 7,
   "metadata": {},
   "outputs": [],
   "source": [
    "T_E_Q4 = np.empty((12,501,6))\n",
    "for i in range(12):\n",
    "    T_E_Q4[i] = np.column_stack((processor[i], Q4[i]))"
   ]
  },
  {
   "attachments": {},
   "cell_type": "markdown",
   "metadata": {},
   "source": [
    "Similar to the processor `i` files above, the structure of the `T_E_Q4` files is:\n",
    "\n",
    "```\n",
    "0: step  1: temperature  2: potential energy 3: kinetic energy  4: total energy  5: Q4\n",
    "```\n",
    "\n",
    "Once again as an instructive example, run the next mini code block to print an example for the 10th processor and how to access various elements of this array:"
   ]
  },
  {
   "cell_type": "code",
   "execution_count": 8,
   "metadata": {},
   "outputs": [
    {
     "name": "stdout",
     "output_type": "stream",
     "text": [
      "[ 0.         32.503727   -1.7950808   0.15545315 -1.6396276 ]\n",
      "[ 0.         32.503727   -1.7950808   0.15545315 -1.6396276   0.07538811]\n",
      "[[ 0.00000000e+00  3.25037270e+01 -1.79508080e+00  1.55453150e-01\n",
      "  -1.63962760e+00  7.53881126e-02]\n",
      " [ 1.00000000e+06  1.91961530e+01 -1.67469940e+00  9.18080070e-02\n",
      "  -1.58289140e+00  3.04740301e-02]\n",
      " [ 2.00000000e+06  3.82380090e+01 -1.47454400e+00  1.82878070e-01\n",
      "  -1.29166600e+00  9.78817621e-02]\n",
      " [ 3.00000000e+06  2.33833440e+01 -1.55784910e+00  1.11833770e-01\n",
      "  -1.44601540e+00  7.11532176e-02]\n",
      " [ 4.00000000e+06  4.52100170e+01 -1.48196850e+00  2.16222570e-01\n",
      "  -1.26574590e+00  7.65371499e-02]\n",
      " [ 5.00000000e+06  2.41874690e+01 -1.63660710e+00  1.15679600e-01\n",
      "  -1.52092750e+00  2.19840915e-02]]\n"
     ]
    }
   ],
   "source": [
    "print(processor[10][0])\n",
    "print(T_E_Q4[10][0])\n",
    "print(T_E_Q4[10][0:1000:100])"
   ]
  },
  {
   "attachments": {},
   "cell_type": "markdown",
   "metadata": {},
   "source": [
    "### 3.3. Plot: temperature vs. step\n",
    "\n",
    "We now want to plot the temperature as a function of the step. Do this by executing the function defining this plot:"
   ]
  },
  {
   "cell_type": "code",
   "execution_count": 9,
   "metadata": {},
   "outputs": [],
   "source": [
    "def plot_temp_vs_step(replica):\n",
    "    \"\"\"\n",
    "    Literally what the name says.\n",
    "\n",
    "    Args:\n",
    "        replica (int): the replica to be plotted\n",
    "    \"\"\"\n",
    "\n",
    "    plt.figure(figsize=(10,6))\n",
    "    plt.plot(T_E_Q4[replica,0::1,0],T_E_Q4[replica,0::1,1], label=str(replica)+'th replica') # T_E_Q4 is a 3D array whose scope is global\n",
    "    plt.legend(loc='upper right')\n",
    "    plt.xlabel(' step ')\n",
    "    plt.ylabel('temperature')\n",
    "    plt.show()"
   ]
  },
  {
   "attachments": {},
   "cell_type": "markdown",
   "metadata": {},
   "source": [
    "Notice how the function `plot_temp_vs_step()` takes `replica` as its sole argument. Here we plot the temperature vs. step of the 4th replica:"
   ]
  },
  {
   "cell_type": "code",
   "execution_count": 10,
   "metadata": {},
   "outputs": [
    {
     "data": {
      "image/png": "[encoded data removed]",
      "text/plain": [
       "<Figure size 720x432 with 1 Axes>"
      ]
     },
     "metadata": {
      "needs_background": "light"
     },
     "output_type": "display_data"
    }
   ],
   "source": [
    "plot_temp_vs_step(4)"
   ]
  },
  {
   "cell_type": "markdown",
   "metadata": {},
   "source": [
    "#### Assignment 1: Plots of temperature vs. step\n",
    "Generate the plots of a few (say, three to five) of the rest of the replicas and comment on their appearance: what's going on here with this oscillatory behaviour?"
   ]
  },
  {
   "cell_type": "code",
   "execution_count": 11,
   "metadata": {},
   "outputs": [],
   "source": [
    "## Your code here"
   ]
  },
  {
   "cell_type": "markdown",
   "metadata": {},
   "source": [
    "#### End Assignment 1"
   ]
  },
  {
   "cell_type": "markdown",
   "metadata": {},
   "source": [
    "#### Assignment 2: Plot of $Q_4$ vs. step\n",
    "\n",
    "Generate the $Q_4$ plot as a function of step for the same replicas you chose in Assignment 1 and comment a bit on the behaviour."
   ]
  },
  {
   "cell_type": "code",
   "execution_count": 12,
   "metadata": {},
   "outputs": [],
   "source": [
    "## Your code here"
   ]
  },
  {
   "cell_type": "markdown",
   "metadata": {},
   "source": [
    "#### End Assignment 2"
   ]
  },
  {
   "attachments": {},
   "cell_type": "markdown",
   "metadata": {},
   "source": [
    "### 3.4. Classification according to temperature\n",
    "\n",
    "Up to now, the information collected in the `T_E_Q4[i]` columns took the replicas as reference: the replica itself was kept fixed, while we allowed the temperature to change. We now want exactly the reverse, i.e. we want to have files with fixed temperature and changing replicas. The `exchanges` array computed at the beginning of this exercise session keeps track of the temperature exchanges, telling us at a given timestep which replica has which temperature. We use it to create a single file for each temperature containing the information of the corresponding system.\n",
    "\n",
    "We begin by focusing on one temperature per time, for example the one labelled as 5. Let's say that the `exchanges` array at the step 50000 shows the following line:\n",
    "\n",
    "```\n",
    "[step  repl.0  repl.1  repl.2  repl.3  repl.4   repl.5 \\\\\n",
    "50000    1       0       2       3       4        7          \\\\\n",
    "\n",
    "repl.6  repl.7  repl.8  repl.9  repl.10  repl.11] \\\\\n",
    "//       8       6       5       11      9        10 \n",
    "```\n",
    "\n",
    "This table indicates that at replica 8, we have the temperature 5 of interest, which is $T_5$=6.63 K according to the input. Thus, at step 50000, the thermostat is keeping replica 8 around the temperature $T_5$.\n",
    "\n",
    "At the same step (50000), the column of the array containing the information of replica 8 shows the following line:\n",
    "\n",
    "```\n",
    "50000  7.92921980  -1.75593550  0.0379224880  -1.71801300  0.188043758\n",
    "```\n",
    "\n",
    "since the data are stored every 1000th step. Thus this line is the 5th line of the `T_E_Q4[8]` array, i.e., the element `T_E_Q4[8][5]`. The idea is to save this line in a specific file for the $T_5$ temperature. Execute the following cell:"
   ]
  },
  {
   "cell_type": "code",
   "execution_count": 13,
   "metadata": {},
   "outputs": [],
   "source": [
    "def split_T_E_Q4_by_exchange(exchanges, T_E_Q4):\n",
    "    \"\"\"\n",
    "    Split the 3D array T_E_Q4 by exchange type based on the values in the 2D\n",
    "    array exchanges. Each row of the exchanges array represents a timestep and\n",
    "    contains an exchange type (0 to 12) for each processor. The resulting\n",
    "    output is a dictionary where the keys are the exchange types and the values\n",
    "    are 2D arrays representing T_E_Q4 for the corresponding exchange type.\n",
    "\n",
    "    Args:\n",
    "    exchanges (ndarray): A 2D array of shape (num_timesteps, num_processors+1) that\n",
    "        contains the exchange type for each processor at each timestep. We defined it at the beginning of the notebook.\n",
    "\n",
    "    T_E_Q4 (ndarray): A 3D array of shape (num_processors, num_timesteps, 6) that\n",
    "        contains the data to be split by exchange type.\n",
    "\n",
    "    Returns:\n",
    "    T: A dictionary where the keys are the exchange types (integers from 0 to 12)\n",
    "        and the values are 2D arrays of shape (num_timesteps_for_exchange, 6) that\n",
    "        contain the corresponding data from T_E_Q4.\n",
    "    \"\"\"\n",
    "    T = {i: np.empty((0, 6)) for i in range(13)}\n",
    "    for T_idx in range(len(exchanges)):\n",
    "        for proc_idx in range(12):\n",
    "            exchange_val = int(exchanges[T_idx][proc_idx+1])\n",
    "            T[exchange_val] = np.append(T[exchange_val], [T_E_Q4[proc_idx][T_idx]], axis=0)\n",
    "    return T\n"
   ]
  },
  {
   "cell_type": "code",
   "execution_count": 25,
   "metadata": {},
   "outputs": [
    {
     "data": {
      "text/plain": [
       "'\\nAlternate code:\\n----------------\\n#Make empty array\\nfor i in range(12):\\n    globals()[\"T_\"+str(i)] = np.empty((0,6))\\n\\nfor T in range(len(exchanges)):\\n    for proc in range(12):\\n        if exchanges[T][proc+1]==0:\\n            T_0 = np.append(T_0, [T_E_Q4[proc][T]], axis=0)\\n        if exchanges[T][proc+1]==1:\\n            T_1 = np.append(T_1, [T_E_Q4[proc][T]], axis=0)\\n        if exchanges[T][proc+1]==2:\\n            T_2 = np.append(T_2, [T_E_Q4[proc][T]], axis=0)\\n        if exchanges[T][proc+1]==3:\\n            T_3 = np.append(T_3, [T_E_Q4[proc][T]], axis=0)\\n        if exchanges[T][proc+1]==4:\\n            T_4 = np.append(T_4, [T_E_Q4[proc][T]], axis=0)\\n        if exchanges[T][proc+1]==5:\\n            T_5 = np.append(T_5, [T_E_Q4[proc][T]], axis=0)\\n        if exchanges[T][proc+1]==6:\\n            T_6 = np.append(T_6, [T_E_Q4[proc][T]], axis=0)\\n        if exchanges[T][proc+1]==7:\\n            T_7 = np.append(T_7, [T_E_Q4[proc][T]], axis=0)\\n        if exchanges[T][proc+1]==8:\\n            T_8 = np.append(T_8, [T_E_Q4[proc][T]], axis=0)\\n        if exchanges[T][proc+1]==9:\\n            T_9 = np.append(T_9, [T_E_Q4[proc][T]], axis=0)\\n        if exchanges[T][proc+1]==10:\\n            T_10 = np.append(T_10, [T_E_Q4[proc][T]], axis=0)\\n        if exchanges[T][proc+1]==11:\\n            T_11 = np.append(T_11, [T_E_Q4[proc][T]], axis=0)\\n        if exchanges[T][proc+1]==12:\\n            T_12 = np.append(T_12, [T_E_Q4[proc][T]], axis=0)\\n'"
      ]
     },
     "execution_count": 25,
     "metadata": {},
     "output_type": "execute_result"
    }
   ],
   "source": [
    "\"\"\"\n",
    "Alternate code:\n",
    "----------------\n",
    "#Make empty array\n",
    "for i in range(12):\n",
    "    globals()[\"T_\"+str(i)] = np.empty((0,6))\n",
    "\n",
    "for T in range(len(exchanges)):\n",
    "    for proc in range(12):\n",
    "        if exchanges[T][proc+1]==0:\n",
    "            T_0 = np.append(T_0, [T_E_Q4[proc][T]], axis=0)\n",
    "        if exchanges[T][proc+1]==1:\n",
    "            T_1 = np.append(T_1, [T_E_Q4[proc][T]], axis=0)\n",
    "        if exchanges[T][proc+1]==2:\n",
    "            T_2 = np.append(T_2, [T_E_Q4[proc][T]], axis=0)\n",
    "        if exchanges[T][proc+1]==3:\n",
    "            T_3 = np.append(T_3, [T_E_Q4[proc][T]], axis=0)\n",
    "        if exchanges[T][proc+1]==4:\n",
    "            T_4 = np.append(T_4, [T_E_Q4[proc][T]], axis=0)\n",
    "        if exchanges[T][proc+1]==5:\n",
    "            T_5 = np.append(T_5, [T_E_Q4[proc][T]], axis=0)\n",
    "        if exchanges[T][proc+1]==6:\n",
    "            T_6 = np.append(T_6, [T_E_Q4[proc][T]], axis=0)\n",
    "        if exchanges[T][proc+1]==7:\n",
    "            T_7 = np.append(T_7, [T_E_Q4[proc][T]], axis=0)\n",
    "        if exchanges[T][proc+1]==8:\n",
    "            T_8 = np.append(T_8, [T_E_Q4[proc][T]], axis=0)\n",
    "        if exchanges[T][proc+1]==9:\n",
    "            T_9 = np.append(T_9, [T_E_Q4[proc][T]], axis=0)\n",
    "        if exchanges[T][proc+1]==10:\n",
    "            T_10 = np.append(T_10, [T_E_Q4[proc][T]], axis=0)\n",
    "        if exchanges[T][proc+1]==11:\n",
    "            T_11 = np.append(T_11, [T_E_Q4[proc][T]], axis=0)\n",
    "        if exchanges[T][proc+1]==12:\n",
    "            T_12 = np.append(T_12, [T_E_Q4[proc][T]], axis=0)\n",
    "\"\"\""
   ]
  },
  {
   "attachments": {},
   "cell_type": "markdown",
   "metadata": {},
   "source": [
    "The resulting `T` arrays will have the same structure as the `T_E_Q4[i]` array, namely\n",
    "\n",
    "```\n",
    "0: step  1: temperature  2: potential energy 3: kinetic energy  4: total energy  5: Q4\n",
    "```\n",
    "\n",
    "However, in this case, it is temperature which will be kept constant, while the replica will vary; Section 3.3. was exactly the opposite case. Convince yourself of the structure of the `T_E_Q4[i]` and `T_i` objects by executing the block of code"
   ]
  },
  {
   "cell_type": "code",
   "execution_count": 17,
   "metadata": {},
   "outputs": [
    {
     "name": "stdout",
     "output_type": "stream",
     "text": [
      "example for the 10th processor: first line of T_E_Q4[10] (fixed processor) VS first line of T_10 (fixed temperature):\n",
      "[ 0.         32.503727   -1.7950808   0.15545315 -1.6396276   0.07538811]\n",
      "[ 0.         32.503727   -1.7950808   0.15545315 -1.6396276   0.07538811]\n",
      "\n",
      "--------------------------------------------------\n",
      "--------------------------------------------------\n",
      "\n",
      "example for the 10th processor: 290th line of T_E_Q4[10] (fixed processor) VS 290th line of T_10 (fixed temperature):\n",
      "[ 2.90000000e+06  2.10923390e+01 -1.63650090e+00  1.00876760e-01\n",
      " -1.53562410e+00  7.07435541e-02]\n",
      "[ 2.90000000e+06  4.01447630e+01 -1.49115990e+00  1.91997360e-01\n",
      " -1.29916250e+00  5.81683919e-02]\n"
     ]
    }
   ],
   "source": [
    "T = split_T_E_Q4_by_exchange(exchanges,T_E_Q4)\n",
    "\n",
    "# example for the 10th processor: first line of T_E_Q4[10] (fixed processor) vs. first line of T_10 (fixed temperature)\n",
    "print('example for the 10th processor: first line of T_E_Q4[10] (fixed processor) VS first line of T_10 (fixed temperature):')\n",
    "print(T_E_Q4[10][0])\n",
    "print(T[10][0])\n",
    "print('\\n--------------------------------------------------')\n",
    "print('--------------------------------------------------\\n')\n",
    "\n",
    "#example for the 10th processor: 290th line of T_E_Q4[10] (fixed processor) vs. 290th line of T_10 (fixed temperature)\n",
    "print('example for the 10th processor: 290th line of T_E_Q4[10] (fixed processor) VS 290th line of T_10 (fixed temperature):')\n",
    "print(T_E_Q4[10][290])\n",
    "print(T[10][290])"
   ]
  },
  {
   "attachments": {},
   "cell_type": "markdown",
   "metadata": {},
   "source": [
    "### 3.5. Plots of potential energy\n",
    "\n",
    "As we've done in the previous exercises, we can play around with all the data we now have from the output files. We now want to plot the potential energy as a function of the step for both the 0th replica and the 11th replica, i.e., the potential energy plot for a hot replica vs. a cold replica. Do this by executing the block of code in this section:"
   ]
  },
  {
   "cell_type": "code",
   "execution_count": 18,
   "metadata": {},
   "outputs": [
    {
     "data": {
      "text/plain": [
       "Text(0, 0.5, 'potential energy')"
      ]
     },
     "execution_count": 18,
     "metadata": {},
     "output_type": "execute_result"
    },
    {
     "data": {
      "image/png": "[encoded data removed]",
      "text/plain": [
       "<Figure size 432x288 with 1 Axes>"
      ]
     },
     "metadata": {
      "needs_background": "light"
     },
     "output_type": "display_data"
    }
   ],
   "source": [
    "plt.plot(T[0][0::1,0], T[0][0::1,2], label='0th replica')\n",
    "plt.plot(T[11][0::1,0], T[11][0::1,2], label='11th replica')\n",
    "plt.legend(loc='upper right')\n",
    "plt.xlabel('step')\n",
    "plt.ylabel('potential energy')"
   ]
  },
  {
   "cell_type": "markdown",
   "metadata": {},
   "source": [
    "#### Assignment 3: Second plot of temperature vs. step\n",
    "\n",
    "Plot temperature vs. step again, this time using the `T_i` arrays. Compare this plot\n",
    "to those generated in Assignment 1: how and why are they different? *Hint*: in the\n",
    "present plot, we use the `T_i` arrays; in the plot of Assignment 1, we use the `T_E_Q4`\n",
    "arrays. How are their respective definitions different, and how does this difference\n",
    "manifest itself in these plots?"
   ]
  },
  {
   "cell_type": "code",
   "execution_count": 19,
   "metadata": {},
   "outputs": [],
   "source": [
    "## Your code here"
   ]
  },
  {
   "cell_type": "markdown",
   "metadata": {},
   "source": [
    "#### End Assignment 3"
   ]
  },
  {
   "attachments": {},
   "cell_type": "markdown",
   "metadata": {},
   "source": [
    "### 3.6. Plots of $Q_4$\n",
    "\n",
    "Now let us plot the $Q_4$ according to the temperature as a function of the steps, also for the 0th and 11th replicas. Do this by executing the cell block:"
   ]
  },
  {
   "cell_type": "code",
   "execution_count": 20,
   "metadata": {},
   "outputs": [
    {
     "data": {
      "text/plain": [
       "Text(0, 0.5, '$Q_4$')"
      ]
     },
     "execution_count": 20,
     "metadata": {},
     "output_type": "execute_result"
    },
    {
     "data": {
      "image/png": "[encoded data removed]",
      "text/plain": [
       "<Figure size 432x288 with 1 Axes>"
      ]
     },
     "metadata": {
      "needs_background": "light"
     },
     "output_type": "display_data"
    }
   ],
   "source": [
    "plt.plot(T[11][0::1,0], T[11][0::1,5], label='11th replica')\n",
    "plt.plot(T[0][0::1,0], T[0][0::1,5], label='0th replica')\n",
    "plt.legend(loc='upper right')\n",
    "plt.xlabel('step')\n",
    "plt.ylabel('$Q_4$')"
   ]
  },
  {
   "attachments": {},
   "cell_type": "markdown",
   "metadata": {},
   "source": [
    "## 4. Averages\n",
    "\n",
    "In this last section, we wish to extract the averages as a function of temperature. We create an array of averages containing the following structure:\n",
    "\n",
    "```\n",
    "0: temperature  1: potential energy  2: kinetic energy 3: total energy  4: Q4\n",
    "```\n",
    "\n",
    "Do this by executing the following function, `calculate_averages()`:"
   ]
  },
  {
   "cell_type": "code",
   "execution_count": 21,
   "metadata": {},
   "outputs": [],
   "source": [
    "def calculate_averages(T):\n",
    "    \"\"\"\n",
    "    Calculates the means of the second through sixth columns of the 2D arrays\n",
    "    in the values of the dictionary T, and returns them as a 2D numpy array.\n",
    "    \n",
    "    Args:\n",
    "    T (dict): A dictionary where the keys are the replicas (integers from 0 to 12), and the\n",
    "              values are 2D numpy arrays of shape (num_timesteps_for_exchange, 6).\n",
    "    \n",
    "    Returns:\n",
    "    numpy.ndarray: A 2D numpy array of shape (13, 5) where each row corresponds\n",
    "                   to the means of the second through sixth columns of the 2D\n",
    "                   array in the corresponding value of T.\n",
    "    \"\"\"\n",
    "    # initialize the array to hold the averages\n",
    "    averages = np.empty((0,5))\n",
    "\n",
    "    # iterate through the dictionary and calculate the means for each 2D array\n",
    "    for i in range(13):\n",
    "        means = np.mean(T[i][:,1:6], axis=0).reshape(1,-1)\n",
    "        averages = np.append(averages, means, axis=0)\n",
    "\n",
    "    return averages"
   ]
  },
  {
   "cell_type": "code",
   "execution_count": 26,
   "metadata": {},
   "outputs": [
    {
     "data": {
      "text/plain": [
       "'\\nAlternate code:\\n----------------\\n\\naverages = np.empty((0,5))\\n#append values for each temperature\\naverages = np.append(averages, [np.mean(T_0, axis=0)[1:6]], axis=0)\\naverages = np.append(averages, [np.mean(T_1, axis=0)[1:6]], axis=0)\\naverages = np.append(averages, [np.mean(T_2, axis=0)[1:6]], axis=0)\\naverages = np.append(averages, [np.mean(T_3, axis=0)[1:6]], axis=0)\\naverages = np.append(averages, [np.mean(T_4, axis=0)[1:6]], axis=0)\\naverages = np.append(averages, [np.mean(T_5, axis=0)[1:6]], axis=0)\\naverages = np.append(averages, [np.mean(T_6, axis=0)[1:6]], axis=0)\\naverages = np.append(averages, [np.mean(T_7, axis=0)[1:6]], axis=0)\\naverages = np.append(averages, [np.mean(T_8, axis=0)[1:6]], axis=0)\\naverages = np.append(averages, [np.mean(T_9, axis=0)[1:6]], axis=0)\\naverages = np.append(averages, [np.mean(T_10, axis=0)[1:6]], axis=0)\\naverages = np.append(averages, [np.mean(T_11, axis=0)[1:6]], axis=0)\\n#print(averages)\\n'"
      ]
     },
     "execution_count": 26,
     "metadata": {},
     "output_type": "execute_result"
    }
   ],
   "source": [
    "\"\"\"\n",
    "Alternate code:\n",
    "----------------\n",
    "\n",
    "averages = np.empty((0,5))\n",
    "#append values for each temperature\n",
    "averages = np.append(averages, [np.mean(T_0, axis=0)[1:6]], axis=0)\n",
    "averages = np.append(averages, [np.mean(T_1, axis=0)[1:6]], axis=0)\n",
    "averages = np.append(averages, [np.mean(T_2, axis=0)[1:6]], axis=0)\n",
    "averages = np.append(averages, [np.mean(T_3, axis=0)[1:6]], axis=0)\n",
    "averages = np.append(averages, [np.mean(T_4, axis=0)[1:6]], axis=0)\n",
    "averages = np.append(averages, [np.mean(T_5, axis=0)[1:6]], axis=0)\n",
    "averages = np.append(averages, [np.mean(T_6, axis=0)[1:6]], axis=0)\n",
    "averages = np.append(averages, [np.mean(T_7, axis=0)[1:6]], axis=0)\n",
    "averages = np.append(averages, [np.mean(T_8, axis=0)[1:6]], axis=0)\n",
    "averages = np.append(averages, [np.mean(T_9, axis=0)[1:6]], axis=0)\n",
    "averages = np.append(averages, [np.mean(T_10, axis=0)[1:6]], axis=0)\n",
    "averages = np.append(averages, [np.mean(T_11, axis=0)[1:6]], axis=0)\n",
    "#print(averages)\n",
    "\"\"\""
   ]
  },
  {
   "attachments": {},
   "cell_type": "markdown",
   "metadata": {},
   "source": [
    "and examine its structure using the next cell block as an example for `T[7]`: the first value corresponds to the target temperature of replica 7 (=16 K) of the input file:"
   ]
  },
  {
   "cell_type": "code",
   "execution_count": 22,
   "metadata": {},
   "outputs": [
    {
     "name": "stderr",
     "output_type": "stream",
     "text": [
      "/Users/ray/opt/miniconda3/envs/aiida/lib/python3.8/site-packages/numpy/core/fromnumeric.py:3419: RuntimeWarning: Mean of empty slice.\n",
      "  return _methods._mean(a, axis=axis, dtype=dtype,\n",
      "/Users/ray/opt/miniconda3/envs/aiida/lib/python3.8/site-packages/numpy/core/_methods.py:180: RuntimeWarning: invalid value encountered in true_divide\n",
      "  ret = um.true_divide(\n"
     ]
    },
    {
     "data": {
      "text/plain": [
       "15.895788586427134"
      ]
     },
     "execution_count": 22,
     "metadata": {},
     "output_type": "execute_result"
    }
   ],
   "source": [
    "#example for T[7]: the first value should correspond to the target temperature 7 (~16K) of the input file\n",
    "calculate_averages(T)[7][0]"
   ]
  },
  {
   "attachments": {},
   "cell_type": "markdown",
   "metadata": {},
   "source": [
    "#### Assignment 4: Final plot of $Q_4$\n",
    "\n",
    "Plot the $Q_4$ as function of the temperature one last time. You have to transpose the matrix adding the `.T` suffix, i.e., `calculate_averages(T).T`, and select the component that you want to plot according to the structure of the array given above, e.g., the 0 for the temperature `calculate_averages(T).T[0]` and the 4 for the $Q_4$ `averages.T[4]`. Start by defining two parameters `epsilon` and `kB`:"
   ]
  },
  {
   "cell_type": "code",
   "execution_count": 23,
   "metadata": {},
   "outputs": [],
   "source": [
    "epsilon = 119.8*8.616733e-5 # eV\n",
    "kB = 8.617e-5 #eV/K"
   ]
  },
  {
   "cell_type": "code",
   "execution_count": 24,
   "metadata": {},
   "outputs": [],
   "source": [
    "## Your code here"
   ]
  },
  {
   "cell_type": "markdown",
   "metadata": {},
   "source": [
    "Compare your result with the top panel of Figure 2 of [this paper](https://aip.scitation.org/doi/pdf/10.1063/1.481671) and see if you recover the same trend"
   ]
  },
  {
   "cell_type": "markdown",
   "metadata": {},
   "source": [
    "#### End Assignment 4"
   ]
  },
  {
   "attachments": {},
   "cell_type": "markdown",
   "metadata": {},
   "source": [
    "#### Assignment 5: heat capacity at constant volume\n",
    "\n",
    "Statistical mechanics defines the **heat capacity at constant volume** $C_V$ in terms of the fluctuations of variance of energy compared to the square of the expectation value of energy:\n",
    "\n",
    "$$\n",
    "C_V = k_B\\beta^2[\\langle E^2 \\rangle - \\langle E \\rangle^2].\n",
    "$$\n",
    "\n",
    "Plot this quantity vs. the temperature (your plot might look nicer, however, if you plot the normalised expectation value of $C_V$ vs the normalised temperature: $\\langle C_V \\rangle / Nk_B$ vs. $k_BT/\\varepsilon$). Recover the plot in the top panel of FIG. 1 of the paper cited in Assignment 4.\n",
    "\n",
    "**If you feel like it**: carry out the differentiation in Eq. (15) of the paper and reproduce the bottom panel of FIG. 1."
   ]
  },
  {
   "cell_type": "code",
   "execution_count": null,
   "metadata": {},
   "outputs": [],
   "source": [
    "## Your code here"
   ]
  },
  {
   "cell_type": "markdown",
   "metadata": {},
   "source": [
    "#### End Assignment 5"
   ]
  }
 ],
 "metadata": {
  "kernelspec": {
   "display_name": "Python 3",
   "language": "python",
   "name": "python3"
  },
  "language_info": {
   "codemirror_mode": {
    "name": "ipython",
    "version": 3
   },
   "file_extension": ".py",
   "mimetype": "text/x-python",
   "name": "python",
   "nbconvert_exporter": "python",
   "pygments_lexer": "ipython3",
   "version": "3.8.8"
  }
 },
 "nbformat": 4,
 "nbformat_minor": 4
}
