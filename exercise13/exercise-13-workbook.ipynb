{
 "cells": [
  {
   "attachments": {},
   "cell_type": "markdown",
   "metadata": {},
   "source": [
    "# Exercise 11: NUDGED ELASTIC BAND and FREE ENERGY CALCULATIONS\n",
    "\n",
    "Molecular and Materials Modelling: ETH Zürich, FS 2023\n",
    "\n",
    "Date: Wednesday, 24. May 2023\n",
    "\n",
    "Due Date: ---\n",
    "\n",
    "Raymond Amador, Daniele Passerone, Carlo Pignedoli\n",
    "\n",
    "ramador@ethz.ch\n",
    "\n",
    "## 0. Introduction to the problem\n",
    "\n",
    "In this exercise we will study the $S_N2$ nucleophilic substitution reaction\n",
    "\n",
    "\\begin{equation}\n",
    "\\text{Cl}^- + \\text{CH}_3\\text{Cl} \\leftrightarrow \\text{ClCH}_3 + \\text{Cl}^-\n",
    "\\end{equation}\n",
    "\n",
    "The notation $S_N2$ is lingo in the community of organic chemists, whereby the $S$ indicates *substitution*, the $N$ stands for *nucleophilic*, and the 2 means that this is a **bi**molecular reaction: i.e., the overall rate of reaction depends on a step in which two species collide.  For energy and force evaluation, we will use the Parameterization Method 6 (PM6), which is a relatively inexpensive semiempirical model for electronic structure evaluation. Semiempirical methods are based on mean-field theories such as Hartree-Fock and DFT, but the integrals are parametrized: parameters are obtained from empirical data, which is useful in systems whereby a full SCF in Hartree-Fock or DFT would otherwise be too expensive. For a more accurate characterization of the reaction, ab initio methods such as DFT or higher level, should be used in place of semiempirical methods.\n",
    "\n",
    "<div>\n",
    "<img src=\"chloromethane.png\" width=\"500\"/>\n",
    "</div>\n",
    "\n",
    "Fig. 1: a ball-and-stick model of chloromethane, with chemical formula $\\text{CH}_3\\text{Cl}$. This exercise seeks to study the substitution reaction in Eq. 1.\n",
    "\n",
    "### 1.1. NEB activation barrier\n",
    "\n",
    "In order to find the activation barrier for the reaction we will use the **nudged elastic band** (NEB) method. The NEB method provides a way to find the **minimum energy path** (MEP) between two different conformations of the system corresponding local potential energy minima. The MEP is a one-dimensional path on the $3N$-dimensional potential energy landscape and every point on the MEP is a potential energy minimum in all directions perpendicular to the path. MEP passes at least one saddle point and the energy of the highest saddle point is the peak of the activation barrier of the reaction.\n",
    "\n",
    "<div>\n",
    "<img src=\"ES.jpg\" width=\"500\"/>\n",
    "</div>\n",
    "\n",
    "Fig. 2: A pictorial representation of the basic idea behind an NEB activation barrier. The yellow and red ball represent the two minima; white balls represent intermediate states, while the black ball represents the transition state. Courtesy of Carlo Pignedoli, Empa.\n",
    "\n",
    "## 2. Geometry optimizations\n",
    "\n",
    "We begin by logging into our accounts on JupyterHub on Euler in a similar manner as described in the previous exercises, and `pull` the newest exercise files from the GitHub repository, making sure that you are in the directory for the course:\n",
    "```bash\n",
    "    $ cd ~/Molecular-and-Materials-Modelling-FS2023\n",
    "    $ git init\n",
    "  # $ git stash\n",
    "    $ git pull https://github.com/ramador09/Molecular-and-Materials-Modelling-FS2023.git\n",
    "```\n",
    "\n",
    "To start the NEB calculation, we first need two different geometries at local energy minima, which we can obtain by running geometry optimization calculations. Open the `geo-opt-a.inp` input file using `vim`:\n",
    "\n",
    "```\n",
    "&GLOBAL\n",
    "  PRINT_LEVEL LOW\n",
    "  PROJECT ch3cl\n",
    "  RUN_TYPE GEO_OPT        # Geometry optimization calculation\n",
    "&END GLOBAL\n",
    "\n",
    "&MOTION\n",
    "  &GEO_OPT                # Parameters for GEO_OPT convergence\n",
    "    MAX_FORCE 1.0E-4\n",
    "    MAX_ITER 2000\n",
    "    OPTIMIZER BFGS\n",
    "    &BFGS\n",
    "      TRUST_RADIUS [bohr] 0.1\n",
    "    &END\n",
    "  &END GEO_OPT\n",
    "&END MOTION\n",
    "\n",
    "&FORCE_EVAL\n",
    "  METHOD Quickstep        # Quickstep - Electronic structure methods\n",
    "  &DFT\n",
    "   CHARGE -1              # There is a negatively charged anion\n",
    "    &QS\n",
    "      METHOD PM6          # Parametrization Method 6\n",
    "      &SE\n",
    "      &END SE\n",
    "    &END QS\n",
    "    &SCF                  # Convergence parameters for force evaluation\n",
    "      SCF_GUESS ATOMIC\n",
    "      EPS_SCF 1.0E-5\n",
    "      MAX_SCF 50\n",
    "       &OUTER_SCF\n",
    "          EPS_SCF 1.0E-7\n",
    "          MAX_SCF 500\n",
    "       &END\n",
    "    &END SCF\n",
    "    &POISSON              # POISSON solver for non-periodic calculation\n",
    "      PERIODIC NONE\n",
    "      PSOLVER WAVELET\n",
    "    &END\n",
    "  &END DFT\n",
    "\n",
    "  &SUBSYS\n",
    "    &CELL\n",
    "      ABC 10.0 10.0 10.0\n",
    "      PERIODIC NONE\n",
    "    &END CELL\n",
    "    &COORD\n",
    "C      -4.03963494       0.97427857      -0.29785096\n",
    "H      -3.97152206       2.11080568      -0.35500445\n",
    "H      -3.95108814       0.19729141       0.53163699\n",
    "H      -3.95810737       0.47922964      -1.32151084\n",
    "Cl     -5.77885435       1.07089312      -0.04609427\n",
    "Cl     -1.77974793       0.99422072      -0.29785096\n",
    "    &END COORD\n",
    "   &END SUBSYS\n",
    "&END FORCE_EVAL\n",
    "```\n",
    "\n",
    "Submit the calculation as usual."
   ]
  },
  {
   "cell_type": "code",
   "execution_count": 1,
   "metadata": {},
   "outputs": [
    {
     "data": {
      "application/vnd.jupyter.widget-view+json": {
       "model_id": "a4f0d10f3d2843d29c8c34a685df1510",
       "version_major": 2,
       "version_minor": 0
      },
      "text/plain": []
     },
     "metadata": {},
     "output_type": "display_data"
    }
   ],
   "source": [
    "import numpy as np\n",
    "from ase.io import read\n",
    "from ase.visualize import view\n",
    "from ase.build import fcc111,add_adsorbate,molecule\n",
    "import matplotlib.pyplot as plt\n",
    "import nglview as nv"
   ]
  },
  {
   "cell_type": "code",
   "execution_count": 2,
   "metadata": {},
   "outputs": [],
   "source": [
    "def view_structure(system):\n",
    "    t = nv.ASEStructure(system) \n",
    "    w = nv.NGLWidget(t, gui=True)\n",
    "    #w.add_spacefill()\n",
    "    return w"
   ]
  },
  {
   "cell_type": "code",
   "execution_count": 3,
   "metadata": {},
   "outputs": [],
   "source": [
    "def view_trajectory(trajectory):\n",
    "    t2 = nv.ASETrajectory(trajectory)\n",
    "    w2 = nv.NGLWidget(t2, gui=True)\n",
    "    w2.add_spacefill()\n",
    "    return w2;"
   ]
  },
  {
   "attachments": {},
   "cell_type": "markdown",
   "metadata": {},
   "source": [
    "## 1. NEB activation barrier"
   ]
  },
  {
   "attachments": {},
   "cell_type": "markdown",
   "metadata": {},
   "source": [
    "#### Assignment 1: The second configuration\n",
    "\n",
    "Once this geometry optimization is finished, view the trajectories in order to appreciate the relaxation process. We need to modify the initial geometry guess, so as to run a second geometry optimization to obtain the second local minimum geometry: **the other chlorine atom needs to make a covalent bond with the C**.\n",
    "\n",
    "We start by using the geometry from the `geo-opt-a.inp` file to make an `.xyz` file named, say `init-a.xyz`. View this structure in the Python notebook, and play around with it to obtain a second starting geometry `init-b.xyz`. Use the fact that the C atom (together with the H atoms) should \"switch\" from being covalently bonded to the one Cl atom, to the other. The second initial geometry does not need to be exact, since it will be relaxed during the geometry optimization anyway.\n",
    "\n",
    "Once you have a second starting geometry, copy the `geo-opt-a.inp` file into a second input file `geo-opt-b.inp` by executing\n",
    "\n",
    "`\n",
    "    $ cp geo-opt-a.inp geo-opt-b.inp\n",
    "`\n",
    "\n",
    "in your bash shell. Modify the name of the project in `geo-opt-b.inp` to something descriptive (say: `ch3cl-b`). Then replace the geometry in the `\\&COORD` section with the geometry you obtained in `init-b.xyz`. Finally, submit the calculation:\n",
    "\n",
    "`\n",
    "    $ srun -n 12 cp2k.popt -i geo-opt-b.inp -o geo-opt-b.out \n",
    "`"
   ]
  },
  {
   "cell_type": "code",
   "execution_count": 15,
   "metadata": {},
   "outputs": [
    {
     "data": {
      "application/vnd.jupyter.widget-view+json": {
       "model_id": "afb9a5c6ccb4443cbba065c8b5d58433",
       "version_major": 2,
       "version_minor": 0
      },
      "text/plain": [
       "NGLWidget()"
      ]
     },
     "metadata": {},
     "output_type": "display_data"
    },
    {
     "data": {
      "application/vnd.jupyter.widget-view+json": {
       "model_id": "ae267a7ad674425cb440d975d767863c",
       "version_major": 2,
       "version_minor": 0
      },
      "text/plain": [
       "Tab(children=(Box(children=(Box(children=(Box(children=(Label(value='step'), IntSlider(value=1, min=-100)), la…"
      ]
     },
     "metadata": {},
     "output_type": "display_data"
    }
   ],
   "source": [
    "a_struct = read('a.xyz')\n",
    "view_structure(a_struct)"
   ]
  },
  {
   "cell_type": "code",
   "execution_count": 5,
   "metadata": {},
   "outputs": [],
   "source": [
    "a_traj=read('./ch3cl-a-pos-1.xyz', index=':')"
   ]
  },
  {
   "attachments": {},
   "cell_type": "markdown",
   "metadata": {},
   "source": [
    "#### End Assignment 1"
   ]
  },
  {
   "attachments": {},
   "cell_type": "markdown",
   "metadata": {},
   "source": [
    "### 1.2. NEB calculation\n",
    "\n",
    "Now we are ready to start the calculation of the NEB. Make a new directory `NEB`, enter it, and copy the two optimized geometries from the \\texttt{geo\\_opt} trajectories (last step in the `ch3cl-pos-1.xyz` file) into the `NEB` directory into separate files and name them, for instance, `final-a.xyz` and `final-b.xyz`. View the input file `neb.inp` using `vim`:\n",
    "\n",
    "```\n",
    "&GLOBAL\n",
    "  PRINT_LEVEL LOW\n",
    "  PROJECT ch3cl\n",
    "  RUN_TYPE BAND             # Nudged elastic band calculation\n",
    "&END GLOBAL\n",
    "&MOTION\n",
    "  &BAND\n",
    "    NUMBER_OF_REPLICA 10    # Number of \"replica\" geometries along the path\n",
    "    K_SPRING 0.05\n",
    "    &OPTIMIZE_BAND\n",
    "      OPT_TYPE DIIS\n",
    "      &DIIS\n",
    "        MAX_STEPS 1000\n",
    "      &END\n",
    "    &END\n",
    "    BAND_TYPE CI-NEB        # Climbing-image NEB\n",
    "    &CI_NEB\n",
    "      NSTEPS_IT  5          # First take 5 normal steps, then start CI\n",
    "    &END\n",
    "    &REPLICA\n",
    "      COORD_FILE_NAME final-a.xyz\n",
    "    &END\n",
    "    &REPLICA\n",
    "      COORD_FILE_NAME final-b.xyz\n",
    "    &END\n",
    "    &PROGRAM_RUN_INFO\n",
    "     INITIAL_CONFIGURATION_INFO\n",
    "    &END\n",
    "  &END BAND\n",
    "&END MOTION\n",
    "&FORCE_EVAL\n",
    "  METHOD Quickstep\n",
    "  &DFT\n",
    "   # ... same as GEO_OPT ...\n",
    "  &END DFT\n",
    "  &SUBSYS\n",
    "    &CELL\n",
    "      ABC 10.0 10.0 10.0\n",
    "      PERIODIC NONE\n",
    "    &END CELL\n",
    "    &TOPOLOGY\n",
    "      COORD_FILE_NAME final-a.xyz\n",
    "      COORDINATE xyz\n",
    "    &END TOPOLOGY\n",
    "  &END SUBSYS\n",
    "&END FORCE_EVAL\n",
    "```\n",
    "\n",
    "After having a look through this input file (most of the common sections should look quite familiar by now), submit the calculation.\n",
    "\n",
    "Once the calculation has concluded, scroll to the bottom of the main output file `neb.out`:\n",
    "\n",
    "```\n",
    " *******************************************************************************\n",
    " BAND TYPE                     =                                          CI-NEB\n",
    " BAND TYPE OPTIMIZATION        =                                              SD\n",
    " STEP NUMBER                   =                                              42\n",
    " NUMBER OF NEB REPLICA         =                                              10\n",
    " DISTANCES REP =        0.312242        0.305820        0.299703        0.296099\n",
    "                        0.231164        0.235193        0.242284        0.249637\n",
    "                        0.253208\n",
    " ENERGIES [au] =      -24.815004      -24.815004      -24.813093      -24.806289\n",
    "                      -24.802236      -24.804828      -24.810506      -24.814378\n",
    "                      -24.815003      -24.815004\n",
    " BAND TOTAL ENERGY [au]        =                             -248.11093629519220\n",
    " *******************************************************************************\n",
    "```\n",
    "\n",
    "For NEB calculations, CP2K produces quite a few output files. The most important are:\n",
    "\n",
    "* `neb.out`: standard CP2K output file; shows whether the calculation is completed;\n",
    "* `neb-pos-Replica_nr_XXX-1.xyz`: replica optimization trajectories. There is an optimization trajectory for each replica;\n",
    "* `neb-BANDXXX.out`: geometry optimization output for each replica.\n",
    "\n",
    "The sections above show every replica geometry along the NEB trajectory, the distance\n",
    "to its neighbours, and the corresponding energy.\n",
    "\n",
    "#### Assignment 2: Computation of the activation energy\n",
    "\n",
    "Generate a plot of the distance vs. energy and compute the activation energy of the barrier in eV for the\n",
    "terminal convergence step. Interpret and comment on the result."
   ]
  },
  {
   "cell_type": "code",
   "execution_count": null,
   "metadata": {},
   "outputs": [],
   "source": [
    "## -- Your code here"
   ]
  },
  {
   "attachments": {},
   "cell_type": "markdown",
   "metadata": {},
   "source": [
    "#### End Assignment 2"
   ]
  },
  {
   "attachments": {},
   "cell_type": "markdown",
   "metadata": {},
   "source": [
    "### 1.3. Visualizing the trajectories\n",
    "\n",
    "Out of curiosity (and, perhaps just as importantly, because we want to practice our `bash` scripting skills), we want to visualize the initial and equilibrium trajectories of the current nucleophilic substitution reaction. In the current `neb` directory, execute the following script in your shell:\n",
    "\n",
    "```bash\n",
    "$ files=`ls -1 *Replica*.xyz`\n",
    "$ for f in $files\n",
    "$ do\n",
    "$ head -8 $f >> traj_init.xyz\n",
    "$ done\n",
    "```\n",
    "\n",
    "This script will create a file `traj_init.xyz`, wherein the coordinates of the initial geometries of each of the 10 replicas are contained. The script to generate the trajectory of the *equilibrium* geometries is similar: the fourth line in the above script gets changed to\n",
    "\n",
    "```bash\n",
    "$ tail -8 $f >> traj_equi.xyz\n",
    "```\n",
    "\n",
    "All of the other lines remain the same.\n",
    "\n",
    "#### Assignment 3: Initial and final trajectories\n",
    "\n",
    "Using these scripts, generate the initial and equilibrium trajectory files. View them\n",
    "in the Python notebook. What differences (if any) do you notice? Is this a trivial\n",
    "exercise?"
   ]
  },
  {
   "cell_type": "code",
   "execution_count": 1,
   "metadata": {},
   "outputs": [],
   "source": [
    "## -- Your code here"
   ]
  },
  {
   "attachments": {},
   "cell_type": "markdown",
   "metadata": {},
   "source": [
    "#### End Assignment 3"
   ]
  },
  {
   "attachments": {},
   "cell_type": "markdown",
   "metadata": {},
   "source": [
    "#### Assignment 4: Energy vs. distance\n",
    "\n",
    "Generate energy vs. distance plots of the initial and final configurations (similar to\n",
    "Assignment 2) and comment on the results. *Hint*: please make your energy values\n",
    "in eV and not Ha. Also, we need the values for the distance between neighbours\n",
    "to be cumulative and not incremental, as they are currently in the output; to this\n",
    "end, you might want to use the `np.cumsum()` method for the distances array"
   ]
  },
  {
   "cell_type": "code",
   "execution_count": 2,
   "metadata": {},
   "outputs": [],
   "source": [
    "## -- Your code here"
   ]
  },
  {
   "attachments": {},
   "cell_type": "markdown",
   "metadata": {},
   "source": [
    "#### End Assignment 4"
   ]
  },
  {
   "attachments": {},
   "cell_type": "markdown",
   "metadata": {},
   "source": [
    "## 2. Free energy surface\n",
    "\n",
    "The **Helmholtz free energy** $F$ is defined within the canonical ensemble as\n",
    "\n",
    "\\begin{equation}\n",
    "    F(s) = -k_BT \\log(P(s))\n",
    "\\end{equation}\n",
    "\n",
    "where $k_B$ is the Boltzmann constant, $T$ is temperature in kelvin, $\\log$ is the natural logarithm, $s$ is the set of collective variables CVs (explained later), and $P(s)$ is the probability that the system have the set of CV values $s$.\n",
    "\n",
    "Sampling the free energy surface (FES) of a chemical system is a convenient method to explore various stable conformations and possible reaction pathways. To calculate the FES for complicated systems, advanced sampling methods (umbrella sampling, metadynamics, parallel tempering, ...) must be used. Nonetheless, for our simple $S_N2$ reaction, we will use unbiased molecular dynamics (MD).\n",
    "\n",
    "The FES is a projection of the high-dimensional free energy vector space onto a lesser- (usually two-) dimensional landscape. These two dimensions are called collective variables (CV), and they must be chosen in such a way that various stable conformations can be distinguished, and the reaction pathways can be adequately described by the FES. For complex systems, the choice of CVs is a non-trivial task; fortunately, however, for our simple system, the choice is simple: we take the distances of the two Cl anions from the central C as the CV.\n",
    "\n",
    "To help the calculation sample the relevant parts of the FES, we will include restraints in the MD run, which prevent the Cl anions from drifting too far from the molecule. Open the `md.inp` input file, which runs the MD calculation and prints out the CV values for every step.\n",
    "\n",
    "Submit the calculation (possibly reducing the number of steps in the interest of time). Once it is finished, execute the following cells and modify the variable `colvar\\_path` variable appropriately. Execute the following Python code to calculate the FES from the `ch3f-COLVAR.metadynLog` output file produced by the MD calculation run. The structure of the `.metadynLog` file is: \n",
    "\n",
    "* 0th column: duration of an integration timestep (in fs);\n",
    "* 1\"th\" column: value of the first CV, ie, distance between C and the first Cl atom;\n",
    "* 2\"th\" column: value of the second CV, ie, distance between C and the second Cl atom. "
   ]
  },
  {
   "cell_type": "code",
   "execution_count": 10,
   "metadata": {},
   "outputs": [],
   "source": [
    "bohr_2_angstrom = 0.529177\n",
    "kb = 8.6173303e-5 # eV * K^-1\n",
    "\n",
    "temperature = 1000.0    #Change temperature!\n",
    "colvar_path = \"./FES/ch3f-COLVAR.metadynLog\""
   ]
  },
  {
   "cell_type": "code",
   "execution_count": 11,
   "metadata": {},
   "outputs": [],
   "source": [
    "# Load the colvar file\n",
    "colvar_raw = np.loadtxt(colvar_path)"
   ]
  },
  {
   "cell_type": "code",
   "execution_count": 12,
   "metadata": {},
   "outputs": [],
   "source": [
    "# Extract the two CVs\n",
    "d1 = colvar_raw[:, 1] * bohr_2_angstrom\n",
    "d2 = colvar_raw[:, 2] * bohr_2_angstrom"
   ]
  },
  {
   "cell_type": "code",
   "execution_count": 15,
   "metadata": {},
   "outputs": [
    {
     "name": "stderr",
     "output_type": "stream",
     "text": [
      "/tmp/ipykernel_1894/323117038.py:8: RuntimeWarning: divide by zero encountered in log\n",
      "  fes = -kb * temperature * np.log(prob)\n"
     ]
    },
    {
     "data": {
      "text/plain": [
       "Text(0, 0.5, 'd2 [ang]')"
      ]
     },
     "execution_count": 15,
     "metadata": {},
     "output_type": "execute_result"
    },
    {
     "data": {
      "image/png": "[encoded data removed]",
      "text/plain": [
       "<Figure size 576x576 with 2 Axes>"
      ]
     },
     "metadata": {
      "needs_background": "light"
     },
     "output_type": "display_data"
    }
   ],
   "source": [
    "# Create a 2d histogram corresponding to the CV occurances\n",
    "cv_hist = np.histogram2d(d1, d2, bins=50)\n",
    "\n",
    "# probability from the histogram\n",
    "prob = cv_hist[0]/len(d1)\n",
    "\n",
    "# Free energy surface\n",
    "fes = -kb * temperature * np.log(prob)\n",
    "\n",
    "# Save the image\n",
    "extent = (np.min(cv_hist[1]), np.max(cv_hist[1]), \n",
    "          np.min(cv_hist[2]), np.max(cv_hist[2]))\n",
    "plt.figure(figsize=(8, 8))\n",
    "plt.imshow(fes.T, extent=extent, aspect='auto',\n",
    "           origin='lower', cmap='hsv')\n",
    "cbar = plt.colorbar()\n",
    "cbar.set_label(\"Free energy [eV]\")\n",
    "plt.xlabel(\"d1 [ang]\")\n",
    "plt.ylabel(\"d2 [ang]\")\n",
    "#plt.show()\n",
    "#plt.savefig(\"./fes.png\", dpi=200)\n",
    "#plt.close()"
   ]
  },
  {
   "attachments": {},
   "cell_type": "markdown",
   "metadata": {},
   "source": [
    "#### Assignment 5: Temperature dependence of the FES\n",
    "Submit the calculation (it will take a few hours) using \n",
    "`$ sbatch run.sh`\n",
    "and, once it is finished, generate the FES plot and compare it with that using only\n",
    "20000 steps in Figure 3. Discuss the differences.\n",
    "Then run the calculations of  for different temperatures: 400K, 800K, 1200K, 1600K,\n",
    "and in so doing making sure to change `TEMPERATURE` in both the respective input\n",
    "file and in the above Python script.\n",
    "In general, how does potential energy differ from free energy? For the present\n",
    "reaction, what are the activation barriers from the different free energy surfaces?\n",
    "How and why do they differ from the NEB barrier?"
   ]
  },
  {
   "cell_type": "code",
   "execution_count": 16,
   "metadata": {},
   "outputs": [],
   "source": [
    "## -- Your code here"
   ]
  },
  {
   "attachments": {},
   "cell_type": "markdown",
   "metadata": {},
   "source": [
    "#### End Assignment 5"
   ]
  },
  {
   "cell_type": "code",
   "execution_count": null,
   "metadata": {},
   "outputs": [],
   "source": []
  }
 ],
 "metadata": {
  "kernelspec": {
   "display_name": "Python 3 (ipykernel)",
   "language": "python",
   "name": "python3"
  },
  "language_info": {
   "codemirror_mode": {
    "name": "ipython",
    "version": 3
   },
   "file_extension": ".py",
   "mimetype": "text/x-python",
   "name": "python",
   "nbconvert_exporter": "python",
   "pygments_lexer": "ipython3",
   "version": "3.8.8"
  }
 },
 "nbformat": 4,
 "nbformat_minor": 4
}
