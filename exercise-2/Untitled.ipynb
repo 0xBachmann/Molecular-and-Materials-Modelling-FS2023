{
 "cells": [
  {
   "cell_type": "code",
   "execution_count": 1,
   "id": "tested-penny",
   "metadata": {},
   "outputs": [],
   "source": [
    "molecules=[[0,0,0],[1,1,0],[2,2,0],[3,3,0]]"
   ]
  },
  {
   "cell_type": "code",
   "execution_count": null,
   "id": "portable-laptop",
   "metadata": {},
   "outputs": [],
   "source": [
    "if  newmolecule not in molecules:\n",
    "    oldmolecule=molecules[selected]\n",
    "    n,l=neighbors(molecules,selected,nx,ny)\n",
    "    eold=de*n # Old energy\n",
    "    molecules[selected]=newmolecule.copy()\n",
    "    n,l=neighbors(molecules,selected,nx,ny)\n",
    "    enew=de*n # New energy\n",
    "\n",
    "    #### DECIDE whether to accept or not the move\n",
    "    deltae=enew - eold\n",
    "    if np.random.random() < np.exp(-beta*deltae) :\n",
    "        nacc+=1\n",
    "        totene+=deltae\n",
    "    else:                         #cancel the move\n",
    "        nrej+=1\n",
    "        molecules[selected]=oldmolecule.copy()\n",
    "\n",
    "    if i>0:\n",
    "        avgene[i]+=totene\n",
    "    j+=1\n",
    "nsteps+=1"
   ]
  },
  {
   "cell_type": "code",
   "execution_count": 2,
   "id": "decreased-frost",
   "metadata": {},
   "outputs": [],
   "source": [
    "selected =2"
   ]
  },
  {
   "cell_type": "code",
   "execution_count": 3,
   "id": "artificial-briefing",
   "metadata": {},
   "outputs": [],
   "source": [
    "oldmolecule=molecules[selected]"
   ]
  },
  {
   "cell_type": "code",
   "execution_count": 4,
   "id": "prostate-terrace",
   "metadata": {},
   "outputs": [
    {
     "data": {
      "text/plain": [
       "[2, 2, 0]"
      ]
     },
     "execution_count": 4,
     "metadata": {},
     "output_type": "execute_result"
    }
   ],
   "source": [
    "oldmolecule"
   ]
  },
  {
   "cell_type": "code",
   "execution_count": 5,
   "id": "covered-mistake",
   "metadata": {},
   "outputs": [],
   "source": [
    "newmolecule=[10,10,0]"
   ]
  },
  {
   "cell_type": "code",
   "execution_count": 6,
   "id": "rotary-calendar",
   "metadata": {},
   "outputs": [],
   "source": [
    "molecules[selected]=newmolecule.copy()"
   ]
  },
  {
   "cell_type": "code",
   "execution_count": 7,
   "id": "chubby-affair",
   "metadata": {},
   "outputs": [
    {
     "data": {
      "text/plain": [
       "[[0, 0, 0], [1, 1, 0], [10, 10, 0], [3, 3, 0]]"
      ]
     },
     "execution_count": 7,
     "metadata": {},
     "output_type": "execute_result"
    }
   ],
   "source": [
    "molecules"
   ]
  },
  {
   "cell_type": "code",
   "execution_count": 8,
   "id": "north-marble",
   "metadata": {},
   "outputs": [
    {
     "data": {
      "text/plain": [
       "[2, 2, 0]"
      ]
     },
     "execution_count": 8,
     "metadata": {},
     "output_type": "execute_result"
    }
   ],
   "source": [
    "oldmolecule"
   ]
  },
  {
   "cell_type": "code",
   "execution_count": 9,
   "id": "editorial-roller",
   "metadata": {},
   "outputs": [],
   "source": [
    "molecules[selected]=oldmolecule.copy()"
   ]
  },
  {
   "cell_type": "code",
   "execution_count": 10,
   "id": "thirty-anniversary",
   "metadata": {},
   "outputs": [
    {
     "data": {
      "text/plain": [
       "[[0, 0, 0], [1, 1, 0], [2, 2, 0], [3, 3, 0]]"
      ]
     },
     "execution_count": 10,
     "metadata": {},
     "output_type": "execute_result"
    }
   ],
   "source": [
    "molecules"
   ]
  },
  {
   "cell_type": "code",
   "execution_count": 11,
   "id": "premier-tucson",
   "metadata": {},
   "outputs": [
    {
     "data": {
      "text/plain": [
       "[10, 10, 0]"
      ]
     },
     "execution_count": 11,
     "metadata": {},
     "output_type": "execute_result"
    }
   ],
   "source": [
    "newmolecule"
   ]
  },
  {
   "cell_type": "code",
   "execution_count": 12,
   "id": "needed-fitness",
   "metadata": {},
   "outputs": [
    {
     "data": {
      "text/plain": [
       "[2, 2, 0]"
      ]
     },
     "execution_count": 12,
     "metadata": {},
     "output_type": "execute_result"
    }
   ],
   "source": [
    "oldmolecule"
   ]
  },
  {
   "cell_type": "code",
   "execution_count": null,
   "id": "violent-generation",
   "metadata": {},
   "outputs": [],
   "source": []
  }
 ],
 "metadata": {
  "kernelspec": {
   "display_name": "Python 3",
   "language": "python",
   "name": "python3"
  },
  "language_info": {
   "codemirror_mode": {
    "name": "ipython",
    "version": 3
   },
   "file_extension": ".py",
   "mimetype": "text/x-python",
   "name": "python",
   "nbconvert_exporter": "python",
   "pygments_lexer": "ipython3",
   "version": "3.9.1"
  }
 },
 "nbformat": 4,
 "nbformat_minor": 5
}
