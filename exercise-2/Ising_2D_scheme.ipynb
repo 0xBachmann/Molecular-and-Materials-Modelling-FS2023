{
 "cells": [
  {
   "cell_type": "markdown",
   "id": "fa089c34",
   "metadata": {},
   "source": [
    "### please send the solution to carlop@ethz.ch from your institutional e-mail address"
   ]
  },
  {
   "cell_type": "markdown",
   "id": "b538a327",
   "metadata": {},
   "source": [
    "## Determine the critical temperature $T_c$ for a square lattice of spins with nearest neighbor interactions obeying the the Ising model Hamiltonian:\n",
    "\\begin{equation}\n",
    "    H=-J\\sum_{<i,j>} \\sigma_i \\sigma_j\n",
    "\\end{equation}\n",
    "Where $J=0.01 eV$ and $\\sigma_i$ can assume values $+1$ or $-1$\n",
    "\n",
    "Consider a square lattice with $L \\times L$ spins ($L=32$) and periodic boundary conditions. \n",
    "\n",
    "Run a Metropolis Monte Carlo simulation, where at each step you flip one spin selected randomly, to compute and plot:\n",
    "1) $<|M|>$ \n",
    "where $M$ is the magnetization: $M=\\frac{1}{L^2}\\sum_{i}\\sigma_i$     \n",
    "2) the constant volume specific heat \n",
    "$<C_v>=\\frac{\\partial <E>}{\\partial T}=\\frac{\\beta^2}{N(<E^2>-<E>^2)}$ (Fluctuation dissipation theorem)\n",
    "\n",
    "Consider a grid of $~10$ different temperatures between $230K$ and $300K$. For each temperature, starting from a random configuration of spins in the lattice, compute $10$ values of $<|M|>$ and of $<C_v>$ over $800000$ MC moves. Plot for each temperature the average of the $10$ measurements (see example in Figure ). For each temperature, discard the initial $800000$ moves to allow for thermalization of the system. Record the percentage of accepted moves for each temperature and comment on the result.\n",
    "The number of MC moves suggested for the exercise is lower compared to the one adopted in Figure . The results that you will obtain will be less accurate."
   ]
  },
  {
   "cell_type": "code",
   "execution_count": 1,
   "id": "15470dc8",
   "metadata": {},
   "outputs": [],
   "source": [
    "import numpy as np\n",
    "from scipy import constants\n",
    "import matplotlib.pyplot as plt\n",
    "import time"
   ]
  },
  {
   "cell_type": "code",
   "execution_count": 2,
   "id": "7c3dccee",
   "metadata": {},
   "outputs": [],
   "source": [
    "L=32\n",
    "J=-0.01\n",
    "termsteps=1\n",
    "steps=11\n",
    "sampsize=800000\n",
    "kb = constants.physical_constants['Boltzmann constant in eV/K'][0]"
   ]
  },
  {
   "cell_type": "code",
   "execution_count": 3,
   "id": "6a66e547",
   "metadata": {},
   "outputs": [],
   "source": [
    "Tc=-2*J/(np.log(1+np.sqrt(2)))/kb"
   ]
  },
  {
   "cell_type": "code",
   "execution_count": 4,
   "id": "7521e5b9",
   "metadata": {},
   "outputs": [
    {
     "data": {
      "text/plain": [
       "263.3280210038397"
      ]
     },
     "execution_count": 4,
     "metadata": {},
     "output_type": "execute_result"
    }
   ],
   "source": [
    "Tc"
   ]
  },
  {
   "cell_type": "code",
   "execution_count": 5,
   "id": "12ae0f6b",
   "metadata": {},
   "outputs": [],
   "source": [
    "#certae a function to compute PBC\n",
    "def pbc(i,j,lx,ly):\n",
    "  \n",
    "    return "
   ]
  },
  {
   "cell_type": "code",
   "execution_count": 6,
   "id": "6e50b890",
   "metadata": {},
   "outputs": [],
   "source": [
    "#create two functions to compute the energy of a configuration and teh magnetization\n",
    "def energy(i,j,spins,J,Lx,Ly):\n",
    ".\n",
    ".\n",
    "    return ...\n",
    "def magnetization(spins):\n",
    "    .\n",
    "    .\n",
    "    \n",
    "    return ..."
   ]
  },
  {
   "cell_type": "code",
   "execution_count": null,
   "id": "3b8b2ef3",
   "metadata": {},
   "outputs": [
    {
     "name": "stdout",
     "output_type": "stream",
     "text": [
      "230\n",
      "Time: 488.8156 seconds\n",
      "acceptance rate 8 %\n",
      "235\n",
      "Time: 462.3145 seconds\n",
      "acceptance rate 9 %\n",
      "240\n",
      "Time: 487.3777 seconds\n",
      "acceptance rate 10 %\n",
      "245\n",
      "Time: 491.5003 seconds\n",
      "acceptance rate 12 %\n",
      "250\n",
      "Time: 517.0505 seconds\n",
      "acceptance rate 13 %\n",
      "255\n",
      "Time: 614.9276 seconds\n",
      "acceptance rate 15 %\n",
      "260\n",
      "Time: 542.7929 seconds\n",
      "acceptance rate 17 %\n",
      "265\n",
      "Time: 523.5063 seconds\n",
      "acceptance rate 21 %\n",
      "270\n",
      "Time: 525.1567 seconds\n",
      "acceptance rate 24 %\n",
      "275\n",
      "Time: 520.6467 seconds\n",
      "acceptance rate 26 %\n",
      "280\n",
      "Time: 523.6898 seconds\n",
      "acceptance rate 29 %\n",
      "285\n"
     ]
    }
   ],
   "source": [
    "energies = []\n",
    "energies_sq = []\n",
    "mag = []\n",
    "cv = []\n",
    "magm = []\n",
    "cvm = []\n",
    "snapshot = []\n",
    "for T in range(230,300,5): #main loop on the different Temperatures\n",
    "    Na=0\n",
    "    Nr=0\n",
    "    t0=time.perf_counter()\n",
    "    print(T)\n",
    "    spins=np.where(np.random.sample([L,L]) < 0.5, 1, -1)\n",
    "    beta = 1/(kb*T)\n",
    "    prefact=beta*beta/(L*L)\n",
    "    rates={}\n",
    "    for DE in [-8,-4,0,4,8]: # what is this trick...? (almost useless in this case)\n",
    "        rates[DE]=np.exp(-1*J*DE*beta) \n",
    "    TotEne=0.0\n",
    "    for i in range(L): #compute intial value of energy\n",
    "        for j in range(L):\n",
    "            TotEne+=....\n",
    "\n",
    "    for step in range(steps):\n",
    "        step_e = []\n",
    "        #step_esq = []\n",
    "        step_m = []\n",
    "        #generate sampsize random numbers for i,j and r. r will be used for the boltzmann factor\n",
    "        for i,j,r in zip(np.random.randint(0,L,sampsize),np.random.randint(0,L,sampsize),np.random.random(sampsize)):\n",
    "            spins[i,j] *= -1\n",
    "            DE =  ...\n",
    "            # decide whether to accept or not th emove\n",
    "            if ....\n",
    "                ...\n",
    "                Na+=1\n",
    "            else:\n",
    "                ...\n",
    "                Nr+=1\n",
    "            step_e.append(TotEne) #store values of energy to compute average later\n",
    "            step_m.append(magnetization(spins)) #store values of |M|\n",
    "        if step > termsteps: #start accumulting statistics after termalization step\n",
    "            esq = np.array(step_e)*np.array(step_e)\n",
    "            mag.append((T,np.average(step_m)))\n",
    "            cv.append()\n",
    "    # store averages among \"steps\" measurements of  |M| and Cv (red dots)\n",
    "    # to average on the same value of T the last \"steps-termsteps\" entries are considered\n",
    "    magm.append((T,np.average(np.array(mag)[-(steps-termsteps)+1:,1])))\n",
    "    cvm.append((T,np.average(np.array(cv)[-(steps-termsteps)+1:,1])))\n",
    "    t1=time.perf_counter()\n",
    "    snapshot.append(spins)\n",
    "    print(f\"Time: {t1 - t0:0.4f} seconds\")\n",
    "    print(f\"acceptance rate {Na/(Na+Nr)*100:0.0f} %\")"
   ]
  },
  {
   "cell_type": "code",
   "execution_count": null,
   "id": "8a32217f",
   "metadata": {},
   "outputs": [],
   "source": [
    "plt.scatter(np.array(mag)[:,0],np.array(mag)[:,1],s=10)\n",
    "plt.scatter(np.array(magm)[:,0],np.array(magm)[:,1],s=15, c='r')\n",
    "plt.xlabel(\"T\")\n",
    "plt.ylabel(\"<|M|>\")\n",
    "plt.savefig(\"M.png\",dpi=300)"
   ]
  },
  {
   "cell_type": "code",
   "execution_count": null,
   "id": "d747c0ab",
   "metadata": {},
   "outputs": [],
   "source": [
    "plt.scatter(np.array(cv)[:,0],np.array(cv)[:,1],s=10)\n",
    "plt.scatter(np.array(cvm)[:,0],np.array(cvm)[:,1],s=15, c='r')\n",
    "plt.xlabel(\"T\")\n",
    "plt.ylabel(\"$C_v$\")\n",
    "plt.savefig(\"cv.png\",dpi=300)"
   ]
  },
  {
   "cell_type": "code",
   "execution_count": null,
   "id": "b16b4310",
   "metadata": {},
   "outputs": [],
   "source": [
    "plt.imshow(snapshot[0])"
   ]
  },
  {
   "cell_type": "code",
   "execution_count": null,
   "id": "e030f3a6",
   "metadata": {},
   "outputs": [],
   "source": [
    "plt.imshow(snapshot[7])"
   ]
  },
  {
   "cell_type": "code",
   "execution_count": null,
   "id": "d3f1652e",
   "metadata": {},
   "outputs": [],
   "source": [
    "plt.imshow(snapshot[13])"
   ]
  },
  {
   "cell_type": "markdown",
   "id": "c2721c97",
   "metadata": {},
   "source": [
    "<img src=\"M.png\" width=500 height=500>\n",
    "<img src=\"cv.png\" width=500 height=500>\n",
    "The results plotted above were obtained with sampsize 10M. For the the exercise tehre is no need to run such a long simulaiton. With sampsize 800k  a not too bad implementation should take ~3 minutes for each temperature."
   ]
  },
  {
   "cell_type": "code",
   "execution_count": null,
   "id": "a2466324",
   "metadata": {},
   "outputs": [],
   "source": []
  }
 ],
 "metadata": {
  "kernelspec": {
   "display_name": "Python 3 (ipykernel)",
   "language": "python",
   "name": "python3"
  },
  "language_info": {
   "codemirror_mode": {
    "name": "ipython",
    "version": 3
   },
   "file_extension": ".py",
   "mimetype": "text/x-python",
   "name": "python",
   "nbconvert_exporter": "python",
   "pygments_lexer": "ipython3",
   "version": "3.8.10"
  }
 },
 "nbformat": 4,
 "nbformat_minor": 5
}
