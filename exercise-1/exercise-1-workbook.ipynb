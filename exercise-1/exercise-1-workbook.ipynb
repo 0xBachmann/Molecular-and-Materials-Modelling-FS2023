{
 "cells": [
  {
   "cell_type": "markdown",
   "id": "formal-model",
   "metadata": {},
   "source": [
    "# -- Exercise 1: Determination of lattice constants via equations of state and a general second-degree polynomial fit -- #\n",
    "## 0. Introduction to the course\n",
    "\n",
    "Welcome to Molecular and Materials Modelling in the Spring Semester 2023 at the ETH\n",
    "Zürich. This interdisciplinary course will explore many facets of computational physics and\n",
    "materials science using classical, semi-classical, and quantum-mechanical methodologies.\n",
    "In this course, we will gain:\n",
    "\n",
    "- the ability to select a suitable atomistic approach to model a nanoscale system,\n",
    "and to employ a simulation package to compute quantities, thereby providing a\n",
    "theoretically-sound explanation of the results of a given experiment;\n",
    "\n",
    "- knowledge of empirical force fields and insight into electronic structure theory, with\n",
    "emphasis on density-functional theory\n",
    "\n",
    "- proficiency in experiments performed in silico. We will interpret the experimental in-\n",
    "put, choose the level of theory, model the approximations, perform calculations on a\n",
    "supercomputer, and finally collect and represent the results using Juypter notebooks\n",
    "and Python scripting.\n",
    "\n",
    "### 0.1. Course structure\n",
    "\n",
    "The meeting times and places of this course are as follows:\n",
    "\n",
    "- Semester: Spring Semester 2023\n",
    "- Wednesdays: lecture from 8.15 - 10.00;\n",
    "- Credit points: 6 LP (dt. *Leistungspunkte*)\n",
    "- Meeting place: ETZ E9 in ETH Zentrum\n",
    "- Final grade: The final grade will be the result of a 30 minutes individual oral exam\n",
    "on the course topics (50%) and the cumulative grade about exercises assigned after\n",
    "each exercise appointment (50%). The students will receive a small computational\n",
    "exercise about the topics treated in the class, that could be solved within different\n",
    "programming environments (we provide python based Jupyter notebooks) and if\n",
    "necessary high performance computing resources. A short report and/or answer to\n",
    "a few questions will be delivered at the next lecture appointment. At the end of the\n",
    "oral exam, the solutions will be briefly discussed and a grade will be given which\n",
    "will take into account the commitment and the quality of the solutions/report, as\n",
    "well as the discussion on them at the exam.\n",
    "\n",
    "### 0.2. Course content\n",
    "\n",
    "The lectures and accompanying exercises will be divided as follows:\n",
    "\n",
    "1. 22 Feb.: Introduction (DP/RA)\n",
    "2. 01 Mar.: Monte Carlo methods (CP)\n",
    "3. 08 Mar.: Force fields and potential energy surfaces: locating extrema and transition states (DP/RA)\n",
    "4. 15 Mar.: Band structure I (CP)\n",
    "5. 22 Mar.: Band structure II (CP)\n",
    "6. 29 Mar.: From quantum mechanics to chemical reactions (DP/RA)\n",
    "7. 05 Apr.: Density-functional theory I: introduction to theory and simulation  (DP/RA)\n",
    "8. 12 Apr.: unterrichtsfreie Woche nach Ostern\n",
    "9. 19 Apr.: Density-functional theory II: applications to computer experiments on surfaces (DP/RA)\n",
    "10. 26 Apr.: Classical molecular dynamics (DP/RA)\n",
    "11. 03 May: Machine learning I: data and dimensionality reduction (CP)\n",
    "12. 10 May: Machine learning II: data and dimensionality reduction continued (CP)\n",
    "13. 17 May: Thermostats; replica exchange (DP/RA)\n",
    "14. 24 May: Computational spectroscopies and microscopy (x-ray, infrared, STM) (DP/RA)\n",
    "15. 31 May: Free energy methods (DP/RA)\n",
    "\n",
    "### 0.3. Assignments structure\n",
    "\n",
    "Assignments are designed to allow the students to apply the content of the lecture in a\n",
    "hands-on setting. As such, they constitute an integral aspect of the course – a fact reflected\n",
    "in their weighting of 50% of the final grade.\n",
    "\n",
    "Assignments are to be completed within the Jupyter notebook itself, **within the\n",
    "respective fields in which they appear** in the exercise-i-workbook.ipynb file. For\n",
    "answers which are to be written in text (an explanation or elucidation of a phenomenon,\n",
    "for instance), the cell should be in the markdown format. For answers involving bash\n",
    "scripting (or really any coding environment), the `<code></code>` environment within the markdown format should suffice.\n",
    "Standard Python code can be written directly in the cell. All assignments, which are to\n",
    "be submitted for grading, will appear in a box such as this:"
   ]
  },
  {
   "cell_type": "markdown",
   "id": "developed-stroke",
   "metadata": {
    "tags": []
   },
   "source": [
    "#### Assignment 1: Playing with Markdown and Latex"
   ]
  },
  {
   "cell_type": "markdown",
   "id": "right-placement",
   "metadata": {},
   "source": [
    "In this course, we will be making ample use of both Markdown and Python within a Jupyter Notebook. In order to familiarise ourselves with some of the syntax, here are some introductory tasks to practice different modes of syntax:\n",
    "1. Sometimes we will want to highlight words or phrases by means of bold or italicised text. Write something in bold, something in italicised, and then something in bold and italicised text.\n",
    "2. Formatting and appearance are important. Typeset \"import matplotlib.pyplot as plt\" here in Markdown using the monospaced slab serif typeface, so that it 'looks' more like code.\n",
    "3. Write the time-dependent 3D Schrödinger Equation (so, using the del-operator) in SI-units (so, with all the physical constants) for some arbitrary wavefunction $\\psi(\\vec{x})$ and some arbitrary potential $V(x)$ for $x := |\\vec{x}|$. If you don't know the Schrödinger Equation by heart, just Google it."
   ]
  },
  {
   "cell_type": "markdown",
   "id": "20091790-739a-45f5-a9d5-cade809a8dab",
   "metadata": {},
   "source": [
    "1. something **bold**, *italic*, ***both***\n",
    "2. ``import matplotlib.pyplot as plt``\n",
    "3. $\\hat H \\psi(\\vec x) = i\\hbar\\frac{\\partial}{\\partial t}\\psi(\\vec x) = \\left[ -\\frac{\\hbar^2}{2m} \\Delta + V(|\\vec x|) \\right] \\psi(\\vec x)$"
   ]
  },
  {
   "cell_type": "markdown",
   "id": "transsexual-representative",
   "metadata": {},
   "source": [
    "#### End Assignment 1\n",
    "\n",
    "..., and should furthermore fulfill **all** of the following criteria:\n",
    "\n",
    "- Assignments shall be submitted **on or before 18.00h of the following Sunday**\n",
    "to `ramador@ethz.ch`;\n",
    "- Assignments should be submitted as **folders** containing all necessary files to ensure their proper opening, including but not limited to generated image and text files. *Please do not include the wavefunction `.wfn` files in the submitted folder, as these files are quite large*.\n",
    "- The Jupyter notebooks themselves should follw the format: SURNAME-FIRSTNAME_exercise-i-workbook.ipynb, where i of\n",
    "course denotes the exercise / week number;\n",
    "- Assignments should be sensibly worked out, even if the submitted solution is incor-\n",
    "rect. **If, after having attempted the solution, and after Googling around\n",
    "for help, you are still unable to arrive at a working answer, please explain\n",
    "what you tried and what you searched for in your submission**, and, if\n",
    "necessary, what logic you applied and where you got stuck. Standstills are\n",
    "all too common in original research, for which reason you will still get credit for\n",
    "the exercise for a reasonably thorough explanation.\n",
    "\n",
    "If all of this seems a bit overwhelming, don’t worry – we’ll cover everything in this\n",
    "course, and Raymond Amador, Daniele Passerone, and Carlo Pignedoli are of course\n",
    "reachable by email. Solutions will then be posted by the following Monday.\n",
    "\n",
    "### 0.3. The *compendium scriptorum*\n",
    "\n",
    "Over the course of the semester, we will be using several bash scripts to automate certain\n",
    "tasks or extract data. Scripts which are to be added to this compendium scriptorum will\n",
    "be enclosed in the following box:\n",
    "\n",
    "```\n",
    "#!/bin/bash\n",
    "##--SCRIPT TO BE ADDED--##\n",
    "```"
   ]
  },
  {
   "cell_type": "markdown",
   "id": "incident-heating",
   "metadata": {},
   "source": [
    "## 1 The Atomic Simulation Environment"
   ]
  },
  {
   "cell_type": "markdown",
   "id": "color-india",
   "metadata": {},
   "source": [
    "### 1.2 The atomization energy of a nitrogen molecule\n",
    "\n",
    "We begin toying around with the Atomic Simulation Environment (ASE) by investigating\n",
    "some basic properties of materials: in the current exercise, we first want to use ASE to\n",
    "calculate the **atomization energy** of a nitrogen molecule. The atomization energy,\n",
    "or more precisely, the **enthalpy of atomization**, is defined as the change in enthalpy\n",
    "$∆_{at}H$ when the bonds of a compound are broken, and the component atoms are thereby\n",
    "separated into individual atoms. We therefore arrive at the following definition: $$∆_{at}H=E_{N_2} - 2E_N, $$\n",
    "where $E_{N_2}$ and $E_N$ represent the energy of the $N_2$ molecule and that of the single N atom, respectively."
   ]
  },
  {
   "cell_type": "markdown",
   "id": "seventh-olive",
   "metadata": {},
   "source": [
    "#### Assignment 2: Atomization energy\n",
    "Why must the atomization energy always be positive?\n",
    "<br> A: We need a given energy to break $N_2$ into two seperate atoms. As a result, atomization enthalpy will always be positive."
   ]
  },
  {
   "cell_type": "markdown",
   "id": "respiratory-series",
   "metadata": {},
   "source": [
    "#### End Assignment 2\n",
    "\n",
    "The `!` appearing in `[1]` directs the Jupyter notebook to interact directly with the\n",
    "Terminal, as if the command were being carried out directly in the command line. This\n",
    "cell installs the necessary packages to our Jupyter notebook which will be required for this\n",
    "(and all future) exercise.\n",
    "`\n",
    "We now turn to the second and third cells, which import various libraries from the\n",
    "packages we’ve just installed, and then create an Atoms object out of the object class;\n",
    "execute them."
   ]
  },
  {
   "cell_type": "code",
   "execution_count": 28,
   "id": "radical-cholesterol",
   "metadata": {},
   "outputs": [
    {
     "name": "stdout",
     "output_type": "stream",
     "text": [
      "Defaulting to user installation because normal site-packages is not writeable\n",
      "Requirement already satisfied: ase in /cluster/apps/nss/gcc-8.2.0/python/3.10.4/x86_64/lib64/python3.10/site-packages (3.22.1)\n",
      "Requirement already satisfied: numpy>=1.15.0 in /cluster/apps/nss/jupyterhub/3.5.1/lib64/python3.10/site-packages (from ase) (1.24.2)\n",
      "Requirement already satisfied: scipy>=1.1.0 in /cluster/apps/nss/gcc-8.2.0/python/3.10.4/x86_64/lib64/python3.10/site-packages (from ase) (1.8.1)\n",
      "Requirement already satisfied: matplotlib>=3.1.0 in /cluster/apps/nss/gcc-8.2.0/python/3.10.4/x86_64/lib64/python3.10/site-packages (from ase) (3.5.2)\n",
      "Requirement already satisfied: python-dateutil>=2.7 in /cluster/apps/nss/jupyterhub/3.5.1/lib64/python3.10/site-packages (from matplotlib>=3.1.0->ase) (2.8.2)\n",
      "Requirement already satisfied: fonttools>=4.22.0 in /cluster/apps/nss/gcc-8.2.0/python/3.10.4/x86_64/lib64/python3.10/site-packages (from matplotlib>=3.1.0->ase) (4.33.3)\n",
      "Requirement already satisfied: packaging>=20.0 in /cluster/apps/nss/jupyterhub/3.5.1/lib64/python3.10/site-packages (from matplotlib>=3.1.0->ase) (23.0)\n",
      "Requirement already satisfied: cycler>=0.10 in /cluster/apps/nss/gcc-8.2.0/python/3.10.4/x86_64/lib64/python3.10/site-packages (from matplotlib>=3.1.0->ase) (0.11.0)\n",
      "Requirement already satisfied: pillow>=6.2.0 in /cluster/apps/nss/gcc-8.2.0/python/3.10.4/x86_64/lib64/python3.10/site-packages (from matplotlib>=3.1.0->ase) (9.1.1)\n",
      "Requirement already satisfied: kiwisolver>=1.0.1 in /cluster/apps/nss/gcc-8.2.0/python/3.10.4/x86_64/lib64/python3.10/site-packages (from matplotlib>=3.1.0->ase) (1.4.2)\n",
      "Requirement already satisfied: pyparsing>=2.2.1 in /cluster/apps/nss/jupyterhub/3.5.1/lib64/python3.10/site-packages (from matplotlib>=3.1.0->ase) (3.0.9)\n",
      "Requirement already satisfied: six>=1.5 in /cluster/apps/nss/jupyterhub/3.5.1/lib64/python3.10/site-packages (from python-dateutil>=2.7->matplotlib>=3.1.0->ase) (1.16.0)\n",
      "Defaulting to user installation because normal site-packages is not writeable\n",
      "Requirement already satisfied: nglview in /cluster/home/jbachmann/.local/lib/python3.10/site-packages (3.0.3)\n",
      "Requirement already satisfied: numpy in /cluster/apps/nss/jupyterhub/3.5.1/lib64/python3.10/site-packages (from nglview) (1.24.2)\n",
      "Requirement already satisfied: ipywidgets>=7 in /cluster/apps/nss/gcc-8.2.0/python/3.10.4/x86_64/lib64/python3.10/site-packages (from nglview) (7.7.0)\n",
      "Requirement already satisfied: jupyterlab-widgets in /cluster/apps/nss/gcc-8.2.0/python/3.10.4/x86_64/lib64/python3.10/site-packages (from nglview) (1.1.0)\n",
      "Requirement already satisfied: traitlets>=4.3.1 in /cluster/apps/nss/jupyterhub/3.5.1/lib64/python3.10/site-packages (from ipywidgets>=7->nglview) (5.8.1)\n",
      "Requirement already satisfied: nbformat>=4.2.0 in /cluster/apps/nss/jupyterhub/3.5.1/lib64/python3.10/site-packages (from ipywidgets>=7->nglview) (5.7.0)\n",
      "Requirement already satisfied: ipython-genutils~=0.2.0 in /cluster/apps/nss/jupyterhub/3.5.1/lib64/python3.10/site-packages (from ipywidgets>=7->nglview) (0.2.0)\n",
      "Requirement already satisfied: ipython>=4.0.0 in /cluster/apps/nss/jupyterhub/3.5.1/lib64/python3.10/site-packages (from ipywidgets>=7->nglview) (8.8.0)\n",
      "Requirement already satisfied: ipykernel>=4.5.1 in /cluster/apps/nss/jupyterhub/3.5.1/lib64/python3.10/site-packages (from ipywidgets>=7->nglview) (6.20.2)\n",
      "Requirement already satisfied: widgetsnbextension~=3.6.0 in /cluster/apps/nss/gcc-8.2.0/python/3.10.4/x86_64/lib64/python3.10/site-packages (from ipywidgets>=7->nglview) (3.6.0)\n",
      "Requirement already satisfied: tornado>=6.1 in /cluster/apps/nss/jupyterhub/3.5.1/lib64/python3.10/site-packages (from ipykernel>=4.5.1->ipywidgets>=7->nglview) (6.2)\n",
      "Requirement already satisfied: psutil in /cluster/apps/nss/jupyterhub/3.5.1/lib64/python3.10/site-packages (from ipykernel>=4.5.1->ipywidgets>=7->nglview) (5.9.4)\n",
      "Requirement already satisfied: matplotlib-inline>=0.1 in /cluster/apps/nss/jupyterhub/3.5.1/lib64/python3.10/site-packages (from ipykernel>=4.5.1->ipywidgets>=7->nglview) (0.1.6)\n",
      "Requirement already satisfied: comm>=0.1.1 in /cluster/apps/nss/jupyterhub/3.5.1/lib64/python3.10/site-packages (from ipykernel>=4.5.1->ipywidgets>=7->nglview) (0.1.2)\n",
      "Requirement already satisfied: nest-asyncio in /cluster/apps/nss/jupyterhub/3.5.1/lib64/python3.10/site-packages (from ipykernel>=4.5.1->ipywidgets>=7->nglview) (1.5.6)\n",
      "Requirement already satisfied: pyzmq>=17 in /cluster/apps/nss/jupyterhub/3.5.1/lib64/python3.10/site-packages (from ipykernel>=4.5.1->ipywidgets>=7->nglview) (25.0.0)\n",
      "Requirement already satisfied: packaging in /cluster/apps/nss/jupyterhub/3.5.1/lib64/python3.10/site-packages (from ipykernel>=4.5.1->ipywidgets>=7->nglview) (23.0)\n",
      "Requirement already satisfied: debugpy>=1.0 in /cluster/apps/nss/jupyterhub/3.5.1/lib64/python3.10/site-packages (from ipykernel>=4.5.1->ipywidgets>=7->nglview) (1.6.5)\n",
      "Requirement already satisfied: jupyter-client>=6.1.12 in /cluster/apps/nss/jupyterhub/3.5.1/lib64/python3.10/site-packages (from ipykernel>=4.5.1->ipywidgets>=7->nglview) (7.4.9)\n",
      "Requirement already satisfied: pickleshare in /cluster/apps/nss/jupyterhub/3.5.1/lib64/python3.10/site-packages (from ipython>=4.0.0->ipywidgets>=7->nglview) (0.7.5)\n",
      "Requirement already satisfied: jedi>=0.16 in /cluster/apps/nss/jupyterhub/3.5.1/lib64/python3.10/site-packages (from ipython>=4.0.0->ipywidgets>=7->nglview) (0.18.2)\n",
      "Requirement already satisfied: decorator in /cluster/apps/nss/jupyterhub/3.5.1/lib64/python3.10/site-packages (from ipython>=4.0.0->ipywidgets>=7->nglview) (5.1.1)\n",
      "Requirement already satisfied: pexpect>4.3 in /cluster/apps/nss/jupyterhub/3.5.1/lib64/python3.10/site-packages (from ipython>=4.0.0->ipywidgets>=7->nglview) (4.8.0)\n",
      "Requirement already satisfied: pygments>=2.4.0 in /cluster/apps/nss/jupyterhub/3.5.1/lib64/python3.10/site-packages (from ipython>=4.0.0->ipywidgets>=7->nglview) (2.14.0)\n",
      "Requirement already satisfied: backcall in /cluster/apps/nss/jupyterhub/3.5.1/lib64/python3.10/site-packages (from ipython>=4.0.0->ipywidgets>=7->nglview) (0.2.0)\n",
      "Requirement already satisfied: prompt-toolkit<3.1.0,>=3.0.11 in /cluster/apps/nss/jupyterhub/3.5.1/lib64/python3.10/site-packages (from ipython>=4.0.0->ipywidgets>=7->nglview) (3.0.36)\n",
      "Requirement already satisfied: stack-data in /cluster/apps/nss/jupyterhub/3.5.1/lib64/python3.10/site-packages (from ipython>=4.0.0->ipywidgets>=7->nglview) (0.6.2)\n",
      "Requirement already satisfied: fastjsonschema in /cluster/apps/nss/jupyterhub/3.5.1/lib64/python3.10/site-packages (from nbformat>=4.2.0->ipywidgets>=7->nglview) (2.16.2)\n",
      "Requirement already satisfied: jupyter-core in /cluster/apps/nss/jupyterhub/3.5.1/lib64/python3.10/site-packages (from nbformat>=4.2.0->ipywidgets>=7->nglview) (5.1.3)\n",
      "Requirement already satisfied: jsonschema>=2.6 in /cluster/apps/nss/jupyterhub/3.5.1/lib64/python3.10/site-packages (from nbformat>=4.2.0->ipywidgets>=7->nglview) (4.17.3)\n",
      "Requirement already satisfied: notebook>=4.4.1 in /cluster/apps/nss/jupyterhub/3.5.1/lib64/python3.10/site-packages (from widgetsnbextension~=3.6.0->ipywidgets>=7->nglview) (6.5.2)\n",
      "Requirement already satisfied: parso<0.9.0,>=0.8.0 in /cluster/apps/nss/jupyterhub/3.5.1/lib64/python3.10/site-packages (from jedi>=0.16->ipython>=4.0.0->ipywidgets>=7->nglview) (0.8.3)\n",
      "Requirement already satisfied: attrs>=17.4.0 in /cluster/apps/nss/jupyterhub/3.5.1/lib64/python3.10/site-packages (from jsonschema>=2.6->nbformat>=4.2.0->ipywidgets>=7->nglview) (22.1.0)\n",
      "Requirement already satisfied: pyrsistent!=0.17.0,!=0.17.1,!=0.17.2,>=0.14.0 in /cluster/apps/nss/jupyterhub/3.5.1/lib64/python3.10/site-packages (from jsonschema>=2.6->nbformat>=4.2.0->ipywidgets>=7->nglview) (0.19.2)\n",
      "Requirement already satisfied: entrypoints in /cluster/apps/nss/jupyterhub/3.5.1/lib64/python3.10/site-packages (from jupyter-client>=6.1.12->ipykernel>=4.5.1->ipywidgets>=7->nglview) (0.4)\n",
      "Requirement already satisfied: python-dateutil>=2.8.2 in /cluster/apps/nss/jupyterhub/3.5.1/lib64/python3.10/site-packages (from jupyter-client>=6.1.12->ipykernel>=4.5.1->ipywidgets>=7->nglview) (2.8.2)\n",
      "Requirement already satisfied: platformdirs>=2.5 in /cluster/apps/nss/jupyterhub/3.5.1/lib64/python3.10/site-packages (from jupyter-core->nbformat>=4.2.0->ipywidgets>=7->nglview) (2.6.2)\n",
      "Requirement already satisfied: terminado>=0.8.3 in /cluster/apps/nss/jupyterhub/3.5.1/lib64/python3.10/site-packages (from notebook>=4.4.1->widgetsnbextension~=3.6.0->ipywidgets>=7->nglview) (0.17.1)\n",
      "Requirement already satisfied: jinja2 in /cluster/apps/nss/jupyterhub/3.5.1/lib64/python3.10/site-packages (from notebook>=4.4.1->widgetsnbextension~=3.6.0->ipywidgets>=7->nglview) (3.1.2)\n",
      "Requirement already satisfied: nbclassic>=0.4.7 in /cluster/apps/nss/jupyterhub/3.5.1/lib64/python3.10/site-packages (from notebook>=4.4.1->widgetsnbextension~=3.6.0->ipywidgets>=7->nglview) (0.4.8)\n",
      "Requirement already satisfied: nbconvert>=5 in /cluster/apps/nss/jupyterhub/3.5.1/lib64/python3.10/site-packages (from notebook>=4.4.1->widgetsnbextension~=3.6.0->ipywidgets>=7->nglview) (7.2.6)\n",
      "Requirement already satisfied: Send2Trash>=1.8.0 in /cluster/apps/nss/jupyterhub/3.5.1/lib64/python3.10/site-packages (from notebook>=4.4.1->widgetsnbextension~=3.6.0->ipywidgets>=7->nglview) (1.8.0)\n",
      "Requirement already satisfied: prometheus-client in /cluster/apps/nss/jupyterhub/3.5.1/lib64/python3.10/site-packages (from notebook>=4.4.1->widgetsnbextension~=3.6.0->ipywidgets>=7->nglview) (0.15.0)\n",
      "Requirement already satisfied: argon2-cffi in /cluster/apps/nss/jupyterhub/3.5.1/lib64/python3.10/site-packages (from notebook>=4.4.1->widgetsnbextension~=3.6.0->ipywidgets>=7->nglview) (21.3.0)\n",
      "Requirement already satisfied: ptyprocess>=0.5 in /cluster/apps/nss/jupyterhub/3.5.1/lib64/python3.10/site-packages (from pexpect>4.3->ipython>=4.0.0->ipywidgets>=7->nglview) (0.7.0)\n",
      "Requirement already satisfied: wcwidth in /cluster/apps/nss/jupyterhub/3.5.1/lib64/python3.10/site-packages (from prompt-toolkit<3.1.0,>=3.0.11->ipython>=4.0.0->ipywidgets>=7->nglview) (0.2.6)\n",
      "Requirement already satisfied: asttokens>=2.1.0 in /cluster/apps/nss/jupyterhub/3.5.1/lib64/python3.10/site-packages (from stack-data->ipython>=4.0.0->ipywidgets>=7->nglview) (2.2.1)\n",
      "Requirement already satisfied: executing>=1.2.0 in /cluster/apps/nss/jupyterhub/3.5.1/lib64/python3.10/site-packages (from stack-data->ipython>=4.0.0->ipywidgets>=7->nglview) (1.2.0)\n",
      "Requirement already satisfied: pure-eval in /cluster/apps/nss/jupyterhub/3.5.1/lib64/python3.10/site-packages (from stack-data->ipython>=4.0.0->ipywidgets>=7->nglview) (0.2.2)\n",
      "Requirement already satisfied: six in /cluster/apps/nss/jupyterhub/3.5.1/lib64/python3.10/site-packages (from asttokens>=2.1.0->stack-data->ipython>=4.0.0->ipywidgets>=7->nglview) (1.16.0)\n",
      "Requirement already satisfied: notebook-shim>=0.1.0 in /cluster/apps/nss/jupyterhub/3.5.1/lib64/python3.10/site-packages (from nbclassic>=0.4.7->notebook>=4.4.1->widgetsnbextension~=3.6.0->ipywidgets>=7->nglview) (0.2.2)\n",
      "Requirement already satisfied: jupyter-server>=1.8 in /cluster/apps/nss/jupyterhub/3.5.1/lib64/python3.10/site-packages (from nbclassic>=0.4.7->notebook>=4.4.1->widgetsnbextension~=3.6.0->ipywidgets>=7->nglview) (1.23.3)\n",
      "Requirement already satisfied: defusedxml in /cluster/apps/nss/jupyterhub/3.5.1/lib64/python3.10/site-packages (from nbconvert>=5->notebook>=4.4.1->widgetsnbextension~=3.6.0->ipywidgets>=7->nglview) (0.7.1)\n",
      "Requirement already satisfied: nbclient>=0.5.0 in /cluster/apps/nss/jupyterhub/3.5.1/lib64/python3.10/site-packages (from nbconvert>=5->notebook>=4.4.1->widgetsnbextension~=3.6.0->ipywidgets>=7->nglview) (0.7.2)\n",
      "Requirement already satisfied: pandocfilters>=1.4.1 in /cluster/apps/nss/jupyterhub/3.5.1/lib64/python3.10/site-packages (from nbconvert>=5->notebook>=4.4.1->widgetsnbextension~=3.6.0->ipywidgets>=7->nglview) (1.5.0)\n",
      "Requirement already satisfied: tinycss2 in /cluster/apps/nss/jupyterhub/3.5.1/lib64/python3.10/site-packages (from nbconvert>=5->notebook>=4.4.1->widgetsnbextension~=3.6.0->ipywidgets>=7->nglview) (1.2.1)\n",
      "Requirement already satisfied: mistune<3,>=2.0.3 in /cluster/apps/nss/jupyterhub/3.5.1/lib64/python3.10/site-packages (from nbconvert>=5->notebook>=4.4.1->widgetsnbextension~=3.6.0->ipywidgets>=7->nglview) (2.0.4)\n",
      "Requirement already satisfied: markupsafe>=2.0 in /cluster/apps/nss/jupyterhub/3.5.1/lib64/python3.10/site-packages (from nbconvert>=5->notebook>=4.4.1->widgetsnbextension~=3.6.0->ipywidgets>=7->nglview) (2.1.2)\n",
      "Requirement already satisfied: jupyterlab-pygments in /cluster/apps/nss/jupyterhub/3.5.1/lib64/python3.10/site-packages (from nbconvert>=5->notebook>=4.4.1->widgetsnbextension~=3.6.0->ipywidgets>=7->nglview) (0.2.2)\n",
      "Requirement already satisfied: beautifulsoup4 in /cluster/apps/nss/jupyterhub/3.5.1/lib64/python3.10/site-packages (from nbconvert>=5->notebook>=4.4.1->widgetsnbextension~=3.6.0->ipywidgets>=7->nglview) (4.11.1)\n",
      "Requirement already satisfied: bleach in /cluster/apps/nss/jupyterhub/3.5.1/lib64/python3.10/site-packages (from nbconvert>=5->notebook>=4.4.1->widgetsnbextension~=3.6.0->ipywidgets>=7->nglview) (5.0.1)\n",
      "Requirement already satisfied: argon2-cffi-bindings in /cluster/apps/nss/jupyterhub/3.5.1/lib64/python3.10/site-packages (from argon2-cffi->notebook>=4.4.1->widgetsnbextension~=3.6.0->ipywidgets>=7->nglview) (21.2.0)\n",
      "Requirement already satisfied: websocket-client in /cluster/apps/nss/jupyterhub/3.5.1/lib64/python3.10/site-packages (from jupyter-server>=1.8->nbclassic>=0.4.7->notebook>=4.4.1->widgetsnbextension~=3.6.0->ipywidgets>=7->nglview) (1.4.2)\n",
      "Requirement already satisfied: anyio<4,>=3.1.0 in /cluster/apps/nss/jupyterhub/3.5.1/lib64/python3.10/site-packages (from jupyter-server>=1.8->nbclassic>=0.4.7->notebook>=4.4.1->widgetsnbextension~=3.6.0->ipywidgets>=7->nglview) (3.6.2)\n",
      "Requirement already satisfied: cffi>=1.0.1 in /cluster/apps/nss/jupyterhub/3.5.1/lib64/python3.10/site-packages (from argon2-cffi-bindings->argon2-cffi->notebook>=4.4.1->widgetsnbextension~=3.6.0->ipywidgets>=7->nglview) (1.15.1)\n",
      "Requirement already satisfied: soupsieve>1.2 in /cluster/apps/nss/jupyterhub/3.5.1/lib64/python3.10/site-packages (from beautifulsoup4->nbconvert>=5->notebook>=4.4.1->widgetsnbextension~=3.6.0->ipywidgets>=7->nglview) (2.3.2.post1)\n",
      "Requirement already satisfied: webencodings in /cluster/apps/nss/jupyterhub/3.5.1/lib64/python3.10/site-packages (from bleach->nbconvert>=5->notebook>=4.4.1->widgetsnbextension~=3.6.0->ipywidgets>=7->nglview) (0.5.1)\n",
      "Requirement already satisfied: sniffio>=1.1 in /cluster/apps/nss/jupyterhub/3.5.1/lib64/python3.10/site-packages (from anyio<4,>=3.1.0->jupyter-server>=1.8->nbclassic>=0.4.7->notebook>=4.4.1->widgetsnbextension~=3.6.0->ipywidgets>=7->nglview) (1.3.0)\n",
      "Requirement already satisfied: idna>=2.8 in /cluster/apps/nss/jupyterhub/3.5.1/lib64/python3.10/site-packages (from anyio<4,>=3.1.0->jupyter-server>=1.8->nbclassic>=0.4.7->notebook>=4.4.1->widgetsnbextension~=3.6.0->ipywidgets>=7->nglview) (3.4)\n",
      "Requirement already satisfied: pycparser in /cluster/apps/nss/jupyterhub/3.5.1/lib64/python3.10/site-packages (from cffi>=1.0.1->argon2-cffi-bindings->argon2-cffi->notebook>=4.4.1->widgetsnbextension~=3.6.0->ipywidgets>=7->nglview) (2.21)\n"
     ]
    }
   ],
   "source": [
    "#!pip install ase\n",
    "#!pip install nglview"
   ]
  },
  {
   "cell_type": "code",
   "execution_count": 30,
   "id": "disturbed-bracket",
   "metadata": {},
   "outputs": [],
   "source": [
    "from ase import Atoms\n",
    "from ase.calculators.emt import EMT\n",
    "import nglview as nv"
   ]
  },
  {
   "cell_type": "markdown",
   "id": "146efe57",
   "metadata": {},
   "source": [
    "In `[3]`, an Atoms object containing one nitrogen is created and a fast EMT – effective\n",
    "medium theory – calculator is attached to it simply as an argument. In ASE, a calculator\n",
    "is a sort of ”black box” which can take atomic numbers and atomic positions from an Atoms\n",
    "object and calculate the energy, forces, and (sometimes) stresses. In order to calculate\n",
    "forrces and energies, we need to attach a calculator to an Atoms object. The total energy\n",
    "for the isolated atom is then calculated and stored in the e_atom variable.\n",
    "In the following cell we define the atom species as well as the atomic coordinates of\n",
    "the nitrogen molecule,"
   ]
  },
  {
   "cell_type": "code",
   "execution_count": 31,
   "id": "empty-feelings",
   "metadata": {},
   "outputs": [],
   "source": [
    "atom = Atoms('N')\n",
    "atom.calc = EMT()\n",
    "e_atom = atom.get_potential_energy()"
   ]
  },
  {
   "cell_type": "markdown",
   "id": "cd6b9e95",
   "metadata": {},
   "source": [
    "In the following cell we define the atom species as well as the atomic coordinates of\n",
    "the nitrogen molecule,and then calculate the atomization energy according to the equation above:"
   ]
  },
  {
   "cell_type": "code",
   "execution_count": 32,
   "id": "oriented-hotel",
   "metadata": {},
   "outputs": [],
   "source": [
    "d = 1.1\n",
    "molecule = Atoms('2N', [(0., 0., 0.), (0., 0., d)])\n",
    "molecule.calc = EMT()\n",
    "e_molecule = molecule.get_potential_energy()"
   ]
  },
  {
   "cell_type": "markdown",
   "id": "e5c5e54f",
   "metadata": {},
   "source": [
    "We can view the structure:"
   ]
  },
  {
   "cell_type": "code",
   "execution_count": 33,
   "id": "a231ca02",
   "metadata": {},
   "outputs": [],
   "source": [
    "def view_structure(structure):\n",
    "    \"\"\"\n",
    "    Use the ASE library to view an atoms object.\n",
    "\n",
    "    Parameters\n",
    "    ----------\n",
    "\n",
    "    structure: Atoms object\n",
    "\n",
    "    Returns\n",
    "    -------\n",
    "\n",
    "    NGLWidget with GUI: object to be viewed\n",
    "    \n",
    "    \"\"\"\n",
    "    #t1=make_supercell(structure,[[3,0,0],[0,3,0],[0,0,3]])\n",
    "    t = nv.ASEStructure(structure)\n",
    "    w = nv.NGLWidget(t, gui=True)\n",
    "    w.add_unitcell()\n",
    "    #w.add_spacefill()\n",
    "    return w"
   ]
  },
  {
   "cell_type": "code",
   "execution_count": 34,
   "id": "372c6f93",
   "metadata": {},
   "outputs": [
    {
     "data": {
      "application/vnd.jupyter.widget-view+json": {
       "model_id": "f6e8c916b46b41d0b6dbc1ad493b7102",
       "version_major": 2,
       "version_minor": 0
      },
      "text/plain": [
       "NGLWidget()"
      ]
     },
     "metadata": {},
     "output_type": "display_data"
    },
    {
     "data": {
      "application/vnd.jupyter.widget-view+json": {
       "model_id": "b4420d23e5034c2b841163d8fca30a29",
       "version_major": 2,
       "version_minor": 0
      },
      "text/plain": [
       "Tab(children=(Box(children=(Box(children=(Box(children=(Label(value='step'), IntSlider(value=1, min=-100)), la…"
      ]
     },
     "metadata": {},
     "output_type": "display_data"
    }
   ],
   "source": [
    "view_structure(molecule)"
   ]
  },
  {
   "cell_type": "markdown",
   "id": "2354d6c4",
   "metadata": {},
   "source": [
    "and then calculate the atomization energy according to Eq. 1.2:"
   ]
  },
  {
   "cell_type": "code",
   "execution_count": 35,
   "id": "conscious-speaker",
   "metadata": {},
   "outputs": [],
   "source": [
    "e_atomization = e_molecule - 2 * e_atom"
   ]
  },
  {
   "cell_type": "markdown",
   "id": "ef9fad8b",
   "metadata": {},
   "source": [
    "Running the last cell in this section generates the output we want:"
   ]
  },
  {
   "cell_type": "code",
   "execution_count": 36,
   "id": "subject-hungary",
   "metadata": {},
   "outputs": [
    {
     "name": "stdout",
     "output_type": "stream",
     "text": [
      "Nitrogen atom energy:  5.10 eV\n",
      "Nitrogen molecule energy:  0.44 eV\n",
      "Atomization energy:  9.76 eV\n"
     ]
    }
   ],
   "source": [
    "print('Nitrogen atom energy: %5.2f eV' % e_atom)\n",
    "print('Nitrogen molecule energy: %5.2f eV' % e_molecule)\n",
    "print('Atomization energy: %5.2f eV' % -e_atomization)"
   ]
  },
  {
   "cell_type": "markdown",
   "id": "agricultural-closure",
   "metadata": {},
   "source": [
    "## 2. Optimisation using an equation of state: FCC Ag\n",
    "\n",
    "In this and the following section, we now want to determine lattice constants of two bulk\n",
    "systems using polynomial fitting to a thermodynamic equation of state (this section),\n",
    "and a general second-degree polynomial (next section).\n",
    "\n",
    "### 2.1 Theoretical underpinnings\n",
    "\n",
    "An equation of state is a relation between certain extensive and intensive thermodynamic variables $Z_i$ of the system: $$f(Z_1,...Z_N) = 0$$\n",
    "\n",
    "where the relation $f$ is generally invertible and solvable in terms of the quantities $Z_i$\n",
    "(at least in theory). The most well known equations of state (encountered for instance in\n",
    "courses in thermodynamics and statistical mechanics) are\n",
    "\n",
    "- the **classical ideal gas**: $$pV=Nk_BT$$;\n",
    "- the **van der Waals gas**: $$\\left(p+a\\frac{n^2}{V^2}\\right)(V-nb) = nRT$$\n",
    "- the **virial expansion**: $$pV = Nk_BT\\left[1+B_1\\left(\\frac{N}{V}\\right)+B_2\\left(\\frac{N^2}{V^2}\\right) +\\dots\\right],$$\n",
    "\n",
    "where the pressure $p$, volume $V$ , number of atoms $N$, the Boltzmann constant $k_B$,\n",
    "temperature $T$, phenomenological material constants $a$ and $b$, number of moles $n$, the ideal\n",
    "gas constant $R$, and the virial coefficients $B_i$, all exist and are well defined. The **Birch-\n",
    "Murnaghan equation of state** is the fit that we want to investigate in this section, and\n",
    "reads: $$p=\\frac{3B_0}{2}\\left[\\left(\\frac{V_0}{V}\\right)^{\\frac{7}{3}}-\\left(\\frac{V_0}{V}\\right)^{\\frac{5}{3}}\\right] \\left\\{1+\\frac{3}{4}(B'_0-4)\\left[\\left(\\frac{V_0}{V}\\right)^{\\frac{2}{3}}-1\\right] \\right\\},$$\n",
    "\n",
    "where $V_0$ is the reference volume, $V$ the deformation volume, $B_0$ the bulk modulus, and $B'_0$ the derivative of the bulk modulus with respect to pressure $p$.\n",
    "\n",
    "Given the equivalence of the classical-mechanical and statistical-mechanical definitions of **pressure** *p*, i.e.,\n",
    "\n",
    "$$\n",
    "p = - \\left \\langle \\frac{∂H}{∂V} \\right \\rangle ,\n",
    "$$\n",
    "\n",
    "together with the equivalence of **inner energy** $U$ with the expectation value of the Hamiltonian $\\langle H \\rangle$ in the thermodynamic limit:\n",
    "\n",
    "$$\n",
    "E := U =\\langle H \\rangle,\n",
    "$$\n",
    "\n",
    "we have\n",
    "\n",
    "$$\n",
    "p = - \\left(\\frac{∂E}{∂V}\\right)_{N, T}.\n",
    "$$\n",
    "\n",
    "The internal energy $U=E(V)$ can then be obtained by integrating the pressure. In this exercise, we want this $E$ vs. $V$ plot for the Birch-Murnaghan equation of state. The foregoing reasoning, while (more or less) correct, was admittedly quite rash and even hand-waving: if any of these concepts are unfamiliar to you, consult any standard text on statistical mechanics (I recommend §1.3.5 \"Grundrelation der Thermodynamik\" of *Statistische Physik* by W. Nolting). \n",
    "\n",
    "### 2.1. Computational implementation\n",
    "\n",
    "For this section we will need to import the NumPy library as well as the Trajectory\n",
    "module:"
   ]
  },
  {
   "cell_type": "code",
   "execution_count": 37,
   "id": "threatened-weekend",
   "metadata": {},
   "outputs": [],
   "source": [
    "import numpy as np\n",
    "from ase.io.trajectory import Trajectory\n",
    "from ase.io import read\n",
    "from ase.units import kJ\n",
    "from ase.eos import EquationOfState"
   ]
  },
  {
   "cell_type": "markdown",
   "id": "0e9252eb",
   "metadata": {},
   "source": [
    "We first want to calculate the total energy of (bulk) FCC silver for five different lattice\n",
    "constants. Using the ASE modules we define the approximate lattice constants (taken from\n",
    "the literature or wherever else) as well as the species of the unit cell:"
   ]
  },
  {
   "cell_type": "code",
   "execution_count": 38,
   "id": "challenging-checkout",
   "metadata": {},
   "outputs": [],
   "source": [
    "a = 4.0  # approximate lattice constant\n",
    "b = a / 2\n",
    "ag = Atoms('Ag',\n",
    "           cell=[(0, b, b), (b, 0, b), (b, b, 0)],\n",
    "           pbc=1,\n",
    "           calculator=EMT())  # use EMT potential\n",
    "cell = ag.get_cell()"
   ]
  },
  {
   "cell_type": "markdown",
   "id": "7f7cedac",
   "metadata": {},
   "source": [
    "The next cell creates the Trajectory object:"
   ]
  },
  {
   "cell_type": "code",
   "execution_count": 39,
   "id": "active-instruction",
   "metadata": {},
   "outputs": [],
   "source": [
    "traj = Trajectory('Ag.traj', 'w')"
   ]
  },
  {
   "cell_type": "markdown",
   "id": "fcadce83",
   "metadata": {},
   "source": [
    "and the following writes the file for each of the 5 lattice constants:"
   ]
  },
  {
   "cell_type": "code",
   "execution_count": 40,
   "id": "atmospheric-robin",
   "metadata": {},
   "outputs": [],
   "source": [
    "for x in np.linspace(0.95, 1.05, 5):\n",
    "    ag.set_cell(cell * x, scale_atoms=True)\n",
    "    ag.get_potential_energy()\n",
    "    traj.write(ag)"
   ]
  },
  {
   "cell_type": "markdown",
   "id": "6cf29e23",
   "metadata": {},
   "source": [
    "We are now in a position to analyse the result using the EquationOfState class. For\n",
    "each of the five configurations we have just generated, we want to use ASE to extract both\n",
    "the volumes and total energies, in order that we might plot these values and determine\n",
    "the volume for which the system attains its energetic minimum. The following cell reads\n",
    "the five configurations,"
   ]
  },
  {
   "cell_type": "code",
   "execution_count": 41,
   "id": "fifth-bulletin",
   "metadata": {},
   "outputs": [],
   "source": [
    "configs = read('Ag.traj@0:5')  # read 5 configurations"
   ]
  },
  {
   "cell_type": "markdown",
   "id": "f49fd663",
   "metadata": {},
   "source": [
    "the next cell extracts the volumes and energies for each configuration,"
   ]
  },
  {
   "cell_type": "code",
   "execution_count": 42,
   "id": "allied-velvet",
   "metadata": {},
   "outputs": [],
   "source": [
    "# Extract volumes and energies:\n",
    "volumes = [ag.get_volume() for ag in configs]\n",
    "energies = [ag.get_potential_energy() for ag in configs]\n",
    "eos = EquationOfState(volumes, energies, eos='birchmurnaghan')\n",
    "v0, e0, B = eos.fit()"
   ]
  },
  {
   "cell_type": "markdown",
   "id": "8a096849",
   "metadata": {},
   "source": [
    "and the last cell in this section generates our energy-volume plot:"
   ]
  },
  {
   "cell_type": "code",
   "execution_count": 43,
   "id": "closing-truck",
   "metadata": {},
   "outputs": [
    {
     "name": "stdout",
     "output_type": "stream",
     "text": [
      "100.03821770846413 GPa\n"
     ]
    },
    {
     "data": {
      "text/plain": [
       "<AxesSubplot:title={'center':'birchmurnaghan: E: -0.000 eV, V: 16.783 Å$^3$, B: 100.038 GPa'}, xlabel='volume [Å$^3$]', ylabel='energy [eV]'>"
      ]
     },
     "execution_count": 43,
     "metadata": {},
     "output_type": "execute_result"
    },
    {
     "data": {
      "image/png": "[encoded data removed]",
      "text/plain": [
       "<Figure size 640x480 with 1 Axes>"
      ]
     },
     "metadata": {},
     "output_type": "display_data"
    }
   ],
   "source": [
    "print(B / kJ * 1.0e24, 'GPa')\n",
    "eos.plot('Ag-eos.png')"
   ]
  },
  {
   "cell_type": "markdown",
   "id": "floral-europe",
   "metadata": {},
   "source": [
    "## 3. Optimization of two lattice parameters: hcp Ni\n",
    "\n",
    "Having just done the volume optimization on an FCC crystal, we now turn to the hexagonal close packed (hcp) structure, the unit cell (containing 2 atoms) of which can be seen in Fig. \\ref{Fig:unitcells}. In this section we will investigate nickel. Using the $\\texttt{EMT}$ potential we can try to find the $a$ and $c$ lattice constants; first we make an initial guess for $a$ and $c$ using the nearest neighbour distance as well as the ideal $c/a$ ratio.\n",
    "\n",
    "We perform the $9=3\\times 3$ calculations around equilibrium (respectively 3 each for $a$ and $c$) by executing the following two cells:"
   ]
  },
  {
   "cell_type": "code",
   "execution_count": 44,
   "id": "moving-scratch",
   "metadata": {},
   "outputs": [],
   "source": [
    "from ase.build import bulk, make_supercell"
   ]
  },
  {
   "cell_type": "code",
   "execution_count": 45,
   "id": "ready-camera",
   "metadata": {},
   "outputs": [],
   "source": [
    "a0 = 3.52 / np.sqrt(2)\n",
    "c0 = np.sqrt(8 / 3.0) * a0\n",
    "n_grid=10\n",
    "\n",
    "traj = Trajectory('Ni.traj', 'w')\n",
    "\n",
    "eps = 0.0005\n",
    "for a in a0 * np.linspace(1 - eps, 1 + eps, n_grid):\n",
    "    for c in c0 * np.linspace(1 - eps, 1 + eps, n_grid):\n",
    "        ni = bulk('Ni', 'hcp', a=a, c=c)\n",
    "        ni.calc = EMT()\n",
    "        ni.get_potential_energy()\n",
    "        #print(\"potential energy at this cycle:\" + str(ni.get_potential_energy()))\n",
    "        traj.write(ni)\n",
    "        #print(\"cell at this cycle:\" + str(ni.cell))"
   ]
  },
  {
   "cell_type": "markdown",
   "id": "805e0b6c",
   "metadata": {},
   "source": [
    "We can view the cell:"
   ]
  },
  {
   "cell_type": "code",
   "execution_count": 46,
   "id": "instrumental-syndication",
   "metadata": {},
   "outputs": [
    {
     "data": {
      "text/plain": [
       "Cell([[2.4902603777115355, 0.0, 0.0], [-1.2451301888557678, 2.156628749136021, 0.0], [0.0, 0.0, 4.066578168042512]])"
      ]
     },
     "execution_count": 46,
     "metadata": {},
     "output_type": "execute_result"
    }
   ],
   "source": [
    "ni.cell"
   ]
  },
  {
   "cell_type": "markdown",
   "id": "f354e172",
   "metadata": {},
   "source": [
    "From this we see that we can access `a` from `ni.cell[0,0]` and `c` from `ni.cell[2,2]`.\n",
    "Before proceeding any further, let us visualise the unit cell of hcp Ni. Since hcp Ni\n",
    "only contains 2 atoms per unit cell, we might want to create a supercell in order to\n",
    "visualise the periodicity, in which case we would need to adjust the comment in the `view_structure()` function:"
   ]
  },
  {
   "cell_type": "code",
   "execution_count": 47,
   "id": "synthetic-original",
   "metadata": {},
   "outputs": [
    {
     "data": {
      "application/vnd.jupyter.widget-view+json": {
       "model_id": "599ed706ab4145b5abfef85bd0efc7ec",
       "version_major": 2,
       "version_minor": 0
      },
      "text/plain": [
       "NGLWidget()"
      ]
     },
     "metadata": {},
     "output_type": "display_data"
    },
    {
     "data": {
      "application/vnd.jupyter.widget-view+json": {
       "model_id": "d19bd98247354dd38b70549523a7753c",
       "version_major": 2,
       "version_minor": 0
      },
      "text/plain": [
       "Tab(children=(Box(children=(Box(children=(Box(children=(Label(value='step'), IntSlider(value=1, min=-100)), la…"
      ]
     },
     "metadata": {},
     "output_type": "display_data"
    }
   ],
   "source": [
    "view_structure(ni)"
   ]
  },
  {
   "cell_type": "markdown",
   "id": "b7b2e33f",
   "metadata": {},
   "source": [
    "Play around a bit with the gui and also with the repetition of the supercell in order\n",
    "to get a feel for the periodicity. Using some **list comprehension** in Python, we can execute the following cells to first\n",
    "define the energies array:"
   ]
  },
  {
   "cell_type": "code",
   "execution_count": 48,
   "id": "previous-occurrence",
   "metadata": {},
   "outputs": [],
   "source": [
    "configs = read('Ni.traj@:')\n",
    "energies = [config.get_potential_energy() for config in configs]"
   ]
  },
  {
   "cell_type": "markdown",
   "id": "c5bf3bde",
   "metadata": {},
   "source": [
    "and then defining the lattice parameters a resp. c as their own arrays:"
   ]
  },
  {
   "cell_type": "code",
   "execution_count": 49,
   "id": "colonial-moment",
   "metadata": {},
   "outputs": [],
   "source": [
    "a = np.array([config.cell[0, 0] for config in configs])\n",
    "c = np.array([config.cell[2, 2] for config in configs])"
   ]
  },
  {
   "cell_type": "markdown",
   "id": "innocent-director",
   "metadata": {},
   "source": [
    "We want to fit the total energy to a general second-degree polynomial, quadratic in the two \"variables\" $a$ and $c$:\n",
    "$$\n",
    "\\alpha_0 + \\alpha_1a + \\alpha_2c + \\alpha_3a^2 + \\alpha_4ac + \\alpha_5c^2\n",
    "$$\n",
    "\n",
    "#### Assignment 3: Lattice constants\n",
    "Use the ```np.linalg.lstsq()``` module to extract the minimum; what are the values for the lattice constants $a$ and $c$? *Hint*: do this by:\n",
    "1. defining an array of coefficients $\\alpha_i$ as defined in the equation directly above\n",
    "2. using the `np.linalg.lsqsq()` method to obtain a regression. You will need to use the transpose of the array of coefficients (defined in step 1) as well as the `energies` array as two of the arguments; I recommend using `rcond=-1` for the `rcond` parameter; Google around for the documentation if you are unsure;\n",
    "3. extracting $p_0$, $p_1$, and $p_2$ from the regression obtained in step 2;\n",
    "4. using the `np.linalg.solve()` method to find the true lattice constants $a_0$ and $c_0$."
   ]
  },
  {
   "cell_type": "code",
   "execution_count": 92,
   "id": "personalized-inspection",
   "metadata": {},
   "outputs": [],
   "source": [
    "##--your code here\n",
    "length = a.size\n",
    "lhs = np.zeros((length, 6))\n",
    "lhs[:, 0] = np.ones(length)\n",
    "lhs[:, 1] = a\n",
    "lhs[:, 2] = c\n",
    "lhs[:, 3] = np.square(a)\n",
    "lhs[:, 4] = np.multiply(a, c)\n",
    "lhs[:, 5] = np.square(c)\n",
    "rhs = np.array(energies)\n",
    "coefficients = np.linalg.lstsq(lhs, rhs, rcond=-1)[0]"
   ]
  },
  {
   "cell_type": "code",
   "execution_count": 99,
   "id": "5b7da8c5-92df-4c3e-8d8d-0b42d710cedd",
   "metadata": {},
   "outputs": [
    {
     "ename": "LinAlgError",
     "evalue": "Last 2 dimensions of the array must be square",
     "output_type": "error",
     "traceback": [
      "\u001b[0;31m---------------------------------------------------------------------------\u001b[0m",
      "\u001b[0;31mLinAlgError\u001b[0m                               Traceback (most recent call last)",
      "Cell \u001b[0;32mIn[100], line 4\u001b[0m\n\u001b[1;32m      1\u001b[0m grad \u001b[38;5;241m=\u001b[39m np\u001b[38;5;241m.\u001b[39marray([[coefficients[\u001b[38;5;241m1\u001b[39m], \u001b[38;5;241m2\u001b[39m\u001b[38;5;241m*\u001b[39mcoefficients[\u001b[38;5;241m3\u001b[39m], coefficients[\u001b[38;5;241m4\u001b[39m]], \n\u001b[1;32m      2\u001b[0m                 [coefficients[\u001b[38;5;241m2\u001b[39m], coefficients[\u001b[38;5;241m4\u001b[39m], \u001b[38;5;241m2\u001b[39m\u001b[38;5;241m*\u001b[39mcoefficients[\u001b[38;5;241m5\u001b[39m]]])\n\u001b[0;32m----> 4\u001b[0m res \u001b[38;5;241m=\u001b[39m \u001b[43mnp\u001b[49m\u001b[38;5;241;43m.\u001b[39;49m\u001b[43mlinalg\u001b[49m\u001b[38;5;241;43m.\u001b[39;49m\u001b[43msolve\u001b[49m\u001b[43m(\u001b[49m\u001b[43mgrad\u001b[49m\u001b[43m,\u001b[49m\u001b[43m \u001b[49m\u001b[43mnp\u001b[49m\u001b[38;5;241;43m.\u001b[39;49m\u001b[43mzeros\u001b[49m\u001b[43m(\u001b[49m\u001b[38;5;241;43m2\u001b[39;49m\u001b[43m)\u001b[49m\u001b[43m)\u001b[49m[\u001b[38;5;241m0\u001b[39m]\n\u001b[1;32m      5\u001b[0m \u001b[38;5;28mprint\u001b[39m(res)\n",
      "File \u001b[0;32m<__array_function__ internals>:200\u001b[0m, in \u001b[0;36msolve\u001b[0;34m(*args, **kwargs)\u001b[0m\n",
      "File \u001b[0;32m/cluster/apps/nss/jupyterhub/3.5.1/lib64/python3.10/site-packages/numpy/linalg/linalg.py:373\u001b[0m, in \u001b[0;36msolve\u001b[0;34m(a, b)\u001b[0m\n\u001b[1;32m    371\u001b[0m a, _ \u001b[38;5;241m=\u001b[39m _makearray(a)\n\u001b[1;32m    372\u001b[0m _assert_stacked_2d(a)\n\u001b[0;32m--> 373\u001b[0m \u001b[43m_assert_stacked_square\u001b[49m\u001b[43m(\u001b[49m\u001b[43ma\u001b[49m\u001b[43m)\u001b[49m\n\u001b[1;32m    374\u001b[0m b, wrap \u001b[38;5;241m=\u001b[39m _makearray(b)\n\u001b[1;32m    375\u001b[0m t, result_t \u001b[38;5;241m=\u001b[39m _commonType(a, b)\n",
      "File \u001b[0;32m/cluster/apps/nss/jupyterhub/3.5.1/lib64/python3.10/site-packages/numpy/linalg/linalg.py:190\u001b[0m, in \u001b[0;36m_assert_stacked_square\u001b[0;34m(*arrays)\u001b[0m\n\u001b[1;32m    188\u001b[0m m, n \u001b[38;5;241m=\u001b[39m a\u001b[38;5;241m.\u001b[39mshape[\u001b[38;5;241m-\u001b[39m\u001b[38;5;241m2\u001b[39m:]\n\u001b[1;32m    189\u001b[0m \u001b[38;5;28;01mif\u001b[39;00m m \u001b[38;5;241m!=\u001b[39m n:\n\u001b[0;32m--> 190\u001b[0m     \u001b[38;5;28;01mraise\u001b[39;00m LinAlgError(\u001b[38;5;124m'\u001b[39m\u001b[38;5;124mLast 2 dimensions of the array must be square\u001b[39m\u001b[38;5;124m'\u001b[39m)\n",
      "\u001b[0;31mLinAlgError\u001b[0m: Last 2 dimensions of the array must be square"
     ]
    }
   ],
   "source": [
    "grad = np.array([[coefficients[1], 2*coefficients[3], coefficients[4]], \n",
    "                [coefficients[2], coefficients[4], 2*coefficients[5]]])\n",
    "\n",
    "_, a0, c0 = np.linalg.solve(grad, np.zeros(2))[0]\n",
    "print(a0, c0)"
   ]
  },
  {
   "cell_type": "markdown",
   "id": "finite-programming",
   "metadata": {},
   "source": [
    "#### End Assignment 3"
   ]
  },
  {
   "cell_type": "markdown",
   "id": "behind-produce",
   "metadata": {},
   "source": [
    "#### Assigment 4: Expectations from this course"
   ]
  },
  {
   "cell_type": "markdown",
   "id": "alert-given",
   "metadata": {},
   "source": [
    "Please explain in a few sentences what you hope to learn from this course within the context of your background in classical and quantum mechanics, bash scripting, programming languages, and computational physics."
   ]
  },
  {
   "cell_type": "markdown",
   "id": "fc1b1dfb-be47-4a1d-b3d9-99da1d8c3f9d",
   "metadata": {},
   "source": [
    "## --your code/answer here\n",
    "* I hope to learn about state of the art libraries for performing simulations how to use them. \n",
    "* I also hope to learn about different methods of calculating properties of materials.\n",
    "* As a CSE student I'm also interested in how to perform these calculations."
   ]
  },
  {
   "cell_type": "markdown",
   "id": "tamil-teach",
   "metadata": {},
   "source": [
    "#### End Assignment 4"
   ]
  }
 ],
 "metadata": {
  "kernelspec": {
   "display_name": "mmm-venv",
   "language": "python",
   "name": "mmm-venv"
  },
  "language_info": {
   "codemirror_mode": {
    "name": "ipython",
    "version": 3
   },
   "file_extension": ".py",
   "mimetype": "text/x-python",
   "name": "python",
   "nbconvert_exporter": "python",
   "pygments_lexer": "ipython3",
   "version": "3.10.4"
  },
  "vscode": {
   "interpreter": {
    "hash": "783d7c8e9042dd68e9add47c0b718632a846e28849c908d45a1167fba6f8c7d5"
   }
  }
 },
 "nbformat": 4,
 "nbformat_minor": 5
}
