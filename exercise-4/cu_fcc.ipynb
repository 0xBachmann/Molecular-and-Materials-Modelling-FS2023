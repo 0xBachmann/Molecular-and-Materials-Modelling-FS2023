{
 "cells": [
  {
   "cell_type": "code",
   "execution_count": 1,
   "metadata": {},
   "outputs": [
    {
     "name": "stdout",
     "output_type": "stream",
     "text": [
      "Atoms(symbols='Cu', pbc=True, cell=[[0.0, 1.805, 1.805], [1.805, 0.0, 1.805], [1.805, 1.805, 0.0]])\n"
     ]
    }
   ],
   "source": [
    "from ase.spacegroup import crystal\n",
    "from ase.build import bulk\n",
    "from ase.dft.kpoints import get_special_points, bandpath\n",
    "\n",
    "b=bulk('Cu', 'fcc', a=3.61)\n",
    "print(b)\n",
    "points = get_special_points(b.cell,'fcc')\n",
    "GXWL = [points[k] for k in 'GXWL']"
   ]
  },
  {
   "cell_type": "code",
   "execution_count": 3,
   "metadata": {},
   "outputs": [
    {
     "data": {
      "text/plain": [
       "Cell([[-0.2770083102493076, 0.27700831024930767, 0.27700831024930755], [0.2770083102493075, -0.27700831024930755, 0.2770083102493074], [0.27700831024930744, 0.27700831024930744, -0.2770083102493076]])"
      ]
     },
     "execution_count": 3,
     "metadata": {},
     "output_type": "execute_result"
    }
   ],
   "source": [
    "b.cell.reciprocal()"
   ]
  },
  {
   "cell_type": "code",
   "execution_count": 4,
   "metadata": {},
   "outputs": [
    {
     "name": "stdout",
     "output_type": "stream",
     "text": [
      "G [0. 0. 0.]\n",
      "K [0.375 0.375 0.75 ]\n",
      "L [0.5 0.5 0.5]\n",
      "U [0.625 0.25  0.625]\n",
      "W [0.5  0.25 0.75]\n",
      "X [0.5 0.  0.5]\n"
     ]
    }
   ],
   "source": [
    "for i in points:\n",
    "    print(i,points[i])"
   ]
  },
  {
   "cell_type": "code",
   "execution_count": null,
   "metadata": {},
   "outputs": [],
   "source": []
  }
 ],
 "metadata": {
  "kernelspec": {
   "display_name": "mmm-venv",
   "language": "python",
   "name": "mmm-venv"
  },
  "language_info": {
   "codemirror_mode": {
    "name": "ipython",
    "version": 3
   },
   "file_extension": ".py",
   "mimetype": "text/x-python",
   "name": "python",
   "nbconvert_exporter": "python",
   "pygments_lexer": "ipython3",
   "version": "3.10.4"
  }
 },
 "nbformat": 4,
 "nbformat_minor": 4
}
