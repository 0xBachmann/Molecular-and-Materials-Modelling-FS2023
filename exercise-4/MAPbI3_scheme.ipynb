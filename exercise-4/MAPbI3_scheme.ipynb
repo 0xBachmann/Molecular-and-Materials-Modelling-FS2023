{
 "cells": [
  {
   "cell_type": "markdown",
   "metadata": {},
   "source": [
    "Please send your solution to carlop@ethz.ch\n",
    "\n",
    "Construct a 2x2x2 supercell of the orthorombic phase of MAPbI3 with parameters taken from the Supplementary information of: https://doi.org/10.1039/C4CC09944C\n",
    "<ul>\n",
    "<li>Starting from the supercell create 20 different atomistic models (or just 5 to save time) each of them containing 10 $H_2O$ molecules.</li>\n",
    "<li>Each water  molecule should be in a distance range between $1.5A$ and $2.5A$ from a N atom of the methylammonium molecules. </li> \n",
    "<li>The minimum distance between the water molecules and any other atom of the cell should be $\\geq 1.5A$</li>\n",
    "</ul>"
   ]
  },
  {
   "cell_type": "code",
   "execution_count": 1,
   "metadata": {},
   "outputs": [],
   "source": [
    "#pip install spglib --user\n",
    "#pip install nglview --user"
   ]
  },
  {
   "cell_type": "code",
   "execution_count": 7,
   "metadata": {},
   "outputs": [],
   "source": [
    "import numpy as np\n",
    "from numpy.linalg import norm\n",
    "\n",
    "from ase.io import read,write\n",
    "from ase.visualize import view,ngl\n",
    "from ase.spacegroup import crystal\n",
    "from ase.spacegroup import Spacegroup\n",
    "from ase.data import atomic_numbers, atomic_names\n",
    "from ase import Atoms\n",
    "from ase import neighborlist\n",
    "from itertools import product\n",
    "\n",
    "from scipy.spatial.transform import Rotation as R\n",
    "\n",
    "import nglview\n",
    "from ase.build import molecule"
   ]
  },
  {
   "cell_type": "code",
   "execution_count": 3,
   "metadata": {},
   "outputs": [
    {
     "data": {
      "application/vnd.jupyter.widget-view+json": {
       "model_id": "4f39cf06b51c4dd99f85423aaf3ad87f",
       "version_major": 2,
       "version_minor": 0
      },
      "text/plain": [
       "HBox(children=(NGLWidget(), VBox(children=(Dropdown(description='Show', options=('All', 'I', 'N', 'C', 'H', 'P…"
      ]
     },
     "metadata": {},
     "output_type": "display_data"
    }
   ],
   "source": [
    "#there are four inequivalent atoms with crystal coordinates:\n",
    "#ICSD structure 428898 (1788472.cif)\n",
    "MAPbI3=crystal(\n",
    "    symbols=['Pb','I','I','N','C','H','H','H','H'],\n",
    "    basis=[(0.5,0,0),\n",
    "           (0.4842,0.25,-0.0562),\n",
    "           (0.1886, 0.0147, 0.1844),\n",
    "           (0.9421, 0.75, 0.0297),\n",
    "           (0.9164, 0.25, 0.0575),\n",
    "           (0.9372, 0.25, 0.1874),\n",
    "           (0.8661, 0.1701, 0.0290),\n",
    "           (0.1275, 0.1891, -0.0085),\n",
    "           (0.9543, 0.75, 0.1459)\n",
    "          ],\n",
    "    spacegroup=62,\n",
    "    cellpar=[8.86574, 12.6293, 8.57689, 90, 90, 90])\n",
    "view(MAPbI3, viewer='ngl')"
   ]
  },
  {
   "cell_type": "code",
   "execution_count": 4,
   "metadata": {},
   "outputs": [],
   "source": [
    "supercell_no_h2o=MAPbI3.repeat((2,2,2))"
   ]
  },
  {
   "cell_type": "code",
   "execution_count": 5,
   "metadata": {},
   "outputs": [],
   "source": [
    "cutOff = neighborlist.natural_cutoffs(supercell_no_h2o)\n",
    "nl = neighborlist.NeighborList(cutOff, self_interaction=False, bothways=True)\n",
    "nl.update(supercell_no_h2o)\n",
    "\n",
    "all_N = [atom.index for atom in supercell_no_h2o if atom.symbol == 'N']\n",
    "all_H_of_N = [index for N in all_N for index in nl.get_neighbors(N)[0] if supercell_no_h2o[index].symbol == 'H'  ]\n",
    "all_nh3 = all_N + all_H_of_N"
   ]
  },
  {
   "cell_type": "code",
   "execution_count": 6,
   "metadata": {},
   "outputs": [
    {
     "data": {
      "application/vnd.jupyter.widget-view+json": {
       "model_id": "4aa8db721ab24277b88fd442c6a16609",
       "version_major": 2,
       "version_minor": 0
      },
      "text/plain": [
       "HBox(children=(NGLWidget(), VBox(children=(Dropdown(description='Show', options=('All', 'I', 'N', 'C', 'H', 'P…"
      ]
     },
     "metadata": {},
     "output_type": "display_data"
    }
   ],
   "source": [
    "view(supercell_no_h2o, viewer='ngl')"
   ]
  },
  {
   "cell_type": "code",
   "execution_count": null,
   "metadata": {},
   "outputs": [],
   "source": [
    "NH2O=10\n",
    "nsamples=20\n",
    "dmin = 1.5\n",
    "dmax = 2.5\n",
    "orig_h2o=molecule('H2O')\n",
    "#transalte the molecule to have Oxygen in (0,0,0)\n",
    "orig_h2o.translate(-1*orig_h2o.positions[0])\n",
    "samples=[]\n",
    "ns=0\n",
    "while ns < nsamples:\n",
    "    nh2o = 0\n",
    "    print(\"Creating sample \",ns)\n",
    "    supercell = supercell_no_h2o.copy() # be careful here\n",
    "    while nh2o < NH2O:\n",
    "        h2o = orig_h2o.copy() # be careful here\n",
    "        oldcell=supercell.copy() # be careful here\n",
    "        t_vector = np.random.uniform(low=-1,high=1,size=(3))\n",
    "        t_vector /= np.linalg.norm(t_vector) # normalize it\n",
    "\n",
    "        #position h2o within 1.5A---2.5A from a N atom\n",
    "        t_vector *= np.random.uniform(low=dmin,high=dmax)\n",
    "        a_random_N = ...\n",
    "        ....\n",
    "        \n",
    "        #random rotation of h2o\n",
    "        # you could also check scipy.spatial.transform.Rotation\n",
    "        \n",
    "        r_vector = R.random()\n",
    "        rot_axis=\n",
    "        h2o.rotate(angle,r_vector,center=(0,0,0))\n",
    "        \n",
    "        #position h2o\n",
    "        trial_h2o = h2o.copy()\n",
    "        trial_h2o.translate(t_vector)\n",
    "        supercell=supercell + trial_h2o\n",
    "        natoms=len(supercell) \n",
    "        #O of the added h2o molecule is the third last atom: supercell[-3]\n",
    "        #shortest_O_N_distances=min(supercell.get_distances(supercell[-3].index, all_N, mic=True, vector=False))\n",
    "        discard=False\n",
    "        for ih2o,j in product(range(natoms - 3,natoms), range(natoms-3)) :\n",
    "            if supercell.get_distance(ih2o,j,mic=True,vector=False) < dmin:\n",
    "                discard = True\n",
    "                break\n",
    "        if discard:\n",
    "            supercell = oldcell.copy()\n",
    "        else:\n",
    "            nh2o+=1\n",
    "    ns+=1\n",
    "    samples.append(supercell)"
   ]
  },
  {
   "cell_type": "code",
   "execution_count": null,
   "metadata": {},
   "outputs": [],
   "source": [
    "view(samples[40], viewer='ngl')"
   ]
  },
  {
   "cell_type": "code",
   "execution_count": null,
   "metadata": {},
   "outputs": [],
   "source": [
    "v=_"
   ]
  },
  {
   "cell_type": "code",
   "execution_count": null,
   "metadata": {},
   "outputs": [],
   "source": [
    "#delete all old components\n",
    "while hasattr(v.view, \"component_0\"):\n",
    "    v.view.component_0.clear_representations()\n",
    "    cid = v.view.component_0.id\n",
    "    v.view.remove_component(cid)"
   ]
  },
  {
   "cell_type": "code",
   "execution_count": null,
   "metadata": {},
   "outputs": [],
   "source": [
    "v.view.add_component(nglview.ASEStructure(samples[1]), \n",
    "                     default_representation=False)\n",
    "v.view.add_ball_and_stick(aspectRatio=2.0, opacity=1.0,component=0)"
   ]
  },
  {
   "cell_type": "code",
   "execution_count": null,
   "metadata": {},
   "outputs": [],
   "source": [
    "v.view.add_unitcell()\n",
    "v.view.center()"
   ]
  },
  {
   "cell_type": "code",
   "execution_count": null,
   "metadata": {},
   "outputs": [],
   "source": [
    "for i,struc in enumerate(samples):\n",
    "    struc.write('struc_'+str(i)+'.xyz')"
   ]
  },
  {
   "cell_type": "code",
   "execution_count": null,
   "metadata": {},
   "outputs": [],
   "source": []
  }
 ],
 "metadata": {
  "kernelspec": {
   "display_name": "Python 3 (ipykernel)",
   "language": "python",
   "name": "python3"
  },
  "language_info": {
   "codemirror_mode": {
    "name": "ipython",
    "version": 3
   },
   "file_extension": ".py",
   "mimetype": "text/x-python",
   "name": "python",
   "nbconvert_exporter": "python",
   "pygments_lexer": "ipython3",
   "version": "3.10.4"
  }
 },
 "nbformat": 4,
 "nbformat_minor": 4
}
