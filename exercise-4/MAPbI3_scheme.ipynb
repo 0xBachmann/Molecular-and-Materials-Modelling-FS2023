{
 "cells": [
  {
   "cell_type": "markdown",
   "metadata": {},
   "source": [
    "Please send your solution to carlop@ethz.ch\n",
    "\n",
    "Construct a 2x2x2 supercell of the orthorombic phase of MAPbI3 with parameters taken from the Supplementary information of: https://doi.org/10.1039/C4CC09944C\n",
    "<ul>\n",
    "<li>Starting from the supercell create 20 different atomistic models (or just 5 to save time) each of them containing 10 $H_2O$ molecules.</li>\n",
    "<li>Each water  molecule should be in a distance range between $1.5A$ and $2.5A$ from a N atom of the methylammonium molecules. </li> \n",
    "<li>The minimum distance between the water molecules and any other atom of the cell should be $\\geq 1.5A$</li>\n",
    "</ul>"
   ]
  },
  {
   "cell_type": "code",
   "execution_count": 1,
   "metadata": {},
   "outputs": [],
   "source": [
    "#pip install spglib --user\n",
    "#pip install nglview --user"
   ]
  },
  {
   "cell_type": "code",
   "execution_count": 10,
   "metadata": {},
   "outputs": [
    {
     "ename": "AttributeError",
     "evalue": "'super' object has no attribute '_ipython_display_'",
     "output_type": "error",
     "traceback": [
      "\u001B[0;31m---------------------------------------------------------------------------\u001B[0m",
      "\u001B[0;31mAttributeError\u001B[0m                            Traceback (most recent call last)",
      "Cell \u001B[0;32mIn[10], line 15\u001B[0m\n\u001B[1;32m     11\u001B[0m \u001B[38;5;28;01mfrom\u001B[39;00m \u001B[38;5;21;01mitertools\u001B[39;00m \u001B[38;5;28;01mimport\u001B[39;00m product\n\u001B[1;32m     13\u001B[0m \u001B[38;5;28;01mfrom\u001B[39;00m \u001B[38;5;21;01mscipy\u001B[39;00m\u001B[38;5;21;01m.\u001B[39;00m\u001B[38;5;21;01mspatial\u001B[39;00m\u001B[38;5;21;01m.\u001B[39;00m\u001B[38;5;21;01mtransform\u001B[39;00m \u001B[38;5;28;01mimport\u001B[39;00m Rotation \u001B[38;5;28;01mas\u001B[39;00m R\n\u001B[0;32m---> 15\u001B[0m \u001B[38;5;28;01mimport\u001B[39;00m \u001B[38;5;21;01mnglview\u001B[39;00m\n\u001B[1;32m     16\u001B[0m \u001B[38;5;28;01mfrom\u001B[39;00m \u001B[38;5;21;01mase\u001B[39;00m\u001B[38;5;21;01m.\u001B[39;00m\u001B[38;5;21;01mbuild\u001B[39;00m \u001B[38;5;28;01mimport\u001B[39;00m molecule\n",
      "File \u001B[0;32m~/.local/lib/python3.10/site-packages/nglview/__init__.py:4\u001B[0m\n\u001B[1;32m      1\u001B[0m \u001B[38;5;28;01mimport\u001B[39;00m \u001B[38;5;21;01mwarnings\u001B[39;00m\n\u001B[1;32m      3\u001B[0m \u001B[38;5;66;03m# for doc\u001B[39;00m\n\u001B[0;32m----> 4\u001B[0m \u001B[38;5;28;01mfrom\u001B[39;00m \u001B[38;5;21;01m.\u001B[39;00m \u001B[38;5;28;01mimport\u001B[39;00m adaptor, datafiles, show, widget\n\u001B[1;32m      5\u001B[0m \u001B[38;5;28;01mfrom\u001B[39;00m \u001B[38;5;21;01m.\u001B[39;00m\u001B[38;5;21;01m_version\u001B[39;00m \u001B[38;5;28;01mimport\u001B[39;00m get_versions\n\u001B[1;32m      6\u001B[0m \u001B[38;5;28;01mfrom\u001B[39;00m \u001B[38;5;21;01m.\u001B[39;00m\u001B[38;5;21;01madaptor\u001B[39;00m \u001B[38;5;28;01mimport\u001B[39;00m \u001B[38;5;241m*\u001B[39m\n",
      "File \u001B[0;32m~/.local/lib/python3.10/site-packages/nglview/show.py:13\u001B[0m\n\u001B[1;32m      3\u001B[0m \u001B[38;5;28;01mfrom\u001B[39;00m \u001B[38;5;21;01m.\u001B[39;00m \u001B[38;5;28;01mimport\u001B[39;00m datafiles\n\u001B[1;32m      4\u001B[0m \u001B[38;5;28;01mfrom\u001B[39;00m \u001B[38;5;21;01m.\u001B[39;00m\u001B[38;5;21;01madaptor\u001B[39;00m \u001B[38;5;28;01mimport\u001B[39;00m (ASEStructure, ASETrajectory, BiopythonStructure,\n\u001B[1;32m      5\u001B[0m                       FileStructure, HTMDTrajectory, IODataStructure,\n\u001B[1;32m      6\u001B[0m                       IOTBXStructure, MDAnalysisTrajectory, MDTrajTrajectory,\n\u001B[0;32m   (...)\u001B[0m\n\u001B[1;32m     11\u001B[0m                       RdkitStructure,\n\u001B[1;32m     12\u001B[0m                       TextStructure)\n\u001B[0;32m---> 13\u001B[0m \u001B[38;5;28;01mfrom\u001B[39;00m \u001B[38;5;21;01m.\u001B[39;00m\u001B[38;5;21;01mwidget\u001B[39;00m \u001B[38;5;28;01mimport\u001B[39;00m NGLWidget\n\u001B[1;32m     15\u001B[0m __all__ \u001B[38;5;241m=\u001B[39m [\n\u001B[1;32m     16\u001B[0m     \u001B[38;5;124m'\u001B[39m\u001B[38;5;124mdemo\u001B[39m\u001B[38;5;124m'\u001B[39m,\n\u001B[1;32m     17\u001B[0m     \u001B[38;5;124m'\u001B[39m\u001B[38;5;124mshow_pdbid\u001B[39m\u001B[38;5;124m'\u001B[39m,\n\u001B[0;32m   (...)\u001B[0m\n\u001B[1;32m     40\u001B[0m     \u001B[38;5;124m'\u001B[39m\u001B[38;5;124mshow_biopython\u001B[39m\u001B[38;5;124m'\u001B[39m,\n\u001B[1;32m     41\u001B[0m ]\n\u001B[1;32m     44\u001B[0m \u001B[38;5;28;01mdef\u001B[39;00m \u001B[38;5;21mshow_pdbid\u001B[39m(pdbid, \u001B[38;5;241m*\u001B[39m\u001B[38;5;241m*\u001B[39mkwargs):\n",
      "File \u001B[0;32m~/.local/lib/python3.10/site-packages/nglview/widget.py:19\u001B[0m\n\u001B[1;32m     15\u001B[0m \u001B[38;5;28;01mfrom\u001B[39;00m \u001B[38;5;21;01mtraitlets\u001B[39;00m \u001B[38;5;28;01mimport\u001B[39;00m (Bool, CaselessStrEnum, Dict, Instance, Int, Integer,\n\u001B[1;32m     16\u001B[0m                        List, Unicode, observe, validate)\n\u001B[1;32m     17\u001B[0m \u001B[38;5;28;01mimport\u001B[39;00m \u001B[38;5;21;01mtraitlets\u001B[39;00m\n\u001B[0;32m---> 19\u001B[0m \u001B[38;5;28;01mfrom\u001B[39;00m \u001B[38;5;21;01m.\u001B[39;00m \u001B[38;5;28;01mimport\u001B[39;00m color, interpolate\n\u001B[1;32m     20\u001B[0m \u001B[38;5;28;01mfrom\u001B[39;00m \u001B[38;5;21;01m.\u001B[39;00m\u001B[38;5;21;01madaptor\u001B[39;00m \u001B[38;5;28;01mimport\u001B[39;00m Structure, Trajectory\n\u001B[1;32m     21\u001B[0m \u001B[38;5;28;01mfrom\u001B[39;00m \u001B[38;5;21;01m.\u001B[39;00m\u001B[38;5;21;01mcomponent\u001B[39;00m \u001B[38;5;28;01mimport\u001B[39;00m ComponentViewer\n",
      "File \u001B[0;32m~/.local/lib/python3.10/site-packages/nglview/color.py:114\u001B[0m\n\u001B[1;32m    110\u001B[0m         \u001B[38;5;28;01melse\u001B[39;00m:\n\u001B[1;32m    111\u001B[0m             \u001B[38;5;28;01mraise\u001B[39;00m \u001B[38;5;167;01mValueError\u001B[39;00m(\u001B[38;5;124mf\u001B[39m\u001B[38;5;124m\"\u001B[39m\u001B[38;5;132;01m{\u001B[39;00mobj\u001B[38;5;132;01m}\u001B[39;00m\u001B[38;5;124m must be either list of list or string\u001B[39m\u001B[38;5;124m\"\u001B[39m)\n\u001B[0;32m--> 114\u001B[0m ColormakerRegistry \u001B[38;5;241m=\u001B[39m \u001B[43m_ColormakerRegistry\u001B[49m\u001B[43m(\u001B[49m\u001B[43m)\u001B[49m\n",
      "File \u001B[0;32m~/.local/lib/python3.10/site-packages/nglview/base.py:10\u001B[0m, in \u001B[0;36m_singleton.<locals>.getinstance\u001B[0;34m()\u001B[0m\n\u001B[1;32m      8\u001B[0m \u001B[38;5;28;01mdef\u001B[39;00m \u001B[38;5;21mgetinstance\u001B[39m():\n\u001B[1;32m      9\u001B[0m     \u001B[38;5;28;01mif\u001B[39;00m \u001B[38;5;28mcls\u001B[39m \u001B[38;5;129;01mnot\u001B[39;00m \u001B[38;5;129;01min\u001B[39;00m instances:\n\u001B[0;32m---> 10\u001B[0m         instances[\u001B[38;5;28mcls\u001B[39m] \u001B[38;5;241m=\u001B[39m \u001B[38;5;28;43mcls\u001B[39;49m\u001B[43m(\u001B[49m\u001B[43m)\u001B[49m\n\u001B[1;32m     11\u001B[0m     \u001B[38;5;28;01mreturn\u001B[39;00m instances[\u001B[38;5;28mcls\u001B[39m]\n",
      "File \u001B[0;32m~/.local/lib/python3.10/site-packages/nglview/color.py:47\u001B[0m, in \u001B[0;36m_ColormakerRegistry.__init__\u001B[0;34m(self, *args, **kwargs)\u001B[0m\n\u001B[1;32m     45\u001B[0m \u001B[38;5;28;01mtry\u001B[39;00m:\n\u001B[1;32m     46\u001B[0m     get_ipython() \u001B[38;5;66;03m# only display in notebook\u001B[39;00m\n\u001B[0;32m---> 47\u001B[0m     \u001B[38;5;28;43mself\u001B[39;49m\u001B[38;5;241;43m.\u001B[39;49m\u001B[43m_ipython_display_\u001B[49m\u001B[43m(\u001B[49m\u001B[43m)\u001B[49m\n\u001B[1;32m     48\u001B[0m \u001B[38;5;28;01mexcept\u001B[39;00m \u001B[38;5;167;01mNameError\u001B[39;00m:\n\u001B[1;32m     49\u001B[0m     \u001B[38;5;28;01mpass\u001B[39;00m\n",
      "File \u001B[0;32m~/.local/lib/python3.10/site-packages/nglview/color.py:54\u001B[0m, in \u001B[0;36m_ColormakerRegistry._ipython_display_\u001B[0;34m(self, **kwargs)\u001B[0m\n\u001B[1;32m     52\u001B[0m \u001B[38;5;28;01mif\u001B[39;00m \u001B[38;5;28mself\u001B[39m\u001B[38;5;241m.\u001B[39m_ready:\n\u001B[1;32m     53\u001B[0m     \u001B[38;5;28;01mreturn\u001B[39;00m\n\u001B[0;32m---> 54\u001B[0m \u001B[38;5;28;43msuper\u001B[39;49m\u001B[43m(\u001B[49m\u001B[43m)\u001B[49m\u001B[38;5;241;43m.\u001B[39;49m\u001B[43m_ipython_display_\u001B[49m(\u001B[38;5;241m*\u001B[39m\u001B[38;5;241m*\u001B[39mkwargs)\n",
      "\u001B[0;31mAttributeError\u001B[0m: 'super' object has no attribute '_ipython_display_'"
     ]
    }
   ],
   "source": [
    "import numpy as np\n",
    "from numpy.linalg import norm\n",
    "\n",
    "from ase.io import read,write\n",
    "from ase.visualize import view,ngl\n",
    "from ase.spacegroup import crystal\n",
    "from ase.spacegroup import Spacegroup\n",
    "from ase.data import atomic_numbers, atomic_names\n",
    "from ase import Atoms\n",
    "from ase import neighborlist\n",
    "from itertools import product\n",
    "\n",
    "from scipy.spatial.transform import Rotation as R\n",
    "\n",
    "import nglview\n",
    "from ase.build import molecule"
   ]
  },
  {
   "cell_type": "code",
   "execution_count": 2,
   "metadata": {},
   "outputs": [
    {
     "ename": "AttributeError",
     "evalue": "'super' object has no attribute '_ipython_display_'",
     "output_type": "error",
     "traceback": [
      "\u001B[0;31m---------------------------------------------------------------------------\u001B[0m",
      "\u001B[0;31mAttributeError\u001B[0m                            Traceback (most recent call last)",
      "Cell \u001B[0;32mIn[2], line 17\u001B[0m\n\u001B[1;32m      1\u001B[0m \u001B[38;5;66;03m#there are four inequivalent atoms with crystal coordinates:\u001B[39;00m\n\u001B[1;32m      2\u001B[0m \u001B[38;5;66;03m#ICSD structure 428898 (1788472.cif)\u001B[39;00m\n\u001B[1;32m      3\u001B[0m MAPbI3\u001B[38;5;241m=\u001B[39mcrystal(\n\u001B[1;32m      4\u001B[0m     symbols\u001B[38;5;241m=\u001B[39m[\u001B[38;5;124m'\u001B[39m\u001B[38;5;124mPb\u001B[39m\u001B[38;5;124m'\u001B[39m,\u001B[38;5;124m'\u001B[39m\u001B[38;5;124mI\u001B[39m\u001B[38;5;124m'\u001B[39m,\u001B[38;5;124m'\u001B[39m\u001B[38;5;124mI\u001B[39m\u001B[38;5;124m'\u001B[39m,\u001B[38;5;124m'\u001B[39m\u001B[38;5;124mN\u001B[39m\u001B[38;5;124m'\u001B[39m,\u001B[38;5;124m'\u001B[39m\u001B[38;5;124mC\u001B[39m\u001B[38;5;124m'\u001B[39m,\u001B[38;5;124m'\u001B[39m\u001B[38;5;124mH\u001B[39m\u001B[38;5;124m'\u001B[39m,\u001B[38;5;124m'\u001B[39m\u001B[38;5;124mH\u001B[39m\u001B[38;5;124m'\u001B[39m,\u001B[38;5;124m'\u001B[39m\u001B[38;5;124mH\u001B[39m\u001B[38;5;124m'\u001B[39m,\u001B[38;5;124m'\u001B[39m\u001B[38;5;124mH\u001B[39m\u001B[38;5;124m'\u001B[39m],\n\u001B[1;32m      5\u001B[0m     basis\u001B[38;5;241m=\u001B[39m[(\u001B[38;5;241m0.5\u001B[39m,\u001B[38;5;241m0\u001B[39m,\u001B[38;5;241m0\u001B[39m),\n\u001B[0;32m   (...)\u001B[0m\n\u001B[1;32m     15\u001B[0m     spacegroup\u001B[38;5;241m=\u001B[39m\u001B[38;5;241m62\u001B[39m,\n\u001B[1;32m     16\u001B[0m     cellpar\u001B[38;5;241m=\u001B[39m[\u001B[38;5;241m8.86574\u001B[39m, \u001B[38;5;241m12.6293\u001B[39m, \u001B[38;5;241m8.57689\u001B[39m, \u001B[38;5;241m90\u001B[39m, \u001B[38;5;241m90\u001B[39m, \u001B[38;5;241m90\u001B[39m])\n\u001B[0;32m---> 17\u001B[0m \u001B[43mview\u001B[49m\u001B[43m(\u001B[49m\u001B[43mMAPbI3\u001B[49m\u001B[43m,\u001B[49m\u001B[43m \u001B[49m\u001B[43mviewer\u001B[49m\u001B[38;5;241;43m=\u001B[39;49m\u001B[38;5;124;43m'\u001B[39;49m\u001B[38;5;124;43mngl\u001B[39;49m\u001B[38;5;124;43m'\u001B[39;49m\u001B[43m)\u001B[49m\n",
      "File \u001B[0;32m~/.local/lib/python3.10/site-packages/ase/visualize/__init__.py:10\u001B[0m, in \u001B[0;36mview\u001B[0;34m(atoms, data, viewer, repeat, block)\u001B[0m\n\u001B[1;32m      7\u001B[0m     \u001B[38;5;28;01mreturn\u001B[39;00m\n\u001B[1;32m      9\u001B[0m vwr \u001B[38;5;241m=\u001B[39m viewers[viewer\u001B[38;5;241m.\u001B[39mlower()]\n\u001B[0;32m---> 10\u001B[0m handle \u001B[38;5;241m=\u001B[39m \u001B[43mvwr\u001B[49m\u001B[38;5;241;43m.\u001B[39;49m\u001B[43mview\u001B[49m\u001B[43m(\u001B[49m\u001B[43matoms\u001B[49m\u001B[43m,\u001B[49m\u001B[43m \u001B[49m\u001B[43mdata\u001B[49m\u001B[38;5;241;43m=\u001B[39;49m\u001B[43mdata\u001B[49m\u001B[43m,\u001B[49m\u001B[43m \u001B[49m\u001B[43mrepeat\u001B[49m\u001B[38;5;241;43m=\u001B[39;49m\u001B[43mrepeat\u001B[49m\u001B[43m)\u001B[49m\n\u001B[1;32m     12\u001B[0m \u001B[38;5;28;01mif\u001B[39;00m block \u001B[38;5;129;01mand\u001B[39;00m \u001B[38;5;28mhasattr\u001B[39m(handle, \u001B[38;5;124m'\u001B[39m\u001B[38;5;124mwait\u001B[39m\u001B[38;5;124m'\u001B[39m):\n\u001B[1;32m     13\u001B[0m     status \u001B[38;5;241m=\u001B[39m handle\u001B[38;5;241m.\u001B[39mwait()\n",
      "File \u001B[0;32m~/.local/lib/python3.10/site-packages/ase/visualize/external.py:105\u001B[0m, in \u001B[0;36mPyViewer.view\u001B[0;34m(self, atoms, data, repeat)\u001B[0m\n\u001B[1;32m    103\u001B[0m \u001B[38;5;28;01mif\u001B[39;00m repeat \u001B[38;5;129;01mis\u001B[39;00m \u001B[38;5;129;01mnot\u001B[39;00m \u001B[38;5;28;01mNone\u001B[39;00m:\n\u001B[1;32m    104\u001B[0m     atoms \u001B[38;5;241m=\u001B[39m atoms\u001B[38;5;241m.\u001B[39mrepeat(repeat)\n\u001B[0;32m--> 105\u001B[0m \u001B[38;5;28;01mreturn\u001B[39;00m \u001B[43mfunc\u001B[49m\u001B[43m(\u001B[49m\u001B[43matoms\u001B[49m\u001B[43m)\u001B[49m\n",
      "File \u001B[0;32m~/.local/lib/python3.10/site-packages/ase/visualize/external.py:113\u001B[0m, in \u001B[0;36mPyViewer.ngl\u001B[0;34m(self, atoms)\u001B[0m\n\u001B[1;32m    111\u001B[0m \u001B[38;5;28;01mdef\u001B[39;00m \u001B[38;5;21mngl\u001B[39m(\u001B[38;5;28mself\u001B[39m, atoms):\n\u001B[1;32m    112\u001B[0m     \u001B[38;5;28;01mfrom\u001B[39;00m \u001B[38;5;21;01mase\u001B[39;00m\u001B[38;5;21;01m.\u001B[39;00m\u001B[38;5;21;01mvisualize\u001B[39;00m\u001B[38;5;21;01m.\u001B[39;00m\u001B[38;5;21;01mngl\u001B[39;00m \u001B[38;5;28;01mimport\u001B[39;00m view_ngl\n\u001B[0;32m--> 113\u001B[0m     \u001B[38;5;28;01mreturn\u001B[39;00m \u001B[43mview_ngl\u001B[49m\u001B[43m(\u001B[49m\u001B[43matoms\u001B[49m\u001B[43m)\u001B[49m\n",
      "File \u001B[0;32m~/.local/lib/python3.10/site-packages/ase/visualize/ngl.py:116\u001B[0m, in \u001B[0;36mview_ngl\u001B[0;34m(atoms, w, h)\u001B[0m\n\u001B[1;32m    105\u001B[0m \u001B[38;5;28;01mdef\u001B[39;00m \u001B[38;5;21mview_ngl\u001B[39m(atoms, w\u001B[38;5;241m=\u001B[39m\u001B[38;5;241m500\u001B[39m, h\u001B[38;5;241m=\u001B[39m\u001B[38;5;241m500\u001B[39m):\n\u001B[1;32m    106\u001B[0m     \u001B[38;5;124;03m\"\"\"\u001B[39;00m\n\u001B[1;32m    107\u001B[0m \u001B[38;5;124;03m    Returns the nglviewer + some control widgets in the VBox ipywidget.\u001B[39;00m\n\u001B[1;32m    108\u001B[0m \u001B[38;5;124;03m    The viewer supports any Atoms objectand any sequence of Atoms objects.\u001B[39;00m\n\u001B[0;32m   (...)\u001B[0m\n\u001B[1;32m    114\u001B[0m \u001B[38;5;124;03m        VBox ipywidget containing view control widgets\u001B[39;00m\n\u001B[1;32m    115\u001B[0m \u001B[38;5;124;03m    \"\"\"\u001B[39;00m\n\u001B[0;32m--> 116\u001B[0m     \u001B[38;5;28;01mreturn\u001B[39;00m \u001B[43mNGLDisplay\u001B[49m\u001B[43m(\u001B[49m\u001B[43matoms\u001B[49m\u001B[43m,\u001B[49m\u001B[43m \u001B[49m\u001B[43mw\u001B[49m\u001B[43m,\u001B[49m\u001B[43m \u001B[49m\u001B[43mh\u001B[49m\u001B[43m)\u001B[49m\u001B[38;5;241m.\u001B[39mgui\n",
      "File \u001B[0;32m~/.local/lib/python3.10/site-packages/ase/visualize/ngl.py:14\u001B[0m, in \u001B[0;36mNGLDisplay.__init__\u001B[0;34m(self, atoms, xsize, ysize)\u001B[0m\n\u001B[1;32m     13\u001B[0m \u001B[38;5;28;01mdef\u001B[39;00m \u001B[38;5;21m__init__\u001B[39m(\u001B[38;5;28mself\u001B[39m, atoms, xsize\u001B[38;5;241m=\u001B[39m\u001B[38;5;241m500\u001B[39m, ysize\u001B[38;5;241m=\u001B[39m\u001B[38;5;241m500\u001B[39m):\n\u001B[0;32m---> 14\u001B[0m     \u001B[38;5;28;01mimport\u001B[39;00m \u001B[38;5;21;01mnglview\u001B[39;00m\n\u001B[1;32m     15\u001B[0m     \u001B[38;5;28;01mimport\u001B[39;00m \u001B[38;5;21;01mnglview\u001B[39;00m\u001B[38;5;21;01m.\u001B[39;00m\u001B[38;5;21;01mcolor\u001B[39;00m\n\u001B[1;32m     17\u001B[0m     \u001B[38;5;28;01mfrom\u001B[39;00m \u001B[38;5;21;01mipywidgets\u001B[39;00m \u001B[38;5;28;01mimport\u001B[39;00m Dropdown, FloatSlider, IntSlider, HBox, VBox\n",
      "File \u001B[0;32m~/.local/lib/python3.10/site-packages/nglview/__init__.py:4\u001B[0m\n\u001B[1;32m      1\u001B[0m \u001B[38;5;28;01mimport\u001B[39;00m \u001B[38;5;21;01mwarnings\u001B[39;00m\n\u001B[1;32m      3\u001B[0m \u001B[38;5;66;03m# for doc\u001B[39;00m\n\u001B[0;32m----> 4\u001B[0m \u001B[38;5;28;01mfrom\u001B[39;00m \u001B[38;5;21;01m.\u001B[39;00m \u001B[38;5;28;01mimport\u001B[39;00m adaptor, datafiles, show, widget\n\u001B[1;32m      5\u001B[0m \u001B[38;5;28;01mfrom\u001B[39;00m \u001B[38;5;21;01m.\u001B[39;00m\u001B[38;5;21;01m_version\u001B[39;00m \u001B[38;5;28;01mimport\u001B[39;00m get_versions\n\u001B[1;32m      6\u001B[0m \u001B[38;5;28;01mfrom\u001B[39;00m \u001B[38;5;21;01m.\u001B[39;00m\u001B[38;5;21;01madaptor\u001B[39;00m \u001B[38;5;28;01mimport\u001B[39;00m \u001B[38;5;241m*\u001B[39m\n",
      "File \u001B[0;32m~/.local/lib/python3.10/site-packages/nglview/show.py:13\u001B[0m\n\u001B[1;32m      3\u001B[0m \u001B[38;5;28;01mfrom\u001B[39;00m \u001B[38;5;21;01m.\u001B[39;00m \u001B[38;5;28;01mimport\u001B[39;00m datafiles\n\u001B[1;32m      4\u001B[0m \u001B[38;5;28;01mfrom\u001B[39;00m \u001B[38;5;21;01m.\u001B[39;00m\u001B[38;5;21;01madaptor\u001B[39;00m \u001B[38;5;28;01mimport\u001B[39;00m (ASEStructure, ASETrajectory, BiopythonStructure,\n\u001B[1;32m      5\u001B[0m                       FileStructure, HTMDTrajectory, IODataStructure,\n\u001B[1;32m      6\u001B[0m                       IOTBXStructure, MDAnalysisTrajectory, MDTrajTrajectory,\n\u001B[0;32m   (...)\u001B[0m\n\u001B[1;32m     11\u001B[0m                       RdkitStructure,\n\u001B[1;32m     12\u001B[0m                       TextStructure)\n\u001B[0;32m---> 13\u001B[0m \u001B[38;5;28;01mfrom\u001B[39;00m \u001B[38;5;21;01m.\u001B[39;00m\u001B[38;5;21;01mwidget\u001B[39;00m \u001B[38;5;28;01mimport\u001B[39;00m NGLWidget\n\u001B[1;32m     15\u001B[0m __all__ \u001B[38;5;241m=\u001B[39m [\n\u001B[1;32m     16\u001B[0m     \u001B[38;5;124m'\u001B[39m\u001B[38;5;124mdemo\u001B[39m\u001B[38;5;124m'\u001B[39m,\n\u001B[1;32m     17\u001B[0m     \u001B[38;5;124m'\u001B[39m\u001B[38;5;124mshow_pdbid\u001B[39m\u001B[38;5;124m'\u001B[39m,\n\u001B[0;32m   (...)\u001B[0m\n\u001B[1;32m     40\u001B[0m     \u001B[38;5;124m'\u001B[39m\u001B[38;5;124mshow_biopython\u001B[39m\u001B[38;5;124m'\u001B[39m,\n\u001B[1;32m     41\u001B[0m ]\n\u001B[1;32m     44\u001B[0m \u001B[38;5;28;01mdef\u001B[39;00m \u001B[38;5;21mshow_pdbid\u001B[39m(pdbid, \u001B[38;5;241m*\u001B[39m\u001B[38;5;241m*\u001B[39mkwargs):\n",
      "File \u001B[0;32m~/.local/lib/python3.10/site-packages/nglview/widget.py:19\u001B[0m\n\u001B[1;32m     15\u001B[0m \u001B[38;5;28;01mfrom\u001B[39;00m \u001B[38;5;21;01mtraitlets\u001B[39;00m \u001B[38;5;28;01mimport\u001B[39;00m (Bool, CaselessStrEnum, Dict, Instance, Int, Integer,\n\u001B[1;32m     16\u001B[0m                        List, Unicode, observe, validate)\n\u001B[1;32m     17\u001B[0m \u001B[38;5;28;01mimport\u001B[39;00m \u001B[38;5;21;01mtraitlets\u001B[39;00m\n\u001B[0;32m---> 19\u001B[0m \u001B[38;5;28;01mfrom\u001B[39;00m \u001B[38;5;21;01m.\u001B[39;00m \u001B[38;5;28;01mimport\u001B[39;00m color, interpolate\n\u001B[1;32m     20\u001B[0m \u001B[38;5;28;01mfrom\u001B[39;00m \u001B[38;5;21;01m.\u001B[39;00m\u001B[38;5;21;01madaptor\u001B[39;00m \u001B[38;5;28;01mimport\u001B[39;00m Structure, Trajectory\n\u001B[1;32m     21\u001B[0m \u001B[38;5;28;01mfrom\u001B[39;00m \u001B[38;5;21;01m.\u001B[39;00m\u001B[38;5;21;01mcomponent\u001B[39;00m \u001B[38;5;28;01mimport\u001B[39;00m ComponentViewer\n",
      "File \u001B[0;32m~/.local/lib/python3.10/site-packages/nglview/color.py:114\u001B[0m\n\u001B[1;32m    110\u001B[0m         \u001B[38;5;28;01melse\u001B[39;00m:\n\u001B[1;32m    111\u001B[0m             \u001B[38;5;28;01mraise\u001B[39;00m \u001B[38;5;167;01mValueError\u001B[39;00m(\u001B[38;5;124mf\u001B[39m\u001B[38;5;124m\"\u001B[39m\u001B[38;5;132;01m{\u001B[39;00mobj\u001B[38;5;132;01m}\u001B[39;00m\u001B[38;5;124m must be either list of list or string\u001B[39m\u001B[38;5;124m\"\u001B[39m)\n\u001B[0;32m--> 114\u001B[0m ColormakerRegistry \u001B[38;5;241m=\u001B[39m \u001B[43m_ColormakerRegistry\u001B[49m\u001B[43m(\u001B[49m\u001B[43m)\u001B[49m\n",
      "File \u001B[0;32m~/.local/lib/python3.10/site-packages/nglview/base.py:10\u001B[0m, in \u001B[0;36m_singleton.<locals>.getinstance\u001B[0;34m()\u001B[0m\n\u001B[1;32m      8\u001B[0m \u001B[38;5;28;01mdef\u001B[39;00m \u001B[38;5;21mgetinstance\u001B[39m():\n\u001B[1;32m      9\u001B[0m     \u001B[38;5;28;01mif\u001B[39;00m \u001B[38;5;28mcls\u001B[39m \u001B[38;5;129;01mnot\u001B[39;00m \u001B[38;5;129;01min\u001B[39;00m instances:\n\u001B[0;32m---> 10\u001B[0m         instances[\u001B[38;5;28mcls\u001B[39m] \u001B[38;5;241m=\u001B[39m \u001B[38;5;28;43mcls\u001B[39;49m\u001B[43m(\u001B[49m\u001B[43m)\u001B[49m\n\u001B[1;32m     11\u001B[0m     \u001B[38;5;28;01mreturn\u001B[39;00m instances[\u001B[38;5;28mcls\u001B[39m]\n",
      "File \u001B[0;32m~/.local/lib/python3.10/site-packages/nglview/color.py:47\u001B[0m, in \u001B[0;36m_ColormakerRegistry.__init__\u001B[0;34m(self, *args, **kwargs)\u001B[0m\n\u001B[1;32m     45\u001B[0m \u001B[38;5;28;01mtry\u001B[39;00m:\n\u001B[1;32m     46\u001B[0m     get_ipython() \u001B[38;5;66;03m# only display in notebook\u001B[39;00m\n\u001B[0;32m---> 47\u001B[0m     \u001B[38;5;28;43mself\u001B[39;49m\u001B[38;5;241;43m.\u001B[39;49m\u001B[43m_ipython_display_\u001B[49m\u001B[43m(\u001B[49m\u001B[43m)\u001B[49m\n\u001B[1;32m     48\u001B[0m \u001B[38;5;28;01mexcept\u001B[39;00m \u001B[38;5;167;01mNameError\u001B[39;00m:\n\u001B[1;32m     49\u001B[0m     \u001B[38;5;28;01mpass\u001B[39;00m\n",
      "File \u001B[0;32m~/.local/lib/python3.10/site-packages/nglview/color.py:54\u001B[0m, in \u001B[0;36m_ColormakerRegistry._ipython_display_\u001B[0;34m(self, **kwargs)\u001B[0m\n\u001B[1;32m     52\u001B[0m \u001B[38;5;28;01mif\u001B[39;00m \u001B[38;5;28mself\u001B[39m\u001B[38;5;241m.\u001B[39m_ready:\n\u001B[1;32m     53\u001B[0m     \u001B[38;5;28;01mreturn\u001B[39;00m\n\u001B[0;32m---> 54\u001B[0m \u001B[38;5;28;43msuper\u001B[39;49m\u001B[43m(\u001B[49m\u001B[43m)\u001B[49m\u001B[38;5;241;43m.\u001B[39;49m\u001B[43m_ipython_display_\u001B[49m(\u001B[38;5;241m*\u001B[39m\u001B[38;5;241m*\u001B[39mkwargs)\n",
      "\u001B[0;31mAttributeError\u001B[0m: 'super' object has no attribute '_ipython_display_'"
     ]
    }
   ],
   "source": [
    "#there are four inequivalent atoms with crystal coordinates:\n",
    "#ICSD structure 428898 (1788472.cif)\n",
    "MAPbI3=crystal(\n",
    "    symbols=['Pb','I','I','N','C','H','H','H','H'],\n",
    "    basis=[(0.5,0,0),\n",
    "           (0.4842,0.25,-0.0562),\n",
    "           (0.1886, 0.0147, 0.1844),\n",
    "           (0.9421, 0.75, 0.0297),\n",
    "           (0.9164, 0.25, 0.0575),\n",
    "           (0.9372, 0.25, 0.1874),\n",
    "           (0.8661, 0.1701, 0.0290),\n",
    "           (0.1275, 0.1891, -0.0085),\n",
    "           (0.9543, 0.75, 0.1459)\n",
    "          ],\n",
    "    spacegroup=62,\n",
    "    cellpar=[8.86574, 12.6293, 8.57689, 90, 90, 90])\n",
    "view(MAPbI3, viewer='ngl')"
   ]
  },
  {
   "cell_type": "code",
   "execution_count": 3,
   "metadata": {},
   "outputs": [],
   "source": [
    "supercell_no_h2o=MAPbI3.repeat((2,2,2))"
   ]
  },
  {
   "cell_type": "code",
   "execution_count": 4,
   "metadata": {},
   "outputs": [],
   "source": [
    "cutOff = neighborlist.natural_cutoffs(supercell_no_h2o)\n",
    "nl = neighborlist.NeighborList(cutOff, self_interaction=False, bothways=True)\n",
    "nl.update(supercell_no_h2o)\n",
    "\n",
    "all_N = [atom.index for atom in supercell_no_h2o if atom.symbol == 'N']\n",
    "all_H_of_N = [index for N in all_N for index in nl.get_neighbors(N)[0] if supercell_no_h2o[index].symbol == 'H'  ]\n",
    "all_nh3 = all_N + all_H_of_N"
   ]
  },
  {
   "cell_type": "code",
   "execution_count": 6,
   "metadata": {},
   "outputs": [
    {
     "data": {
      "application/vnd.jupyter.widget-view+json": {
       "model_id": "4aa8db721ab24277b88fd442c6a16609",
       "version_major": 2,
       "version_minor": 0
      },
      "text/plain": [
       "HBox(children=(NGLWidget(), VBox(children=(Dropdown(description='Show', options=('All', 'I', 'N', 'C', 'H', 'P…"
      ]
     },
     "metadata": {},
     "output_type": "display_data"
    }
   ],
   "source": [
    "view(supercell_no_h2o, viewer='ngl')"
   ]
  },
  {
   "cell_type": "code",
   "execution_count": 8,
   "outputs": [
    {
     "data": {
      "text/plain": "array([[ 4.43287   ,  0.        ,  0.        ],\n       [ 0.        ,  0.        ,  4.288445  ],\n       [ 4.43287   ,  6.31465   ,  0.        ],\n       ...,\n       [13.70377432, 15.786625  , 14.11670325],\n       [ 9.27090432, 15.786625  , 15.90241175],\n       [12.89344568, 22.101275  , 11.61396675]])"
     },
     "execution_count": 8,
     "metadata": {},
     "output_type": "execute_result"
    }
   ],
   "source": [
    "supercell_no_h2o.positions"
   ],
   "metadata": {
    "collapsed": false
   }
  },
  {
   "cell_type": "code",
   "execution_count": 9,
   "metadata": {},
   "outputs": [
    {
     "name": "stdout",
     "output_type": "stream",
     "text": [
      "Creating sample  0\n",
      "Creating sample  1\n",
      "Creating sample  2\n",
      "Creating sample  3\n",
      "Creating sample  4\n",
      "Creating sample  5\n",
      "Creating sample  6\n",
      "Creating sample  7\n",
      "Creating sample  8\n",
      "Creating sample  9\n",
      "Creating sample  10\n",
      "Creating sample  11\n",
      "Creating sample  12\n",
      "Creating sample  13\n",
      "Creating sample  14\n",
      "Creating sample  15\n",
      "Creating sample  16\n",
      "Creating sample  17\n",
      "Creating sample  18\n",
      "Creating sample  19\n"
     ]
    }
   ],
   "source": [
    "NH2O=10\n",
    "nsamples=20\n",
    "dmin = 1.5\n",
    "dmax = 2.5\n",
    "orig_h2o=molecule('H2O')\n",
    "#transalte the molecule to have Oxygen in (0,0,0)\n",
    "orig_h2o.translate(-1*orig_h2o.positions[0])\n",
    "samples=[]\n",
    "ns=0\n",
    "while ns < nsamples:\n",
    "    nh2o = 0\n",
    "    print(\"Creating sample \",ns)\n",
    "    supercell = supercell_no_h2o.copy() # be careful here\n",
    "    while nh2o < NH2O:\n",
    "        h2o = orig_h2o.copy() # be careful here\n",
    "        oldcell=supercell.copy() # be careful here\n",
    "        t_vector = np.random.uniform(low=-1,high=1,size=(3))\n",
    "        t_vector /= np.linalg.norm(t_vector) # normalize it\n",
    "\n",
    "        #position h2o within 1.5A---2.5A from a N atom\n",
    "        t_vector *= np.random.uniform(low=dmin,high=dmax)\n",
    "        a_random_N = np.random.choice(all_N)\n",
    "        t_vector = supercell_no_h2o.positions[a_random_N] + t_vector\n",
    "        \n",
    "        #random rotation of h2o\n",
    "        # you could also check scipy.spatial.transform.Rotation\n",
    "        \n",
    "        r_vector = R.random().as_rotvec() # vector around which to rotate and its norm is the angle (in radiants)\n",
    "        h2o.rotate(180. / np.pi * np.linalg.norm(r_vector),r_vector,center=(0,0,0)) # rotate requires degrees\n",
    "        \n",
    "        #position h2o\n",
    "        trial_h2o = h2o.copy()\n",
    "        trial_h2o.translate(t_vector)\n",
    "        supercell=supercell + trial_h2o\n",
    "        natoms=len(supercell) \n",
    "        #O of the added h2o molecule is the third last atom: supercell[-3]\n",
    "        #shortest_O_N_distances=min(supercell.get_distances(supercell[-3].index, all_N, mic=True, vector=False))\n",
    "        discard=False\n",
    "        for ih2o,j in product(range(natoms - 3,natoms), range(natoms-3)) :\n",
    "            if supercell.get_distance(ih2o,j,mic=True,vector=False) < dmin:\n",
    "                discard = True\n",
    "                break\n",
    "        if discard:\n",
    "            supercell = oldcell.copy()\n",
    "        else:\n",
    "            nh2o+=1\n",
    "    ns+=1\n",
    "    samples.append(supercell)"
   ]
  },
  {
   "cell_type": "code",
   "execution_count": null,
   "metadata": {},
   "outputs": [],
   "source": [
    "view(samples[40], viewer='ngl')"
   ]
  },
  {
   "cell_type": "code",
   "execution_count": null,
   "metadata": {},
   "outputs": [],
   "source": [
    "v=_"
   ]
  },
  {
   "cell_type": "code",
   "execution_count": null,
   "metadata": {},
   "outputs": [],
   "source": [
    "#delete all old components\n",
    "while hasattr(v.view, \"component_0\"):\n",
    "    v.view.component_0.clear_representations()\n",
    "    cid = v.view.component_0.id\n",
    "    v.view.remove_component(cid)"
   ]
  },
  {
   "cell_type": "code",
   "execution_count": null,
   "metadata": {},
   "outputs": [],
   "source": [
    "v.view.add_component(nglview.ASEStructure(samples[1]), \n",
    "                     default_representation=False)\n",
    "v.view.add_ball_and_stick(aspectRatio=2.0, opacity=1.0,component=0)"
   ]
  },
  {
   "cell_type": "code",
   "execution_count": null,
   "metadata": {},
   "outputs": [],
   "source": [
    "v.view.add_unitcell()\n",
    "v.view.center()"
   ]
  },
  {
   "cell_type": "code",
   "execution_count": null,
   "metadata": {},
   "outputs": [],
   "source": [
    "for i,struc in enumerate(samples):\n",
    "    struc.write('struc_'+str(i)+'.xyz')"
   ]
  },
  {
   "cell_type": "code",
   "execution_count": null,
   "metadata": {},
   "outputs": [],
   "source": []
  }
 ],
 "metadata": {
  "kernelspec": {
   "display_name": "Python 3 (ipykernel)",
   "language": "python",
   "name": "python3"
  },
  "language_info": {
   "codemirror_mode": {
    "name": "ipython",
    "version": 3
   },
   "file_extension": ".py",
   "mimetype": "text/x-python",
   "name": "python",
   "nbconvert_exporter": "python",
   "pygments_lexer": "ipython3",
   "version": "3.10.6"
  }
 },
 "nbformat": 4,
 "nbformat_minor": 4
}
