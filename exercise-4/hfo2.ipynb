{
 "cells": [
  {
   "cell_type": "code",
   "execution_count": null,
   "metadata": {},
   "outputs": [],
   "source": [
    "from ase import Atoms\n",
    "from ase.spacegroup import crystal\n",
    "from ase.spacegroup import Spacegroup\n",
    "from ase.data import atomic_numbers, atomic_names\n",
    "from ase.visualize import view\n",
    "import nglview"
   ]
  },
  {
   "cell_type": "code",
   "execution_count": null,
   "metadata": {},
   "outputs": [],
   "source": [
    "a=5.117\n",
    "b=5.175\n",
    "c=5.291\n",
    "alpha=90\n",
    "beta=99.22\n",
    "gamma=90\n",
    "thespacegroup=14\n",
    "print(Spacegroup(thespacegroup).get_symop())"
   ]
  },
  {
   "cell_type": "code",
   "execution_count": null,
   "metadata": {},
   "outputs": [],
   "source": [
    "hfo2 = crystal(symbols=['Hf','O','O'],\n",
    "               basis=[(0.276,0.04,0.208),(0.074,0.332,0.347),(0.449,0.758,0.480)],\n",
    "               spacegroup=thespacegroup, \n",
    "               cellpar=[a, b, c, alpha, beta, gamma])"
   ]
  },
  {
   "cell_type": "code",
   "execution_count": null,
   "metadata": {},
   "outputs": [],
   "source": [
    "view(hfo2, viewer='ngl')"
   ]
  },
  {
   "cell_type": "code",
   "execution_count": null,
   "metadata": {},
   "outputs": [],
   "source": [
    "v=_"
   ]
  },
  {
   "cell_type": "code",
   "execution_count": null,
   "metadata": {},
   "outputs": [],
   "source": [
    "# delete all old components\n",
    "while hasattr(v.view, \"component_0\"):\n",
    "    v.view.component_0.clear_representations()\n",
    "    cid = v.view.component_0.id\n",
    "    v.view.remove_component(cid)"
   ]
  },
  {
   "cell_type": "code",
   "execution_count": null,
   "metadata": {},
   "outputs": [],
   "source": [
    "v.view.add_component(nglview.ASEStructure(hfo2), \n",
    "                     default_representation=False)\n",
    "v.view.add_ball_and_stick(aspectRatio=2.0, opacity=1.0,component=0)\n",
    "v.view.add_unitcell()\n",
    "v.view.center()\n"
   ]
  },
  {
   "cell_type": "code",
   "execution_count": null,
   "metadata": {},
   "outputs": [],
   "source": [
    "print(hfo2.positions,hfo2.numbers)"
   ]
  },
  {
   "cell_type": "code",
   "execution_count": null,
   "metadata": {},
   "outputs": [],
   "source": []
  }
 ],
 "metadata": {
  "kernelspec": {
   "display_name": "Python 3",
   "language": "python",
   "name": "python3"
  },
  "language_info": {
   "codemirror_mode": {
    "name": "ipython",
    "version": 3
   },
   "file_extension": ".py",
   "mimetype": "text/x-python",
   "name": "python",
   "nbconvert_exporter": "python",
   "pygments_lexer": "ipython3",
   "version": "3.8.5"
  }
 },
 "nbformat": 4,
 "nbformat_minor": 4
}
